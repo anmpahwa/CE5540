{
 "cells": [
  {
   "cell_type": "markdown",
   "id": "cbd61d8d",
   "metadata": {},
   "source": [
    "# Assignment 1\n",
    "\n",
    "---\n",
    "\n",
    "1. **Data Classification** *(5)*\n",
    "\n",
    "Consider the following R dataset detailing the attributes for different vehicles including vehicle make, model, year, class, transmission, drive type, number of engine cylinders, total engine displacement, fuel type, and mileage (highway and city). Classify each variable in the dataset as one of the following: Discrete Quantitative, Continuous Quantitative, Qualitative, and Categorical."
   ]
  },
  {
   "cell_type": "code",
   "execution_count": null,
   "id": "5e688103",
   "metadata": {
    "vscode": {
     "languageId": "r"
    }
   },
   "outputs": [],
   "source": [
    "# Loading the packages\n",
    "library(dplyr)\n",
    "library(fueleconomy)"
   ]
  },
  {
   "cell_type": "code",
   "execution_count": null,
   "id": "af6ef36f",
   "metadata": {
    "vscode": {
     "languageId": "r"
    }
   },
   "outputs": [],
   "source": [
    "# Loading the dataset\n",
    "data <- fueleconomy::vehicles"
   ]
  },
  {
   "cell_type": "code",
   "execution_count": null,
   "id": "15e0b9f9",
   "metadata": {
    "vscode": {
     "languageId": "r"
    }
   },
   "outputs": [],
   "source": [
    "# Dataset Structure\n",
    "str(data)"
   ]
  },
  {
   "cell_type": "markdown",
   "id": "124612dd",
   "metadata": {},
   "source": [
    "---\n",
    "\n",
    "2. **Data Summary** *(10)*\n",
    "\n",
    "a. Using the vehicles dataset filtered out for Renault vehicles, summarise measure of location (mean, median, mode), dispersion (range, inter-quartile range, standard deviation), and shape (skewness, kurtosis) for highway as well as city miles per galon. *(8)*"
   ]
  },
  {
   "cell_type": "code",
   "execution_count": null,
   "id": "d4853a95",
   "metadata": {
    "vscode": {
     "languageId": "r"
    }
   },
   "outputs": [],
   "source": [
    "# Renault data\n",
    "fueleconomy::vehicles %>% filter(make==\"Renault\")"
   ]
  },
  {
   "cell_type": "markdown",
   "id": "e0ed2de7",
   "metadata": {},
   "source": [
    "b. Based on these statistics, draw inferences for highway and city mileage *(2)*\n",
    "\n",
    "---"
   ]
  },
  {
   "cell_type": "markdown",
   "id": "6ce8353f",
   "metadata": {},
   "source": [
    "3. **Probability Analysis** *(5)*\n",
    "\n",
    "a. Using the vehicles dataset filtered out for Honda vehicles, verify the axioms of probability for vehicle classes and engine cylinders. *(1)*"
   ]
  },
  {
   "cell_type": "code",
   "execution_count": 11,
   "id": "613f5183",
   "metadata": {
    "vscode": {
     "languageId": "r"
    }
   },
   "outputs": [],
   "source": [
    "# Honda data\n",
    "data <- fueleconomy::vehicles %>% filter(make==\"Honda\")"
   ]
  },
  {
   "cell_type": "code",
   "execution_count": null,
   "id": "f2b7f42d",
   "metadata": {
    "vscode": {
     "languageId": "r"
    }
   },
   "outputs": [],
   "source": [
    "# Honda vehicle classes\n",
    "as.data.frame(table(class=data$class))"
   ]
  },
  {
   "cell_type": "code",
   "execution_count": null,
   "id": "5be16b0f",
   "metadata": {
    "vscode": {
     "languageId": "r"
    }
   },
   "outputs": [],
   "source": [
    "# Honda engine cylinders\n",
    "as.data.frame(table(cyl=data$cyl))"
   ]
  },
  {
   "cell_type": "markdown",
   "id": "038fb567",
   "metadata": {},
   "source": [
    "b. Using the vehicles dataset filtered out for Honda vehicles, employ conditional probability formula to evaluate the probability of a compact car having a 4-cylinder engine and consequently, employ the Bayes' rule to evaluate the probability a 4-cylinder engine vehicle being a compact car. *(4)*"
   ]
  },
  {
   "cell_type": "code",
   "execution_count": 14,
   "id": "8fde3506",
   "metadata": {
    "vscode": {
     "languageId": "r"
    }
   },
   "outputs": [],
   "source": [
    "# Honda data\n",
    "data <- fueleconomy::vehicles %>% filter(make == \"Honda\")"
   ]
  },
  {
   "cell_type": "code",
   "execution_count": null,
   "id": "2e2b5542",
   "metadata": {
    "vscode": {
     "languageId": "r"
    }
   },
   "outputs": [],
   "source": [
    "# Honda vehicle classes and engine cylinders\n",
    "as.data.frame(table(class=data$class, cyl=data$cyl))"
   ]
  },
  {
   "cell_type": "markdown",
   "id": "017f16fa",
   "metadata": {},
   "source": [
    "---\n",
    "\n",
    "4. **Data Sampling** *(8)*\n",
    "\n",
    "a. For the following randomly sampled data from the vehicles dataset, compute bias and standard error for the estimator on highway mileage. *(5)*"
   ]
  },
  {
   "cell_type": "code",
   "execution_count": null,
   "id": "20f38248",
   "metadata": {
    "vscode": {
     "languageId": "r"
    }
   },
   "outputs": [],
   "source": [
    "library(ggplot2)\n",
    "\n",
    "P <- fueleconomy::vehicles$hwy\n",
    "m <- 50\n",
    "n <- 1000\n",
    "\n",
    "# population parameter  \n",
    "z <- mean(P, na.rm=TRUE)\n",
    "  \n",
    "Z <- vector(\"numeric\", m)\n",
    "for (i in 1:m) {\n",
    "  set.seed(i)\n",
    "  I <- order(runif(length(P)))[1:n]\n",
    "  S <- P[I]\n",
    "  # sample parameter\n",
    "  Z[i] <- mean(S, na.rm=TRUE)\n",
    "}\n",
    "\n",
    "data.frame(parameter=z, estimator=Z)"
   ]
  },
  {
   "cell_type": "markdown",
   "id": "abbeef0c",
   "metadata": {},
   "source": [
    "b. Using the Archery analogy discussed in the class, draw a representative target board to comment upon the accuracy and precision of the estimator. *(3)*\n",
    "\n",
    "---"
   ]
  },
  {
   "cell_type": "markdown",
   "id": "701f62d1",
   "metadata": {},
   "source": [
    "5. **Hypothesis Testing** *(12)*\n",
    "\n",
    "Test the following hypothesis \n",
    "\n",
    "a. city mileage is greater than 17.5 mpl\n",
    "\n",
    "b. highway mileage is less than 23.5 mpl\n",
    "\n",
    "c. highway mileage is same as the city mileage\n",
    "\n",
    "Note, make appropriate assumptions, develop the null and alternate hypotheses, evaluate the test statistic, present the threshold value and consequently, make appropriate inferences."
   ]
  }
 ],
 "metadata": {
  "kernelspec": {
   "display_name": "R",
   "language": "R",
   "name": "ir"
  },
  "language_info": {
   "codemirror_mode": "r",
   "file_extension": ".r",
   "mimetype": "text/x-r-source",
   "name": "R",
   "pygments_lexer": "r",
   "version": "4.5.0"
  }
 },
 "nbformat": 4,
 "nbformat_minor": 5
}
