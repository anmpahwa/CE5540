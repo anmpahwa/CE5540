{
 "cells": [
  {
   "cell_type": "markdown",
   "id": "cd32cfba",
   "metadata": {},
   "source": [
    "# Lecture 36: Digital Twin"
   ]
  }
 ],
 "metadata": {
  "language_info": {
   "name": "python"
  }
 },
 "nbformat": 4,
 "nbformat_minor": 5
}
