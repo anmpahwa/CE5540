{
 "cells": [
  {
   "cell_type": "markdown",
   "id": "cade8789",
   "metadata": {},
   "source": [
    "# Lecture 23: Logistical Regression - Diganostics\n",
    "\n",
    "---\n",
    "\n",
    "## Ex-Ante Diagnostics\n",
    "\n",
    "The example below employs the Indian Time Use Survey to model the choice of shopping channel (no-shopping, in-store, online, both) as logistic regression, accounting for individual specific variables (socio-demographics and socio-economic parameters)."
   ]
  },
  {
   "cell_type": "code",
   "execution_count": 1,
   "id": "bb407feb",
   "metadata": {
    "vscode": {
     "languageId": "r"
    }
   },
   "outputs": [
    {
     "name": "stderr",
     "output_type": "stream",
     "text": [
      "\n",
      "Attaching package: 'dplyr'\n",
      "\n",
      "\n",
      "The following objects are masked from 'package:stats':\n",
      "\n",
      "    filter, lag\n",
      "\n",
      "\n",
      "The following objects are masked from 'package:base':\n",
      "\n",
      "    intersect, setdiff, setequal, union\n",
      "\n",
      "\n",
      "Loading required package: dfidx\n",
      "\n"
     ]
    },
    {
     "name": "stdout",
     "output_type": "stream",
     "text": [
      "'data.frame':\t454192 obs. of  54 variables:\n",
      " $ Unique_ID        : chr  \"2024-30010-1-241-17-13-11-2-2420-4-1-1\" \"2024-30010-1-241-17-13-11-2-2420-4-10-1\" \"2024-30010-1-241-17-13-11-2-2420-4-10-2\" \"2024-30010-1-241-17-13-11-2-2420-4-11-1\" ...\n",
      " $ Unique_HH_ID     : chr  \"2024-30010-1-241-17-13-11-2-2420-4-1\" \"2024-30010-1-241-17-13-11-2-2420-4-10\" \"2024-30010-1-241-17-13-11-2-2420-4-10\" \"2024-30010-1-241-17-13-11-2-2420-4-11\" ...\n",
      " $ q1               : int  0 0 0 0 0 0 0 0 0 0 ...\n",
      " $ q2               : int  1 1 1 1 1 1 1 1 1 1 ...\n",
      " $ q3               : int  0 0 0 0 0 0 0 0 0 0 ...\n",
      " $ q4               : int  0 0 0 0 0 0 0 0 0 0 ...\n",
      " $ weekday          : int  1 1 1 0 0 0 0 0 1 1 ...\n",
      " $ weekend          : int  0 0 0 1 1 1 1 1 0 0 ...\n",
      " $ rural            : int  1 1 1 1 1 1 1 1 1 1 ...\n",
      " $ urban            : int  0 0 0 0 0 0 0 0 0 0 ...\n",
      " $ north            : int  0 0 0 0 0 0 0 0 0 0 ...\n",
      " $ west             : int  1 1 1 1 1 1 1 1 1 1 ...\n",
      " $ central          : int  0 0 0 0 0 0 0 0 0 0 ...\n",
      " $ east             : int  0 0 0 0 0 0 0 0 0 0 ...\n",
      " $ north.east       : int  0 0 0 0 0 0 0 0 0 0 ...\n",
      " $ south            : int  0 0 0 0 0 0 0 0 0 0 ...\n",
      " $ tierI            : int  0 0 0 0 0 0 0 0 0 0 ...\n",
      " $ tierII           : int  1 1 1 1 1 1 1 1 1 1 ...\n",
      " $ tierIII          : int  0 0 0 0 0 0 0 0 0 0 ...\n",
      " $ male             : int  1 1 0 1 0 1 0 0 1 0 ...\n",
      " $ female           : int  0 0 1 0 1 0 1 1 0 1 ...\n",
      " $ transgender      : int  0 0 0 0 0 0 0 0 0 0 ...\n",
      " $ gen_alpha        : int  0 0 0 0 0 0 0 0 0 0 ...\n",
      " $ gen_z            : int  0 0 1 0 0 1 1 1 0 0 ...\n",
      " $ millenials       : int  0 1 0 0 1 0 0 0 0 1 ...\n",
      " $ gen_x            : int  1 0 0 1 0 0 0 0 1 0 ...\n",
      " $ baby_boomers     : int  0 0 0 0 0 0 0 0 0 0 ...\n",
      " $ silent           : int  0 0 0 0 0 0 0 0 0 0 ...\n",
      " $ not_married      : int  1 0 0 0 0 1 1 1 0 0 ...\n",
      " $ married          : int  0 1 1 1 1 0 0 0 1 1 ...\n",
      " $ not_literate     : int  0 0 0 0 1 0 0 0 1 0 ...\n",
      " $ primary          : int  0 0 1 0 0 0 1 0 0 1 ...\n",
      " $ secondary        : int  0 1 0 1 0 1 0 1 0 0 ...\n",
      " $ graduate_._above : int  1 0 0 0 0 0 0 0 0 0 ...\n",
      " $ nilf             : int  0 0 1 0 1 0 1 0 0 0 ...\n",
      " $ unemployed       : int  0 0 0 0 0 0 0 0 0 0 ...\n",
      " $ employed         : int  1 1 0 1 0 1 0 1 1 1 ...\n",
      " $ family_structure : num  0 0.333 0.333 0.4 0.4 0.4 0.4 0.4 0.429 0.429 ...\n",
      " $ household_size   : int  1 3 3 5 5 5 5 5 7 7 ...\n",
      " $ disadvantaged    : int  1 1 1 1 1 1 1 1 1 1 ...\n",
      " $ not_disadvantaged: int  0 0 0 0 0 0 0 0 0 0 ...\n",
      " $ no_land          : int  0 0 0 0 0 0 0 0 0 0 ...\n",
      " $ land_possessed   : int  1 1 1 1 1 1 1 1 1 1 ...\n",
      " $ low_income       : int  1 1 1 0 0 0 0 0 0 0 ...\n",
      " $ medium_income    : int  0 0 0 1 1 1 1 1 1 1 ...\n",
      " $ high_income      : int  0 0 0 0 0 0 0 0 0 0 ...\n",
      " $ no_dwelling      : int  0 0 0 0 0 0 0 0 0 0 ...\n",
      " $ kutcha           : int  0 0 0 0 0 0 0 0 0 0 ...\n",
      " $ pucca            : int  1 1 1 1 1 1 1 1 1 1 ...\n",
      " $ none             : int  1 1 1 1 1 1 1 1 1 1 ...\n",
      " $ instore          : int  0 0 0 0 0 0 0 0 0 0 ...\n",
      " $ online           : int  0 0 0 0 0 0 0 0 0 0 ...\n",
      " $ both             : int  0 0 0 0 0 0 0 0 0 0 ...\n",
      " $ weight           : int  208857 208857 208857 208857 208857 208857 208857 208857 208857 208857 ...\n"
     ]
    }
   ],
   "source": [
    "# Load necessary libraries\n",
    "library(tidyr)\n",
    "library(dplyr)\n",
    "library(mlogit)\n",
    "library(ggplot2)\n",
    "options(repr.plot.width = 12, repr.plot.height = 8)\n",
    "\n",
    "# 2024 ITUS Individual Data (model)\n",
    "url  <- \"https://raw.githubusercontent.com/anmpahwa/CE5540/refs/heads/main/resources/ITUS_IND_BD.csv\"\n",
    "data <- read.csv(url) # Loading Data\n",
    "str(data)"
   ]
  },
  {
   "cell_type": "code",
   "execution_count": 2,
   "id": "20de0ab2",
   "metadata": {
    "vscode": {
     "languageId": "r"
    }
   },
   "outputs": [
    {
     "name": "stdout",
     "output_type": "stream",
     "text": [
      "\u001b[90m# A tibble: 4 × 3\u001b[39m\n",
      "  channel  count   share\n",
      "  \u001b[3m\u001b[90m<chr>\u001b[39m\u001b[23m    \u001b[3m\u001b[90m<int>\u001b[39m\u001b[23m   \u001b[3m\u001b[90m<dbl>\u001b[39m\u001b[23m\n",
      "\u001b[90m1\u001b[39m None    \u001b[4m4\u001b[24m\u001b[4m0\u001b[24m\u001b[4m9\u001b[24m897 90.2   \n",
      "\u001b[90m2\u001b[39m InStore  \u001b[4m3\u001b[24m\u001b[4m9\u001b[24m728  8.75  \n",
      "\u001b[90m3\u001b[39m Online    \u001b[4m4\u001b[24m252  0.936 \n",
      "\u001b[90m4\u001b[39m Both       315  0.069\u001b[4m4\u001b[24m\n"
     ]
    }
   ],
   "source": [
    "# Counts\n",
    "counts <- data %>%\n",
    "  summarise(\n",
    "    None = sum(none, na.rm = TRUE),\n",
    "    InStore = sum(instore, na.rm = TRUE),\n",
    "    Online = sum(online, na.rm = TRUE),\n",
    "    Both = sum(both, na.rm = TRUE)\n",
    "  ) %>%\n",
    "  pivot_longer(cols = everything(), names_to = \"channel\", values_to = \"count\") %>%\n",
    "  mutate(share = (count / sum(count)) * 100)\n",
    "print(counts)"
   ]
  },
  {
   "cell_type": "code",
   "execution_count": 3,
   "id": "ac6afcce",
   "metadata": {
    "vscode": {
     "languageId": "r"
    }
   },
   "outputs": [
    {
     "name": "stdout",
     "output_type": "stream",
     "text": [
      "\u001b[90m# A tibble: 4 × 5\u001b[39m\n",
      "  channel      Q1      Q2      Q3      Q4\n",
      "  \u001b[3m\u001b[90m<fct>\u001b[39m\u001b[23m     \u001b[3m\u001b[90m<dbl>\u001b[39m\u001b[23m   \u001b[3m\u001b[90m<dbl>\u001b[39m\u001b[23m   \u001b[3m\u001b[90m<dbl>\u001b[39m\u001b[23m   \u001b[3m\u001b[90m<dbl>\u001b[39m\u001b[23m\n",
      "\u001b[90m1\u001b[39m None    91.0    90.2    89.9    89.8   \n",
      "\u001b[90m2\u001b[39m InStore  7.61    8.57    9.33    9.56  \n",
      "\u001b[90m3\u001b[39m Online   1.31    1.10    0.699   0.601 \n",
      "\u001b[90m4\u001b[39m Both     0.071\u001b[4m3\u001b[24m  0.079\u001b[4m4\u001b[24m  0.070\u001b[4m4\u001b[24m  0.055\u001b[4m7\u001b[24m\n"
     ]
    }
   ],
   "source": [
    "# Temporal: Quarter Counts\n",
    "quarter_counts <- data %>%\n",
    "  summarise(\n",
    "    None_Q1 = sum(none * q1, na.rm = TRUE),\n",
    "    InStore_Q1 = sum(instore * q1, na.rm = TRUE),\n",
    "    Online_Q1 = sum(online * q1, na.rm = TRUE),\n",
    "    Both_Q1 = sum(both * q1, na.rm = TRUE),\n",
    "\n",
    "    None_Q2 = sum(none * q2, na.rm = TRUE),\n",
    "    InStore_Q2 = sum(instore * q2, na.rm = TRUE),\n",
    "    Online_Q2 = sum(online * q2, na.rm = TRUE),\n",
    "    Both_Q2 = sum(both * q2, na.rm = TRUE),\n",
    "\n",
    "    None_Q3 = sum(none * q3, na.rm = TRUE),\n",
    "    InStore_Q3 = sum(instore * q3, na.rm = TRUE),\n",
    "    Online_Q3 = sum(online * q3, na.rm = TRUE),\n",
    "    Both_Q3 = sum(both * q3, na.rm = TRUE),\n",
    "\n",
    "    None_Q4 = sum(none * q4, na.rm = TRUE),\n",
    "    InStore_Q4 = sum(instore * q4, na.rm = TRUE),\n",
    "    Online_Q4 = sum(online * q4, na.rm = TRUE),\n",
    "    Both_Q4 = sum(both * q4, na.rm = TRUE)\n",
    "  ) %>%\n",
    "  pivot_longer(cols = everything(), names_to = \"channel_quarter\", values_to = \"count\") %>%\n",
    "  separate(channel_quarter, into = c(\"channel\", \"quarter\"), sep = \"_\") %>%\n",
    "  group_by(quarter) %>%\n",
    "  mutate(share = (count / sum(count)) * 100) %>%\n",
    "  ungroup() %>%\n",
    "  mutate(channel = factor(channel, levels = c(\"None\", \"InStore\", \"Online\", \"Both\")))\n",
    "\n",
    "# Tabulate\n",
    "table <- quarter_counts %>%\n",
    "  ungroup() %>%\n",
    "  select(channel, quarter, share) %>%\n",
    "  pivot_wider(names_from = quarter, values_from = share)\n",
    "print(table)"
   ]
  },
  {
   "cell_type": "code",
   "execution_count": 4,
   "id": "fbac6fbd",
   "metadata": {
    "vscode": {
     "languageId": "r"
    }
   },
   "outputs": [
    {
     "name": "stdout",
     "output_type": "stream",
     "text": [
      "\u001b[90m# A tibble: 4 × 3\u001b[39m\n",
      "  channel      WD      WE\n",
      "  \u001b[3m\u001b[90m<fct>\u001b[39m\u001b[23m     \u001b[3m\u001b[90m<dbl>\u001b[39m\u001b[23m   \u001b[3m\u001b[90m<dbl>\u001b[39m\u001b[23m\n",
      "\u001b[90m1\u001b[39m None    90.7    89.2   \n",
      "\u001b[90m2\u001b[39m InStore  8.38    9.73  \n",
      "\u001b[90m3\u001b[39m Online   0.900   1.03  \n",
      "\u001b[90m4\u001b[39m Both     0.063\u001b[4m6\u001b[24m  0.084\u001b[4m7\u001b[24m\n"
     ]
    }
   ],
   "source": [
    "# Temporal: Day Counts\n",
    "day_counts <- data %>%\n",
    "  summarise(\n",
    "    None_WD = sum(none * weekday, na.rm = TRUE),\n",
    "    InStore_WD = sum(instore * weekday, na.rm = TRUE),\n",
    "    Online_WD = sum(online * weekday, na.rm = TRUE),\n",
    "    Both_WD = sum(both * weekday, na.rm = TRUE),\n",
    "\n",
    "    None_WE = sum(none * weekend, na.rm = TRUE),\n",
    "    InStore_WE = sum(instore * weekend, na.rm = TRUE),\n",
    "    Online_WE = sum(online * weekend, na.rm = TRUE),\n",
    "    Both_WE = sum(both * weekend, na.rm = TRUE)\n",
    "  ) %>%\n",
    "  pivot_longer(cols = everything(), names_to = \"channel_day\", values_to = \"count\") %>%\n",
    "  separate(channel_day, into = c(\"channel\", \"day\"), sep = \"_\") %>%\n",
    "  group_by(day) %>%\n",
    "  mutate(share = (count / sum(count)) * 100) %>%\n",
    "  ungroup() %>%\n",
    "  mutate(channel = factor(channel, levels = c(\"None\", \"InStore\", \"Online\", \"Both\")))\n",
    "\n",
    "# Tabulate\n",
    "table <- day_counts %>%\n",
    "  ungroup() %>%\n",
    "  select(channel, day, share) %>%\n",
    "  pivot_wider(names_from = day, values_from = share)\n",
    "print(table)"
   ]
  },
  {
   "cell_type": "code",
   "execution_count": 5,
   "id": "fd36b8c3",
   "metadata": {
    "vscode": {
     "languageId": "r"
    }
   },
   "outputs": [
    {
     "name": "stdout",
     "output_type": "stream",
     "text": [
      "\u001b[90m# A tibble: 4 × 3\u001b[39m\n",
      "  channel       R      U\n",
      "  \u001b[3m\u001b[90m<fct>\u001b[39m\u001b[23m     \u001b[3m\u001b[90m<dbl>\u001b[39m\u001b[23m  \u001b[3m\u001b[90m<dbl>\u001b[39m\u001b[23m\n",
      "\u001b[90m1\u001b[39m None    91.6    88.0  \n",
      "\u001b[90m2\u001b[39m InStore  7.66   10.6  \n",
      "\u001b[90m3\u001b[39m Online   0.706   1.33 \n",
      "\u001b[90m4\u001b[39m Both     0.047\u001b[4m3\u001b[24m  0.107\n"
     ]
    }
   ],
   "source": [
    "# Spatial: Sector Counts\n",
    "sector_counts <- data %>%\n",
    "  summarise(\n",
    "    None_R = sum(none * rural, na.rm = TRUE),\n",
    "    InStore_R = sum(instore * rural, na.rm = TRUE),\n",
    "    Online_R = sum(online * rural, na.rm = TRUE),\n",
    "    Both_R = sum(both * rural, na.rm = TRUE),\n",
    "\n",
    "    None_U = sum(none * urban, na.rm = TRUE),\n",
    "    InStore_U = sum(instore * urban, na.rm = TRUE),\n",
    "    Online_U = sum(online * urban, na.rm = TRUE),\n",
    "    Both_U = sum(both * urban, na.rm = TRUE)\n",
    "  ) %>%\n",
    "  pivot_longer(cols = everything(), names_to = \"channel_sector\", values_to = \"count\") %>%\n",
    "  separate(channel_sector, into = c(\"channel\", \"sector\"), sep = \"_\") %>%\n",
    "  group_by(sector) %>%\n",
    "  mutate(share = (count / sum(count)) * 100) %>%\n",
    "  ungroup() %>%\n",
    "  mutate(channel = factor(channel, levels = c(\"None\", \"InStore\", \"Online\", \"Both\")))\n",
    "\n",
    "# Tabulate\n",
    "table <- sector_counts %>%\n",
    "  ungroup() %>%\n",
    "  select(channel, sector, share) %>%\n",
    "  pivot_wider(names_from = sector, values_from = share)\n",
    "print(table)"
   ]
  },
  {
   "cell_type": "code",
   "execution_count": 6,
   "id": "32cf82b1",
   "metadata": {
    "vscode": {
     "languageId": "r"
    }
   },
   "outputs": [
    {
     "name": "stdout",
     "output_type": "stream",
     "text": [
      "\u001b[90m# A tibble: 4 × 4\u001b[39m\n",
      "  channel      T1      T2      T3\n",
      "  \u001b[3m\u001b[90m<fct>\u001b[39m\u001b[23m     \u001b[3m\u001b[90m<dbl>\u001b[39m\u001b[23m   \u001b[3m\u001b[90m<dbl>\u001b[39m\u001b[23m   \u001b[3m\u001b[90m<dbl>\u001b[39m\u001b[23m\n",
      "\u001b[90m1\u001b[39m None    90.4    91.1    89.3   \n",
      "\u001b[90m2\u001b[39m InStore  8.74    8.02    9.48  \n",
      "\u001b[90m3\u001b[39m Online   0.825   0.811   1.17  \n",
      "\u001b[90m4\u001b[39m Both     0.077\u001b[4m6\u001b[24m  0.047\u001b[4m1\u001b[24m  0.083\u001b[4m3\u001b[24m\n"
     ]
    }
   ],
   "source": [
    "# Spatial: Tier Counts\n",
    "tier_counts <- data %>%\n",
    "  summarise(\n",
    "    None_T1 = sum(none * tierI, na.rm = TRUE),\n",
    "    InStore_T1 = sum(instore * tierI, na.rm = TRUE),\n",
    "    Online_T1 = sum(online * tierI, na.rm = TRUE),\n",
    "    Both_T1 = sum(both * tierI, na.rm = TRUE),\n",
    "\n",
    "    None_T2 = sum(none * tierII, na.rm = TRUE),\n",
    "    InStore_T2 = sum(instore * tierII, na.rm = TRUE),\n",
    "    Online_T2 = sum(online * tierII, na.rm = TRUE),\n",
    "    Both_T2 = sum(both * tierII, na.rm = TRUE),\n",
    "\n",
    "    None_T3 = sum(none * tierIII, na.rm = TRUE),\n",
    "    InStore_T3 = sum(instore * tierIII, na.rm = TRUE),\n",
    "    Online_T3 = sum(online * tierIII, na.rm = TRUE),\n",
    "    Both_T3 = sum(both * tierIII, na.rm = TRUE)\n",
    "  ) %>%\n",
    "  pivot_longer(cols = everything(), names_to = \"channel_tier\", values_to = \"count\") %>%\n",
    "  separate(channel_tier, into = c(\"channel\", \"tier\"), sep = \"_\") %>%\n",
    "  group_by(tier) %>%\n",
    "  mutate(share = (count / sum(count)) * 100) %>%\n",
    "  ungroup() %>%\n",
    "  mutate(channel = factor(channel, levels = c(\"None\", \"InStore\", \"Online\", \"Both\")))\n",
    "\n",
    "# Tabulate\n",
    "table <- tier_counts %>%\n",
    "  ungroup() %>%\n",
    "  select(channel, tier, share) %>%\n",
    "  pivot_wider(names_from = tier, values_from = share)\n",
    "print(table)"
   ]
  },
  {
   "cell_type": "markdown",
   "id": "5b078f0e",
   "metadata": {},
   "source": [
    "## Model Diagnostics"
   ]
  },
  {
   "cell_type": "code",
   "execution_count": null,
   "id": "0928a4be",
   "metadata": {
    "vscode": {
     "languageId": "r"
    }
   },
   "outputs": [],
   "source": [
    "# Convert data to mlogit format\n",
    "data <- data %>%\n",
    "  mutate(\n",
    "    shopping_choice = case_when(\n",
    "      none == 1 ~ \"None\",\n",
    "      instore == 1 ~ \"InStore\",\n",
    "      online == 1 ~ \"Online\"\n",
    "    )\n",
    "  )\n",
    "\n",
    "data <- mlogit.data(data, choice = \"shopping_choice\", shape = \"wide\", varying = NULL, id.var = \"Unique_ID\")"
   ]
  },
  {
   "cell_type": "code",
   "execution_count": null,
   "id": "963fd932",
   "metadata": {
    "vscode": {
     "languageId": "r"
    }
   },
   "outputs": [],
   "source": [
    "# TODO: Model Development\n",
    "model <- mlogit(shopping_choice ~ weekend + urban, data = data)"
   ]
  },
  {
   "cell_type": "code",
   "execution_count": null,
   "id": "6b8413ff",
   "metadata": {
    "vscode": {
     "languageId": "r"
    }
   },
   "outputs": [],
   "source": [
    "# TODO: Model Diagnostics\n",
    "summary(model)"
   ]
  },
  {
   "cell_type": "markdown",
   "id": "79e92171",
   "metadata": {},
   "source": [
    "## Ex-Post Diagnostics\n",
    "\n",
    "..."
   ]
  }
 ],
 "metadata": {
  "kernelspec": {
   "display_name": "R",
   "language": "R",
   "name": "ir"
  },
  "language_info": {
   "codemirror_mode": "r",
   "file_extension": ".r",
   "mimetype": "text/x-r-source",
   "name": "R",
   "pygments_lexer": "r",
   "version": "4.5.1"
  }
 },
 "nbformat": 4,
 "nbformat_minor": 5
}
