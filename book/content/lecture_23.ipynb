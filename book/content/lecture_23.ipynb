{
 "cells": [
  {
   "cell_type": "markdown",
   "id": "cade8789",
   "metadata": {},
   "source": [
    "# Lecture 23: Logistic Regression - Diganostics\n",
    "\n",
    "---\n",
    "\n",
    "## Ex-Ante Diagnostics\n",
    "\n",
    "The example below employs the Indian Time Use Survey to model the choice of shopping channel (no-shopping, in-store, online, both) as logistic regression, accounting for individual specific variables (socio-demographics and socio-economic parameters)."
   ]
  },
  {
   "cell_type": "code",
   "execution_count": null,
   "id": "5d4185af",
   "metadata": {
    "vscode": {
     "languageId": "r"
    }
   },
   "outputs": [],
   "source": [
    "# Load necessary libraries\n",
    "library(tidyr)\n",
    "library(dplyr)\n",
    "library(mlogit)\n",
    "library(ggplot2)\n",
    "options(repr.plot.width = 12, repr.plot.height = 8)"
   ]
  },
  {
   "cell_type": "code",
   "execution_count": 2,
   "id": "bb407feb",
   "metadata": {
    "vscode": {
     "languageId": "r"
    }
   },
   "outputs": [
    {
     "name": "stdout",
     "output_type": "stream",
     "text": [
      "'data.frame':\t454192 obs. of  55 variables:\n",
      " $ Unique_ID        : chr  \"2024-30010-1-241-17-13-11-2-2420-4-1-1\" \"2024-30010-1-241-17-13-11-2-2420-4-10-1\" \"2024-30010-1-241-17-13-11-2-2420-4-10-2\" \"2024-30010-1-241-17-13-11-2-2420-4-11-1\" ...\n",
      " $ Unique_HH_ID     : chr  \"2024-30010-1-241-17-13-11-2-2420-4-1\" \"2024-30010-1-241-17-13-11-2-2420-4-10\" \"2024-30010-1-241-17-13-11-2-2420-4-10\" \"2024-30010-1-241-17-13-11-2-2420-4-11\" ...\n",
      " $ q1               : int  0 0 0 0 0 0 0 0 0 0 ...\n",
      " $ q2               : int  1 1 1 1 1 1 1 1 1 1 ...\n",
      " $ q3               : int  0 0 0 0 0 0 0 0 0 0 ...\n",
      " $ q4               : int  0 0 0 0 0 0 0 0 0 0 ...\n",
      " $ weekday          : int  1 1 1 0 0 0 0 0 1 1 ...\n",
      " $ weekend          : int  0 0 0 1 1 1 1 1 0 0 ...\n",
      " $ rural            : int  1 1 1 1 1 1 1 1 1 1 ...\n",
      " $ urban            : int  0 0 0 0 0 0 0 0 0 0 ...\n",
      " $ north            : int  0 0 0 0 0 0 0 0 0 0 ...\n",
      " $ west             : int  1 1 1 1 1 1 1 1 1 1 ...\n",
      " $ central          : int  0 0 0 0 0 0 0 0 0 0 ...\n",
      " $ east             : int  0 0 0 0 0 0 0 0 0 0 ...\n",
      " $ north.east       : int  0 0 0 0 0 0 0 0 0 0 ...\n",
      " $ south            : int  0 0 0 0 0 0 0 0 0 0 ...\n",
      " $ tierI            : int  0 0 0 0 0 0 0 0 0 0 ...\n",
      " $ tierII           : int  1 1 1 1 1 1 1 1 1 1 ...\n",
      " $ tierIII          : int  0 0 0 0 0 0 0 0 0 0 ...\n",
      " $ male             : int  1 1 0 1 0 1 0 0 1 0 ...\n",
      " $ female           : int  0 0 1 0 1 0 1 1 0 1 ...\n",
      " $ transgender      : int  0 0 0 0 0 0 0 0 0 0 ...\n",
      " $ gen_alpha        : int  0 0 0 0 0 0 0 0 0 0 ...\n",
      " $ gen_z            : int  0 0 1 0 0 1 1 1 0 0 ...\n",
      " $ millenials       : int  0 1 0 0 1 0 0 0 0 1 ...\n",
      " $ gen_x            : int  1 0 0 1 0 0 0 0 1 0 ...\n",
      " $ baby_boomers     : int  0 0 0 0 0 0 0 0 0 0 ...\n",
      " $ silent           : int  0 0 0 0 0 0 0 0 0 0 ...\n",
      " $ not_married      : int  1 0 0 0 0 1 1 1 0 0 ...\n",
      " $ married          : int  0 1 1 1 1 0 0 0 1 1 ...\n",
      " $ not_literate     : int  0 0 0 0 1 0 0 0 1 0 ...\n",
      " $ primary          : int  0 0 1 0 0 0 1 0 0 1 ...\n",
      " $ secondary        : int  0 1 0 1 0 1 0 1 0 0 ...\n",
      " $ graduate_._above : int  1 0 0 0 0 0 0 0 0 0 ...\n",
      " $ nilf             : int  0 0 1 0 1 0 1 0 0 0 ...\n",
      " $ unemployed       : int  0 0 0 0 0 0 0 0 0 0 ...\n",
      " $ employed         : int  1 1 0 1 0 1 0 1 1 1 ...\n",
      " $ family_structure : num  0 0.333 0.333 0.4 0.4 0.4 0.4 0.4 0.429 0.429 ...\n",
      " $ household_size   : int  1 3 3 5 5 5 5 5 7 7 ...\n",
      " $ disadvantaged    : int  1 1 1 1 1 1 1 1 1 1 ...\n",
      " $ not_disadvantaged: int  0 0 0 0 0 0 0 0 0 0 ...\n",
      " $ no_land          : int  0 0 0 0 0 0 0 0 0 0 ...\n",
      " $ land_possessed   : int  1 1 1 1 1 1 1 1 1 1 ...\n",
      " $ low_income       : int  1 1 1 0 0 0 0 0 0 0 ...\n",
      " $ medium_income    : int  0 0 0 1 1 1 1 1 1 1 ...\n",
      " $ high_income      : int  0 0 0 0 0 0 0 0 0 0 ...\n",
      " $ no_dwelling      : int  0 0 0 0 0 0 0 0 0 0 ...\n",
      " $ kutcha           : int  0 0 0 0 0 0 0 0 0 0 ...\n",
      " $ pucca            : int  1 1 1 1 1 1 1 1 1 1 ...\n",
      " $ none             : int  1 1 1 1 1 1 1 1 1 1 ...\n",
      " $ instore          : int  0 0 0 0 0 0 0 0 0 0 ...\n",
      " $ online           : int  0 0 0 0 0 0 0 0 0 0 ...\n",
      " $ both             : int  0 0 0 0 0 0 0 0 0 0 ...\n",
      " $ choice           : chr  \"none\" \"none\" \"none\" \"none\" ...\n",
      " $ weight           : int  208857 208857 208857 208857 208857 208857 208857 208857 208857 208857 ...\n"
     ]
    }
   ],
   "source": [
    "# 2024 ITUS Individual Data (model)\n",
    "url  <- \"https://raw.githubusercontent.com/anmpahwa/CE5540/refs/heads/main/resources/ITUS_IND_BD.csv\"\n",
    "data <- read.csv(url) # Loading Data\n",
    "str(data)"
   ]
  },
  {
   "cell_type": "code",
   "execution_count": 3,
   "id": "20de0ab2",
   "metadata": {
    "vscode": {
     "languageId": "r"
    }
   },
   "outputs": [
    {
     "name": "stdout",
     "output_type": "stream",
     "text": [
      "\u001b[90m# A tibble: 4 × 3\u001b[39m\n",
      "  channel  count    share\n",
      "  \u001b[3m\u001b[90m<chr>\u001b[39m\u001b[23m    \u001b[3m\u001b[90m<int>\u001b[39m\u001b[23m    \u001b[3m\u001b[90m<dbl>\u001b[39m\u001b[23m\n",
      "\u001b[90m1\u001b[39m None    \u001b[4m4\u001b[24m\u001b[4m0\u001b[24m\u001b[4m9\u001b[24m897 0.902   \n",
      "\u001b[90m2\u001b[39m InStore  \u001b[4m3\u001b[24m\u001b[4m9\u001b[24m728 0.087\u001b[4m5\u001b[24m  \n",
      "\u001b[90m3\u001b[39m Online    \u001b[4m4\u001b[24m252 0.009\u001b[4m3\u001b[24m\u001b[4m6\u001b[24m \n",
      "\u001b[90m4\u001b[39m Both       315 0.000\u001b[4m6\u001b[24m\u001b[4m9\u001b[24m\u001b[4m4\u001b[24m\n"
     ]
    }
   ],
   "source": [
    "# Counts\n",
    "counts <- data %>%\n",
    "  summarise(\n",
    "    None = sum(none, na.rm = TRUE),\n",
    "    InStore = sum(instore, na.rm = TRUE),\n",
    "    Online = sum(online, na.rm = TRUE),\n",
    "    Both = sum(both, na.rm = TRUE)\n",
    "  ) %>%\n",
    "  pivot_longer(cols = everything(), names_to = \"channel\", values_to = \"count\") %>%\n",
    "  mutate(share = (count / sum(count)))\n",
    "print(counts)"
   ]
  },
  {
   "cell_type": "code",
   "execution_count": 4,
   "id": "ac6afcce",
   "metadata": {
    "vscode": {
     "languageId": "r"
    }
   },
   "outputs": [
    {
     "name": "stdout",
     "output_type": "stream",
     "text": [
      "\u001b[90m# A tibble: 4 × 5\u001b[39m\n",
      "  channel       Q1       Q2       Q3       Q4\n",
      "  \u001b[3m\u001b[90m<fct>\u001b[39m\u001b[23m      \u001b[3m\u001b[90m<dbl>\u001b[39m\u001b[23m    \u001b[3m\u001b[90m<dbl>\u001b[39m\u001b[23m    \u001b[3m\u001b[90m<dbl>\u001b[39m\u001b[23m    \u001b[3m\u001b[90m<dbl>\u001b[39m\u001b[23m\n",
      "\u001b[90m1\u001b[39m None    0.910    0.902    0.899    0.898   \n",
      "\u001b[90m2\u001b[39m InStore 0.076\u001b[4m1\u001b[24m   0.085\u001b[4m7\u001b[24m   0.093\u001b[4m3\u001b[24m   0.095\u001b[4m6\u001b[24m  \n",
      "\u001b[90m3\u001b[39m Online  0.013\u001b[4m1\u001b[24m   0.011\u001b[4m0\u001b[24m   0.006\u001b[4m9\u001b[24m\u001b[4m9\u001b[24m  0.006\u001b[4m0\u001b[24m\u001b[4m1\u001b[24m \n",
      "\u001b[90m4\u001b[39m Both    0.000\u001b[4m7\u001b[24m\u001b[4m1\u001b[24m\u001b[4m3\u001b[24m 0.000\u001b[4m7\u001b[24m\u001b[4m9\u001b[24m\u001b[4m4\u001b[24m 0.000\u001b[4m7\u001b[24m\u001b[4m0\u001b[24m\u001b[4m4\u001b[24m 0.000\u001b[4m5\u001b[24m\u001b[4m5\u001b[24m\u001b[4m7\u001b[24m\n"
     ]
    }
   ],
   "source": [
    "# Temporal: Quarter Counts\n",
    "quarter_counts <- data %>%\n",
    "  summarise(\n",
    "    None_Q1 = sum(none * q1, na.rm = TRUE),\n",
    "    InStore_Q1 = sum(instore * q1, na.rm = TRUE),\n",
    "    Online_Q1 = sum(online * q1, na.rm = TRUE),\n",
    "    Both_Q1 = sum(both * q1, na.rm = TRUE),\n",
    "\n",
    "    None_Q2 = sum(none * q2, na.rm = TRUE),\n",
    "    InStore_Q2 = sum(instore * q2, na.rm = TRUE),\n",
    "    Online_Q2 = sum(online * q2, na.rm = TRUE),\n",
    "    Both_Q2 = sum(both * q2, na.rm = TRUE),\n",
    "\n",
    "    None_Q3 = sum(none * q3, na.rm = TRUE),\n",
    "    InStore_Q3 = sum(instore * q3, na.rm = TRUE),\n",
    "    Online_Q3 = sum(online * q3, na.rm = TRUE),\n",
    "    Both_Q3 = sum(both * q3, na.rm = TRUE),\n",
    "\n",
    "    None_Q4 = sum(none * q4, na.rm = TRUE),\n",
    "    InStore_Q4 = sum(instore * q4, na.rm = TRUE),\n",
    "    Online_Q4 = sum(online * q4, na.rm = TRUE),\n",
    "    Both_Q4 = sum(both * q4, na.rm = TRUE)\n",
    "  ) %>%\n",
    "  pivot_longer(cols = everything(), names_to = \"channel_quarter\", values_to = \"count\") %>%\n",
    "  separate(channel_quarter, into = c(\"channel\", \"quarter\"), sep = \"_\") %>%\n",
    "  group_by(quarter) %>%\n",
    "  mutate(share = (count / sum(count))) %>%\n",
    "  ungroup() %>%\n",
    "  mutate(channel = factor(channel, levels = c(\"None\", \"InStore\", \"Online\", \"Both\")))\n",
    "\n",
    "# Tabulate\n",
    "table <- quarter_counts %>%\n",
    "  ungroup() %>%\n",
    "  select(channel, quarter, share) %>%\n",
    "  pivot_wider(names_from = quarter, values_from = share)\n",
    "print(table)"
   ]
  },
  {
   "cell_type": "code",
   "execution_count": 5,
   "id": "fbac6fbd",
   "metadata": {
    "vscode": {
     "languageId": "r"
    }
   },
   "outputs": [
    {
     "name": "stdout",
     "output_type": "stream",
     "text": [
      "\u001b[90m# A tibble: 4 × 3\u001b[39m\n",
      "  channel       WD       WE\n",
      "  \u001b[3m\u001b[90m<fct>\u001b[39m\u001b[23m      \u001b[3m\u001b[90m<dbl>\u001b[39m\u001b[23m    \u001b[3m\u001b[90m<dbl>\u001b[39m\u001b[23m\n",
      "\u001b[90m1\u001b[39m None    0.907    0.892   \n",
      "\u001b[90m2\u001b[39m InStore 0.083\u001b[4m8\u001b[24m   0.097\u001b[4m3\u001b[24m  \n",
      "\u001b[90m3\u001b[39m Online  0.009\u001b[4m0\u001b[24m\u001b[4m0\u001b[24m  0.010\u001b[4m3\u001b[24m  \n",
      "\u001b[90m4\u001b[39m Both    0.000\u001b[4m6\u001b[24m\u001b[4m3\u001b[24m\u001b[4m6\u001b[24m 0.000\u001b[4m8\u001b[24m\u001b[4m4\u001b[24m\u001b[4m7\u001b[24m\n"
     ]
    }
   ],
   "source": [
    "# Temporal: Day Counts\n",
    "day_counts <- data %>%\n",
    "  summarise(\n",
    "    None_WD = sum(none * weekday, na.rm = TRUE),\n",
    "    InStore_WD = sum(instore * weekday, na.rm = TRUE),\n",
    "    Online_WD = sum(online * weekday, na.rm = TRUE),\n",
    "    Both_WD = sum(both * weekday, na.rm = TRUE),\n",
    "\n",
    "    None_WE = sum(none * weekend, na.rm = TRUE),\n",
    "    InStore_WE = sum(instore * weekend, na.rm = TRUE),\n",
    "    Online_WE = sum(online * weekend, na.rm = TRUE),\n",
    "    Both_WE = sum(both * weekend, na.rm = TRUE)\n",
    "  ) %>%\n",
    "  pivot_longer(cols = everything(), names_to = \"channel_day\", values_to = \"count\") %>%\n",
    "  separate(channel_day, into = c(\"channel\", \"day\"), sep = \"_\") %>%\n",
    "  group_by(day) %>%\n",
    "  mutate(share = (count / sum(count))) %>%\n",
    "  ungroup() %>%\n",
    "  mutate(channel = factor(channel, levels = c(\"None\", \"InStore\", \"Online\", \"Both\")))\n",
    "\n",
    "# Tabulate\n",
    "table <- day_counts %>%\n",
    "  ungroup() %>%\n",
    "  select(channel, day, share) %>%\n",
    "  pivot_wider(names_from = day, values_from = share)\n",
    "print(table)"
   ]
  },
  {
   "cell_type": "code",
   "execution_count": 6,
   "id": "fd36b8c3",
   "metadata": {
    "vscode": {
     "languageId": "r"
    }
   },
   "outputs": [
    {
     "name": "stdout",
     "output_type": "stream",
     "text": [
      "\u001b[90m# A tibble: 4 × 3\u001b[39m\n",
      "  channel        R       U\n",
      "  \u001b[3m\u001b[90m<fct>\u001b[39m\u001b[23m      \u001b[3m\u001b[90m<dbl>\u001b[39m\u001b[23m   \u001b[3m\u001b[90m<dbl>\u001b[39m\u001b[23m\n",
      "\u001b[90m1\u001b[39m None    0.916    0.880  \n",
      "\u001b[90m2\u001b[39m InStore 0.076\u001b[4m6\u001b[24m   0.106  \n",
      "\u001b[90m3\u001b[39m Online  0.007\u001b[4m0\u001b[24m\u001b[4m6\u001b[24m  0.013\u001b[4m3\u001b[24m \n",
      "\u001b[90m4\u001b[39m Both    0.000\u001b[4m4\u001b[24m\u001b[4m7\u001b[24m\u001b[4m3\u001b[24m 0.001\u001b[4m0\u001b[24m\u001b[4m7\u001b[24m\n"
     ]
    }
   ],
   "source": [
    "# Spatial: Sector Counts\n",
    "sector_counts <- data %>%\n",
    "  summarise(\n",
    "    None_R = sum(none * rural, na.rm = TRUE),\n",
    "    InStore_R = sum(instore * rural, na.rm = TRUE),\n",
    "    Online_R = sum(online * rural, na.rm = TRUE),\n",
    "    Both_R = sum(both * rural, na.rm = TRUE),\n",
    "\n",
    "    None_U = sum(none * urban, na.rm = TRUE),\n",
    "    InStore_U = sum(instore * urban, na.rm = TRUE),\n",
    "    Online_U = sum(online * urban, na.rm = TRUE),\n",
    "    Both_U = sum(both * urban, na.rm = TRUE)\n",
    "  ) %>%\n",
    "  pivot_longer(cols = everything(), names_to = \"channel_sector\", values_to = \"count\") %>%\n",
    "  separate(channel_sector, into = c(\"channel\", \"sector\"), sep = \"_\") %>%\n",
    "  group_by(sector) %>%\n",
    "  mutate(share = (count / sum(count))) %>%\n",
    "  ungroup() %>%\n",
    "  mutate(channel = factor(channel, levels = c(\"None\", \"InStore\", \"Online\", \"Both\")))\n",
    "\n",
    "# Tabulate\n",
    "table <- sector_counts %>%\n",
    "  ungroup() %>%\n",
    "  select(channel, sector, share) %>%\n",
    "  pivot_wider(names_from = sector, values_from = share)\n",
    "print(table)"
   ]
  },
  {
   "cell_type": "code",
   "execution_count": 7,
   "id": "32cf82b1",
   "metadata": {
    "vscode": {
     "languageId": "r"
    }
   },
   "outputs": [
    {
     "name": "stdout",
     "output_type": "stream",
     "text": [
      "\u001b[90m# A tibble: 4 × 4\u001b[39m\n",
      "  channel       T1       T2       T3\n",
      "  \u001b[3m\u001b[90m<fct>\u001b[39m\u001b[23m      \u001b[3m\u001b[90m<dbl>\u001b[39m\u001b[23m    \u001b[3m\u001b[90m<dbl>\u001b[39m\u001b[23m    \u001b[3m\u001b[90m<dbl>\u001b[39m\u001b[23m\n",
      "\u001b[90m1\u001b[39m None    0.904    0.911    0.893   \n",
      "\u001b[90m2\u001b[39m InStore 0.087\u001b[4m4\u001b[24m   0.080\u001b[4m2\u001b[24m   0.094\u001b[4m8\u001b[24m  \n",
      "\u001b[90m3\u001b[39m Online  0.008\u001b[4m2\u001b[24m\u001b[4m5\u001b[24m  0.008\u001b[4m1\u001b[24m\u001b[4m1\u001b[24m  0.011\u001b[4m7\u001b[24m  \n",
      "\u001b[90m4\u001b[39m Both    0.000\u001b[4m7\u001b[24m\u001b[4m7\u001b[24m\u001b[4m6\u001b[24m 0.000\u001b[4m4\u001b[24m\u001b[4m7\u001b[24m\u001b[4m1\u001b[24m 0.000\u001b[4m8\u001b[24m\u001b[4m3\u001b[24m\u001b[4m3\u001b[24m\n"
     ]
    }
   ],
   "source": [
    "# Spatial: Tier Counts\n",
    "tier_counts <- data %>%\n",
    "  summarise(\n",
    "    None_T1 = sum(none * tierI, na.rm = TRUE),\n",
    "    InStore_T1 = sum(instore * tierI, na.rm = TRUE),\n",
    "    Online_T1 = sum(online * tierI, na.rm = TRUE),\n",
    "    Both_T1 = sum(both * tierI, na.rm = TRUE),\n",
    "\n",
    "    None_T2 = sum(none * tierII, na.rm = TRUE),\n",
    "    InStore_T2 = sum(instore * tierII, na.rm = TRUE),\n",
    "    Online_T2 = sum(online * tierII, na.rm = TRUE),\n",
    "    Both_T2 = sum(both * tierII, na.rm = TRUE),\n",
    "\n",
    "    None_T3 = sum(none * tierIII, na.rm = TRUE),\n",
    "    InStore_T3 = sum(instore * tierIII, na.rm = TRUE),\n",
    "    Online_T3 = sum(online * tierIII, na.rm = TRUE),\n",
    "    Both_T3 = sum(both * tierIII, na.rm = TRUE)\n",
    "  ) %>%\n",
    "  pivot_longer(cols = everything(), names_to = \"channel_tier\", values_to = \"count\") %>%\n",
    "  separate(channel_tier, into = c(\"channel\", \"tier\"), sep = \"_\") %>%\n",
    "  group_by(tier) %>%\n",
    "  mutate(share = (count / sum(count))) %>%\n",
    "  ungroup() %>%\n",
    "  mutate(channel = factor(channel, levels = c(\"None\", \"InStore\", \"Online\", \"Both\")))\n",
    "\n",
    "# Tabulate\n",
    "table <- tier_counts %>%\n",
    "  ungroup() %>%\n",
    "  select(channel, tier, share) %>%\n",
    "  pivot_wider(names_from = tier, values_from = share)\n",
    "print(table)"
   ]
  },
  {
   "cell_type": "markdown",
   "id": "5b078f0e",
   "metadata": {},
   "source": [
    "## Model Diagnostics\n",
    "\n",
    "- Equally Likely Model: A baseline model that assumes all alternatives have the same probability of being chosen.   \n",
    "  \n",
    "    $$\n",
    "    P_{ij} = 1/J \\quad \\ \\ \\forall \\ \\ i, j\n",
    "    $$  \n",
    "    \n",
    "    where $I$ = number of individuals, and $J$ = number of alternatives.\n",
    "\n",
    "- Market Share Model: A baseline model that assigns choice probabilities equal to the observed market shares of each alternative.  \n",
    "\n",
    "    Unweighted Data - \n",
    "\n",
    "    $$\n",
    "    P_{ij} = \\frac{I_j}{I}\n",
    "    $$\n",
    "\n",
    "    where $I_j$ = number of times alternative $j$ is chosen.\n",
    "    \n",
    "    Weighted Data - \n",
    "\n",
    "    $$\n",
    "    P_{ij} = \\frac{\\sum_{i=1}^{I} w_i y_{ij}}{\\sum_{i=1}^{I} w_i} \\quad \\ \\ \\forall \\ \\ i, j\n",
    "    $$  \n",
    "  \n",
    "  where $w_i$ is the weight for individual $i$, and $y_{ij} = 1$ if individual $i$ chose alternative $j$, else $0$.\n",
    "\n",
    "- Estimated Model: The multinomial logit (MNL) model estimated using explanatory variables to predict choice probabilities.  \n",
    "  \n",
    "  $$\n",
    "  P_{ij} = \\frac{\\exp(V_{ij})}{\\sum_{k \\in J} \\exp(V_{ik})}\n",
    "  $$  \n",
    "\n",
    "  where $V_{ij}$ is the systematic utility of alternative $j$ for individual $i$.\n",
    "\n",
    "Consequently, to assess predictive capability of the model, we evaluate log-Likelihood as follows\n",
    "\n",
    "$$\n",
    "LL = \\sum_{i=1}^{I} \\sum_{j=1}^{J} y_{ij} \\ln\\left(P_{ij}\\right)\n",
    "$$\n",
    "\n",
    "To better compare the different models, we evaluate McFadden $\\text{R}^2$ as follows,\n",
    "\n",
    "- Estimated Model vs. Equally Likely Model:  \n",
    "  \n",
    "    $$\n",
    "    R^2_{EL} = 1 - \\frac{LL_{EST}}{LL_{EL}}\n",
    "    $$\n",
    "\n",
    "- Estimated Model vs. Market Share Model:  \n",
    "  \n",
    "    $$\n",
    "    R^2_{MS} = 1 - \\frac{LL_{EST}}{LL_{MS}}\n",
    "    $$\n",
    "\n",
    "Equivalently, we have adjusted McFadden $\\text{R}^2$, given by,\n",
    "\n",
    "- Estimated Model vs. Equally Likely Model:  \n",
    "  \n",
    "    $$\n",
    "    \\bar{R}^2_{EL} = 1 - \\frac{LL_{EST} - K}{LL_{EL}}\n",
    "    $$\n",
    "\n",
    "- Estimated Model vs. Market Share Model:  \n",
    "  \n",
    "    $$\n",
    "    \\bar{R}^2_{MS} = 1 - \\frac{LL_{EST} - K}{LL_{MS}}\n",
    "    $$\n",
    "\n",
    "    where $K$ is the number of exogenous variables in the estimated model."
   ]
  },
  {
   "cell_type": "code",
   "execution_count": 8,
   "id": "9f188156",
   "metadata": {
    "vscode": {
     "languageId": "r"
    }
   },
   "outputs": [],
   "source": [
    "long_data <- data %>%\n",
    "  select(\n",
    "    Unique_ID,\n",
    "    q1, q2, q3, q4,\n",
    "    weekday, weekend,\n",
    "    urban, rural, \n",
    "    north, west, south, east, central, north.east,\n",
    "    tierI, tierII, tierIII,\n",
    "    male, female, transgender,\n",
    "    gen_alpha, gen_z, millenials, gen_x, baby_boomers, silent,\n",
    "    not_married, married,\n",
    "    not_literate, primary, secondary, graduate_._above,\n",
    "    nilf, unemployed, employed,\n",
    "    family_structure, household_size,\n",
    "    disadvantaged, not_disadvantaged,\n",
    "    no_land, land_possessed,\n",
    "    low_income, medium_income, high_income,\n",
    "    no_dwelling, kutcha, pucca,\n",
    "    none, instore, online, both,\n",
    "    weight\n",
    "  ) %>%\n",
    "  # One row per individual × alternative\n",
    "  pivot_longer(\n",
    "    cols = c(none, instore, online, both),\n",
    "    names_to = \"alt\", values_to = \"bin\"\n",
    "  ) %>%\n",
    "  mutate(bin = bin == 1)\n",
    "\n",
    "model_data <- mlogit.data(\n",
    "  long_data,\n",
    "  choice = \"bin\",\n",
    "  shape = \"long\",\n",
    "  chid.var = \"Unique_ID\",\n",
    "  alt.var = \"alt\"\n",
    ")"
   ]
  },
  {
   "cell_type": "code",
   "execution_count": 9,
   "id": "27dc3da4",
   "metadata": {
    "vscode": {
     "languageId": "r"
    }
   },
   "outputs": [
    {
     "data": {
      "text/plain": [
       "\n",
       "Call:\n",
       "mlogit(formula = bin ~ 1 | q1 + q2 + q3 + weekend + urban + north + \n",
       "    west + south + east + north.east + tierI + tierII + female + \n",
       "    gen_alpha + gen_z + millenials + gen_x + baby_boomers + married + \n",
       "    primary + secondary + graduate_._above + unemployed + employed + \n",
       "    family_structure + household_size + disadvantaged + medium_income + \n",
       "    high_income, data = model_data, weights = model_data$weight, \n",
       "    reflevel = \"none\", method = \"nr\")\n",
       "\n",
       "Frequencies of alternatives:choice\n",
       "      none       both    instore     online \n",
       "0.90247516 0.00069354 0.08746962 0.00936168 \n",
       "\n",
       "nr method\n",
       "50 iterations, 0h:32m:34s \n",
       "g'(-H)^-1g = 5.42E-07 \n",
       "gradient close to zero \n",
       "\n",
       "Coefficients :\n",
       "                           Estimate Std. Error  z-value  Pr(>|z|)    \n",
       "(Intercept):both         -7.4168560  0.6157904 -12.0444 < 2.2e-16 ***\n",
       "(Intercept):instore      -3.1359745  0.0830616 -37.7548 < 2.2e-16 ***\n",
       "(Intercept):online       -6.1039104  0.2871559 -21.2564 < 2.2e-16 ***\n",
       "q1:both                   0.2791877  0.1672719   1.6691 0.0951044 .  \n",
       "q1:instore               -0.2244205  0.0153914 -14.5809 < 2.2e-16 ***\n",
       "q1:online                 0.7799642  0.0466726  16.7114 < 2.2e-16 ***\n",
       "q2:both                   0.3613935  0.1651965   2.1877 0.0286945 *  \n",
       "q2:instore               -0.1043859  0.0150334  -6.9436 3.822e-12 ***\n",
       "q2:online                 0.6014995  0.0481472  12.4929 < 2.2e-16 ***\n",
       "q3:both                   0.2287075  0.1701913   1.3438 0.1790046    \n",
       "q3:instore               -0.0093966  0.0147826  -0.6357 0.5250009    \n",
       "q3:online                 0.1030622  0.0533721   1.9310 0.0534814 .  \n",
       "weekend:both              0.3305004  0.1188460   2.7809 0.0054206 ** \n",
       "weekend:instore           0.1425404  0.0117174  12.1648 < 2.2e-16 ***\n",
       "weekend:online            0.1847087  0.0334999   5.5137 3.513e-08 ***\n",
       "urban:both                0.4648192  0.1278526   3.6356 0.0002773 ***\n",
       "urban:instore             0.2448504  0.0119824  20.4342 < 2.2e-16 ***\n",
       "urban:online              0.5042721  0.0344862  14.6224 < 2.2e-16 ***\n",
       "north:both                0.2783481  0.2349655   1.1846 0.2361623    \n",
       "north:instore             0.2319742  0.0236956   9.7897 < 2.2e-16 ***\n",
       "north:online              0.0781464  0.0617442   1.2656 0.2056398    \n",
       "west:both                -0.4456713  0.2265514  -1.9672 0.0491605 *  \n",
       "west:instore             -0.2370984  0.0196738 -12.0515 < 2.2e-16 ***\n",
       "west:online              -0.3406240  0.0497638  -6.8448 7.658e-12 ***\n",
       "south:both                0.4617657  0.1914588   2.4118 0.0158728 *  \n",
       "south:instore             0.2891557  0.0184433  15.6781 < 2.2e-16 ***\n",
       "south:online             -0.7997034  0.0600485 -13.3176 < 2.2e-16 ***\n",
       "east:both                 0.5726507  0.1927423   2.9711 0.0029676 ** \n",
       "east:instore              0.5940843  0.0172637  34.4124 < 2.2e-16 ***\n",
       "east:online               0.3210035  0.0445664   7.2028 5.898e-13 ***\n",
       "north.east:both          -0.1527257  0.2532609  -0.6030 0.5464841    \n",
       "north.east:instore        0.4412024  0.0225813  19.5384 < 2.2e-16 ***\n",
       "north.east:online        -0.2579856  0.0695310  -3.7104 0.0002070 ***\n",
       "tierI:both                0.2776032  0.1588892   1.7472 0.0806113 .  \n",
       "tierI:instore            -0.1058035  0.0159324  -6.6408 3.120e-11 ***\n",
       "tierI:online             -0.2106664  0.0462791  -4.5521 5.312e-06 ***\n",
       "tierII:both              -0.2935167  0.1533859  -1.9136 0.0556734 .  \n",
       "tierII:instore           -0.1629028  0.0139336 -11.6914 < 2.2e-16 ***\n",
       "tierII:online            -0.2211167  0.0388778  -5.6875 1.289e-08 ***\n",
       "female:both              -1.1797157  0.1594996  -7.3964 1.399e-13 ***\n",
       "female:instore           -0.9256491  0.0143421 -64.5408 < 2.2e-16 ***\n",
       "female:online            -0.6389009  0.0408502 -15.6401 < 2.2e-16 ***\n",
       "gen_alpha:both           -2.5534630  0.9962016  -2.5632 0.0103713 *  \n",
       "gen_alpha:instore        -1.1663812  0.0967893 -12.0507 < 2.2e-16 ***\n",
       "gen_alpha:online         -0.7042964  0.3221013  -2.1866 0.0287741 *  \n",
       "gen_z:both               -0.7211407  0.5605096  -1.2866 0.1982406    \n",
       "gen_z:instore             0.5742194  0.0798757   7.1889 6.530e-13 ***\n",
       "gen_z:online              1.0996030  0.2791819   3.9387 8.194e-05 ***\n",
       "millenials:both           0.5069131  0.5533189   0.9161 0.3595977    \n",
       "millenials:instore        1.0107544  0.0799294  12.6456 < 2.2e-16 ***\n",
       "millenials:online         1.5288775  0.2795385   5.4693 4.518e-08 ***\n",
       "gen_x:both                0.0421728  0.5573107   0.0757 0.9396801    \n",
       "gen_x:instore             1.0405279  0.0797451  13.0482 < 2.2e-16 ***\n",
       "gen_x:online              1.5374040  0.2792200   5.5061 3.669e-08 ***\n",
       "baby_boomers:both         0.4560862  0.5455593   0.8360 0.4031563    \n",
       "baby_boomers:instore      1.0074645  0.0797289  12.6361 < 2.2e-16 ***\n",
       "baby_boomers:online       1.2986491  0.2797404   4.6423 3.445e-06 ***\n",
       "married:both              0.1933199  0.1612442   1.1989 0.2305567    \n",
       "married:instore           0.4609271  0.0158744  29.0359 < 2.2e-16 ***\n",
       "married:online            0.3297134  0.0450564   7.3178 2.520e-13 ***\n",
       "primary:both              0.2572980  0.2216710   1.1607 0.2457556    \n",
       "primary:instore           0.1796498  0.0179330  10.0178 < 2.2e-16 ***\n",
       "primary:online            0.0250463  0.0529127   0.4734 0.6359624    \n",
       "secondary:both            0.4976686  0.2285602   2.1774 0.0294502 *  \n",
       "secondary:instore         0.2363406  0.0192631  12.2691 < 2.2e-16 ***\n",
       "secondary:online          0.2464443  0.0553515   4.4524 8.493e-06 ***\n",
       "graduate_._above:both     0.9545753  0.2389967   3.9941 6.494e-05 ***\n",
       "graduate_._above:instore  0.2992761  0.0220033  13.6014 < 2.2e-16 ***\n",
       "graduate_._above:online   0.3433125  0.0620183   5.5357 3.101e-08 ***\n",
       "unemployed:both           0.7963925  0.3113131   2.5582 0.0105224 *  \n",
       "unemployed:instore        0.7554284  0.0355874  21.2274 < 2.2e-16 ***\n",
       "unemployed:online         0.8261047  0.0858447   9.6232 < 2.2e-16 ***\n",
       "employed:both            -0.2305284  0.1641075  -1.4047 0.1600985    \n",
       "employed:instore          0.0447391  0.0151695   2.9493 0.0031851 ** \n",
       "employed:online          -0.1993489  0.0434480  -4.5882 4.470e-06 ***\n",
       "family_structure:both    -0.2367034  0.3224017  -0.7342 0.4628343    \n",
       "family_structure:instore -0.0291962  0.0292920  -0.9967 0.3188974    \n",
       "family_structure:online  -0.1143438  0.0841183  -1.3593 0.1740449    \n",
       "household_size:both      -0.1667825  0.0409682  -4.0710 4.681e-05 ***\n",
       "household_size:instore   -0.1019963  0.0036437 -27.9922 < 2.2e-16 ***\n",
       "household_size:online    -0.0644479  0.0097986  -6.5772 4.793e-11 ***\n",
       "disadvantaged:both        0.0445169  0.1303666   0.3415 0.7327462    \n",
       "disadvantaged:instore     0.0520723  0.0127374   4.0881 4.348e-05 ***\n",
       "disadvantaged:online      0.0193504  0.0356309   0.5431 0.5870757    \n",
       "medium_income:both        0.1514223  0.1566796   0.9664 0.3338214    \n",
       "medium_income:instore     0.0426988  0.0139013   3.0716 0.0021293 ** \n",
       "medium_income:online      0.1323845  0.0408460   3.2411 0.0011909 ** \n",
       "high_income:both          0.4051618  0.1651532   2.4532 0.0141573 *  \n",
       "high_income:instore       0.1283853  0.0156172   8.2208 2.220e-16 ***\n",
       "high_income:online        0.1757212  0.0456216   3.8517 0.0001173 ***\n",
       "---\n",
       "Signif. codes:  0 ‘***’ 0.001 ‘**’ 0.01 ‘*’ 0.05 ‘.’ 0.1 ‘ ’ 1\n",
       "\n",
       "Log-Likelihood: -146750\n",
       "McFadden R^2:  0.088592 \n",
       "Likelihood ratio test : chisq = 28528 (p.value = < 2.22e-16)"
      ]
     },
     "metadata": {},
     "output_type": "display_data"
    }
   ],
   "source": [
    "# Esitmated Model\n",
    "model <- mlogit(\n",
    "    formula = bin ~ 1 | q1 + q2 + q3 +\n",
    "                        weekend +\n",
    "                        urban +\n",
    "                        north + west + south + east + north.east +\n",
    "                        tierI + tierII +\n",
    "                        female + \n",
    "                        gen_alpha + gen_z + millenials + gen_x + baby_boomers +\n",
    "                        married +\n",
    "                        primary + secondary + graduate_._above +\n",
    "                        unemployed + employed +\n",
    "                        family_structure + household_size +\n",
    "                        disadvantaged +\n",
    "                        medium_income + high_income,\n",
    "    data = model_data,\n",
    "    ref = \"none\",\n",
    "    weights = model_data$weight\n",
    "    )\n",
    "summary(model)"
   ]
  },
  {
   "cell_type": "code",
   "execution_count": 21,
   "id": "a763b696",
   "metadata": {
    "vscode": {
     "languageId": "r"
    }
   },
   "outputs": [
    {
     "name": "stdout",
     "output_type": "stream",
     "text": [
      "\n",
      "--- Log-likelihoods ---\n",
      "EL  : -629643.808\n",
      "MS  : -161013.489\n",
      "MNL : -146745.668\n",
      "\n",
      "--- McFadden R^2 ---\n",
      "R2 vs EL : 0.7669\n",
      "R2 vs MS : 0.0886\n",
      "\n",
      "--- Adjusted McFadden R^2 ---\n",
      "Adj R2 vs EL : 0.7668 (K = 90)\n",
      "Adj R2 vs MS : 0.0881 (K = 90)\n"
     ]
    }
   ],
   "source": [
    "# Model Statistics\n",
    "I      <- nrow(data)\n",
    "J      <- length(unique(data$choice))\n",
    "K      <- length(coef(model))\n",
    "W      <- long_data$weight\n",
    "Y      <- long_data$bin\n",
    "A      <- data %>%\n",
    "            summarise(\n",
    "              none = sum(none * weight, na.rm = TRUE) / sum(weight) * nrow(data),\n",
    "              instore = sum(instore * weight, na.rm = TRUE) / sum(weight) * nrow(data),\n",
    "              online = sum(online * weight, na.rm = TRUE) / sum(weight) * nrow(data),\n",
    "              both = sum(both * weight, na.rm = TRUE) / sum(weight) * nrow(data)\n",
    "            ) %>%\n",
    "            pivot_longer(cols = everything(), names_to = \"channel\", values_to = \"n\") %>%\n",
    "            mutate(p = (n / sum(n)))\n",
    "P      <- A$p[model_data$alt] \n",
    "LL_EL  <- sum(Y * log(1/J))\n",
    "LL_MS  <- sum(Y * log(P))\n",
    "LL_MNL <- as.numeric(logLik(model))\n",
    "R2_EL  <- 1 - (LL_MNL / LL_EL)\n",
    "R2_MS  <- 1 - (LL_MNL / LL_MS)\n",
    "AR2_EL <- 1 - ((LL_MNL - K) / LL_EL)\n",
    "AR2_MS <- 1 - ((LL_MNL - K) / LL_MS)\n",
    "\n",
    "# --- Output ---\n",
    "cat(\"\\n--- Log-likelihoods ---\\n\")\n",
    "cat(sprintf(\"EL  : %0.3f\\n\", LL_EL))\n",
    "cat(sprintf(\"MS  : %0.3f\\n\", LL_MS))\n",
    "cat(sprintf(\"MNL : %0.3f\\n\", LL_MNL))\n",
    "cat(\"\\n--- McFadden R^2 ---\\n\")\n",
    "cat(sprintf(\"R2 vs EL : %0.4f\\n\", R2_EL))\n",
    "cat(sprintf(\"R2 vs MS : %0.4f\\n\", R2_MS))\n",
    "cat(\"\\n--- Adjusted McFadden R^2 ---\\n\")\n",
    "cat(sprintf(\"Adj R2 vs EL : %0.4f (K = %d)\\n\", AR2_EL, K))\n",
    "cat(sprintf(\"Adj R2 vs MS : %0.4f (K = %d)\\n\", AR2_MS, K))"
   ]
  },
  {
   "cell_type": "markdown",
   "id": "79e92171",
   "metadata": {},
   "source": [
    "## Ex-Post Diagnostics\n",
    "\n",
    "After fitting a logistic regression model, it is important to verify that key assumptions hold. These include linearity between predictors and the log-odds of the outcome, independence of observations, absence of multicollinearity among predictors, and correct model specification, meaning no relevant variables are omitted and no irrelevant ones are included. In multinomial logit models, the Independence of Irrelevant Alternatives (IIA) assumption must also be satisfied. Violations can compromise the reliability of inference, affecting confidence intervals, hypothesis tests, and predictions.\n",
    "\n",
    "Residual diagnostics help identify such issues. Commonly used residuals in logistic regression are deviance residuals, which measure model fit on the deviance scale, and Pearson residuals, which represent standardized differences between observed and predicted responses. Plots of these residuals against fitted values should ideally show no systematic pattern; trends or clustering may indicate nonlinearity in the logit, omitted variables, or general model misspecification. Large residuals or high-leverage points can signal outliers or influential observations with disproportionate impact on estimates.\n",
    "\n",
    "For multinomial models, the Hausman–McFadden test is often used to evaluate the IIA assumption. This involves estimating the model with the full set of alternatives and again with one or more alternatives removed. If IIA holds, the restricted model’s coefficients should be consistent with those from the full model; a statistically significant difference suggests that removing an alternative changes the relative odds among the remaining choices, indicating an IIA violation. Such tests are often repeated for different subsets to check robustness, though computational issues like singular covariance matrices can arise and may be addressed with generalized inverses. When IIA does not hold, models such as nested logit or mixed logit provide more flexible and realistic structures.\n",
    "\n",
    "When diagnostics reveal assumption violations, various remedies are available. Nonlinearity in the logit can be addressed through transformations such as splines or polynomials, or by adding interaction terms. Multicollinearity may be mitigated by removing redundant predictors or using dimensionality reduction techniques. Outliers and influential points can be handled using robust estimation or selective adjustments. For IIA violations, adopting alternative model structures like nested or mixed logit is advisable. If overall model fit remains unsatisfactory, adding relevant variables, specifying meaningful interactions, or trying a different link function such as probit may yield improved results."
   ]
  }
 ],
 "metadata": {
  "kernelspec": {
   "display_name": "R",
   "language": "R",
   "name": "ir"
  },
  "language_info": {
   "codemirror_mode": "r",
   "file_extension": ".r",
   "mimetype": "text/x-r-source",
   "name": "R",
   "pygments_lexer": "r",
   "version": "4.5.1"
  }
 },
 "nbformat": 4,
 "nbformat_minor": 5
}
