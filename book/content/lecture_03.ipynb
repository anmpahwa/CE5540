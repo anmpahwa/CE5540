{
 "cells": [
  {
   "cell_type": "markdown",
   "id": "cb0ffc22",
   "metadata": {},
   "source": [
    "# Lecture 3: Introduction to R\n",
    "\n",
    "```{note}\n",
    "R is an open-source programming language and software environment specifically designed for statistical computing, data analysis, and data visualization. Originally developed by statisticians Ross Ihaka and Robert Gentleman in the early 1990s, R has since grown into a powerful tool used by scientists, researchers, and analysts across a range of disciplines. Its strength lies in its extensive ecosystem of packages, active community support, and seamless integration with advanced statistical methods, making it ideal for tasks such as hypothesis testing, regression modeling, data mining, and creating high-quality visualizations.\n",
    "```\n",
    "\n",
    "---\n",
    "\n",
    "## Installing R and RStudio on Windows\n",
    "\n",
    "Follow these steps:\n",
    "\n",
    "### Step 1: Install R\n",
    "1. Visit [https://cran.r-project.org](https://cran.r-project.org)\n",
    "2. Click on \"Download R for Windows\" > \"base\" > Download the installer\n",
    "3. Run the `.exe` file and follow installation instructions\n",
    "\n",
    "### Step 2: Install RStudio\n",
    "1. Visit [https://posit.co/download/rstudio-desktop/](https://posit.co/download/rstudio-desktop/)\n",
    "2. Download the RStudio Desktop version for Windows\n",
    "3. Run the installer and follow instructions\n",
    "\n",
    "Once installed, open **RStudio** to begin writing R code!\n",
    "\n",
    "## Hello World!"
   ]
  },
  {
   "cell_type": "code",
   "execution_count": 1,
   "id": "739792d8",
   "metadata": {
    "vscode": {
     "languageId": "r"
    }
   },
   "outputs": [
    {
     "name": "stdout",
     "output_type": "stream",
     "text": [
      "[1] \"Hello World!\"\n"
     ]
    }
   ],
   "source": [
    "# Hello World in R\n",
    "print(\"Hello World!\")"
   ]
  },
  {
   "cell_type": "markdown",
   "id": "9ca62b8e",
   "metadata": {},
   "source": [
    "## Data Types in R\n",
    "\n",
    "R supports the following basic data types:\n",
    "- Character\n",
    "- Numeric\n",
    "- Integer\n",
    "- Logical\n",
    "- Complex\n",
    "  \n",
    "Here are some examples:"
   ]
  },
  {
   "cell_type": "code",
   "execution_count": 2,
   "id": "858a1098",
   "metadata": {
    "vscode": {
     "languageId": "r"
    }
   },
   "outputs": [
    {
     "name": "stderr",
     "output_type": "stream",
     "text": [
      "Type of x is: character\n",
      "\n",
      "Type of y is: double\n",
      "\n",
      "Type of v is: integer\n",
      "\n",
      "Type of f is: logical\n",
      "\n",
      "Type of z is: complex\n",
      "\n"
     ]
    }
   ],
   "source": [
    "# Character\n",
    "x <- \"CE5540\"\n",
    "message(\"Type of x is: \", typeof(x))\n",
    "\n",
    "# Numeric\n",
    "r <- 3.14\n",
    "message(\"Type of y is: \", typeof(r))\n",
    "\n",
    "# Integer\n",
    "v <- 42L\n",
    "message(\"Type of v is: \", typeof(v))\n",
    "\n",
    "# Logical\n",
    "f <- TRUE\n",
    "message(\"Type of f is: \", typeof(f))\n",
    "\n",
    "# Complex\n",
    "z <- 2 + 3i\n",
    "message(\"Type of z is: \", typeof(z))"
   ]
  },
  {
   "cell_type": "markdown",
   "id": "52cb70d2",
   "metadata": {},
   "source": [
    "## Data Structures in R\n",
    "\n",
    "R supports the following data structures:\n",
    "- Vectors\n",
    "- Matrices\n",
    "- Lists\n",
    "- Data Frames\n",
    "\n",
    "Here are some examples:"
   ]
  },
  {
   "cell_type": "code",
   "execution_count": 3,
   "id": "89854f36",
   "metadata": {
    "vscode": {
     "languageId": "r"
    }
   },
   "outputs": [
    {
     "name": "stderr",
     "output_type": "stream",
     "text": [
      "# Vectors\n",
      "\n"
     ]
    },
    {
     "name": "stdout",
     "output_type": "stream",
     "text": [
      "[1] \"Apple\"  \"Banana\" \"Mango\" \n",
      "[1] 9 1 5 4 6 7 0 3 8\n",
      "[1] 1 2 3 4 5\n"
     ]
    },
    {
     "name": "stderr",
     "output_type": "stream",
     "text": [
      "Accessing a value in a vector: v1[1] = Apple. Notice that R follows 1-based indexing!\n",
      "\n",
      "\n",
      "# Matrices\n",
      "\n"
     ]
    },
    {
     "name": "stdout",
     "output_type": "stream",
     "text": [
      "     [,1] [,2] [,3]\n",
      "[1,]    9    1    5\n",
      "[2,]    4    6    7\n",
      "[3,]    0    3    8\n",
      "     [,1] [,2] [,3]\n",
      "[1,]    9    4    0\n",
      "[2,]    1    6    3\n",
      "[3,]    5    7    8\n"
     ]
    },
    {
     "name": "stderr",
     "output_type": "stream",
     "text": [
      "Accessing a value in a matrix: m1[1][3] = 5\n",
      "\n",
      "\n",
      "# List\n",
      "\n"
     ]
    },
    {
     "name": "stdout",
     "output_type": "stream",
     "text": [
      "$name\n",
      "[1] \"John\"\n",
      "\n",
      "$age\n",
      "[1] 25\n",
      "\n",
      "$scores\n",
      "[1] 90 85 88\n",
      "\n"
     ]
    },
    {
     "name": "stderr",
     "output_type": "stream",
     "text": [
      "Accessing a value in a list: l$name = John\n",
      "\n",
      "\n",
      "# Data Frames\n",
      "\n"
     ]
    },
    {
     "name": "stdout",
     "output_type": "stream",
     "text": [
      "   Name Age\n",
      "1 Alice  23\n",
      "2   Bob  25\n"
     ]
    },
    {
     "name": "stderr",
     "output_type": "stream",
     "text": [
      "Accessing a value in a data frame: df$Age[1] = 23\n",
      "\n"
     ]
    }
   ],
   "source": [
    "# Vectors\n",
    "v1 <- c(\"Apple\", \"Banana\", \"Mango\")\n",
    "v2 <- c(9, 1, 5, 4, 6, 7, 0, 3, 8)\n",
    "v3 <- c(1:5)\n",
    "message(\"# Vectors\")\n",
    "print(v1)\n",
    "print(v2)\n",
    "print(v3)\n",
    "message(\"Accessing a value in a vector: v1[1] = \", v1[1], \". Notice that R follows 1-based indexing!\")\n",
    "\n",
    "# Matrices\n",
    "m1 <- matrix(c(9, 1, 5, 4, 6, 7, 0, 3, 8), nrow = 3, byrow = TRUE)\n",
    "m2 <- matrix(c(9, 1, 5, 4, 6, 7, 0, 3, 8), nrow = 3, byrow = FALSE)\n",
    "message(\"\\n# Matrices\")\n",
    "print(m1)\n",
    "print(m2)\n",
    "message(\"Accessing a value in a matrix: m1[1][3] = \", m1[1,3])\n",
    "\n",
    "# Lists\n",
    "l <- list(name=\"John\", age=25L, scores=c(90, 85, 88))\n",
    "message(\"\\n# List\")\n",
    "print(l)\n",
    "message(\"Accessing a value in a list: l$name = \", l$name)\n",
    "\n",
    "# Data Frames\n",
    "df <- data.frame(Name=c(\"Alice\", \"Bob\"), Age=c(23L, 25L))\n",
    "message(\"\\n# Data Frames\")\n",
    "print(df)\n",
    "message(\"Accessing a value in a data frame: df$Age[1] = \", df$Age[1])\n"
   ]
  },
  {
   "cell_type": "markdown",
   "id": "13d54e65",
   "metadata": {},
   "source": [
    "## Control Flow\n",
    "\n",
    "Here is how you would write control flow statements in R"
   ]
  },
  {
   "cell_type": "code",
   "execution_count": 4,
   "id": "ad9f6da4",
   "metadata": {
    "vscode": {
     "languageId": "r"
    }
   },
   "outputs": [
    {
     "name": "stderr",
     "output_type": "stream",
     "text": [
      "x is a positive number\n",
      "\n"
     ]
    }
   ],
   "source": [
    "x <- 10\n",
    "\n",
    "if (x > 0) {\n",
    "  message(\"x is a positive number\")\n",
    "} else if (x < 0) {\n",
    "  message(\"x is a negative number\")\n",
    "} else {\n",
    "  message(\"x is zero!\")\n",
    "}"
   ]
  },
  {
   "cell_type": "markdown",
   "id": "d516817d",
   "metadata": {},
   "source": [
    "## Writing Loops in R\n",
    "\n",
    "R supports both `for` and `while` loops."
   ]
  },
  {
   "cell_type": "code",
   "execution_count": 5,
   "id": "a75cdbfa",
   "metadata": {
    "vscode": {
     "languageId": "r"
    }
   },
   "outputs": [
    {
     "name": "stderr",
     "output_type": "stream",
     "text": [
      "# For Loop\n",
      "\n"
     ]
    },
    {
     "name": "stderr",
     "output_type": "stream",
     "text": [
      "Iteration:1\n",
      "\n",
      "Iteration:2\n",
      "\n",
      "Iteration:3\n",
      "\n",
      "Iteration:4\n",
      "\n",
      "Iteration:5\n",
      "\n",
      "\n",
      "\n",
      "# While Loop\n",
      "\n",
      "Count:1\n",
      "\n",
      "Count:2\n",
      "\n",
      "Count:3\n",
      "\n",
      "Count:4\n",
      "\n",
      "Count:5\n",
      "\n"
     ]
    }
   ],
   "source": [
    "# For loop\n",
    "message(\"# For Loop\")\n",
    "for (i in 1:5) {\n",
    "  message(\"Iteration:\", i)\n",
    "}\n",
    "\n",
    "# While loop\n",
    "message(\"\\n\\n# While Loop\")\n",
    "i <- 1\n",
    "while (i <= 5) {\n",
    "  message(\"Count:\", i)\n",
    "  i <- i + 1\n",
    "}"
   ]
  },
  {
   "cell_type": "markdown",
   "id": "c078662c",
   "metadata": {},
   "source": [
    "## Writing Functions in R\n",
    "\n",
    "Functions are blocks of code that can be reused. Here's how to define and call one."
   ]
  },
  {
   "cell_type": "code",
   "execution_count": 6,
   "id": "47ed3097",
   "metadata": {
    "vscode": {
     "languageId": "r"
    }
   },
   "outputs": [
    {
     "data": {
      "text/html": [
       "120"
      ],
      "text/latex": [
       "120"
      ],
      "text/markdown": [
       "120"
      ],
      "text/plain": [
       "[1] 120"
      ]
     },
     "metadata": {},
     "output_type": "display_data"
    }
   ],
   "source": [
    "# Factorial Function (Iterative Form)\n",
    "factorial_iterative <- function(n) {\n",
    "  result <- 1\n",
    "  for (i in 2:n) {\n",
    "    result <- result * i\n",
    "  }\n",
    "  return(result)\n",
    "}\n",
    "\n",
    "# Example usage\n",
    "factorial_iterative(5)"
   ]
  },
  {
   "cell_type": "code",
   "execution_count": 7,
   "id": "fd1abfa1",
   "metadata": {
    "vscode": {
     "languageId": "r"
    }
   },
   "outputs": [
    {
     "data": {
      "text/html": [
       "120"
      ],
      "text/latex": [
       "120"
      ],
      "text/markdown": [
       "120"
      ],
      "text/plain": [
       "[1] 120"
      ]
     },
     "metadata": {},
     "output_type": "display_data"
    }
   ],
   "source": [
    "# Factorial Function (Recursive Form)\n",
    "factorial_recursive <- function(n) {\n",
    "  if (n == 0 || n == 1) {\n",
    "    return(1)\n",
    "  } else {\n",
    "    return(n * factorial_recursive(n - 1))\n",
    "  }\n",
    "}\n",
    "\n",
    "# Example usage\n",
    "factorial_recursive(5)"
   ]
  },
  {
   "cell_type": "markdown",
   "id": "5c273249",
   "metadata": {},
   "source": [
    "---"
   ]
  },
  {
   "cell_type": "markdown",
   "id": "ded64647",
   "metadata": {},
   "source": [
    "## Summarising Data in R\n",
    "\n",
    "In this segment of the lecture, we will develop measures of location, dispersion, and shape discussed in the previous lecture through 2024 ITUS sample individual dataset. "
   ]
  },
  {
   "cell_type": "code",
   "execution_count": 25,
   "id": "3da8f515",
   "metadata": {
    "vscode": {
     "languageId": "r"
    }
   },
   "outputs": [
    {
     "name": "stderr",
     "output_type": "stream",
     "text": [
      "2024 ITUS sample individual data is retreived as list as follows: \n",
      "\n"
     ]
    },
    {
     "name": "stdout",
     "output_type": "stream",
     "text": [
      "'data.frame':\t533719 obs. of  23 variables:\n",
      " $ survey_year      : int  2024 2024 2024 2024 2024 2024 2024 2024 2024 2024 ...\n",
      " $ fsu_serial_no    : int  30010 30010 30010 30010 30010 30010 30010 30010 30010 30010 ...\n",
      " $ sector           : int  1 1 1 1 1 1 1 1 1 1 ...\n",
      " $ nss_region       : int  241 241 241 241 241 241 241 241 241 241 ...\n",
      " $ district         : int  17 17 17 17 17 17 17 17 17 17 ...\n",
      " $ stratum          : int  13 13 13 13 13 13 13 13 13 13 ...\n",
      " $ sub_stratum      : int  11 11 11 11 11 11 11 11 11 11 ...\n",
      " $ sub_round        : int  2 2 2 2 2 2 2 2 2 2 ...\n",
      " $ fod_sub_region   : int  2420 2420 2420 2420 2420 2420 2420 2420 2420 2420 ...\n",
      " $ nsc              : int  4 4 4 4 4 4 4 4 4 4 ...\n",
      " $ household_id     : int  1 2 2 2 2 3 3 3 3 3 ...\n",
      " $ individual_id    : int  1 1 2 3 4 1 2 3 4 5 ...\n",
      " $ response_code    : int  1 1 1 1 99999 1 1 1 1 1 ...\n",
      " $ day_of_week      : int  2 3 3 3 99999 7 7 7 7 7 ...\n",
      " $ type_of_day      : int  1 1 1 1 99999 1 1 1 1 1 ...\n",
      " $ relation_to_head : int  1 1 2 4 6 1 2 5 5 5 ...\n",
      " $ gender           : int  1 1 2 2 1 1 2 1 1 2 ...\n",
      " $ age              : int  45 54 52 29 3 48 44 23 13 18 ...\n",
      " $ marital_status   : int  1 2 2 2 1 2 2 1 1 1 ...\n",
      " $ education_level  : int  10 6 4 10 1 5 2 5 4 4 ...\n",
      " $ employment_status: int  10 94 92 31 99999 51 92 11 91 92 ...\n",
      " $ industry         : int  85 99999 99999 86 99999 1 99999 1 99999 99999 ...\n",
      " $ weight           : num  208857 208857 208857 208857 208857 ...\n"
     ]
    }
   ],
   "source": [
    "# 2024 ITUS Individual Data (original)\n",
    "url  <- \"https://raw.githubusercontent.com/anmpahwa/CE5540/refs/heads/main/resources/ITUS_IND_OG.csv\"\n",
    "data <- read.csv(url) # Loading Data\n",
    "message(\"2024 ITUS sample individual data is retreived as \", typeof(data), \" as follows: \")\n",
    "str(data)             # Data Structure"
   ]
  },
  {
   "cell_type": "code",
   "execution_count": null,
   "id": "f41c46cd",
   "metadata": {
    "vscode": {
     "languageId": "r"
    }
   },
   "outputs": [
    {
     "data": {
      "text/html": [
       "<table class=\"dataframe\">\n",
       "<caption>A data.frame: 78 × 23</caption>\n",
       "<thead>\n",
       "\t<tr><th scope=col>survey_year</th><th scope=col>fsu_serial_no</th><th scope=col>sector</th><th scope=col>nss_region</th><th scope=col>district</th><th scope=col>stratum</th><th scope=col>sub_stratum</th><th scope=col>sub_round</th><th scope=col>fod_sub_region</th><th scope=col>nsc</th><th scope=col>⋯</th><th scope=col>day_of_week</th><th scope=col>type_of_day</th><th scope=col>relation_to_head</th><th scope=col>gender</th><th scope=col>age</th><th scope=col>marital_status</th><th scope=col>education_level</th><th scope=col>employment_status</th><th scope=col>industry</th><th scope=col>weight</th></tr>\n",
       "\t<tr><th scope=col>&lt;int&gt;</th><th scope=col>&lt;int&gt;</th><th scope=col>&lt;int&gt;</th><th scope=col>&lt;int&gt;</th><th scope=col>&lt;int&gt;</th><th scope=col>&lt;int&gt;</th><th scope=col>&lt;int&gt;</th><th scope=col>&lt;int&gt;</th><th scope=col>&lt;int&gt;</th><th scope=col>&lt;int&gt;</th><th scope=col>⋯</th><th scope=col>&lt;int&gt;</th><th scope=col>&lt;int&gt;</th><th scope=col>&lt;int&gt;</th><th scope=col>&lt;int&gt;</th><th scope=col>&lt;int&gt;</th><th scope=col>&lt;int&gt;</th><th scope=col>&lt;int&gt;</th><th scope=col>&lt;int&gt;</th><th scope=col>&lt;int&gt;</th><th scope=col>&lt;dbl&gt;</th></tr>\n",
       "</thead>\n",
       "<tbody>\n",
       "\t<tr><td>2024</td><td>30010</td><td>1</td><td>241</td><td>17</td><td>13</td><td>11</td><td>2</td><td>2420</td><td>4</td><td>⋯</td><td>1</td><td>1</td><td>5</td><td>1</td><td>22</td><td>1</td><td>10</td><td>81</td><td>99999</td><td>208857</td></tr>\n",
       "\t<tr><td>2024</td><td>30013</td><td>1</td><td>241</td><td>26</td><td>13</td><td>10</td><td>1</td><td>2423</td><td>4</td><td>⋯</td><td>4</td><td>1</td><td>5</td><td>1</td><td>18</td><td>1</td><td> 5</td><td>81</td><td>99999</td><td>207000</td></tr>\n",
       "\t<tr><td>2024</td><td>30013</td><td>1</td><td>241</td><td>26</td><td>13</td><td>10</td><td>1</td><td>2423</td><td>4</td><td>⋯</td><td>7</td><td>1</td><td>6</td><td>1</td><td>18</td><td>1</td><td> 5</td><td>81</td><td>99999</td><td>207000</td></tr>\n",
       "\t<tr><td>2024</td><td>30013</td><td>1</td><td>241</td><td>26</td><td>13</td><td>10</td><td>1</td><td>2423</td><td>4</td><td>⋯</td><td>7</td><td>1</td><td>5</td><td>1</td><td>19</td><td>1</td><td> 4</td><td>81</td><td>99999</td><td>207000</td></tr>\n",
       "\t<tr><td>2024</td><td>30014</td><td>1</td><td>241</td><td>29</td><td>13</td><td>11</td><td>4</td><td>2420</td><td>4</td><td>⋯</td><td>7</td><td>1</td><td>5</td><td>1</td><td>35</td><td>1</td><td> 2</td><td>81</td><td>99999</td><td>196571</td></tr>\n",
       "\t<tr><td>2024</td><td>30019</td><td>1</td><td>241</td><td>24</td><td>13</td><td>11</td><td>3</td><td>2424</td><td>4</td><td>⋯</td><td>2</td><td>1</td><td>6</td><td>1</td><td>18</td><td>1</td><td> 4</td><td>81</td><td>99999</td><td>233429</td></tr>\n",
       "\t<tr><td>2024</td><td>30040</td><td>1</td><td>241</td><td>25</td><td>13</td><td> 3</td><td>1</td><td>2423</td><td>4</td><td>⋯</td><td>6</td><td>1</td><td>6</td><td>1</td><td>28</td><td>1</td><td> 1</td><td>81</td><td>99999</td><td>214629</td></tr>\n",
       "\t<tr><td>2024</td><td>30040</td><td>1</td><td>241</td><td>25</td><td>13</td><td> 3</td><td>1</td><td>2423</td><td>4</td><td>⋯</td><td>4</td><td>1</td><td>5</td><td>1</td><td>20</td><td>1</td><td> 5</td><td>81</td><td>99999</td><td>214629</td></tr>\n",
       "\t<tr><td>2024</td><td>30047</td><td>1</td><td>241</td><td>21</td><td>13</td><td> 4</td><td>4</td><td>2420</td><td>4</td><td>⋯</td><td>6</td><td>1</td><td>1</td><td>2</td><td>78</td><td>3</td><td> 1</td><td>81</td><td>99999</td><td>269500</td></tr>\n",
       "\t<tr><td>2024</td><td>30048</td><td>1</td><td>241</td><td>25</td><td>13</td><td> 3</td><td>2</td><td>2423</td><td>4</td><td>⋯</td><td>1</td><td>1</td><td>5</td><td>1</td><td>22</td><td>1</td><td> 4</td><td>81</td><td>99999</td><td>177739</td></tr>\n",
       "\t<tr><td>2024</td><td>30070</td><td>1</td><td>241</td><td>20</td><td>13</td><td> 8</td><td>3</td><td>2420</td><td>4</td><td>⋯</td><td>6</td><td>1</td><td>5</td><td>1</td><td>18</td><td>1</td><td> 5</td><td>81</td><td>99999</td><td>225129</td></tr>\n",
       "\t<tr><td>2024</td><td>30070</td><td>1</td><td>241</td><td>20</td><td>13</td><td> 8</td><td>3</td><td>2420</td><td>4</td><td>⋯</td><td>3</td><td>1</td><td>6</td><td>1</td><td>18</td><td>1</td><td> 5</td><td>81</td><td>99999</td><td>225129</td></tr>\n",
       "\t<tr><td>2024</td><td>30090</td><td>1</td><td>241</td><td>21</td><td>13</td><td> 6</td><td>2</td><td>2420</td><td>4</td><td>⋯</td><td>2</td><td>1</td><td>5</td><td>1</td><td>25</td><td>1</td><td> 5</td><td>81</td><td>99999</td><td>267650</td></tr>\n",
       "\t<tr><td>2024</td><td>30092</td><td>1</td><td>241</td><td>21</td><td>13</td><td> 5</td><td>2</td><td>2420</td><td>4</td><td>⋯</td><td>3</td><td>1</td><td>5</td><td>1</td><td>22</td><td>1</td><td> 5</td><td>81</td><td>99999</td><td>152221</td></tr>\n",
       "\t<tr><td>2024</td><td>30820</td><td>1</td><td>241</td><td>23</td><td>13</td><td>13</td><td>3</td><td>2424</td><td>4</td><td>⋯</td><td>6</td><td>1</td><td>5</td><td>1</td><td>19</td><td>1</td><td> 6</td><td>81</td><td>99999</td><td>211693</td></tr>\n",
       "\t<tr><td>2024</td><td>30820</td><td>1</td><td>241</td><td>23</td><td>13</td><td>13</td><td>3</td><td>2424</td><td>4</td><td>⋯</td><td>7</td><td>1</td><td>5</td><td>1</td><td>28</td><td>1</td><td>10</td><td>81</td><td>99999</td><td>211693</td></tr>\n",
       "\t<tr><td>2024</td><td>30821</td><td>1</td><td>241</td><td>18</td><td>13</td><td>14</td><td>2</td><td>2420</td><td>4</td><td>⋯</td><td>2</td><td>1</td><td>6</td><td>1</td><td>18</td><td>1</td><td> 4</td><td>81</td><td>99999</td><td>173107</td></tr>\n",
       "\t<tr><td>2024</td><td>30823</td><td>1</td><td>241</td><td>25</td><td>13</td><td>12</td><td>1</td><td>2423</td><td>4</td><td>⋯</td><td>4</td><td>1</td><td>3</td><td>1</td><td>35</td><td>2</td><td> 5</td><td>81</td><td>99999</td><td>261914</td></tr>\n",
       "\t<tr><td>2024</td><td>30823</td><td>1</td><td>241</td><td>25</td><td>13</td><td>12</td><td>1</td><td>2423</td><td>4</td><td>⋯</td><td>1</td><td>1</td><td>3</td><td>1</td><td>52</td><td>2</td><td> 5</td><td>81</td><td>99999</td><td>261914</td></tr>\n",
       "\t<tr><td>2024</td><td>30823</td><td>1</td><td>241</td><td>25</td><td>13</td><td>12</td><td>1</td><td>2423</td><td>4</td><td>⋯</td><td>2</td><td>1</td><td>5</td><td>1</td><td>35</td><td>1</td><td> 4</td><td>81</td><td>99999</td><td>261914</td></tr>\n",
       "\t<tr><td>2024</td><td>30823</td><td>1</td><td>241</td><td>25</td><td>13</td><td>12</td><td>1</td><td>2423</td><td>4</td><td>⋯</td><td>2</td><td>1</td><td>3</td><td>2</td><td>38</td><td>4</td><td> 5</td><td>81</td><td>99999</td><td>261914</td></tr>\n",
       "\t<tr><td>2024</td><td>30829</td><td>1</td><td>241</td><td>26</td><td>13</td><td>14</td><td>1</td><td>2423</td><td>4</td><td>⋯</td><td>5</td><td>1</td><td>5</td><td>1</td><td>20</td><td>1</td><td> 4</td><td>81</td><td>99999</td><td>236268</td></tr>\n",
       "\t<tr><td>2024</td><td>30834</td><td>1</td><td>241</td><td>18</td><td>13</td><td>16</td><td>3</td><td>2420</td><td>4</td><td>⋯</td><td>5</td><td>1</td><td>1</td><td>1</td><td>55</td><td>2</td><td> 5</td><td>81</td><td>99999</td><td>193541</td></tr>\n",
       "\t<tr><td>2024</td><td>30837</td><td>1</td><td>241</td><td>23</td><td>13</td><td>17</td><td>3</td><td>2424</td><td>4</td><td>⋯</td><td>7</td><td>1</td><td>5</td><td>1</td><td>23</td><td>1</td><td>11</td><td>81</td><td>99999</td><td>235750</td></tr>\n",
       "\t<tr><td>2024</td><td>30838</td><td>1</td><td>241</td><td>23</td><td>13</td><td>16</td><td>2</td><td>2424</td><td>4</td><td>⋯</td><td>4</td><td>1</td><td>5</td><td>1</td><td>40</td><td>1</td><td> 5</td><td>81</td><td>99999</td><td>283938</td></tr>\n",
       "\t<tr><td>2024</td><td>30839</td><td>1</td><td>241</td><td>23</td><td>13</td><td>16</td><td>1</td><td>2424</td><td>4</td><td>⋯</td><td>5</td><td>1</td><td>5</td><td>1</td><td>28</td><td>1</td><td> 6</td><td>81</td><td>99999</td><td>304798</td></tr>\n",
       "\t<tr><td>2024</td><td>30839</td><td>1</td><td>241</td><td>23</td><td>13</td><td>16</td><td>1</td><td>2424</td><td>4</td><td>⋯</td><td>7</td><td>1</td><td>5</td><td>1</td><td>32</td><td>1</td><td> 3</td><td>81</td><td>99999</td><td>304798</td></tr>\n",
       "\t<tr><td>2024</td><td>30862</td><td>1</td><td>241</td><td>25</td><td>13</td><td>17</td><td>2</td><td>2423</td><td>4</td><td>⋯</td><td>4</td><td>1</td><td>3</td><td>1</td><td>33</td><td>2</td><td> 4</td><td>81</td><td>99999</td><td>276000</td></tr>\n",
       "\t<tr><td>2024</td><td>30862</td><td>1</td><td>241</td><td>25</td><td>13</td><td>17</td><td>2</td><td>2423</td><td>4</td><td>⋯</td><td>7</td><td>2</td><td>6</td><td>1</td><td>17</td><td>1</td><td> 5</td><td>81</td><td>99999</td><td>276000</td></tr>\n",
       "\t<tr><td>2024</td><td>30863</td><td>1</td><td>241</td><td>25</td><td>13</td><td>17</td><td>4</td><td>2423</td><td>4</td><td>⋯</td><td>1</td><td>1</td><td>5</td><td>1</td><td>21</td><td>1</td><td> 4</td><td>81</td><td>99999</td><td>267950</td></tr>\n",
       "\t<tr><td>⋮</td><td>⋮</td><td>⋮</td><td>⋮</td><td>⋮</td><td>⋮</td><td>⋮</td><td>⋮</td><td>⋮</td><td>⋮</td><td>⋱</td><td>⋮</td><td>⋮</td><td>⋮</td><td>⋮</td><td>⋮</td><td>⋮</td><td>⋮</td><td>⋮</td><td>⋮</td><td>⋮</td></tr>\n",
       "\t<tr><td>2024</td><td>66483</td><td>2</td><td>241</td><td>21</td><td>1</td><td>3</td><td>1</td><td>2420</td><td>4</td><td>⋯</td><td>5</td><td>1</td><td>6</td><td>1</td><td>17</td><td>1</td><td> 5</td><td>81</td><td>99999</td><td> 322071</td></tr>\n",
       "\t<tr><td>2024</td><td>66483</td><td>2</td><td>241</td><td>21</td><td>1</td><td>3</td><td>1</td><td>2420</td><td>4</td><td>⋯</td><td>4</td><td>1</td><td>5</td><td>2</td><td> 8</td><td>1</td><td> 2</td><td>81</td><td>99999</td><td> 322071</td></tr>\n",
       "\t<tr><td>2024</td><td>66487</td><td>2</td><td>241</td><td>23</td><td>2</td><td>1</td><td>4</td><td>2424</td><td>4</td><td>⋯</td><td>4</td><td>1</td><td>8</td><td>1</td><td>48</td><td>1</td><td> 8</td><td>81</td><td>99999</td><td> 194448</td></tr>\n",
       "\t<tr><td>2024</td><td>66487</td><td>2</td><td>241</td><td>23</td><td>2</td><td>1</td><td>4</td><td>2424</td><td>4</td><td>⋯</td><td>4</td><td>1</td><td>6</td><td>1</td><td>16</td><td>1</td><td> 2</td><td>81</td><td>99999</td><td> 194448</td></tr>\n",
       "\t<tr><td>2024</td><td>66487</td><td>2</td><td>241</td><td>23</td><td>2</td><td>1</td><td>4</td><td>2424</td><td>4</td><td>⋯</td><td>5</td><td>1</td><td>3</td><td>1</td><td>44</td><td>2</td><td> 6</td><td>81</td><td>99999</td><td> 194448</td></tr>\n",
       "\t<tr><td>2024</td><td>66487</td><td>2</td><td>241</td><td>23</td><td>2</td><td>1</td><td>4</td><td>2424</td><td>4</td><td>⋯</td><td>1</td><td>1</td><td>1</td><td>1</td><td>54</td><td>2</td><td>10</td><td>81</td><td>99999</td><td> 194448</td></tr>\n",
       "\t<tr><td>2024</td><td>66490</td><td>2</td><td>241</td><td>19</td><td>4</td><td>2</td><td>4</td><td>2420</td><td>4</td><td>⋯</td><td>5</td><td>1</td><td>3</td><td>1</td><td>35</td><td>2</td><td>11</td><td>81</td><td>99999</td><td> 185784</td></tr>\n",
       "\t<tr><td>2024</td><td>66491</td><td>2</td><td>241</td><td>19</td><td>4</td><td>3</td><td>3</td><td>2420</td><td>4</td><td>⋯</td><td>1</td><td>1</td><td>6</td><td>1</td><td>24</td><td>1</td><td> 4</td><td>81</td><td>99999</td><td> 156975</td></tr>\n",
       "\t<tr><td>2024</td><td>66491</td><td>2</td><td>241</td><td>19</td><td>4</td><td>3</td><td>3</td><td>2420</td><td>4</td><td>⋯</td><td>5</td><td>1</td><td>5</td><td>1</td><td>29</td><td>1</td><td>11</td><td>81</td><td>99999</td><td> 156975</td></tr>\n",
       "\t<tr><td>2024</td><td>66493</td><td>2</td><td>241</td><td>19</td><td>4</td><td>1</td><td>3</td><td>2420</td><td>4</td><td>⋯</td><td>2</td><td>1</td><td>6</td><td>1</td><td>29</td><td>2</td><td> 5</td><td>81</td><td>99999</td><td> 208214</td></tr>\n",
       "\t<tr><td>2024</td><td>66498</td><td>2</td><td>241</td><td>19</td><td>4</td><td>2</td><td>2</td><td>2420</td><td>4</td><td>⋯</td><td>2</td><td>1</td><td>5</td><td>1</td><td>29</td><td>1</td><td> 5</td><td>81</td><td>99999</td><td> 211621</td></tr>\n",
       "\t<tr><td>2024</td><td>66920</td><td>2</td><td>241</td><td>25</td><td>5</td><td>6</td><td>4</td><td>2423</td><td>4</td><td>⋯</td><td>6</td><td>1</td><td>5</td><td>1</td><td>25</td><td>1</td><td>10</td><td>81</td><td>99999</td><td>1005964</td></tr>\n",
       "\t<tr><td>2024</td><td>66920</td><td>2</td><td>241</td><td>25</td><td>5</td><td>6</td><td>4</td><td>2423</td><td>4</td><td>⋯</td><td>6</td><td>1</td><td>5</td><td>1</td><td>19</td><td>1</td><td> 4</td><td>81</td><td>99999</td><td>1005964</td></tr>\n",
       "\t<tr><td>2024</td><td>66920</td><td>2</td><td>241</td><td>25</td><td>5</td><td>6</td><td>4</td><td>2423</td><td>4</td><td>⋯</td><td>6</td><td>1</td><td>5</td><td>2</td><td>23</td><td>1</td><td>10</td><td>81</td><td>99999</td><td>1005964</td></tr>\n",
       "\t<tr><td>2024</td><td>66927</td><td>2</td><td>241</td><td>25</td><td>5</td><td>7</td><td>4</td><td>2423</td><td>4</td><td>⋯</td><td>4</td><td>1</td><td>5</td><td>1</td><td>23</td><td>1</td><td> 7</td><td>81</td><td>99999</td><td> 201875</td></tr>\n",
       "\t<tr><td>2024</td><td>66927</td><td>2</td><td>241</td><td>25</td><td>5</td><td>7</td><td>4</td><td>2423</td><td>4</td><td>⋯</td><td>4</td><td>1</td><td>5</td><td>1</td><td>22</td><td>1</td><td> 7</td><td>81</td><td>99999</td><td> 201875</td></tr>\n",
       "\t<tr><td>2024</td><td>66928</td><td>2</td><td>241</td><td>25</td><td>5</td><td>6</td><td>3</td><td>2423</td><td>4</td><td>⋯</td><td>5</td><td>1</td><td>1</td><td>1</td><td>42</td><td>2</td><td> 5</td><td>81</td><td>99999</td><td> 282161</td></tr>\n",
       "\t<tr><td>2024</td><td>66929</td><td>2</td><td>241</td><td>25</td><td>5</td><td>6</td><td>1</td><td>2423</td><td>4</td><td>⋯</td><td>1</td><td>1</td><td>6</td><td>1</td><td>18</td><td>1</td><td> 5</td><td>81</td><td>99999</td><td> 274800</td></tr>\n",
       "\t<tr><td>2024</td><td>66930</td><td>2</td><td>241</td><td>25</td><td>5</td><td>8</td><td>3</td><td>2423</td><td>4</td><td>⋯</td><td>6</td><td>1</td><td>5</td><td>1</td><td>23</td><td>1</td><td> 4</td><td>81</td><td>99999</td><td> 403196</td></tr>\n",
       "\t<tr><td>2024</td><td>66930</td><td>2</td><td>241</td><td>25</td><td>5</td><td>8</td><td>3</td><td>2423</td><td>4</td><td>⋯</td><td>6</td><td>1</td><td>5</td><td>1</td><td>22</td><td>1</td><td>10</td><td>81</td><td>99999</td><td> 403196</td></tr>\n",
       "\t<tr><td>2024</td><td>66930</td><td>2</td><td>241</td><td>25</td><td>5</td><td>8</td><td>3</td><td>2423</td><td>4</td><td>⋯</td><td>6</td><td>1</td><td>5</td><td>1</td><td>20</td><td>1</td><td> 5</td><td>81</td><td>99999</td><td> 403196</td></tr>\n",
       "\t<tr><td>2024</td><td>66933</td><td>2</td><td>241</td><td>25</td><td>5</td><td>7</td><td>3</td><td>2423</td><td>4</td><td>⋯</td><td>1</td><td>1</td><td>1</td><td>1</td><td>30</td><td>1</td><td> 2</td><td>81</td><td>99999</td><td> 166813</td></tr>\n",
       "\t<tr><td>2024</td><td>66933</td><td>2</td><td>241</td><td>25</td><td>5</td><td>7</td><td>3</td><td>2423</td><td>4</td><td>⋯</td><td>7</td><td>2</td><td>5</td><td>1</td><td>15</td><td>1</td><td> 4</td><td>81</td><td>99999</td><td> 166813</td></tr>\n",
       "\t<tr><td>2024</td><td>66933</td><td>2</td><td>241</td><td>25</td><td>5</td><td>7</td><td>3</td><td>2423</td><td>4</td><td>⋯</td><td>3</td><td>1</td><td>5</td><td>1</td><td>21</td><td>1</td><td> 3</td><td>81</td><td>99999</td><td> 166813</td></tr>\n",
       "\t<tr><td>2024</td><td>66934</td><td>2</td><td>241</td><td>25</td><td>5</td><td>9</td><td>2</td><td>2423</td><td>4</td><td>⋯</td><td>4</td><td>1</td><td>5</td><td>1</td><td>30</td><td>1</td><td>10</td><td>81</td><td>99999</td><td> 179852</td></tr>\n",
       "\t<tr><td>2024</td><td>66934</td><td>2</td><td>241</td><td>25</td><td>5</td><td>9</td><td>2</td><td>2423</td><td>4</td><td>⋯</td><td>3</td><td>1</td><td>1</td><td>1</td><td>52</td><td>2</td><td> 4</td><td>81</td><td>99999</td><td> 179852</td></tr>\n",
       "\t<tr><td>2024</td><td>66934</td><td>2</td><td>241</td><td>25</td><td>5</td><td>9</td><td>2</td><td>2423</td><td>4</td><td>⋯</td><td>3</td><td>1</td><td>5</td><td>1</td><td>21</td><td>1</td><td>10</td><td>81</td><td>99999</td><td> 179852</td></tr>\n",
       "\t<tr><td>2024</td><td>66935</td><td>2</td><td>241</td><td>25</td><td>5</td><td>8</td><td>4</td><td>2423</td><td>4</td><td>⋯</td><td>2</td><td>1</td><td>5</td><td>2</td><td>25</td><td>1</td><td>10</td><td>81</td><td>99999</td><td> 322557</td></tr>\n",
       "\t<tr><td>2024</td><td>66935</td><td>2</td><td>241</td><td>25</td><td>5</td><td>8</td><td>4</td><td>2423</td><td>4</td><td>⋯</td><td>5</td><td>1</td><td>5</td><td>1</td><td>19</td><td>1</td><td> 4</td><td>81</td><td>99999</td><td> 322557</td></tr>\n",
       "\t<tr><td>2024</td><td>66939</td><td>2</td><td>241</td><td>25</td><td>5</td><td>9</td><td>4</td><td>2423</td><td>4</td><td>⋯</td><td>4</td><td>1</td><td>5</td><td>1</td><td>24</td><td>1</td><td>10</td><td>81</td><td>99999</td><td> 253698</td></tr>\n",
       "</tbody>\n",
       "</table>\n"
      ],
      "text/latex": [
       "A data.frame: 78 × 23\n",
       "\\begin{tabular}{lllllllllllllllllllll}\n",
       " survey\\_year & fsu\\_serial\\_no & sector & nss\\_region & district & stratum & sub\\_stratum & sub\\_round & fod\\_sub\\_region & nsc & ⋯ & day\\_of\\_week & type\\_of\\_day & relation\\_to\\_head & gender & age & marital\\_status & education\\_level & employment\\_status & industry & weight\\\\\n",
       " <int> & <int> & <int> & <int> & <int> & <int> & <int> & <int> & <int> & <int> & ⋯ & <int> & <int> & <int> & <int> & <int> & <int> & <int> & <int> & <int> & <dbl>\\\\\n",
       "\\hline\n",
       "\t 2024 & 30010 & 1 & 241 & 17 & 13 & 11 & 2 & 2420 & 4 & ⋯ & 1 & 1 & 5 & 1 & 22 & 1 & 10 & 81 & 99999 & 208857\\\\\n",
       "\t 2024 & 30013 & 1 & 241 & 26 & 13 & 10 & 1 & 2423 & 4 & ⋯ & 4 & 1 & 5 & 1 & 18 & 1 &  5 & 81 & 99999 & 207000\\\\\n",
       "\t 2024 & 30013 & 1 & 241 & 26 & 13 & 10 & 1 & 2423 & 4 & ⋯ & 7 & 1 & 6 & 1 & 18 & 1 &  5 & 81 & 99999 & 207000\\\\\n",
       "\t 2024 & 30013 & 1 & 241 & 26 & 13 & 10 & 1 & 2423 & 4 & ⋯ & 7 & 1 & 5 & 1 & 19 & 1 &  4 & 81 & 99999 & 207000\\\\\n",
       "\t 2024 & 30014 & 1 & 241 & 29 & 13 & 11 & 4 & 2420 & 4 & ⋯ & 7 & 1 & 5 & 1 & 35 & 1 &  2 & 81 & 99999 & 196571\\\\\n",
       "\t 2024 & 30019 & 1 & 241 & 24 & 13 & 11 & 3 & 2424 & 4 & ⋯ & 2 & 1 & 6 & 1 & 18 & 1 &  4 & 81 & 99999 & 233429\\\\\n",
       "\t 2024 & 30040 & 1 & 241 & 25 & 13 &  3 & 1 & 2423 & 4 & ⋯ & 6 & 1 & 6 & 1 & 28 & 1 &  1 & 81 & 99999 & 214629\\\\\n",
       "\t 2024 & 30040 & 1 & 241 & 25 & 13 &  3 & 1 & 2423 & 4 & ⋯ & 4 & 1 & 5 & 1 & 20 & 1 &  5 & 81 & 99999 & 214629\\\\\n",
       "\t 2024 & 30047 & 1 & 241 & 21 & 13 &  4 & 4 & 2420 & 4 & ⋯ & 6 & 1 & 1 & 2 & 78 & 3 &  1 & 81 & 99999 & 269500\\\\\n",
       "\t 2024 & 30048 & 1 & 241 & 25 & 13 &  3 & 2 & 2423 & 4 & ⋯ & 1 & 1 & 5 & 1 & 22 & 1 &  4 & 81 & 99999 & 177739\\\\\n",
       "\t 2024 & 30070 & 1 & 241 & 20 & 13 &  8 & 3 & 2420 & 4 & ⋯ & 6 & 1 & 5 & 1 & 18 & 1 &  5 & 81 & 99999 & 225129\\\\\n",
       "\t 2024 & 30070 & 1 & 241 & 20 & 13 &  8 & 3 & 2420 & 4 & ⋯ & 3 & 1 & 6 & 1 & 18 & 1 &  5 & 81 & 99999 & 225129\\\\\n",
       "\t 2024 & 30090 & 1 & 241 & 21 & 13 &  6 & 2 & 2420 & 4 & ⋯ & 2 & 1 & 5 & 1 & 25 & 1 &  5 & 81 & 99999 & 267650\\\\\n",
       "\t 2024 & 30092 & 1 & 241 & 21 & 13 &  5 & 2 & 2420 & 4 & ⋯ & 3 & 1 & 5 & 1 & 22 & 1 &  5 & 81 & 99999 & 152221\\\\\n",
       "\t 2024 & 30820 & 1 & 241 & 23 & 13 & 13 & 3 & 2424 & 4 & ⋯ & 6 & 1 & 5 & 1 & 19 & 1 &  6 & 81 & 99999 & 211693\\\\\n",
       "\t 2024 & 30820 & 1 & 241 & 23 & 13 & 13 & 3 & 2424 & 4 & ⋯ & 7 & 1 & 5 & 1 & 28 & 1 & 10 & 81 & 99999 & 211693\\\\\n",
       "\t 2024 & 30821 & 1 & 241 & 18 & 13 & 14 & 2 & 2420 & 4 & ⋯ & 2 & 1 & 6 & 1 & 18 & 1 &  4 & 81 & 99999 & 173107\\\\\n",
       "\t 2024 & 30823 & 1 & 241 & 25 & 13 & 12 & 1 & 2423 & 4 & ⋯ & 4 & 1 & 3 & 1 & 35 & 2 &  5 & 81 & 99999 & 261914\\\\\n",
       "\t 2024 & 30823 & 1 & 241 & 25 & 13 & 12 & 1 & 2423 & 4 & ⋯ & 1 & 1 & 3 & 1 & 52 & 2 &  5 & 81 & 99999 & 261914\\\\\n",
       "\t 2024 & 30823 & 1 & 241 & 25 & 13 & 12 & 1 & 2423 & 4 & ⋯ & 2 & 1 & 5 & 1 & 35 & 1 &  4 & 81 & 99999 & 261914\\\\\n",
       "\t 2024 & 30823 & 1 & 241 & 25 & 13 & 12 & 1 & 2423 & 4 & ⋯ & 2 & 1 & 3 & 2 & 38 & 4 &  5 & 81 & 99999 & 261914\\\\\n",
       "\t 2024 & 30829 & 1 & 241 & 26 & 13 & 14 & 1 & 2423 & 4 & ⋯ & 5 & 1 & 5 & 1 & 20 & 1 &  4 & 81 & 99999 & 236268\\\\\n",
       "\t 2024 & 30834 & 1 & 241 & 18 & 13 & 16 & 3 & 2420 & 4 & ⋯ & 5 & 1 & 1 & 1 & 55 & 2 &  5 & 81 & 99999 & 193541\\\\\n",
       "\t 2024 & 30837 & 1 & 241 & 23 & 13 & 17 & 3 & 2424 & 4 & ⋯ & 7 & 1 & 5 & 1 & 23 & 1 & 11 & 81 & 99999 & 235750\\\\\n",
       "\t 2024 & 30838 & 1 & 241 & 23 & 13 & 16 & 2 & 2424 & 4 & ⋯ & 4 & 1 & 5 & 1 & 40 & 1 &  5 & 81 & 99999 & 283938\\\\\n",
       "\t 2024 & 30839 & 1 & 241 & 23 & 13 & 16 & 1 & 2424 & 4 & ⋯ & 5 & 1 & 5 & 1 & 28 & 1 &  6 & 81 & 99999 & 304798\\\\\n",
       "\t 2024 & 30839 & 1 & 241 & 23 & 13 & 16 & 1 & 2424 & 4 & ⋯ & 7 & 1 & 5 & 1 & 32 & 1 &  3 & 81 & 99999 & 304798\\\\\n",
       "\t 2024 & 30862 & 1 & 241 & 25 & 13 & 17 & 2 & 2423 & 4 & ⋯ & 4 & 1 & 3 & 1 & 33 & 2 &  4 & 81 & 99999 & 276000\\\\\n",
       "\t 2024 & 30862 & 1 & 241 & 25 & 13 & 17 & 2 & 2423 & 4 & ⋯ & 7 & 2 & 6 & 1 & 17 & 1 &  5 & 81 & 99999 & 276000\\\\\n",
       "\t 2024 & 30863 & 1 & 241 & 25 & 13 & 17 & 4 & 2423 & 4 & ⋯ & 1 & 1 & 5 & 1 & 21 & 1 &  4 & 81 & 99999 & 267950\\\\\n",
       "\t ⋮ & ⋮ & ⋮ & ⋮ & ⋮ & ⋮ & ⋮ & ⋮ & ⋮ & ⋮ & ⋱ & ⋮ & ⋮ & ⋮ & ⋮ & ⋮ & ⋮ & ⋮ & ⋮ & ⋮ & ⋮\\\\\n",
       "\t 2024 & 66483 & 2 & 241 & 21 & 1 & 3 & 1 & 2420 & 4 & ⋯ & 5 & 1 & 6 & 1 & 17 & 1 &  5 & 81 & 99999 &  322071\\\\\n",
       "\t 2024 & 66483 & 2 & 241 & 21 & 1 & 3 & 1 & 2420 & 4 & ⋯ & 4 & 1 & 5 & 2 &  8 & 1 &  2 & 81 & 99999 &  322071\\\\\n",
       "\t 2024 & 66487 & 2 & 241 & 23 & 2 & 1 & 4 & 2424 & 4 & ⋯ & 4 & 1 & 8 & 1 & 48 & 1 &  8 & 81 & 99999 &  194448\\\\\n",
       "\t 2024 & 66487 & 2 & 241 & 23 & 2 & 1 & 4 & 2424 & 4 & ⋯ & 4 & 1 & 6 & 1 & 16 & 1 &  2 & 81 & 99999 &  194448\\\\\n",
       "\t 2024 & 66487 & 2 & 241 & 23 & 2 & 1 & 4 & 2424 & 4 & ⋯ & 5 & 1 & 3 & 1 & 44 & 2 &  6 & 81 & 99999 &  194448\\\\\n",
       "\t 2024 & 66487 & 2 & 241 & 23 & 2 & 1 & 4 & 2424 & 4 & ⋯ & 1 & 1 & 1 & 1 & 54 & 2 & 10 & 81 & 99999 &  194448\\\\\n",
       "\t 2024 & 66490 & 2 & 241 & 19 & 4 & 2 & 4 & 2420 & 4 & ⋯ & 5 & 1 & 3 & 1 & 35 & 2 & 11 & 81 & 99999 &  185784\\\\\n",
       "\t 2024 & 66491 & 2 & 241 & 19 & 4 & 3 & 3 & 2420 & 4 & ⋯ & 1 & 1 & 6 & 1 & 24 & 1 &  4 & 81 & 99999 &  156975\\\\\n",
       "\t 2024 & 66491 & 2 & 241 & 19 & 4 & 3 & 3 & 2420 & 4 & ⋯ & 5 & 1 & 5 & 1 & 29 & 1 & 11 & 81 & 99999 &  156975\\\\\n",
       "\t 2024 & 66493 & 2 & 241 & 19 & 4 & 1 & 3 & 2420 & 4 & ⋯ & 2 & 1 & 6 & 1 & 29 & 2 &  5 & 81 & 99999 &  208214\\\\\n",
       "\t 2024 & 66498 & 2 & 241 & 19 & 4 & 2 & 2 & 2420 & 4 & ⋯ & 2 & 1 & 5 & 1 & 29 & 1 &  5 & 81 & 99999 &  211621\\\\\n",
       "\t 2024 & 66920 & 2 & 241 & 25 & 5 & 6 & 4 & 2423 & 4 & ⋯ & 6 & 1 & 5 & 1 & 25 & 1 & 10 & 81 & 99999 & 1005964\\\\\n",
       "\t 2024 & 66920 & 2 & 241 & 25 & 5 & 6 & 4 & 2423 & 4 & ⋯ & 6 & 1 & 5 & 1 & 19 & 1 &  4 & 81 & 99999 & 1005964\\\\\n",
       "\t 2024 & 66920 & 2 & 241 & 25 & 5 & 6 & 4 & 2423 & 4 & ⋯ & 6 & 1 & 5 & 2 & 23 & 1 & 10 & 81 & 99999 & 1005964\\\\\n",
       "\t 2024 & 66927 & 2 & 241 & 25 & 5 & 7 & 4 & 2423 & 4 & ⋯ & 4 & 1 & 5 & 1 & 23 & 1 &  7 & 81 & 99999 &  201875\\\\\n",
       "\t 2024 & 66927 & 2 & 241 & 25 & 5 & 7 & 4 & 2423 & 4 & ⋯ & 4 & 1 & 5 & 1 & 22 & 1 &  7 & 81 & 99999 &  201875\\\\\n",
       "\t 2024 & 66928 & 2 & 241 & 25 & 5 & 6 & 3 & 2423 & 4 & ⋯ & 5 & 1 & 1 & 1 & 42 & 2 &  5 & 81 & 99999 &  282161\\\\\n",
       "\t 2024 & 66929 & 2 & 241 & 25 & 5 & 6 & 1 & 2423 & 4 & ⋯ & 1 & 1 & 6 & 1 & 18 & 1 &  5 & 81 & 99999 &  274800\\\\\n",
       "\t 2024 & 66930 & 2 & 241 & 25 & 5 & 8 & 3 & 2423 & 4 & ⋯ & 6 & 1 & 5 & 1 & 23 & 1 &  4 & 81 & 99999 &  403196\\\\\n",
       "\t 2024 & 66930 & 2 & 241 & 25 & 5 & 8 & 3 & 2423 & 4 & ⋯ & 6 & 1 & 5 & 1 & 22 & 1 & 10 & 81 & 99999 &  403196\\\\\n",
       "\t 2024 & 66930 & 2 & 241 & 25 & 5 & 8 & 3 & 2423 & 4 & ⋯ & 6 & 1 & 5 & 1 & 20 & 1 &  5 & 81 & 99999 &  403196\\\\\n",
       "\t 2024 & 66933 & 2 & 241 & 25 & 5 & 7 & 3 & 2423 & 4 & ⋯ & 1 & 1 & 1 & 1 & 30 & 1 &  2 & 81 & 99999 &  166813\\\\\n",
       "\t 2024 & 66933 & 2 & 241 & 25 & 5 & 7 & 3 & 2423 & 4 & ⋯ & 7 & 2 & 5 & 1 & 15 & 1 &  4 & 81 & 99999 &  166813\\\\\n",
       "\t 2024 & 66933 & 2 & 241 & 25 & 5 & 7 & 3 & 2423 & 4 & ⋯ & 3 & 1 & 5 & 1 & 21 & 1 &  3 & 81 & 99999 &  166813\\\\\n",
       "\t 2024 & 66934 & 2 & 241 & 25 & 5 & 9 & 2 & 2423 & 4 & ⋯ & 4 & 1 & 5 & 1 & 30 & 1 & 10 & 81 & 99999 &  179852\\\\\n",
       "\t 2024 & 66934 & 2 & 241 & 25 & 5 & 9 & 2 & 2423 & 4 & ⋯ & 3 & 1 & 1 & 1 & 52 & 2 &  4 & 81 & 99999 &  179852\\\\\n",
       "\t 2024 & 66934 & 2 & 241 & 25 & 5 & 9 & 2 & 2423 & 4 & ⋯ & 3 & 1 & 5 & 1 & 21 & 1 & 10 & 81 & 99999 &  179852\\\\\n",
       "\t 2024 & 66935 & 2 & 241 & 25 & 5 & 8 & 4 & 2423 & 4 & ⋯ & 2 & 1 & 5 & 2 & 25 & 1 & 10 & 81 & 99999 &  322557\\\\\n",
       "\t 2024 & 66935 & 2 & 241 & 25 & 5 & 8 & 4 & 2423 & 4 & ⋯ & 5 & 1 & 5 & 1 & 19 & 1 &  4 & 81 & 99999 &  322557\\\\\n",
       "\t 2024 & 66939 & 2 & 241 & 25 & 5 & 9 & 4 & 2423 & 4 & ⋯ & 4 & 1 & 5 & 1 & 24 & 1 & 10 & 81 & 99999 &  253698\\\\\n",
       "\\end{tabular}\n"
      ],
      "text/markdown": [
       "\n",
       "A data.frame: 78 × 23\n",
       "\n",
       "| survey_year &lt;int&gt; | fsu_serial_no &lt;int&gt; | sector &lt;int&gt; | nss_region &lt;int&gt; | district &lt;int&gt; | stratum &lt;int&gt; | sub_stratum &lt;int&gt; | sub_round &lt;int&gt; | fod_sub_region &lt;int&gt; | nsc &lt;int&gt; | ⋯ ⋯ | day_of_week &lt;int&gt; | type_of_day &lt;int&gt; | relation_to_head &lt;int&gt; | gender &lt;int&gt; | age &lt;int&gt; | marital_status &lt;int&gt; | education_level &lt;int&gt; | employment_status &lt;int&gt; | industry &lt;int&gt; | weight &lt;dbl&gt; |\n",
       "|---|---|---|---|---|---|---|---|---|---|---|---|---|---|---|---|---|---|---|---|---|\n",
       "| 2024 | 30010 | 1 | 241 | 17 | 13 | 11 | 2 | 2420 | 4 | ⋯ | 1 | 1 | 5 | 1 | 22 | 1 | 10 | 81 | 99999 | 208857 |\n",
       "| 2024 | 30013 | 1 | 241 | 26 | 13 | 10 | 1 | 2423 | 4 | ⋯ | 4 | 1 | 5 | 1 | 18 | 1 |  5 | 81 | 99999 | 207000 |\n",
       "| 2024 | 30013 | 1 | 241 | 26 | 13 | 10 | 1 | 2423 | 4 | ⋯ | 7 | 1 | 6 | 1 | 18 | 1 |  5 | 81 | 99999 | 207000 |\n",
       "| 2024 | 30013 | 1 | 241 | 26 | 13 | 10 | 1 | 2423 | 4 | ⋯ | 7 | 1 | 5 | 1 | 19 | 1 |  4 | 81 | 99999 | 207000 |\n",
       "| 2024 | 30014 | 1 | 241 | 29 | 13 | 11 | 4 | 2420 | 4 | ⋯ | 7 | 1 | 5 | 1 | 35 | 1 |  2 | 81 | 99999 | 196571 |\n",
       "| 2024 | 30019 | 1 | 241 | 24 | 13 | 11 | 3 | 2424 | 4 | ⋯ | 2 | 1 | 6 | 1 | 18 | 1 |  4 | 81 | 99999 | 233429 |\n",
       "| 2024 | 30040 | 1 | 241 | 25 | 13 |  3 | 1 | 2423 | 4 | ⋯ | 6 | 1 | 6 | 1 | 28 | 1 |  1 | 81 | 99999 | 214629 |\n",
       "| 2024 | 30040 | 1 | 241 | 25 | 13 |  3 | 1 | 2423 | 4 | ⋯ | 4 | 1 | 5 | 1 | 20 | 1 |  5 | 81 | 99999 | 214629 |\n",
       "| 2024 | 30047 | 1 | 241 | 21 | 13 |  4 | 4 | 2420 | 4 | ⋯ | 6 | 1 | 1 | 2 | 78 | 3 |  1 | 81 | 99999 | 269500 |\n",
       "| 2024 | 30048 | 1 | 241 | 25 | 13 |  3 | 2 | 2423 | 4 | ⋯ | 1 | 1 | 5 | 1 | 22 | 1 |  4 | 81 | 99999 | 177739 |\n",
       "| 2024 | 30070 | 1 | 241 | 20 | 13 |  8 | 3 | 2420 | 4 | ⋯ | 6 | 1 | 5 | 1 | 18 | 1 |  5 | 81 | 99999 | 225129 |\n",
       "| 2024 | 30070 | 1 | 241 | 20 | 13 |  8 | 3 | 2420 | 4 | ⋯ | 3 | 1 | 6 | 1 | 18 | 1 |  5 | 81 | 99999 | 225129 |\n",
       "| 2024 | 30090 | 1 | 241 | 21 | 13 |  6 | 2 | 2420 | 4 | ⋯ | 2 | 1 | 5 | 1 | 25 | 1 |  5 | 81 | 99999 | 267650 |\n",
       "| 2024 | 30092 | 1 | 241 | 21 | 13 |  5 | 2 | 2420 | 4 | ⋯ | 3 | 1 | 5 | 1 | 22 | 1 |  5 | 81 | 99999 | 152221 |\n",
       "| 2024 | 30820 | 1 | 241 | 23 | 13 | 13 | 3 | 2424 | 4 | ⋯ | 6 | 1 | 5 | 1 | 19 | 1 |  6 | 81 | 99999 | 211693 |\n",
       "| 2024 | 30820 | 1 | 241 | 23 | 13 | 13 | 3 | 2424 | 4 | ⋯ | 7 | 1 | 5 | 1 | 28 | 1 | 10 | 81 | 99999 | 211693 |\n",
       "| 2024 | 30821 | 1 | 241 | 18 | 13 | 14 | 2 | 2420 | 4 | ⋯ | 2 | 1 | 6 | 1 | 18 | 1 |  4 | 81 | 99999 | 173107 |\n",
       "| 2024 | 30823 | 1 | 241 | 25 | 13 | 12 | 1 | 2423 | 4 | ⋯ | 4 | 1 | 3 | 1 | 35 | 2 |  5 | 81 | 99999 | 261914 |\n",
       "| 2024 | 30823 | 1 | 241 | 25 | 13 | 12 | 1 | 2423 | 4 | ⋯ | 1 | 1 | 3 | 1 | 52 | 2 |  5 | 81 | 99999 | 261914 |\n",
       "| 2024 | 30823 | 1 | 241 | 25 | 13 | 12 | 1 | 2423 | 4 | ⋯ | 2 | 1 | 5 | 1 | 35 | 1 |  4 | 81 | 99999 | 261914 |\n",
       "| 2024 | 30823 | 1 | 241 | 25 | 13 | 12 | 1 | 2423 | 4 | ⋯ | 2 | 1 | 3 | 2 | 38 | 4 |  5 | 81 | 99999 | 261914 |\n",
       "| 2024 | 30829 | 1 | 241 | 26 | 13 | 14 | 1 | 2423 | 4 | ⋯ | 5 | 1 | 5 | 1 | 20 | 1 |  4 | 81 | 99999 | 236268 |\n",
       "| 2024 | 30834 | 1 | 241 | 18 | 13 | 16 | 3 | 2420 | 4 | ⋯ | 5 | 1 | 1 | 1 | 55 | 2 |  5 | 81 | 99999 | 193541 |\n",
       "| 2024 | 30837 | 1 | 241 | 23 | 13 | 17 | 3 | 2424 | 4 | ⋯ | 7 | 1 | 5 | 1 | 23 | 1 | 11 | 81 | 99999 | 235750 |\n",
       "| 2024 | 30838 | 1 | 241 | 23 | 13 | 16 | 2 | 2424 | 4 | ⋯ | 4 | 1 | 5 | 1 | 40 | 1 |  5 | 81 | 99999 | 283938 |\n",
       "| 2024 | 30839 | 1 | 241 | 23 | 13 | 16 | 1 | 2424 | 4 | ⋯ | 5 | 1 | 5 | 1 | 28 | 1 |  6 | 81 | 99999 | 304798 |\n",
       "| 2024 | 30839 | 1 | 241 | 23 | 13 | 16 | 1 | 2424 | 4 | ⋯ | 7 | 1 | 5 | 1 | 32 | 1 |  3 | 81 | 99999 | 304798 |\n",
       "| 2024 | 30862 | 1 | 241 | 25 | 13 | 17 | 2 | 2423 | 4 | ⋯ | 4 | 1 | 3 | 1 | 33 | 2 |  4 | 81 | 99999 | 276000 |\n",
       "| 2024 | 30862 | 1 | 241 | 25 | 13 | 17 | 2 | 2423 | 4 | ⋯ | 7 | 2 | 6 | 1 | 17 | 1 |  5 | 81 | 99999 | 276000 |\n",
       "| 2024 | 30863 | 1 | 241 | 25 | 13 | 17 | 4 | 2423 | 4 | ⋯ | 1 | 1 | 5 | 1 | 21 | 1 |  4 | 81 | 99999 | 267950 |\n",
       "| ⋮ | ⋮ | ⋮ | ⋮ | ⋮ | ⋮ | ⋮ | ⋮ | ⋮ | ⋮ | ⋱ | ⋮ | ⋮ | ⋮ | ⋮ | ⋮ | ⋮ | ⋮ | ⋮ | ⋮ | ⋮ |\n",
       "| 2024 | 66483 | 2 | 241 | 21 | 1 | 3 | 1 | 2420 | 4 | ⋯ | 5 | 1 | 6 | 1 | 17 | 1 |  5 | 81 | 99999 |  322071 |\n",
       "| 2024 | 66483 | 2 | 241 | 21 | 1 | 3 | 1 | 2420 | 4 | ⋯ | 4 | 1 | 5 | 2 |  8 | 1 |  2 | 81 | 99999 |  322071 |\n",
       "| 2024 | 66487 | 2 | 241 | 23 | 2 | 1 | 4 | 2424 | 4 | ⋯ | 4 | 1 | 8 | 1 | 48 | 1 |  8 | 81 | 99999 |  194448 |\n",
       "| 2024 | 66487 | 2 | 241 | 23 | 2 | 1 | 4 | 2424 | 4 | ⋯ | 4 | 1 | 6 | 1 | 16 | 1 |  2 | 81 | 99999 |  194448 |\n",
       "| 2024 | 66487 | 2 | 241 | 23 | 2 | 1 | 4 | 2424 | 4 | ⋯ | 5 | 1 | 3 | 1 | 44 | 2 |  6 | 81 | 99999 |  194448 |\n",
       "| 2024 | 66487 | 2 | 241 | 23 | 2 | 1 | 4 | 2424 | 4 | ⋯ | 1 | 1 | 1 | 1 | 54 | 2 | 10 | 81 | 99999 |  194448 |\n",
       "| 2024 | 66490 | 2 | 241 | 19 | 4 | 2 | 4 | 2420 | 4 | ⋯ | 5 | 1 | 3 | 1 | 35 | 2 | 11 | 81 | 99999 |  185784 |\n",
       "| 2024 | 66491 | 2 | 241 | 19 | 4 | 3 | 3 | 2420 | 4 | ⋯ | 1 | 1 | 6 | 1 | 24 | 1 |  4 | 81 | 99999 |  156975 |\n",
       "| 2024 | 66491 | 2 | 241 | 19 | 4 | 3 | 3 | 2420 | 4 | ⋯ | 5 | 1 | 5 | 1 | 29 | 1 | 11 | 81 | 99999 |  156975 |\n",
       "| 2024 | 66493 | 2 | 241 | 19 | 4 | 1 | 3 | 2420 | 4 | ⋯ | 2 | 1 | 6 | 1 | 29 | 2 |  5 | 81 | 99999 |  208214 |\n",
       "| 2024 | 66498 | 2 | 241 | 19 | 4 | 2 | 2 | 2420 | 4 | ⋯ | 2 | 1 | 5 | 1 | 29 | 1 |  5 | 81 | 99999 |  211621 |\n",
       "| 2024 | 66920 | 2 | 241 | 25 | 5 | 6 | 4 | 2423 | 4 | ⋯ | 6 | 1 | 5 | 1 | 25 | 1 | 10 | 81 | 99999 | 1005964 |\n",
       "| 2024 | 66920 | 2 | 241 | 25 | 5 | 6 | 4 | 2423 | 4 | ⋯ | 6 | 1 | 5 | 1 | 19 | 1 |  4 | 81 | 99999 | 1005964 |\n",
       "| 2024 | 66920 | 2 | 241 | 25 | 5 | 6 | 4 | 2423 | 4 | ⋯ | 6 | 1 | 5 | 2 | 23 | 1 | 10 | 81 | 99999 | 1005964 |\n",
       "| 2024 | 66927 | 2 | 241 | 25 | 5 | 7 | 4 | 2423 | 4 | ⋯ | 4 | 1 | 5 | 1 | 23 | 1 |  7 | 81 | 99999 |  201875 |\n",
       "| 2024 | 66927 | 2 | 241 | 25 | 5 | 7 | 4 | 2423 | 4 | ⋯ | 4 | 1 | 5 | 1 | 22 | 1 |  7 | 81 | 99999 |  201875 |\n",
       "| 2024 | 66928 | 2 | 241 | 25 | 5 | 6 | 3 | 2423 | 4 | ⋯ | 5 | 1 | 1 | 1 | 42 | 2 |  5 | 81 | 99999 |  282161 |\n",
       "| 2024 | 66929 | 2 | 241 | 25 | 5 | 6 | 1 | 2423 | 4 | ⋯ | 1 | 1 | 6 | 1 | 18 | 1 |  5 | 81 | 99999 |  274800 |\n",
       "| 2024 | 66930 | 2 | 241 | 25 | 5 | 8 | 3 | 2423 | 4 | ⋯ | 6 | 1 | 5 | 1 | 23 | 1 |  4 | 81 | 99999 |  403196 |\n",
       "| 2024 | 66930 | 2 | 241 | 25 | 5 | 8 | 3 | 2423 | 4 | ⋯ | 6 | 1 | 5 | 1 | 22 | 1 | 10 | 81 | 99999 |  403196 |\n",
       "| 2024 | 66930 | 2 | 241 | 25 | 5 | 8 | 3 | 2423 | 4 | ⋯ | 6 | 1 | 5 | 1 | 20 | 1 |  5 | 81 | 99999 |  403196 |\n",
       "| 2024 | 66933 | 2 | 241 | 25 | 5 | 7 | 3 | 2423 | 4 | ⋯ | 1 | 1 | 1 | 1 | 30 | 1 |  2 | 81 | 99999 |  166813 |\n",
       "| 2024 | 66933 | 2 | 241 | 25 | 5 | 7 | 3 | 2423 | 4 | ⋯ | 7 | 2 | 5 | 1 | 15 | 1 |  4 | 81 | 99999 |  166813 |\n",
       "| 2024 | 66933 | 2 | 241 | 25 | 5 | 7 | 3 | 2423 | 4 | ⋯ | 3 | 1 | 5 | 1 | 21 | 1 |  3 | 81 | 99999 |  166813 |\n",
       "| 2024 | 66934 | 2 | 241 | 25 | 5 | 9 | 2 | 2423 | 4 | ⋯ | 4 | 1 | 5 | 1 | 30 | 1 | 10 | 81 | 99999 |  179852 |\n",
       "| 2024 | 66934 | 2 | 241 | 25 | 5 | 9 | 2 | 2423 | 4 | ⋯ | 3 | 1 | 1 | 1 | 52 | 2 |  4 | 81 | 99999 |  179852 |\n",
       "| 2024 | 66934 | 2 | 241 | 25 | 5 | 9 | 2 | 2423 | 4 | ⋯ | 3 | 1 | 5 | 1 | 21 | 1 | 10 | 81 | 99999 |  179852 |\n",
       "| 2024 | 66935 | 2 | 241 | 25 | 5 | 8 | 4 | 2423 | 4 | ⋯ | 2 | 1 | 5 | 2 | 25 | 1 | 10 | 81 | 99999 |  322557 |\n",
       "| 2024 | 66935 | 2 | 241 | 25 | 5 | 8 | 4 | 2423 | 4 | ⋯ | 5 | 1 | 5 | 1 | 19 | 1 |  4 | 81 | 99999 |  322557 |\n",
       "| 2024 | 66939 | 2 | 241 | 25 | 5 | 9 | 4 | 2423 | 4 | ⋯ | 4 | 1 | 5 | 1 | 24 | 1 | 10 | 81 | 99999 |  253698 |\n",
       "\n"
      ],
      "text/plain": [
       "   survey_year fsu_serial_no sector nss_region district stratum sub_stratum\n",
       "1  2024        30010         1      241        17       13      11         \n",
       "2  2024        30013         1      241        26       13      10         \n",
       "3  2024        30013         1      241        26       13      10         \n",
       "4  2024        30013         1      241        26       13      10         \n",
       "5  2024        30014         1      241        29       13      11         \n",
       "6  2024        30019         1      241        24       13      11         \n",
       "7  2024        30040         1      241        25       13       3         \n",
       "8  2024        30040         1      241        25       13       3         \n",
       "9  2024        30047         1      241        21       13       4         \n",
       "10 2024        30048         1      241        25       13       3         \n",
       "11 2024        30070         1      241        20       13       8         \n",
       "12 2024        30070         1      241        20       13       8         \n",
       "13 2024        30090         1      241        21       13       6         \n",
       "14 2024        30092         1      241        21       13       5         \n",
       "15 2024        30820         1      241        23       13      13         \n",
       "16 2024        30820         1      241        23       13      13         \n",
       "17 2024        30821         1      241        18       13      14         \n",
       "18 2024        30823         1      241        25       13      12         \n",
       "19 2024        30823         1      241        25       13      12         \n",
       "20 2024        30823         1      241        25       13      12         \n",
       "21 2024        30823         1      241        25       13      12         \n",
       "22 2024        30829         1      241        26       13      14         \n",
       "23 2024        30834         1      241        18       13      16         \n",
       "24 2024        30837         1      241        23       13      17         \n",
       "25 2024        30838         1      241        23       13      16         \n",
       "26 2024        30839         1      241        23       13      16         \n",
       "27 2024        30839         1      241        23       13      16         \n",
       "28 2024        30862         1      241        25       13      17         \n",
       "29 2024        30862         1      241        25       13      17         \n",
       "30 2024        30863         1      241        25       13      17         \n",
       "⋮  ⋮           ⋮             ⋮      ⋮          ⋮        ⋮       ⋮          \n",
       "49 2024        66483         2      241        21       1       3          \n",
       "50 2024        66483         2      241        21       1       3          \n",
       "51 2024        66487         2      241        23       2       1          \n",
       "52 2024        66487         2      241        23       2       1          \n",
       "53 2024        66487         2      241        23       2       1          \n",
       "54 2024        66487         2      241        23       2       1          \n",
       "55 2024        66490         2      241        19       4       2          \n",
       "56 2024        66491         2      241        19       4       3          \n",
       "57 2024        66491         2      241        19       4       3          \n",
       "58 2024        66493         2      241        19       4       1          \n",
       "59 2024        66498         2      241        19       4       2          \n",
       "60 2024        66920         2      241        25       5       6          \n",
       "61 2024        66920         2      241        25       5       6          \n",
       "62 2024        66920         2      241        25       5       6          \n",
       "63 2024        66927         2      241        25       5       7          \n",
       "64 2024        66927         2      241        25       5       7          \n",
       "65 2024        66928         2      241        25       5       6          \n",
       "66 2024        66929         2      241        25       5       6          \n",
       "67 2024        66930         2      241        25       5       8          \n",
       "68 2024        66930         2      241        25       5       8          \n",
       "69 2024        66930         2      241        25       5       8          \n",
       "70 2024        66933         2      241        25       5       7          \n",
       "71 2024        66933         2      241        25       5       7          \n",
       "72 2024        66933         2      241        25       5       7          \n",
       "73 2024        66934         2      241        25       5       9          \n",
       "74 2024        66934         2      241        25       5       9          \n",
       "75 2024        66934         2      241        25       5       9          \n",
       "76 2024        66935         2      241        25       5       8          \n",
       "77 2024        66935         2      241        25       5       8          \n",
       "78 2024        66939         2      241        25       5       9          \n",
       "   sub_round fod_sub_region nsc ⋯ day_of_week type_of_day relation_to_head\n",
       "1  2         2420           4   ⋯ 1           1           5               \n",
       "2  1         2423           4   ⋯ 4           1           5               \n",
       "3  1         2423           4   ⋯ 7           1           6               \n",
       "4  1         2423           4   ⋯ 7           1           5               \n",
       "5  4         2420           4   ⋯ 7           1           5               \n",
       "6  3         2424           4   ⋯ 2           1           6               \n",
       "7  1         2423           4   ⋯ 6           1           6               \n",
       "8  1         2423           4   ⋯ 4           1           5               \n",
       "9  4         2420           4   ⋯ 6           1           1               \n",
       "10 2         2423           4   ⋯ 1           1           5               \n",
       "11 3         2420           4   ⋯ 6           1           5               \n",
       "12 3         2420           4   ⋯ 3           1           6               \n",
       "13 2         2420           4   ⋯ 2           1           5               \n",
       "14 2         2420           4   ⋯ 3           1           5               \n",
       "15 3         2424           4   ⋯ 6           1           5               \n",
       "16 3         2424           4   ⋯ 7           1           5               \n",
       "17 2         2420           4   ⋯ 2           1           6               \n",
       "18 1         2423           4   ⋯ 4           1           3               \n",
       "19 1         2423           4   ⋯ 1           1           3               \n",
       "20 1         2423           4   ⋯ 2           1           5               \n",
       "21 1         2423           4   ⋯ 2           1           3               \n",
       "22 1         2423           4   ⋯ 5           1           5               \n",
       "23 3         2420           4   ⋯ 5           1           1               \n",
       "24 3         2424           4   ⋯ 7           1           5               \n",
       "25 2         2424           4   ⋯ 4           1           5               \n",
       "26 1         2424           4   ⋯ 5           1           5               \n",
       "27 1         2424           4   ⋯ 7           1           5               \n",
       "28 2         2423           4   ⋯ 4           1           3               \n",
       "29 2         2423           4   ⋯ 7           2           6               \n",
       "30 4         2423           4   ⋯ 1           1           5               \n",
       "⋮  ⋮         ⋮              ⋮   ⋱ ⋮           ⋮           ⋮               \n",
       "49 1         2420           4   ⋯ 5           1           6               \n",
       "50 1         2420           4   ⋯ 4           1           5               \n",
       "51 4         2424           4   ⋯ 4           1           8               \n",
       "52 4         2424           4   ⋯ 4           1           6               \n",
       "53 4         2424           4   ⋯ 5           1           3               \n",
       "54 4         2424           4   ⋯ 1           1           1               \n",
       "55 4         2420           4   ⋯ 5           1           3               \n",
       "56 3         2420           4   ⋯ 1           1           6               \n",
       "57 3         2420           4   ⋯ 5           1           5               \n",
       "58 3         2420           4   ⋯ 2           1           6               \n",
       "59 2         2420           4   ⋯ 2           1           5               \n",
       "60 4         2423           4   ⋯ 6           1           5               \n",
       "61 4         2423           4   ⋯ 6           1           5               \n",
       "62 4         2423           4   ⋯ 6           1           5               \n",
       "63 4         2423           4   ⋯ 4           1           5               \n",
       "64 4         2423           4   ⋯ 4           1           5               \n",
       "65 3         2423           4   ⋯ 5           1           1               \n",
       "66 1         2423           4   ⋯ 1           1           6               \n",
       "67 3         2423           4   ⋯ 6           1           5               \n",
       "68 3         2423           4   ⋯ 6           1           5               \n",
       "69 3         2423           4   ⋯ 6           1           5               \n",
       "70 3         2423           4   ⋯ 1           1           1               \n",
       "71 3         2423           4   ⋯ 7           2           5               \n",
       "72 3         2423           4   ⋯ 3           1           5               \n",
       "73 2         2423           4   ⋯ 4           1           5               \n",
       "74 2         2423           4   ⋯ 3           1           1               \n",
       "75 2         2423           4   ⋯ 3           1           5               \n",
       "76 4         2423           4   ⋯ 2           1           5               \n",
       "77 4         2423           4   ⋯ 5           1           5               \n",
       "78 4         2423           4   ⋯ 4           1           5               \n",
       "   gender age marital_status education_level employment_status industry weight \n",
       "1  1      22  1              10              81                99999    208857 \n",
       "2  1      18  1               5              81                99999    207000 \n",
       "3  1      18  1               5              81                99999    207000 \n",
       "4  1      19  1               4              81                99999    207000 \n",
       "5  1      35  1               2              81                99999    196571 \n",
       "6  1      18  1               4              81                99999    233429 \n",
       "7  1      28  1               1              81                99999    214629 \n",
       "8  1      20  1               5              81                99999    214629 \n",
       "9  2      78  3               1              81                99999    269500 \n",
       "10 1      22  1               4              81                99999    177739 \n",
       "11 1      18  1               5              81                99999    225129 \n",
       "12 1      18  1               5              81                99999    225129 \n",
       "13 1      25  1               5              81                99999    267650 \n",
       "14 1      22  1               5              81                99999    152221 \n",
       "15 1      19  1               6              81                99999    211693 \n",
       "16 1      28  1              10              81                99999    211693 \n",
       "17 1      18  1               4              81                99999    173107 \n",
       "18 1      35  2               5              81                99999    261914 \n",
       "19 1      52  2               5              81                99999    261914 \n",
       "20 1      35  1               4              81                99999    261914 \n",
       "21 2      38  4               5              81                99999    261914 \n",
       "22 1      20  1               4              81                99999    236268 \n",
       "23 1      55  2               5              81                99999    193541 \n",
       "24 1      23  1              11              81                99999    235750 \n",
       "25 1      40  1               5              81                99999    283938 \n",
       "26 1      28  1               6              81                99999    304798 \n",
       "27 1      32  1               3              81                99999    304798 \n",
       "28 1      33  2               4              81                99999    276000 \n",
       "29 1      17  1               5              81                99999    276000 \n",
       "30 1      21  1               4              81                99999    267950 \n",
       "⋮  ⋮      ⋮   ⋮              ⋮               ⋮                 ⋮        ⋮      \n",
       "49 1      17  1               5              81                99999     322071\n",
       "50 2       8  1               2              81                99999     322071\n",
       "51 1      48  1               8              81                99999     194448\n",
       "52 1      16  1               2              81                99999     194448\n",
       "53 1      44  2               6              81                99999     194448\n",
       "54 1      54  2              10              81                99999     194448\n",
       "55 1      35  2              11              81                99999     185784\n",
       "56 1      24  1               4              81                99999     156975\n",
       "57 1      29  1              11              81                99999     156975\n",
       "58 1      29  2               5              81                99999     208214\n",
       "59 1      29  1               5              81                99999     211621\n",
       "60 1      25  1              10              81                99999    1005964\n",
       "61 1      19  1               4              81                99999    1005964\n",
       "62 2      23  1              10              81                99999    1005964\n",
       "63 1      23  1               7              81                99999     201875\n",
       "64 1      22  1               7              81                99999     201875\n",
       "65 1      42  2               5              81                99999     282161\n",
       "66 1      18  1               5              81                99999     274800\n",
       "67 1      23  1               4              81                99999     403196\n",
       "68 1      22  1              10              81                99999     403196\n",
       "69 1      20  1               5              81                99999     403196\n",
       "70 1      30  1               2              81                99999     166813\n",
       "71 1      15  1               4              81                99999     166813\n",
       "72 1      21  1               3              81                99999     166813\n",
       "73 1      30  1              10              81                99999     179852\n",
       "74 1      52  2               4              81                99999     179852\n",
       "75 1      21  1              10              81                99999     179852\n",
       "76 2      25  1              10              81                99999     322557\n",
       "77 1      19  1               4              81                99999     322557\n",
       "78 1      24  1              10              81                99999     253698"
      ]
     },
     "metadata": {},
     "output_type": "display_data"
    }
   ],
   "source": [
    "library(dplyr)\n",
    "\n",
    "# Filtering out into a smaller dataset\n",
    "data <- data %>% filter(data$nss_region==241, data$employment_status==81)\n",
    "View(data)"
   ]
  },
  {
   "cell_type": "code",
   "execution_count": 27,
   "id": "4bc8f772",
   "metadata": {
    "vscode": {
     "languageId": "r"
    }
   },
   "outputs": [
    {
     "data": {
      "text/html": [
       "<table class=\"dataframe\">\n",
       "<caption>A data.frame: 30 × 2</caption>\n",
       "<thead>\n",
       "\t<tr><th scope=col>x</th><th scope=col>f</th></tr>\n",
       "\t<tr><th scope=col>&lt;int&gt;</th><th scope=col>&lt;dbl&gt;</th></tr>\n",
       "</thead>\n",
       "<tbody>\n",
       "\t<tr><td> 8</td><td>1</td></tr>\n",
       "\t<tr><td>15</td><td>2</td></tr>\n",
       "\t<tr><td>16</td><td>2</td></tr>\n",
       "\t<tr><td>17</td><td>3</td></tr>\n",
       "\t<tr><td>18</td><td>8</td></tr>\n",
       "\t<tr><td>19</td><td>5</td></tr>\n",
       "\t<tr><td>20</td><td>3</td></tr>\n",
       "\t<tr><td>21</td><td>3</td></tr>\n",
       "\t<tr><td>22</td><td>8</td></tr>\n",
       "\t<tr><td>23</td><td>6</td></tr>\n",
       "\t<tr><td>24</td><td>2</td></tr>\n",
       "\t<tr><td>25</td><td>4</td></tr>\n",
       "\t<tr><td>26</td><td>3</td></tr>\n",
       "\t<tr><td>28</td><td>4</td></tr>\n",
       "\t<tr><td>29</td><td>3</td></tr>\n",
       "\t<tr><td>30</td><td>2</td></tr>\n",
       "\t<tr><td>32</td><td>1</td></tr>\n",
       "\t<tr><td>33</td><td>1</td></tr>\n",
       "\t<tr><td>35</td><td>5</td></tr>\n",
       "\t<tr><td>36</td><td>1</td></tr>\n",
       "\t<tr><td>38</td><td>1</td></tr>\n",
       "\t<tr><td>40</td><td>1</td></tr>\n",
       "\t<tr><td>41</td><td>1</td></tr>\n",
       "\t<tr><td>42</td><td>1</td></tr>\n",
       "\t<tr><td>44</td><td>1</td></tr>\n",
       "\t<tr><td>48</td><td>1</td></tr>\n",
       "\t<tr><td>52</td><td>2</td></tr>\n",
       "\t<tr><td>54</td><td>1</td></tr>\n",
       "\t<tr><td>55</td><td>1</td></tr>\n",
       "\t<tr><td>78</td><td>1</td></tr>\n",
       "</tbody>\n",
       "</table>\n"
      ],
      "text/latex": [
       "A data.frame: 30 × 2\n",
       "\\begin{tabular}{ll}\n",
       " x & f\\\\\n",
       " <int> & <dbl>\\\\\n",
       "\\hline\n",
       "\t  8 & 1\\\\\n",
       "\t 15 & 2\\\\\n",
       "\t 16 & 2\\\\\n",
       "\t 17 & 3\\\\\n",
       "\t 18 & 8\\\\\n",
       "\t 19 & 5\\\\\n",
       "\t 20 & 3\\\\\n",
       "\t 21 & 3\\\\\n",
       "\t 22 & 8\\\\\n",
       "\t 23 & 6\\\\\n",
       "\t 24 & 2\\\\\n",
       "\t 25 & 4\\\\\n",
       "\t 26 & 3\\\\\n",
       "\t 28 & 4\\\\\n",
       "\t 29 & 3\\\\\n",
       "\t 30 & 2\\\\\n",
       "\t 32 & 1\\\\\n",
       "\t 33 & 1\\\\\n",
       "\t 35 & 5\\\\\n",
       "\t 36 & 1\\\\\n",
       "\t 38 & 1\\\\\n",
       "\t 40 & 1\\\\\n",
       "\t 41 & 1\\\\\n",
       "\t 42 & 1\\\\\n",
       "\t 44 & 1\\\\\n",
       "\t 48 & 1\\\\\n",
       "\t 52 & 2\\\\\n",
       "\t 54 & 1\\\\\n",
       "\t 55 & 1\\\\\n",
       "\t 78 & 1\\\\\n",
       "\\end{tabular}\n"
      ],
      "text/markdown": [
       "\n",
       "A data.frame: 30 × 2\n",
       "\n",
       "| x &lt;int&gt; | f &lt;dbl&gt; |\n",
       "|---|---|\n",
       "|  8 | 1 |\n",
       "| 15 | 2 |\n",
       "| 16 | 2 |\n",
       "| 17 | 3 |\n",
       "| 18 | 8 |\n",
       "| 19 | 5 |\n",
       "| 20 | 3 |\n",
       "| 21 | 3 |\n",
       "| 22 | 8 |\n",
       "| 23 | 6 |\n",
       "| 24 | 2 |\n",
       "| 25 | 4 |\n",
       "| 26 | 3 |\n",
       "| 28 | 4 |\n",
       "| 29 | 3 |\n",
       "| 30 | 2 |\n",
       "| 32 | 1 |\n",
       "| 33 | 1 |\n",
       "| 35 | 5 |\n",
       "| 36 | 1 |\n",
       "| 38 | 1 |\n",
       "| 40 | 1 |\n",
       "| 41 | 1 |\n",
       "| 42 | 1 |\n",
       "| 44 | 1 |\n",
       "| 48 | 1 |\n",
       "| 52 | 2 |\n",
       "| 54 | 1 |\n",
       "| 55 | 1 |\n",
       "| 78 | 1 |\n",
       "\n"
      ],
      "text/plain": [
       "   x  f\n",
       "1   8 1\n",
       "2  15 2\n",
       "3  16 2\n",
       "4  17 3\n",
       "5  18 8\n",
       "6  19 5\n",
       "7  20 3\n",
       "8  21 3\n",
       "9  22 8\n",
       "10 23 6\n",
       "11 24 2\n",
       "12 25 4\n",
       "13 26 3\n",
       "14 28 4\n",
       "15 29 3\n",
       "16 30 2\n",
       "17 32 1\n",
       "18 33 1\n",
       "19 35 5\n",
       "20 36 1\n",
       "21 38 1\n",
       "22 40 1\n",
       "23 41 1\n",
       "24 42 1\n",
       "25 44 1\n",
       "26 48 1\n",
       "27 52 2\n",
       "28 54 1\n",
       "29 55 1\n",
       "30 78 1"
      ]
     },
     "metadata": {},
     "output_type": "display_data"
    }
   ],
   "source": [
    "# Creating frequency table\n",
    "v  <- sort(unique(data$age))\n",
    "f  <- numeric(length(v))\n",
    "for (r in 1:nrow(data)) {\n",
    "  z <- data$age[r]\n",
    "  i <- which(v == z)\n",
    "  f[i] <- f[i] + 1\n",
    "}\n",
    "df <- data.frame(x=v, f=f)\n",
    "View(df)"
   ]
  },
  {
   "cell_type": "code",
   "execution_count": 28,
   "id": "6f154d95",
   "metadata": {
    "vscode": {
     "languageId": "r"
    }
   },
   "outputs": [
    {
     "name": "stderr",
     "output_type": "stream",
     "text": [
      "Manually Computed Mean = 26.949 and Auto Computed Mean = 26.949\n",
      "\n",
      "Manually Computed Median = 23 and Auto Computed Median = 23\n",
      "\n",
      "Mode = 18\n",
      "\n"
     ]
    }
   ],
   "source": [
    "# Measures of Location\n",
    "df <- data.frame(x=v, f=f/sum(f)) \n",
    "\n",
    "## Mean\n",
    "### Manually Computed Mean\n",
    "v1 <- sum(df$x * df$f)\n",
    "### Auto Computed Mean\n",
    "v2 <- mean(data$age)\n",
    "message(\"Manually Computed Mean = \", round(v1, digits=3), \" and Auto Computed Mean = \", round(v2, digits=3))\n",
    "\n",
    "## Median\n",
    "### Manually Computed Median\n",
    "qtl <- function (x, f, p) {\n",
    "  v <- NA\n",
    "  F <- cumsum(f)\n",
    "  n <- length(x)\n",
    "  for (i in 2:n) {\n",
    "      if (F[i] == p) {\n",
    "        v <- (x[i] + x[i+1]) / 2\n",
    "        return(v)\n",
    "      }\n",
    "      if (F[i-1] < p & F[i] > p) {\n",
    "        v <- x[i]\n",
    "        return(v)\n",
    "      }\n",
    "  }\n",
    "}\n",
    "v1 <- qtl(df$x, df$f, 0.5)\n",
    "### Auto Computed Median\n",
    "v2 <- median(data$age)\n",
    "message(\"Manually Computed Median = \", round(v1, digits=3), \" and Auto Computed Median = \", round(v2, digits=3))\n",
    "\n",
    "## Mode\n",
    "v <- df$x[which.max(df$f)]\n",
    "message(\"Mode = \", v)\n"
   ]
  },
  {
   "cell_type": "code",
   "execution_count": 31,
   "id": "708971a1",
   "metadata": {
    "vscode": {
     "languageId": "r"
    }
   },
   "outputs": [
    {
     "name": "stderr",
     "output_type": "stream",
     "text": [
      "Range = 70\n",
      "\n",
      "Manually Computed Inter-Quartile Range = 11 and Auto Computed Inter-Quartile Range = 11\n",
      "\n",
      "Manually Computed Standard Deviation = 11.35 and Auto Computed Standard Deviation = 11.423\n",
      "\n"
     ]
    }
   ],
   "source": [
    "# Measures of Dispersion\n",
    "\n",
    "## Range\n",
    "v = max(df$x) - min(df$x)\n",
    "message(\"Range = \", v)\n",
    "\n",
    "## Inter-Quartile Range\n",
    "### Manually Computed Inter-Quartile Range\n",
    "v1 <- qtl(df$x, df$f, 0.75) - qtl(df$x, df$f, 0.25)\n",
    "### Auto Computed Inter-Quartile Range\n",
    "v2 <- IQR(data$age)\n",
    "message(\"Manually Computed Inter-Quartile Range = \", round(v1, digits=3), \" and Auto Computed Inter-Quartile Range = \", round(v2, digits=3))\n",
    "\n",
    "## Standard Deviation\n",
    "### Manually Computed Standard Deviation\n",
    "v1 <- sqrt(sum(df$f * (df$x - sum(df$x * df$f))^2))\n",
    "### Auto Computed Standard Deviation\n",
    "v2 <- sd(data$age)\n",
    "message(\"Manually Computed Standard Deviation = \", round(v1, digits=3), \" and Auto Computed Standard Deviation = \", round(v2, digits=3))"
   ]
  },
  {
   "cell_type": "code",
   "execution_count": 32,
   "id": "84ac8245",
   "metadata": {
    "vscode": {
     "languageId": "r"
    }
   },
   "outputs": [
    {
     "name": "stderr",
     "output_type": "stream",
     "text": [
      "Manually Computed Skewness = 1.816 | Auto Computed Skewness = 1.816\n",
      "\n",
      "Manually Computed Kurtosis = 7.337 | Auto Computed Kurtosis = 7.337\n",
      "\n"
     ]
    }
   ],
   "source": [
    "# Measures of Shape\n",
    "library(moments)\n",
    "\n",
    "## Skewness\n",
    "### Manually Computed Skewness\n",
    "v1 <- (sum(df$f * (df$x - sum(df$x * df$f))^3)) / (sqrt(sum(df$f * (df$x - sum(df$x * df$f))^2)))^3\n",
    "### Auto Computed Skewness\n",
    "v2 <- skewness(data$age)\n",
    "message(\"Manually Computed Skewness = \", round(v1, digits=3), \" | Auto Computed Skewness = \", round(v2, digits=3))\n",
    "\n",
    "## Kurtosis\n",
    "### Manually Computed Kurtosis\n",
    "v1 <- (sum(df$f * (df$x - sum(df$x * df$f))^4) / sum(df$f)) / (sqrt(sum(df$f * (df$x - sum(df$x * df$f))^2)))^4\n",
    "### Auto Computed Kurtosis\n",
    "v2 <- kurtosis(data$age)\n",
    "message(\"Manually Computed Kurtosis = \", round(v1, digits=3), \" | Auto Computed Kurtosis = \", round(v2, digits=3))"
   ]
  }
 ],
 "metadata": {
  "kernelspec": {
   "display_name": "R",
   "language": "R",
   "name": "ir"
  },
  "language_info": {
   "codemirror_mode": "r",
   "file_extension": ".r",
   "mimetype": "text/x-r-source",
   "name": "R",
   "pygments_lexer": "r",
   "version": "4.5.1"
  }
 },
 "nbformat": 4,
 "nbformat_minor": 5
}
