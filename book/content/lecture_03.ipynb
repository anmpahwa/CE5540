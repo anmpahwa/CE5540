{
 "cells": [
  {
   "cell_type": "markdown",
   "id": "cb0ffc22",
   "metadata": {},
   "source": [
    "# Lecture 3: Introduction to R\n",
    "\n",
    "```{note}\n",
    "R is an open-source programming language and software environment specifically designed for statistical computing, data analysis, and data visualization. Originally developed by statisticians Ross Ihaka and Robert Gentleman in the early 1990s, R has since grown into a powerful tool used by scientists, researchers, and analysts across a range of disciplines. Its strength lies in its extensive ecosystem of packages, active community support, and seamless integration with advanced statistical methods, making it ideal for tasks such as hypothesis testing, regression modeling, data mining, and creating high-quality visualizations.\n",
    "```\n",
    "\n",
    "---\n",
    "\n",
    "## Installing R and RStudio on Windows\n",
    "\n",
    "Follow these steps:\n",
    "\n",
    "### Step 1: Install R\n",
    "1. Visit [https://cran.r-project.org](https://cran.r-project.org)\n",
    "2. Click on \"Download R for Windows\" > \"base\" > Download the installer\n",
    "3. Run the `.exe` file and follow installation instructions\n",
    "\n",
    "### Step 2: Install RStudio\n",
    "1. Visit [https://posit.co/download/rstudio-desktop/](https://posit.co/download/rstudio-desktop/)\n",
    "2. Download the RStudio Desktop version for Windows\n",
    "3. Run the installer and follow instructions\n",
    "\n",
    "Once installed, open **RStudio** to begin writing R code!\n",
    "\n",
    "## Hello World!"
   ]
  },
  {
   "cell_type": "code",
   "execution_count": 5,
   "id": "739792d8",
   "metadata": {
    "vscode": {
     "languageId": "r"
    }
   },
   "outputs": [
    {
     "name": "stdout",
     "output_type": "stream",
     "text": [
      "[1] \"Hello World!\"\n"
     ]
    }
   ],
   "source": [
    "# Hello World in R\n",
    "print(\"Hello World!\")"
   ]
  },
  {
   "cell_type": "markdown",
   "id": "9ca62b8e",
   "metadata": {},
   "source": [
    "## Data Types in R\n",
    "\n",
    "R supports the following basic data types:\n",
    "- Character\n",
    "- Numeric\n",
    "- Integer\n",
    "- Logical\n",
    "- Complex\n",
    "  \n",
    "Here are some examples:"
   ]
  },
  {
   "cell_type": "code",
   "execution_count": 18,
   "id": "858a1098",
   "metadata": {
    "vscode": {
     "languageId": "r"
    }
   },
   "outputs": [
    {
     "name": "stderr",
     "output_type": "stream",
     "text": [
      "Type of x is: character\n",
      "\n"
     ]
    },
    {
     "name": "stderr",
     "output_type": "stream",
     "text": [
      "Type of y is: double\n",
      "\n",
      "Type of v is: integer\n",
      "\n",
      "Type of f is: logical\n",
      "\n",
      "Type of z is: complex\n",
      "\n"
     ]
    }
   ],
   "source": [
    "# Character\n",
    "x <- \"CE5540\"\n",
    "message(\"Type of x is: \", typeof(x))\n",
    "\n",
    "# Numeric\n",
    "r <- 3.14\n",
    "message(\"Type of y is: \", typeof(r))\n",
    "\n",
    "# Integer\n",
    "v <- 42L\n",
    "message(\"Type of v is: \", typeof(v))\n",
    "\n",
    "# Logical\n",
    "f <- TRUE\n",
    "message(\"Type of f is: \", typeof(f))\n",
    "\n",
    "# Complex\n",
    "z <- 2 + 3i\n",
    "message(\"Type of z is: \", typeof(z))"
   ]
  },
  {
   "cell_type": "markdown",
   "id": "52cb70d2",
   "metadata": {},
   "source": [
    "## Data Structures in R\n",
    "\n",
    "R supports the following data structures:\n",
    "- Vectors\n",
    "- Matrices\n",
    "- Lists\n",
    "- Data Frames\n",
    "\n",
    "Here are some examples:"
   ]
  },
  {
   "cell_type": "code",
   "execution_count": 28,
   "id": "89854f36",
   "metadata": {
    "vscode": {
     "languageId": "r"
    }
   },
   "outputs": [
    {
     "name": "stderr",
     "output_type": "stream",
     "text": [
      "# Vectors\n",
      "\n"
     ]
    },
    {
     "name": "stdout",
     "output_type": "stream",
     "text": [
      "[1] \"Apple\"  \"Banana\" \"Mango\" \n",
      "[1] 9 1 5 4 6 7 0 3 8\n",
      "[1] 1 2 3 4 5\n"
     ]
    },
    {
     "name": "stderr",
     "output_type": "stream",
     "text": [
      "Accessing a value in a vector: v1[1] = Apple. Notice that R follows 1-based indexing!\n",
      "\n",
      "\n",
      "# Matrices\n",
      "\n"
     ]
    },
    {
     "name": "stdout",
     "output_type": "stream",
     "text": [
      "     [,1] [,2] [,3]\n",
      "[1,]    9    1    5\n",
      "[2,]    4    6    7\n",
      "[3,]    0    3    8\n",
      "     [,1] [,2] [,3]\n",
      "[1,]    9    4    0\n",
      "[2,]    1    6    3\n",
      "[3,]    5    7    8\n"
     ]
    },
    {
     "name": "stderr",
     "output_type": "stream",
     "text": [
      "Accessing a value in a matrix: m1[1][3] = 5\n",
      "\n",
      "\n",
      "# List\n",
      "\n"
     ]
    },
    {
     "name": "stdout",
     "output_type": "stream",
     "text": [
      "$name\n",
      "[1] \"John\"\n",
      "\n",
      "$age\n",
      "[1] 25\n",
      "\n",
      "$scores\n",
      "[1] 90 85 88\n",
      "\n"
     ]
    },
    {
     "name": "stderr",
     "output_type": "stream",
     "text": [
      "Accessing a value in a list: l$name = John\n",
      "\n",
      "\n",
      "# Data Frames\n",
      "\n"
     ]
    },
    {
     "name": "stdout",
     "output_type": "stream",
     "text": [
      "   Name Age\n",
      "1 Alice  23\n",
      "2   Bob  25\n"
     ]
    },
    {
     "name": "stderr",
     "output_type": "stream",
     "text": [
      "Accessing a value in a data frame: df$Age[1] = 23\n",
      "\n"
     ]
    }
   ],
   "source": [
    "# Vectors\n",
    "v1 <- c(\"Apple\", \"Banana\", \"Mango\")\n",
    "v2 <- c(9, 1, 5, 4, 6, 7, 0, 3, 8)\n",
    "v3 <- c(1:5)\n",
    "message(\"# Vectors\")\n",
    "print(v1)\n",
    "print(v2)\n",
    "print(v3)\n",
    "message(\"Accessing a value in a vector: v1[1] = \", v1[1], \". Notice that R follows 1-based indexing!\")\n",
    "\n",
    "# Matrices\n",
    "m1 <- matrix(c(9, 1, 5, 4, 6, 7, 0, 3, 8), nrow = 3, byrow = TRUE)\n",
    "m2 <- matrix(c(9, 1, 5, 4, 6, 7, 0, 3, 8), nrow = 3, byrow = FALSE)\n",
    "message(\"\\n# Matrices\")\n",
    "print(m1)\n",
    "print(m2)\n",
    "message(\"Accessing a value in a matrix: m1[1][3] = \", m1[1,3])\n",
    "\n",
    "# Lists\n",
    "l <- list(name=\"John\", age=25L, scores=c(90, 85, 88))\n",
    "message(\"\\n# List\")\n",
    "print(l)\n",
    "message(\"Accessing a value in a list: l$name = \", l$name)\n",
    "\n",
    "# Data Frames\n",
    "df <- data.frame(Name=c(\"Alice\", \"Bob\"), Age=c(23L, 25L))\n",
    "message(\"\\n# Data Frames\")\n",
    "print(df)\n",
    "message(\"Accessing a value in a data frame: df$Age[1] = \", df$Age[1])\n"
   ]
  },
  {
   "cell_type": "markdown",
   "id": "13d54e65",
   "metadata": {},
   "source": [
    "## Control Flow\n",
    "\n",
    "Here is how you would write control flow statements in R"
   ]
  },
  {
   "cell_type": "code",
   "execution_count": 29,
   "id": "ad9f6da4",
   "metadata": {
    "vscode": {
     "languageId": "r"
    }
   },
   "outputs": [
    {
     "name": "stderr",
     "output_type": "stream",
     "text": [
      "x is a positive number\n",
      "\n"
     ]
    }
   ],
   "source": [
    "x <- 10\n",
    "\n",
    "if (x > 0) {\n",
    "  message(\"x is a positive number\")\n",
    "} else if (x < 0) {\n",
    "  message(\"x is a negative number\")\n",
    "} else {\n",
    "  message(\"x is zero!\")\n",
    "}"
   ]
  },
  {
   "cell_type": "markdown",
   "id": "d516817d",
   "metadata": {},
   "source": [
    "## Writing Loops in R\n",
    "\n",
    "R supports both `for` and `while` loops."
   ]
  },
  {
   "cell_type": "code",
   "execution_count": 37,
   "id": "a75cdbfa",
   "metadata": {
    "vscode": {
     "languageId": "r"
    }
   },
   "outputs": [
    {
     "name": "stderr",
     "output_type": "stream",
     "text": [
      "# For Loop\n",
      "\n",
      "Iteration:1\n",
      "\n"
     ]
    },
    {
     "name": "stderr",
     "output_type": "stream",
     "text": [
      "Iteration:2\n",
      "\n",
      "Iteration:3\n",
      "\n",
      "Iteration:4\n",
      "\n",
      "Iteration:5\n",
      "\n",
      "\n",
      "\n",
      "# While Loop\n",
      "\n",
      "Count:1\n",
      "\n",
      "Count:2\n",
      "\n",
      "Count:3\n",
      "\n",
      "Count:4\n",
      "\n",
      "Count:5\n",
      "\n"
     ]
    }
   ],
   "source": [
    "# For loop\n",
    "message(\"# For Loop\")\n",
    "for (i in 1:5) {\n",
    "  message(\"Iteration:\", i)\n",
    "}\n",
    "\n",
    "# While loop\n",
    "message(\"\\n\\n# While Loop\")\n",
    "i <- 1\n",
    "while (i <= 5) {\n",
    "  message(\"Count:\", i)\n",
    "  i <- i + 1\n",
    "}"
   ]
  },
  {
   "cell_type": "markdown",
   "id": "c078662c",
   "metadata": {},
   "source": [
    "## Writing Functions in R\n",
    "\n",
    "Functions are blocks of code that can be reused. Here's how to define and call one."
   ]
  },
  {
   "cell_type": "code",
   "execution_count": null,
   "id": "47ed3097",
   "metadata": {
    "vscode": {
     "languageId": "r"
    }
   },
   "outputs": [
    {
     "name": "stdout",
     "output_type": "stream",
     "text": [
      "[1] 8\n"
     ]
    }
   ],
   "source": [
    "# Factorial Function (Iterative Form)\n",
    "factorial_iterative <- function(n) {\n",
    "  result <- 1\n",
    "  for (i in 2:n) {\n",
    "    result <- result * i\n",
    "  }\n",
    "  return(result)\n",
    "}\n",
    "\n",
    "# Example usage\n",
    "factorial_iterative(5)"
   ]
  },
  {
   "cell_type": "code",
   "execution_count": null,
   "id": "fd1abfa1",
   "metadata": {
    "vscode": {
     "languageId": "r"
    }
   },
   "outputs": [
    {
     "data": {
      "text/html": [
       "120"
      ],
      "text/latex": [
       "120"
      ],
      "text/markdown": [
       "120"
      ],
      "text/plain": [
       "[1] 120"
      ]
     },
     "metadata": {},
     "output_type": "display_data"
    }
   ],
   "source": [
    "# Factorial Function (Recursive Form)\n",
    "factorial_recursive <- function(n) {\n",
    "  if (n == 0 || n == 1) {\n",
    "    return(1)\n",
    "  } else {\n",
    "    return(n * factorial_recursive(n - 1))\n",
    "  }\n",
    "}\n",
    "\n",
    "# Example usage\n",
    "factorial_recursive(5)"
   ]
  }
 ],
 "metadata": {
  "kernelspec": {
   "display_name": "R",
   "language": "R",
   "name": "ir"
  },
  "language_info": {
   "codemirror_mode": "r",
   "file_extension": ".r",
   "mimetype": "text/x-r-source",
   "name": "R",
   "pygments_lexer": "r",
   "version": "4.5.0"
  }
 },
 "nbformat": 4,
 "nbformat_minor": 5
}
