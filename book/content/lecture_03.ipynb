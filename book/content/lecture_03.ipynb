{
 "cells": [
  {
   "cell_type": "markdown",
   "id": "cb0ffc22",
   "metadata": {},
   "source": [
    "# Lecture 3: Introduction to R\n",
    "\n",
    "```{note}\n",
    "R is an open-source programming language and software environment specifically designed for statistical computing, data analysis, and data visualization. Originally developed by statisticians Ross Ihaka and Robert Gentleman in the early 1990s, R has since grown into a powerful tool used by scientists, researchers, and analysts across a range of disciplines. Its strength lies in its extensive ecosystem of packages, active community support, and seamless integration with advanced statistical methods, making it ideal for tasks such as hypothesis testing, regression modeling, data mining, and creating high-quality visualizations.\n",
    "```\n",
    "\n",
    "---\n",
    "\n",
    "## Installing R and RStudio on Windows\n",
    "\n",
    "Follow these steps:\n",
    "\n",
    "### Step 1: Install R\n",
    "1. Visit [https://cran.r-project.org](https://cran.r-project.org)\n",
    "2. Click on \"Download R for Windows\" > \"base\" > Download the installer\n",
    "3. Run the `.exe` file and follow installation instructions\n",
    "\n",
    "### Step 2: Install RStudio\n",
    "1. Visit [https://posit.co/download/rstudio-desktop/](https://posit.co/download/rstudio-desktop/)\n",
    "2. Download the RStudio Desktop version for Windows\n",
    "3. Run the installer and follow instructions\n",
    "\n",
    "Once installed, open **RStudio** to begin writing R code!\n",
    "\n",
    "## Hello World!"
   ]
  },
  {
   "cell_type": "code",
   "execution_count": 1,
   "id": "739792d8",
   "metadata": {
    "vscode": {
     "languageId": "r"
    }
   },
   "outputs": [
    {
     "name": "stdout",
     "output_type": "stream",
     "text": [
      "[1] \"Hello World!\"\n"
     ]
    }
   ],
   "source": [
    "# Hello World in R\n",
    "print(\"Hello World!\")"
   ]
  },
  {
   "cell_type": "markdown",
   "id": "9ca62b8e",
   "metadata": {},
   "source": [
    "## Data Types in R\n",
    "\n",
    "R supports the following basic data types:\n",
    "- Character\n",
    "- Numeric\n",
    "- Integer\n",
    "- Logical\n",
    "- Complex\n",
    "  \n",
    "Here are some examples:"
   ]
  },
  {
   "cell_type": "code",
   "execution_count": 2,
   "id": "858a1098",
   "metadata": {
    "vscode": {
     "languageId": "r"
    }
   },
   "outputs": [
    {
     "name": "stderr",
     "output_type": "stream",
     "text": [
      "Type of x is: character\n",
      "\n",
      "Type of y is: double\n",
      "\n",
      "Type of v is: integer\n",
      "\n",
      "Type of f is: logical\n",
      "\n",
      "Type of z is: complex\n",
      "\n"
     ]
    }
   ],
   "source": [
    "# Character\n",
    "x <- \"CE5540\"\n",
    "message(\"Type of x is: \", typeof(x))\n",
    "\n",
    "# Numeric\n",
    "r <- 3.14\n",
    "message(\"Type of y is: \", typeof(r))\n",
    "\n",
    "# Integer\n",
    "v <- 42L\n",
    "message(\"Type of v is: \", typeof(v))\n",
    "\n",
    "# Logical\n",
    "f <- TRUE\n",
    "message(\"Type of f is: \", typeof(f))\n",
    "\n",
    "# Complex\n",
    "z <- 2 + 3i\n",
    "message(\"Type of z is: \", typeof(z))"
   ]
  },
  {
   "cell_type": "markdown",
   "id": "52cb70d2",
   "metadata": {},
   "source": [
    "## Data Structures in R\n",
    "\n",
    "R supports the following data structures:\n",
    "- Vectors\n",
    "- Matrices\n",
    "- Lists\n",
    "- Data Frames\n",
    "\n",
    "Here are some examples:"
   ]
  },
  {
   "cell_type": "code",
   "execution_count": 28,
   "id": "89854f36",
   "metadata": {
    "vscode": {
     "languageId": "r"
    }
   },
   "outputs": [
    {
     "name": "stderr",
     "output_type": "stream",
     "text": [
      "# Vectors\n",
      "\n"
     ]
    },
    {
     "name": "stdout",
     "output_type": "stream",
     "text": [
      "[1] \"Apple\"  \"Banana\" \"Mango\" \n",
      "[1] 9 1 5 4 6 7 0 3 8\n",
      "[1] 1 2 3 4 5\n"
     ]
    },
    {
     "name": "stderr",
     "output_type": "stream",
     "text": [
      "Accessing a value in a vector: v1[1] = Apple. Notice that R follows 1-based indexing!\n",
      "\n",
      "\n",
      "# Matrices\n",
      "\n"
     ]
    },
    {
     "name": "stdout",
     "output_type": "stream",
     "text": [
      "     [,1] [,2] [,3]\n",
      "[1,]    9    1    5\n",
      "[2,]    4    6    7\n",
      "[3,]    0    3    8\n",
      "     [,1] [,2] [,3]\n",
      "[1,]    9    4    0\n",
      "[2,]    1    6    3\n",
      "[3,]    5    7    8\n"
     ]
    },
    {
     "name": "stderr",
     "output_type": "stream",
     "text": [
      "Accessing a value in a matrix: m1[1][3] = 5\n",
      "\n",
      "\n",
      "# List\n",
      "\n"
     ]
    },
    {
     "name": "stdout",
     "output_type": "stream",
     "text": [
      "$name\n",
      "[1] \"John\"\n",
      "\n",
      "$age\n",
      "[1] 25\n",
      "\n",
      "$scores\n",
      "[1] 90 85 88\n",
      "\n"
     ]
    },
    {
     "name": "stderr",
     "output_type": "stream",
     "text": [
      "Accessing a value in a list: l$name = John\n",
      "\n",
      "\n",
      "# Data Frames\n",
      "\n"
     ]
    },
    {
     "name": "stdout",
     "output_type": "stream",
     "text": [
      "   Name Age\n",
      "1 Alice  23\n",
      "2   Bob  25\n"
     ]
    },
    {
     "name": "stderr",
     "output_type": "stream",
     "text": [
      "Accessing a value in a data frame: df$Age[1] = 23\n",
      "\n"
     ]
    }
   ],
   "source": [
    "# Vectors\n",
    "v1 <- c(\"Apple\", \"Banana\", \"Mango\")\n",
    "v2 <- c(9, 1, 5, 4, 6, 7, 0, 3, 8)\n",
    "v3 <- c(1:5)\n",
    "message(\"# Vectors\")\n",
    "print(v1)\n",
    "print(v2)\n",
    "print(v3)\n",
    "message(\"Accessing a value in a vector: v1[1] = \", v1[1], \". Notice that R follows 1-based indexing!\")\n",
    "\n",
    "# Matrices\n",
    "m1 <- matrix(c(9, 1, 5, 4, 6, 7, 0, 3, 8), nrow = 3, byrow = TRUE)\n",
    "m2 <- matrix(c(9, 1, 5, 4, 6, 7, 0, 3, 8), nrow = 3, byrow = FALSE)\n",
    "message(\"\\n# Matrices\")\n",
    "print(m1)\n",
    "print(m2)\n",
    "message(\"Accessing a value in a matrix: m1[1][3] = \", m1[1,3])\n",
    "\n",
    "# Lists\n",
    "l <- list(name=\"John\", age=25L, scores=c(90, 85, 88))\n",
    "message(\"\\n# List\")\n",
    "print(l)\n",
    "message(\"Accessing a value in a list: l$name = \", l$name)\n",
    "\n",
    "# Data Frames\n",
    "df <- data.frame(Name=c(\"Alice\", \"Bob\"), Age=c(23L, 25L))\n",
    "message(\"\\n# Data Frames\")\n",
    "print(df)\n",
    "message(\"Accessing a value in a data frame: df$Age[1] = \", df$Age[1])\n"
   ]
  },
  {
   "cell_type": "markdown",
   "id": "13d54e65",
   "metadata": {},
   "source": [
    "## Control Flow\n",
    "\n",
    "Here is how you would write control flow statements in R"
   ]
  },
  {
   "cell_type": "code",
   "execution_count": 29,
   "id": "ad9f6da4",
   "metadata": {
    "vscode": {
     "languageId": "r"
    }
   },
   "outputs": [
    {
     "name": "stderr",
     "output_type": "stream",
     "text": [
      "x is a positive number\n",
      "\n"
     ]
    }
   ],
   "source": [
    "x <- 10\n",
    "\n",
    "if (x > 0) {\n",
    "  message(\"x is a positive number\")\n",
    "} else if (x < 0) {\n",
    "  message(\"x is a negative number\")\n",
    "} else {\n",
    "  message(\"x is zero!\")\n",
    "}"
   ]
  },
  {
   "cell_type": "markdown",
   "id": "d516817d",
   "metadata": {},
   "source": [
    "## Writing Loops in R\n",
    "\n",
    "R supports both `for` and `while` loops."
   ]
  },
  {
   "cell_type": "code",
   "execution_count": 37,
   "id": "a75cdbfa",
   "metadata": {
    "vscode": {
     "languageId": "r"
    }
   },
   "outputs": [
    {
     "name": "stderr",
     "output_type": "stream",
     "text": [
      "# For Loop\n",
      "\n",
      "Iteration:1\n",
      "\n"
     ]
    },
    {
     "name": "stderr",
     "output_type": "stream",
     "text": [
      "Iteration:2\n",
      "\n",
      "Iteration:3\n",
      "\n",
      "Iteration:4\n",
      "\n",
      "Iteration:5\n",
      "\n",
      "\n",
      "\n",
      "# While Loop\n",
      "\n",
      "Count:1\n",
      "\n",
      "Count:2\n",
      "\n",
      "Count:3\n",
      "\n",
      "Count:4\n",
      "\n",
      "Count:5\n",
      "\n"
     ]
    }
   ],
   "source": [
    "# For loop\n",
    "message(\"# For Loop\")\n",
    "for (i in 1:5) {\n",
    "  message(\"Iteration:\", i)\n",
    "}\n",
    "\n",
    "# While loop\n",
    "message(\"\\n\\n# While Loop\")\n",
    "i <- 1\n",
    "while (i <= 5) {\n",
    "  message(\"Count:\", i)\n",
    "  i <- i + 1\n",
    "}"
   ]
  },
  {
   "cell_type": "markdown",
   "id": "c078662c",
   "metadata": {},
   "source": [
    "## Writing Functions in R\n",
    "\n",
    "Functions are blocks of code that can be reused. Here's how to define and call one."
   ]
  },
  {
   "cell_type": "code",
   "execution_count": 42,
   "id": "47ed3097",
   "metadata": {
    "vscode": {
     "languageId": "r"
    }
   },
   "outputs": [
    {
     "data": {
      "text/html": [
       "120"
      ],
      "text/latex": [
       "120"
      ],
      "text/markdown": [
       "120"
      ],
      "text/plain": [
       "[1] 120"
      ]
     },
     "metadata": {},
     "output_type": "display_data"
    }
   ],
   "source": [
    "# Factorial Function (Iterative Form)\n",
    "factorial_iterative <- function(n) {\n",
    "  result <- 1\n",
    "  for (i in 2:n) {\n",
    "    result <- result * i\n",
    "  }\n",
    "  return(result)\n",
    "}\n",
    "\n",
    "# Example usage\n",
    "factorial_iterative(5)"
   ]
  },
  {
   "cell_type": "code",
   "execution_count": 41,
   "id": "fd1abfa1",
   "metadata": {
    "vscode": {
     "languageId": "r"
    }
   },
   "outputs": [
    {
     "data": {
      "text/html": [
       "120"
      ],
      "text/latex": [
       "120"
      ],
      "text/markdown": [
       "120"
      ],
      "text/plain": [
       "[1] 120"
      ]
     },
     "metadata": {},
     "output_type": "display_data"
    }
   ],
   "source": [
    "# Factorial Function (Recursive Form)\n",
    "factorial_recursive <- function(n) {\n",
    "  if (n == 0 || n == 1) {\n",
    "    return(1)\n",
    "  } else {\n",
    "    return(n * factorial_recursive(n - 1))\n",
    "  }\n",
    "}\n",
    "\n",
    "# Example usage\n",
    "factorial_recursive(5)"
   ]
  },
  {
   "cell_type": "markdown",
   "id": "5c273249",
   "metadata": {},
   "source": [
    "---"
   ]
  },
  {
   "cell_type": "markdown",
   "id": "ded64647",
   "metadata": {},
   "source": [
    "## Summarising Data in R\n",
    "\n",
    "In this segment of the lecture, we will develop measures of location, dispersion, and shape discussed in the previous lecture through 2024 ITUS sample individual dataset. "
   ]
  },
  {
   "cell_type": "code",
   "execution_count": 3,
   "id": "3da8f515",
   "metadata": {
    "vscode": {
     "languageId": "r"
    }
   },
   "outputs": [
    {
     "name": "stderr",
     "output_type": "stream",
     "text": [
      "2024 ITUS sample individual data is retreived as list as follows: \n",
      "\n"
     ]
    },
    {
     "name": "stdout",
     "output_type": "stream",
     "text": [
      "'data.frame':\t100 obs. of  23 variables:\n",
      " $ survey_year      : int  2024 2024 2024 2024 2024 2024 2024 2024 2024 2024 ...\n",
      " $ fsu_serial_no    : int  30010 30010 30010 30010 30010 30010 30010 30010 30010 30010 ...\n",
      " $ sector           : int  1 1 1 1 1 1 1 1 1 1 ...\n",
      " $ nss_region       : int  241 241 241 241 241 241 241 241 241 241 ...\n",
      " $ district         : int  17 17 17 17 17 17 17 17 17 17 ...\n",
      " $ stratum          : int  13 13 13 13 13 13 13 13 13 13 ...\n",
      " $ sub_stratum      : int  11 11 11 11 11 11 11 11 11 11 ...\n",
      " $ sub_round        : int  2 2 2 2 2 2 2 2 2 2 ...\n",
      " $ fod_sub_region   : int  2420 2420 2420 2420 2420 2420 2420 2420 2420 2420 ...\n",
      " $ nsc              : int  4 4 4 4 4 4 4 4 4 4 ...\n",
      " $ household_id     : int  1 2 2 2 2 3 3 3 3 3 ...\n",
      " $ individual_id    : int  1 1 2 3 4 1 2 3 4 5 ...\n",
      " $ response_code    : int  1 1 1 1 99999 1 1 1 1 1 ...\n",
      " $ day_of_week      : int  2 3 3 3 99999 7 7 7 7 7 ...\n",
      " $ type_of_day      : int  1 1 1 1 99999 1 1 1 1 1 ...\n",
      " $ relation_to_head : int  1 1 2 4 6 1 2 5 5 5 ...\n",
      " $ gender           : int  1 1 2 2 1 1 2 1 1 2 ...\n",
      " $ age              : int  45 54 52 29 3 48 44 23 13 18 ...\n",
      " $ marital_status   : int  1 2 2 2 1 2 2 1 1 1 ...\n",
      " $ education_level  : int  11 6 4 11 1 5 2 5 4 4 ...\n",
      " $ employment_status: int  31 94 92 31 99999 51 92 11 91 92 ...\n",
      " $ industry         : int  85 99999 99999 86 99999 1 99999 1 99999 99999 ...\n",
      " $ weight           : int  208857 208857 208857 208857 208857 208857 208857 208857 208857 208857 ...\n"
     ]
    }
   ],
   "source": [
    "# 2024 ITUS sample individual data\n",
    "url  <- \"https://raw.githubusercontent.com/anmpahwa/CE5540/refs/heads/main/resources/2024ITUS_IndividualData_Sample.csv\"\n",
    "data <- read.csv(url) # Loading Data\n",
    "message(\"2024 ITUS sample individual data is retreived as \", typeof(data), \" as follows: \")\n",
    "str(data)             # Data Structure"
   ]
  },
  {
   "cell_type": "code",
   "execution_count": 20,
   "id": "4bc8f772",
   "metadata": {
    "vscode": {
     "languageId": "r"
    }
   },
   "outputs": [
    {
     "name": "stdout",
     "output_type": "stream",
     "text": [
      "   age f\n",
      "1    1 2\n",
      "2    2 4\n",
      "3    3 5\n",
      "4    4 2\n",
      "5    5 4\n",
      "6    6 1\n",
      "7    7 2\n",
      "8    8 2\n",
      "9    9 2\n",
      "10  11 2\n",
      "11  12 1\n",
      "12  13 2\n",
      "13  14 1\n",
      "14  15 2\n",
      "15  16 2\n",
      "16  17 3\n",
      "17  18 3\n",
      "18  20 3\n",
      "19  21 1\n",
      "20  22 2\n",
      "21  23 1\n",
      "22  24 3\n",
      "23  25 4\n",
      "24  27 1\n",
      "25  28 2\n",
      "26  29 1\n",
      "27  30 2\n",
      "28  31 2\n",
      "29  32 2\n",
      "30  33 1\n",
      "31  35 4\n",
      "32  38 2\n",
      "33  40 3\n",
      "34  42 2\n",
      "35  43 1\n",
      "36  44 1\n",
      "37  45 3\n",
      "38  48 1\n",
      "39  50 2\n",
      "40  52 2\n",
      "41  53 1\n",
      "42  54 2\n",
      "43  55 1\n",
      "44  59 1\n",
      "45  60 4\n",
      "46  62 1\n",
      "47  65 2\n",
      "48  66 1\n",
      "49  89 1\n"
     ]
    }
   ],
   "source": [
    "v  <- sort(unique(data$age))\n",
    "f  <- numeric(length(v))\n",
    "\n",
    "for (r in 1:nrow(data)) {\n",
    "  z <- data$age[r]\n",
    "  i <- which(v == z)\n",
    "  f[i] <- f[i] + 1\n",
    "}\n",
    "\n",
    "df <- data.frame(age=v, f=f)\n",
    "\n",
    "print(df)"
   ]
  },
  {
   "cell_type": "code",
   "execution_count": null,
   "id": "6f154d95",
   "metadata": {
    "vscode": {
     "languageId": "r"
    }
   },
   "outputs": [
    {
     "name": "stderr",
     "output_type": "stream",
     "text": [
      "Manually Computed Mean = 27.55 and Auto Computed Mean = 27.55\n",
      "\n",
      "Manually Computed Median = 24.5 and Auto Computed Median = 24.5\n",
      "\n",
      "Mode = 3\n",
      "\n"
     ]
    }
   ],
   "source": [
    "# Measures of Location\n",
    "\n",
    "## Mean\n",
    "### Manually Computed Mean\n",
    "v1 <- sum(df$age * df$f) / sum(df$f)\n",
    "### Auto Computed Mean\n",
    "v2 <- mean(data$age)\n",
    "\n",
    "message(\"Manually Computed Mean = \", v1, \" and Auto Computed Mean = \", v2)\n",
    "\n",
    "\n",
    "## Median\n",
    "### Manually Computed Median\n",
    "qtl <- function (c, f, p) {\n",
    "  F  <- 0\n",
    "  T  <- sum(f)\n",
    "  xl <- -1\n",
    "  xu <- -1\n",
    "  for (r in 1:length(c)) {\n",
    "    if (F / T < p && (F + f[r]) / T >= p) {\n",
    "      xl <- c[r]\n",
    "    }\n",
    "    if (F / T <= p && (F + f[r]) / T > p) {\n",
    "      xu <- c[r]\n",
    "    }\n",
    "    F <- F + f[r]\n",
    "  }\n",
    "\n",
    "  if (xl == -1) {\n",
    "    v <- xu\n",
    "  } else if (xu == -1) {\n",
    "    v <- xl\n",
    "  } else {\n",
    "    v <- (xl + xu) / 2\n",
    "  }\n",
    "  return(v)\n",
    "}\n",
    "v1 <- qtl(df$age, df$f, 0.5)\n",
    "### Auto Computed Median\n",
    "v2 <- median(data$age)\n",
    "\n",
    "message(\"Manually Computed Median = \", v1, \" and Auto Computed Median = \", v2)\n",
    "\n",
    "\n",
    "## Mode\n",
    "v <- df$age[which.max(df$f)]\n",
    "\n",
    "message(\"Mode = \", v)\n"
   ]
  },
  {
   "cell_type": "code",
   "execution_count": null,
   "id": "708971a1",
   "metadata": {
    "vscode": {
     "languageId": "r"
    }
   },
   "outputs": [
    {
     "name": "stderr",
     "output_type": "stream",
     "text": [
      "Range = 88\n",
      "\n",
      "Manually Computed Inter-Quartile Range = 31 and Auto Computed Inter-Quartile Range = 31\n",
      "\n"
     ]
    },
    {
     "name": "stderr",
     "output_type": "stream",
     "text": [
      "Manually Computed Standard Deviation = 19.9055212213524 and Auto Computed Standard Deviation = 19.7480979777135\n",
      "\n"
     ]
    },
    {
     "name": "stdout",
     "output_type": "stream",
     "text": [
      "[1] \"The differences in manual and auto computation arise due to differences in calculations done for the population in the former and sample in the latter\"\n"
     ]
    }
   ],
   "source": [
    "# Measures of Dispersion\n",
    "\n",
    "## Range\n",
    "v = max(df$age) - min(df$age)\n",
    "\n",
    "message(\"Range = \", v)\n",
    "\n",
    "\n",
    "## Inter-Quartile Range\n",
    "### Manually Computed Inter-Quartile Range\n",
    "v1 <- qtl(df$age, df$f, 0.75) - qtl(df$age, df$f, 0.25)\n",
    "### Auto Computed Inter-Quartile Range\n",
    "v2 <- IQR(data$age)\n",
    "\n",
    "message(\"Manually Computed Inter-Quartile Range = \", v1, \" and Auto Computed Inter-Quartile Range = \", v2)\n",
    "\n",
    "\n",
    "## Standard Deviation\n",
    "### Manually Computed Standard Deviation\n",
    "v1 <- sqrt(sum(df$f * (df$age - mean(df$age))^2) / sum(df$f))\n",
    "### Auto Computed Standard Deviation\n",
    "v2 <- sd(data$age)\n",
    "\n",
    "message(\"Manually Computed Standard Deviation = \", v1, \" and Auto Computed Standard Deviation = \", v2)\n",
    "message(\"The differences in manual and auto computation arise due to differences in calculations done for the population in the former and sample in the latter.\")"
   ]
  },
  {
   "cell_type": "code",
   "execution_count": null,
   "id": "84ac8245",
   "metadata": {
    "vscode": {
     "languageId": "r"
    }
   },
   "outputs": [
    {
     "name": "stderr",
     "output_type": "stream",
     "text": [
      "Manually Computed Skewness = 0.565400796831327 and Auto Computed Skewness = 0.573989072316338\n",
      "\n"
     ]
    },
    {
     "name": "stderr",
     "output_type": "stream",
     "text": [
      "The differences in manual and auto computation arise due to differences in calculations done for the population in the former and sample in the latter\n",
      "\n",
      "Manually Computed Kurtosis = 2.55963807679161 and Auto Computed Kurtosis = 2.61160909783859\n",
      "\n",
      "The differences in manual and auto computation arise due to differences in calculations done for the population in the former and sample in the latter\n",
      "\n"
     ]
    }
   ],
   "source": [
    "# install.packages(\"moments\")\n",
    "library(moments)\n",
    "# Measures of Shape\n",
    "\n",
    "## Skewness\n",
    "### Manually Computed Skewness\n",
    "v1 <- (sum(df$f * (df$age - mean(data$age))^3) / sum(df$f)) / sd(data$age)^3\n",
    "### Auto Computed Skewness\n",
    "v2 <- skewness(data$age)\n",
    "\n",
    "message(\"Manually Computed Skewness = \", v1, \" and Auto Computed Skewness = \", v2)\n",
    "message(\"The differences in manual and auto computation arise due to differences in calculations done for the population in the former and sample in the latter.\")\n",
    "\n",
    "\n",
    "## Kurtosis\n",
    "### Manually Computed Kurtosis\n",
    "v1 <- (sum(df$f * (df$age - mean(data$age))^4) / sum(df$f)) / sd(data$age)^4\n",
    "### Auto Computed Kurtosis\n",
    "v2 <- kurtosis(data$age)\n",
    "\n",
    "message(\"Manually Computed Kurtosis = \", v1, \" and Auto Computed Kurtosis = \", v2)\n",
    "message(\"The differences in manual and auto computation arise due to differences in calculations done for the population in the former and sample in the latter.\")"
   ]
  }
 ],
 "metadata": {
  "kernelspec": {
   "display_name": "R",
   "language": "R",
   "name": "ir"
  },
  "language_info": {
   "codemirror_mode": "r",
   "file_extension": ".r",
   "mimetype": "text/x-r-source",
   "name": "R",
   "pygments_lexer": "r",
   "version": "4.5.0"
  }
 },
 "nbformat": 4,
 "nbformat_minor": 5
}
