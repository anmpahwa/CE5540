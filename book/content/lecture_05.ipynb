{
 "cells": [
  {
   "cell_type": "markdown",
   "id": "d7ec273c",
   "metadata": {},
   "source": [
    "# Lecture 5: Probability Theory\n",
    "\n",
    "```{note}\n",
    "This lecture builds upon the previous lecture on probability theory, introducing different types of distributions.\n",
    "```\n",
    "\n",
    "---\n",
    "\n",
    "## Binomial Distribution\n",
    "\n",
    "Given a box with a total $n$ tickets, wherein $p$ proportion of tickets are labeled as 1 while $1-p$ are labeled as 0, then a total of $k$ draws of tickets (with replacement) can render a sample sum of lables $S$. The probability that this sum takes a specific value $s \\in [0,k]$ is contingent of the number of tickets labeled 0 and 1. Specifically, this probability is equivalent to drawing $s$ tickets labeled as 1 out of a total $k$ draws. Since each draw is an identical, indepedent, random (IIR) event, this proability can be evaluated as, $p^k (1-p)^{(n-k)}$ $_nC_k$"
   ]
  },
  {
   "cell_type": "code",
   "execution_count": 25,
   "id": "732c5f66",
   "metadata": {},
   "outputs": [
    {
     "data": {
      "application/vnd.jupyter.widget-view+json": {
       "model_id": "4f45f24610f546c9bc5ee96f5781eecd",
       "version_major": 2,
       "version_minor": 0
      },
      "text/plain": [
       "VBox(children=(IntSlider(value=50, description='n (trials):', min=1), FloatSlider(value=0.5, description='p (s…"
      ]
     },
     "metadata": {},
     "output_type": "display_data"
    },
    {
     "data": {
      "application/vnd.jupyter.widget-view+json": {
       "model_id": "66e75faf7e52439dbd2f360c31405e50",
       "version_major": 2,
       "version_minor": 0
      },
      "text/plain": [
       "Output()"
      ]
     },
     "metadata": {},
     "output_type": "display_data"
    }
   ],
   "source": [
    "import numpy as np\n",
    "import matplotlib.pyplot as plt\n",
    "from scipy.stats import binom\n",
    "import ipywidgets as widgets\n",
    "from IPython.display import display\n",
    "\n",
    "# Function to plot the binomial histogram\n",
    "def plot_binomial(n, p):\n",
    "    k = np.arange(0, n + 1)\n",
    "    probs = binom.pmf(k, n, p)\n",
    "\n",
    "    # Theoretical statistics\n",
    "    mean = n * p\n",
    "    median = np.floor(n * p) if p != 0.5 else n / 2\n",
    "    mode = np.floor((n + 1) * p)\n",
    "    var = n * p * (1 - p)\n",
    "    std_dev = np.sqrt(var)\n",
    "    iqr = binom.ppf(0.75, n, p) - binom.ppf(0.25, n, p)\n",
    "    value_range = n  # Range = max - min = n - 0\n",
    "    skewness = (1 - 2 * p) / std_dev\n",
    "    kurtosis = (1 - 6 * p * (1 - p)) / var\n",
    "\n",
    "    # Create plot\n",
    "    fig, ax = plt.subplots(figsize=(12, 5))\n",
    "    ax.bar(k, probs, color='skyblue', edgecolor='black')\n",
    "    ax.set_title(f'Binomial PMF (n = {n}, p = {p})')\n",
    "    ax.set_xlabel('Number of Successes (k)')\n",
    "    ax.set_ylabel('Probability')\n",
    "    ax.grid(axis='y', linestyle='--', alpha=0.7)\n",
    "\n",
    "    # Text boxes for each category of statistics\n",
    "    location_stats = (\n",
    "        f\"Measures of Location\\n\"\n",
    "        f\"- Mean: {mean:.2f}\\n\"\n",
    "        f\"- Median: {median:.2f}\\n\"\n",
    "        f\"- Mode: {mode:.0f}\"\n",
    "    )\n",
    "\n",
    "    dispersion_stats = (\n",
    "        f\"Measures of Dispersion\\n\"\n",
    "        f\"- Range: {value_range}\\n\"\n",
    "        f\"- Q1: {binom.ppf(0.25, n, p):.2f}\\n\"\n",
    "        f\"- Q3: {binom.ppf(0.75, n, p):.2f}\\n\"\n",
    "        f\"- IQR: {iqr:.2f}\\n\"\n",
    "        f\"- Std Dev: {std_dev:.2f}\"\n",
    "    )\n",
    "\n",
    "    shape_stats = (\n",
    "        f\"Measures of Shape\\n\"\n",
    "        f\"- Skewness: {skewness:.2f}\\n\"\n",
    "        f\"- Kurtosis: {kurtosis:.2f}\"\n",
    "    )\n",
    "\n",
    "    # Add each stats box in a different location\n",
    "    ax.text(1.02, 0.95, location_stats, transform=ax.transAxes,\n",
    "            fontsize=10, verticalalignment='top',\n",
    "            bbox=dict(boxstyle='round,pad=0.4', facecolor='whitesmoke'))\n",
    "\n",
    "    ax.text(1.02, 0.665, dispersion_stats, transform=ax.transAxes,\n",
    "            fontsize=10, verticalalignment='top',\n",
    "            bbox=dict(boxstyle='round,pad=0.4', facecolor='honeydew'))\n",
    "\n",
    "    ax.text(1.02, 0.30, shape_stats, transform=ax.transAxes,\n",
    "            fontsize=10, verticalalignment='top',\n",
    "            bbox=dict(boxstyle='round,pad=0.4', facecolor='lavender'))\n",
    "\n",
    "    plt.tight_layout()\n",
    "    plt.show()\n",
    "\n",
    "# Interactive widgets\n",
    "n_slider = widgets.IntSlider(value=50, min=1, max=100, step=1, description='n (trials):')\n",
    "p_slider = widgets.FloatSlider(value=0.5, min=0.0, max=1.0, step=0.01, description='p (success):')\n",
    "\n",
    "ui = widgets.VBox([n_slider, p_slider])\n",
    "out = widgets.interactive_output(plot_binomial, {'n': n_slider, 'p': p_slider})\n",
    "\n",
    "# Display the widget\n",
    "display(ui, out)"
   ]
  },
  {
   "cell_type": "markdown",
   "id": "c7ffef0a",
   "metadata": {},
   "source": [
    "```{attention}\n",
    "## The Monty Hall Problem\n",
    "\n",
    "The Monty Hall Problem is a classic example of how human intuition often goes against probabilistic reasoning.\n",
    "\n",
    "**Scenario:** You're on a game show, wherein there are 3 doors. Behind one door is a car (the prize), while behind the other two doors are goats. You pick one door (say, Door #1), then the host (Monty Hall), who knows what’s behind all the doors, opens another door (say, Door #3), which has a goat. Monty then gives you a choice: Stick with your original pick (Door #1), or Switch to the remaining unopened door (Door #2).\n",
    "\n",
    "**Question:** Should you switch?\n",
    "\n",
    "**Solution:** Most people think the chances are now 50-50 between the two remaining doors, but this intuition is wrong. When you initially picked a door, your chance of picking the car was 1/3, while the change of picking a goat was 2/3. Since Monty will always open a door with a goat, giving you information, thus if your original pick was wrong (2/3 chance), switching will win you the car, however, if your original pick was right (1/3 chance), switching will lose you the car. Essentially, the probability of winning if you switch is 2/3, whereas sticking keeps you at 1/3. The table below details these possible set of events.\n",
    "\n",
    "| Initial Pick | Car Location | Monty Opens | Switch Wins? |\n",
    "|--------------|--------------|-------------|--------------|\n",
    "| Door 1       | Door 1       | Door 2/3    | ❌            |\n",
    "| Door 1       | Door 2       | Door 3      | ✅            |\n",
    "| Door 1       | Door 3       | Door 2      | ✅            |\n",
    "\n",
    "Out of 3 equally likely configurations, switching wins in 2 of them.\n",
    "```"
   ]
  }
 ],
 "metadata": {
  "kernelspec": {
   "display_name": "Python 3",
   "language": "python",
   "name": "python3"
  },
  "language_info": {
   "codemirror_mode": {
    "name": "ipython",
    "version": 3
   },
   "file_extension": ".py",
   "mimetype": "text/x-python",
   "name": "python",
   "nbconvert_exporter": "python",
   "pygments_lexer": "ipython3",
   "version": "3.13.0"
  }
 },
 "nbformat": 4,
 "nbformat_minor": 5
}
