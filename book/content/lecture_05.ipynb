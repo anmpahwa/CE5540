{
 "cells": [
  {
   "cell_type": "markdown",
   "id": "d7ec273c",
   "metadata": {},
   "source": [
    "# Lecture 5: Probability Theory\n",
    "\n",
    "```{note}\n",
    "This lecture introduces common distributions including discrete value distributions such as the Binomial and Poisson distributions, as well as continuous value distributions such as Uniform, Normal, and Exponential distributions.\n",
    "```\n",
    "\n",
    "---\n",
    "\n",
    "## Binomial Distribution\n",
    "\n",
    "Given, a Bernoulli trial - a single experiment with exactly two possible outcomes: success and failure, the Binomial Distribution is a discrete probability distribution that models the number of successes in a fixed number of independent Bernoulli trials, each with the same probability of success. For instance, consider a box of tickets wherein $p$ proportion of tickets are labeled as 1 while $1-p$ are labeled as 0. If we were to draw $n$ tickets (with replacement) the probability of drawing exactly $k$ tickets labeled as 1 follows a Binmial Distribution. Specifically, since each draw is an identical, indepedent, random (IIR) event, this proability can be evaluated as, $P(X = k) = p^k (1-p)^{(n-k)}$ $_nC_k$"
   ]
  },
  {
   "cell_type": "code",
   "execution_count": 26,
   "id": "732c5f66",
   "metadata": {},
   "outputs": [
    {
     "data": {
      "application/vnd.jupyter.widget-view+json": {
       "model_id": "8ae299a2e4454bfaa2dc9741547cb2ad",
       "version_major": 2,
       "version_minor": 0
      },
      "text/plain": [
       "VBox(children=(IntSlider(value=50, description='n (trials):', min=1), FloatSlider(value=0.5, description='p (s…"
      ]
     },
     "metadata": {},
     "output_type": "display_data"
    },
    {
     "data": {
      "application/vnd.jupyter.widget-view+json": {
       "model_id": "33ded74cdf9b429b83e0366cb5bcfbf1",
       "version_major": 2,
       "version_minor": 0
      },
      "text/plain": [
       "Output()"
      ]
     },
     "metadata": {},
     "output_type": "display_data"
    }
   ],
   "source": [
    "import numpy as np\n",
    "import matplotlib.pyplot as plt\n",
    "from scipy.stats import binom\n",
    "import ipywidgets as widgets\n",
    "from IPython.display import display\n",
    "\n",
    "# Function to plot the binomial histogram\n",
    "def plot_binomial(n, p):\n",
    "    k = np.arange(0, n + 1)\n",
    "    probs = binom.pmf(k, n, p)\n",
    "\n",
    "    # Theoretical statistics\n",
    "    mean = n * p\n",
    "    median = np.floor(n * p) if p != 0.5 else n / 2\n",
    "    mode = np.floor((n + 1) * p)\n",
    "    var = n * p * (1 - p)\n",
    "    std_dev = np.sqrt(var)\n",
    "    iqr = binom.ppf(0.75, n, p) - binom.ppf(0.25, n, p)\n",
    "    value_range = n  # Range = max - min = n - 0\n",
    "    skewness = (1 - 2 * p) / std_dev\n",
    "    kurtosis = (1 - 6 * p * (1 - p)) / var\n",
    "\n",
    "    # Create plot\n",
    "    fig, ax = plt.subplots(figsize=(12, 5))\n",
    "    ax.bar(k, probs, color='skyblue', edgecolor='black')\n",
    "    ax.set_title(f'Binomial PMF (n = {n}, p = {p})')\n",
    "    ax.set_xlabel('Number of Successes (k)')\n",
    "    ax.set_ylabel('Probability')\n",
    "    ax.grid(axis='y', linestyle='--', alpha=0.7)\n",
    "\n",
    "    # Text boxes for each category of statistics\n",
    "    location_stats = (\n",
    "        f\"Measures of Location\\n\"\n",
    "        f\"- Mean: {mean:.2f}\\n\"\n",
    "        f\"- Median: {median:.2f}\\n\"\n",
    "        f\"- Mode: {mode:.0f}\"\n",
    "    )\n",
    "\n",
    "    dispersion_stats = (\n",
    "        f\"Measures of Dispersion\\n\"\n",
    "        f\"- Range: {value_range}\\n\"\n",
    "        f\"- Q1: {binom.ppf(0.25, n, p):.2f}\\n\"\n",
    "        f\"- Q3: {binom.ppf(0.75, n, p):.2f}\\n\"\n",
    "        f\"- IQR: {iqr:.2f}\\n\"\n",
    "        f\"- Std Dev: {std_dev:.2f}\"\n",
    "    )\n",
    "\n",
    "    shape_stats = (\n",
    "        f\"Measures of Shape\\n\"\n",
    "        f\"- Skewness: {skewness:.2f}\\n\"\n",
    "        f\"- Kurtosis: {kurtosis:.2f}\"\n",
    "    )\n",
    "\n",
    "    # Add each stats box in a different location\n",
    "    ax.text(1.02, 0.95, location_stats, transform=ax.transAxes,\n",
    "            fontsize=10, verticalalignment='top',\n",
    "            bbox=dict(boxstyle='round,pad=0.4', facecolor='whitesmoke'))\n",
    "\n",
    "    ax.text(1.02, 0.665, dispersion_stats, transform=ax.transAxes,\n",
    "            fontsize=10, verticalalignment='top',\n",
    "            bbox=dict(boxstyle='round,pad=0.4', facecolor='honeydew'))\n",
    "\n",
    "    ax.text(1.02, 0.30, shape_stats, transform=ax.transAxes,\n",
    "            fontsize=10, verticalalignment='top',\n",
    "            bbox=dict(boxstyle='round,pad=0.4', facecolor='lavender'))\n",
    "\n",
    "    plt.tight_layout()\n",
    "    plt.show()\n",
    "\n",
    "# Interactive widgets\n",
    "n_slider = widgets.IntSlider(value=50, min=1, max=100, step=1, description='n (trials):')\n",
    "p_slider = widgets.FloatSlider(value=0.5, min=0.01, max=0.99, step=0.01, description='p (success):')\n",
    "\n",
    "ui = widgets.VBox([n_slider, p_slider])\n",
    "out = widgets.interactive_output(plot_binomial, {'n': n_slider, 'p': p_slider})\n",
    "\n",
    "# Display the widget\n",
    "display(ui, out)"
   ]
  },
  {
   "cell_type": "markdown",
   "id": "46de0968",
   "metadata": {},
   "source": [
    "## Poisson Distribution\n",
    "\n",
    "Given, a Bernoulli trial - a single experiment with exactly two possible outcomes: success and failure, the Poisson Distribution is a discrete probability distribution that models the number of successes in a fixed number of independent Bernoulli trials, each with the same but rare probability of success. For instance, consider a box of tickets wherein a very small proportion ($p$) of tickets are labeled as 1 while $1-p$ are labeled as 0. If we were to draw $n$ tickets (with replacement) such that the expected number of 1s remains fixed at $\\lambda = np$, then probability of drawing exactly $k$ tickets labeled as 1 follows a Binmial Distribution $P(X = k) = \\binom{n}{k} p^k (1 - p)^{n - k}$ that converges to the Poisson form $P(X = k) = \\lambda^k e^{-\\lambda} / {k!}$."
   ]
  },
  {
   "cell_type": "code",
   "execution_count": 27,
   "id": "981b7567",
   "metadata": {},
   "outputs": [
    {
     "data": {
      "application/vnd.jupyter.widget-view+json": {
       "model_id": "aa728d87934d4576b43cc25752a2d4aa",
       "version_major": 2,
       "version_minor": 0
      },
      "text/plain": [
       "VBox(children=(IntSlider(value=3, description='λ (rate):', max=15, min=1),))"
      ]
     },
     "metadata": {},
     "output_type": "display_data"
    },
    {
     "data": {
      "application/vnd.jupyter.widget-view+json": {
       "model_id": "335d97a72fbc43fa90e1244fc89f12bb",
       "version_major": 2,
       "version_minor": 0
      },
      "text/plain": [
       "Output()"
      ]
     },
     "metadata": {},
     "output_type": "display_data"
    }
   ],
   "source": [
    "import numpy as np\n",
    "import ipywidgets as widgets\n",
    "import matplotlib.pyplot as plt\n",
    "from scipy.stats import poisson\n",
    "from IPython.display import display\n",
    "\n",
    "# Function to plot Poisson PMF with statistics\n",
    "def plot_poisson(lambd):\n",
    "    x = np.arange(0, max(20, int(lambd + 4 * np.sqrt(lambd))))  # Extend range for higher λ\n",
    "    pmf = poisson.pmf(x, lambd)\n",
    "\n",
    "    # Theoretical statistics\n",
    "    mean = lambd\n",
    "    median = np.floor(lambd + 1/3 - 0.02/lambd)  # Approximation\n",
    "    mode = np.floor(lambd)\n",
    "    var = lambd\n",
    "    std_dev = np.sqrt(var)\n",
    "    q1 = poisson.ppf(0.25, lambd)\n",
    "    q3 = poisson.ppf(0.75, lambd)\n",
    "    iqr = q3 - q1\n",
    "    value_range = x[-1] - x[0]\n",
    "    skewness = 1 / np.sqrt(lambd)\n",
    "    kurtosis = 1 / lambd\n",
    "\n",
    "    # Create plot\n",
    "    fig, ax = plt.subplots(figsize=(12, 5))\n",
    "    ax.bar(x, pmf, color='lightcoral', edgecolor='black')\n",
    "    ax.set_title(f'Poisson PMF (λ = {lambd})')\n",
    "    ax.set_xlabel('Number of Events (k)')\n",
    "    ax.set_ylabel('Probability')\n",
    "    ax.grid(axis='y', linestyle='--', alpha=0.7)\n",
    "\n",
    "    # Text boxes for each category of statistics\n",
    "    location_stats = (\n",
    "        f\"Measures of Location\\n\"\n",
    "        f\"- Mean: {mean:.2f}\\n\"\n",
    "        f\"- Median: {median:.2f}\\n\"\n",
    "        f\"- Mode: {mode:.0f}\"\n",
    "    )\n",
    "\n",
    "    dispersion_stats = (\n",
    "        f\"Measures of Dispersion\\n\"\n",
    "        f\"- Range: {value_range}\\n\"\n",
    "        f\"- Q1: {q1:.2f}\\n\"\n",
    "        f\"- Q3: {q3:.2f}\\n\"\n",
    "        f\"- IQR: {iqr:.2f}\\n\"\n",
    "        f\"- Std Dev: {std_dev:.2f}\"\n",
    "    )\n",
    "\n",
    "    shape_stats = (\n",
    "        f\"Measures of Shape\\n\"\n",
    "        f\"- Skewness: {skewness:.2f}\\n\"\n",
    "        f\"- Kurtosis: {kurtosis:.2f}\"\n",
    "    )\n",
    "\n",
    "    # Add stats boxes\n",
    "    ax.text(1.02, 0.95, location_stats, transform=ax.transAxes,\n",
    "            fontsize=10, verticalalignment='top',\n",
    "            bbox=dict(boxstyle='round,pad=0.4', facecolor='whitesmoke'))\n",
    "\n",
    "    ax.text(1.02, 0.665, dispersion_stats, transform=ax.transAxes,\n",
    "            fontsize=10, verticalalignment='top',\n",
    "            bbox=dict(boxstyle='round,pad=0.4', facecolor='honeydew'))\n",
    "\n",
    "    ax.text(1.02, 0.30, shape_stats, transform=ax.transAxes,\n",
    "            fontsize=10, verticalalignment='top',\n",
    "            bbox=dict(boxstyle='round,pad=0.4', facecolor='lavender'))\n",
    "\n",
    "    plt.tight_layout()\n",
    "    plt.show()\n",
    "\n",
    "# Interactive widget\n",
    "lambda_slider = widgets.IntSlider(value=3, min=1, max=15, description='λ (rate):')\n",
    "ui = widgets.VBox([lambda_slider])\n",
    "out = widgets.interactive_output(plot_poisson, {'lambd': lambda_slider})\n",
    "\n",
    "# Display\n",
    "display(ui, out)"
   ]
  },
  {
   "cell_type": "markdown",
   "id": "02c9d1d9",
   "metadata": {},
   "source": [
    "## Uniform Distribution\n",
    "\n",
    "The Uniform Distribution is a continuous probability distribution that models a situation where all outcomes within a specific range are equally likely. Here, consider a box containing an infinite number of tickets, each labeled with a unique real number between $a$ and $b$. If we draw one ticket uniformly at random, then any number $x \\in [a, b]$ is equally likely to be drawn. Since the probability of drawing any exact number is zero in a continuous setting, we describe the distribution using a constant probability density function: $f(X = x) = \\frac{1}{b - a}$ for $x \\in [a, b]$."
   ]
  },
  {
   "cell_type": "code",
   "execution_count": null,
   "id": "65b4a8df",
   "metadata": {},
   "outputs": [
    {
     "data": {
      "application/vnd.jupyter.widget-view+json": {
       "model_id": "821d5154131a458c98a32c40dc43344c",
       "version_major": 2,
       "version_minor": 0
      },
      "text/plain": [
       "VBox(children=(FloatSlider(value=-10.0, description='a (min):', max=-1.0, min=-10.0, step=0.5), FloatSlider(va…"
      ]
     },
     "metadata": {},
     "output_type": "display_data"
    },
    {
     "data": {
      "application/vnd.jupyter.widget-view+json": {
       "model_id": "2dfa8c80345643d8b6b1bfb83de7d961",
       "version_major": 2,
       "version_minor": 0
      },
      "text/plain": [
       "Output()"
      ]
     },
     "metadata": {},
     "output_type": "display_data"
    }
   ],
   "source": [
    "import numpy as np\n",
    "import ipywidgets as widgets\n",
    "import matplotlib.pyplot as plt\n",
    "from scipy.stats import uniform\n",
    "from IPython.display import display\n",
    "\n",
    "# Function to plot uniform PDF with statistics\n",
    "def plot_uniform(a, b):\n",
    "    if b <= a:\n",
    "        print(\"Upper bound must be greater than lower bound.\")\n",
    "        return\n",
    "\n",
    "    x = np.linspace(-20, 20, 500)\n",
    "    pdf = uniform.pdf(x, loc=a, scale=b - a)\n",
    "\n",
    "    # Theoretical statistics\n",
    "    mean = (a + b) / 2\n",
    "    median = mean\n",
    "    mode = \"Any value in [a, b]\"\n",
    "    value_range = b - a\n",
    "    q1 = a + 0.25 * (b - a)\n",
    "    q3 = a + 0.75 * (b - a)\n",
    "    iqr = q3 - q1\n",
    "    std_dev = (b - a) / np.sqrt(12)\n",
    "    skewness = 0\n",
    "    kurtosis = -6/5  # Excess kurtosis for uniform\n",
    "\n",
    "    # Create plot\n",
    "    fig, ax = plt.subplots(figsize=(12, 5))\n",
    "    ax.plot(x, pdf, color='darkorange', linewidth=2)\n",
    "    ax.fill_between(x, pdf, color='moccasin', alpha=0.5)\n",
    "    ax.set_title(f'Uniform PDF (a = {a}, b = {np.round(b,1)})')\n",
    "    ax.set_xlabel('x')\n",
    "    ax.set_ylabel('Density')\n",
    "    ax.set_xlim(-25, 25)\n",
    "    ax.grid(axis='y', linestyle='--', alpha=0.7)\n",
    "\n",
    "    # Statistics boxes\n",
    "    location_stats = (\n",
    "        f\"Measures of Location\\n\"\n",
    "        f\"- Mean: {mean:.2f}\\n\"\n",
    "        f\"- Median: {median:.2f}\\n\"\n",
    "        f\"- Mode: {mode}\"\n",
    "    )\n",
    "\n",
    "    dispersion_stats = (\n",
    "        f\"Measures of Dispersion\\n\"\n",
    "        f\"- Range: {value_range:.2f}\\n\"\n",
    "        f\"- Q1: {q1:.2f}\\n\"\n",
    "        f\"- Q3: {q3:.2f}\\n\"\n",
    "        f\"- IQR: {iqr:.2f}\\n\"\n",
    "        f\"- Std Dev: {std_dev:.2f}\"\n",
    "    )\n",
    "\n",
    "    shape_stats = (\n",
    "        f\"Measures of Shape\\n\"\n",
    "        f\"- Skewness: {skewness:.2f}\\n\"\n",
    "        f\"- Kurtosis: {kurtosis:.2f}\"\n",
    "    )\n",
    "\n",
    "    # Add stats boxes\n",
    "    ax.text(1.02, 0.95, location_stats, transform=ax.transAxes,\n",
    "            fontsize=10, verticalalignment='top',\n",
    "            bbox=dict(boxstyle='round,pad=0.4', facecolor='whitesmoke'))\n",
    "\n",
    "    ax.text(1.02, 0.665, dispersion_stats, transform=ax.transAxes,\n",
    "            fontsize=10, verticalalignment='top',\n",
    "            bbox=dict(boxstyle='round,pad=0.4', facecolor='honeydew'))\n",
    "\n",
    "    ax.text(1.02, 0.30, shape_stats, transform=ax.transAxes,\n",
    "            fontsize=10, verticalalignment='top',\n",
    "            bbox=dict(boxstyle='round,pad=0.4', facecolor='lavender'))\n",
    "\n",
    "    plt.tight_layout()\n",
    "    plt.show()\n",
    "\n",
    "# Interactive widgets\n",
    "a_slider = widgets.FloatSlider(value=-10, min=-10, max=-1, step=0.5, description='a (min):')\n",
    "b_slider = widgets.FloatSlider(value=10, min=1, max=10, step=0.5, description='b (max):')\n",
    "\n",
    "ui = widgets.VBox([a_slider, b_slider])\n",
    "out = widgets.interactive_output(plot_uniform, {'a': a_slider, 'b': b_slider})\n",
    "\n",
    "# Display\n",
    "display(ui, out)\n"
   ]
  },
  {
   "cell_type": "markdown",
   "id": "362dfe67",
   "metadata": {},
   "source": [
    "## Normal Distribution\n",
    "\n",
    "The Normal distribution, also known as the Gaussian distribution, is a continuous probability distribution that emerges from the Central Limit Theorem. Here, consider a box containing an infinite number of tickets, each labeled with a unique real number rendering a fixed mean $\\mu$ and variance $\\sigma^2$. If we repeatedly draw tickets from this box — say, $n$ independent draws (with replacement) — and compute the average of the values drawn, the distribution of that average will increasingly resemble a bell-shaped curve with probability density function is given by $f(x) = \\frac{1}{\\sqrt{2\\pi \\sigma^2}} e^{-\\frac{(x - \\mu)^2}{2\\sigma^2}}$, as the number of draws becomes large. Thus, the normal distribution can be seen as the emergent shape that results from aggregating randomness — a natural consequence of repeatedly averaging values from a well-behaved box."
   ]
  },
  {
   "cell_type": "code",
   "execution_count": null,
   "id": "9499befe",
   "metadata": {},
   "outputs": [
    {
     "data": {
      "application/vnd.jupyter.widget-view+json": {
       "model_id": "3f8f29c17fdd4781ab8a6d03ddb135e3",
       "version_major": 2,
       "version_minor": 0
      },
      "text/plain": [
       "VBox(children=(FloatSlider(value=0.0, description='μ (mean):', max=5.0, min=-5.0, step=0.5), FloatSlider(value…"
      ]
     },
     "metadata": {},
     "output_type": "display_data"
    },
    {
     "data": {
      "application/vnd.jupyter.widget-view+json": {
       "model_id": "c4ea7f15090141ac836b58d821b9b6fb",
       "version_major": 2,
       "version_minor": 0
      },
      "text/plain": [
       "Output()"
      ]
     },
     "metadata": {},
     "output_type": "display_data"
    }
   ],
   "source": [
    "import numpy as np\n",
    "import ipywidgets as widgets\n",
    "import matplotlib.pyplot as plt\n",
    "from scipy.stats import norm\n",
    "from IPython.display import display\n",
    "\n",
    "# Function to plot Normal PDF with annotated statistics\n",
    "def plot_normal(mu, sigma):\n",
    "    x = np.linspace(-25, 25, 500)\n",
    "    pdf = norm.pdf(x, mu, sigma)\n",
    "\n",
    "    # Theoretical statistics\n",
    "    mean = mu\n",
    "    median = mu\n",
    "    mode = mu\n",
    "    value_range = f\"Theoretically Infinite\"\n",
    "    q1 = norm.ppf(0.25, mu, sigma)\n",
    "    q3 = norm.ppf(0.75, mu, sigma)\n",
    "    iqr = q3 - q1\n",
    "    std_dev = sigma\n",
    "    skewness = 0\n",
    "    kurtosis = 0  # Excess kurtosis = 0 for normal\n",
    "\n",
    "    # Create plot\n",
    "    fig, ax = plt.subplots(figsize=(12, 5))\n",
    "    ax.plot(x, pdf, color='teal', linewidth=2)\n",
    "    ax.fill_between(x, pdf, color='lightblue', alpha=0.5)\n",
    "    ax.set_title(f'Normal PDF (μ = {mu}, σ = {np.round(sigma,1)})')\n",
    "    ax.set_xlabel('x')\n",
    "    ax.set_ylabel('Density')\n",
    "    ax.grid(axis='y', linestyle='--', alpha=0.7)\n",
    "\n",
    "    # Statistics boxes\n",
    "    location_stats = (\n",
    "        f\"Measures of Location\\n\"\n",
    "        f\"- Mean: {mean:.2f}\\n\"\n",
    "        f\"- Median: {median:.2f}\\n\"\n",
    "        f\"- Mode: {mode:.2f}\"\n",
    "    )\n",
    "\n",
    "    dispersion_stats = (\n",
    "        f\"Measures of Dispersion\\n\"\n",
    "        f\"- Range: {value_range}\\n\"\n",
    "        f\"- Q1: {q1:.2f}\\n\"\n",
    "        f\"- Q3: {q3:.2f}\\n\"\n",
    "        f\"- IQR: {iqr:.2f}\\n\"\n",
    "        f\"- Std Dev: {std_dev:.2f}\"\n",
    "    )\n",
    "\n",
    "    shape_stats = (\n",
    "        f\"Measures of Shape\\n\"\n",
    "        f\"- Skewness: {skewness:.2f}\\n\"\n",
    "        f\"- Kurtosis: {kurtosis:.2f}\"\n",
    "    )\n",
    "\n",
    "    # Add text boxes\n",
    "    ax.text(1.02, 0.95, location_stats, transform=ax.transAxes,\n",
    "            fontsize=10, verticalalignment='top',\n",
    "            bbox=dict(boxstyle='round,pad=0.4', facecolor='whitesmoke'))\n",
    "\n",
    "    ax.text(1.02, 0.665, dispersion_stats, transform=ax.transAxes,\n",
    "            fontsize=10, verticalalignment='top',\n",
    "            bbox=dict(boxstyle='round,pad=0.4', facecolor='honeydew'))\n",
    "\n",
    "    ax.text(1.02, 0.30, shape_stats, transform=ax.transAxes,\n",
    "            fontsize=10, verticalalignment='top',\n",
    "            bbox=dict(boxstyle='round,pad=0.4', facecolor='lavender'))\n",
    "\n",
    "    plt.tight_layout()\n",
    "    plt.show()\n",
    "\n",
    "# Interactive widgets\n",
    "mu_slider = widgets.FloatSlider(value=0, min=-5, max=5, step=0.5, description='μ (mean):')\n",
    "sigma_slider = widgets.FloatSlider(value=1, min=0.1, max=5, step=0.1, description='σ (std dev):')\n",
    "\n",
    "ui = widgets.VBox([mu_slider, sigma_slider])\n",
    "out = widgets.interactive_output(plot_normal, {'mu': mu_slider, 'sigma': sigma_slider})\n",
    "\n",
    "# Display\n",
    "display(ui, out)\n"
   ]
  },
  {
   "cell_type": "markdown",
   "id": "849d9101",
   "metadata": {},
   "source": [
    "## Exponential Distribution\n",
    "\n",
    "Given a Bernoulli trial — a single experiment with exactly two possible outcomes: success and failure — the Exponential Distribution is a continuous probability distribution that models the time to first success in a sequence of independent Bernoulli trials, each with the same but rare probability of success. For instance, consider a box of tickets wherein a very small proportion $(p)$ of tickets are labeled as 1, while $1 - p$ are labeled as 0. If we were to draw $n$ tickets (with replacement), each at a regular interval of $\\Delta t$ such that the expected number of 1s remains fixed at $\\lambda = np$, then the time to the first ticket labeled 1 is described by the probability density function $f(t) = \\lambda e^{-\\lambda t}$ for $t \\ge 0$, where $\\lambda$ is the constant rate of occurrence."
   ]
  },
  {
   "cell_type": "code",
   "execution_count": null,
   "id": "148b043b",
   "metadata": {},
   "outputs": [
    {
     "data": {
      "application/vnd.jupyter.widget-view+json": {
       "model_id": "0bfc135aa58e4f91bbdbafa90780c951",
       "version_major": 2,
       "version_minor": 0
      },
      "text/plain": [
       "VBox(children=(FloatSlider(value=1.0, description='Scale (λ⁻¹):', max=5.0, min=0.1),))"
      ]
     },
     "metadata": {},
     "output_type": "display_data"
    },
    {
     "data": {
      "application/vnd.jupyter.widget-view+json": {
       "model_id": "365c0f6cd23d487aa2291178d807bb8d",
       "version_major": 2,
       "version_minor": 0
      },
      "text/plain": [
       "Output()"
      ]
     },
     "metadata": {},
     "output_type": "display_data"
    }
   ],
   "source": [
    "import numpy as np\n",
    "import ipywidgets as widgets\n",
    "from scipy.stats import expon\n",
    "import matplotlib.pyplot as plt\n",
    "from IPython.display import display\n",
    "\n",
    "# Function to plot Exponential PDF with annotated statistics\n",
    "def plot_exponential(scale):\n",
    "    x = np.linspace(-5, 25, 500)\n",
    "    pdf = expon.pdf(x, scale=scale)\n",
    "\n",
    "    # Theoretical statistics\n",
    "    mean = scale\n",
    "    median = scale * np.log(2)\n",
    "    mode = 0\n",
    "    value_range = \"0 to ∞\"\n",
    "    q1 = expon.ppf(0.25, scale=scale)\n",
    "    q3 = expon.ppf(0.75, scale=scale)\n",
    "    iqr = q3 - q1\n",
    "    std_dev = scale\n",
    "    skewness = 2\n",
    "    kurtosis = 6  # Excess kurtosis = 6\n",
    "\n",
    "    # Create plot\n",
    "    fig, ax = plt.subplots(figsize=(12, 5))\n",
    "    ax.plot(x, pdf, color='darkgreen', linewidth=2)\n",
    "    ax.fill_between(x, pdf, color='palegreen', alpha=0.5)\n",
    "    ax.set_title(f'Exponential PDF (scale = {np.round(scale,1)})')\n",
    "    ax.set_xlabel('x')\n",
    "    ax.set_ylabel('Density')\n",
    "    ax.set_xlim(-5, 25)\n",
    "    ax.grid(axis='y', linestyle='--', alpha=0.7)\n",
    "\n",
    "    # Statistics boxes\n",
    "    location_stats = (\n",
    "        f\"Measures of Location\\n\"\n",
    "        f\"- Mean: {mean:.2f}\\n\"\n",
    "        f\"- Median: {median:.2f}\\n\"\n",
    "        f\"- Mode: {mode}\"\n",
    "    )\n",
    "\n",
    "    dispersion_stats = (\n",
    "        f\"Measures of Dispersion\\n\"\n",
    "        f\"- Range: {value_range}\\n\"\n",
    "        f\"- Q1: {q1:.2f}\\n\"\n",
    "        f\"- Q3: {q3:.2f}\\n\"\n",
    "        f\"- IQR: {iqr:.2f}\\n\"\n",
    "        f\"- Std Dev: {std_dev:.2f}\"\n",
    "    )\n",
    "\n",
    "    shape_stats = (\n",
    "        f\"Measures of Shape\\n\"\n",
    "        f\"- Skewness: {skewness:.2f}\\n\"\n",
    "        f\"- Kurtosis: {kurtosis:.2f}\"\n",
    "    )\n",
    "\n",
    "    # Add text boxes\n",
    "    ax.text(1.02, 0.95, location_stats, transform=ax.transAxes,\n",
    "            fontsize=10, verticalalignment='top',\n",
    "            bbox=dict(boxstyle='round,pad=0.4', facecolor='whitesmoke'))\n",
    "\n",
    "    ax.text(1.02, 0.665, dispersion_stats, transform=ax.transAxes,\n",
    "            fontsize=10, verticalalignment='top',\n",
    "            bbox=dict(boxstyle='round,pad=0.4', facecolor='honeydew'))\n",
    "\n",
    "    ax.text(1.02, 0.30, shape_stats, transform=ax.transAxes,\n",
    "            fontsize=10, verticalalignment='top',\n",
    "            bbox=dict(boxstyle='round,pad=0.4', facecolor='lavender'))\n",
    "\n",
    "    plt.tight_layout()\n",
    "    plt.show()\n",
    "\n",
    "# Interactive widget\n",
    "scale_slider = widgets.FloatSlider(value=1.0, min=0.1, max=5.0, step=0.1, description='Scale (λ⁻¹):')\n",
    "\n",
    "ui = widgets.VBox([scale_slider])\n",
    "out = widgets.interactive_output(plot_exponential, {'scale': scale_slider})\n",
    "\n",
    "# Display\n",
    "display(ui, out)\n"
   ]
  }
 ],
 "metadata": {
  "kernelspec": {
   "display_name": "Python 3",
   "language": "python",
   "name": "python3"
  },
  "language_info": {
   "codemirror_mode": {
    "name": "ipython",
    "version": 3
   },
   "file_extension": ".py",
   "mimetype": "text/x-python",
   "name": "python",
   "nbconvert_exporter": "python",
   "pygments_lexer": "ipython3",
   "version": "3.13.0"
  }
 },
 "nbformat": 4,
 "nbformat_minor": 5
}
