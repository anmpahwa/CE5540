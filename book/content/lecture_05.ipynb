{
 "cells": [
  {
   "cell_type": "markdown",
   "id": "d7ec273c",
   "metadata": {},
   "source": [
    "# Lecture 5: Probability Theory\n",
    "\n",
    "```{note}\n",
    "This lecture builds upon the previous lecture on probability theory, introducing the concepts of ...\n",
    "```\n",
    "\n",
    "---\n",
    "\n",
    "## The Monty Hall Problem\n",
    "\n",
    "The Monty Hall Problem is a classic example of how human intuition often goes against probabilistic reasoning.\n",
    "\n",
    "**Scenario:** You're on a game show, wherein there are 3 doors. Behind one door is a car (the prize), while behind the other two doors are goats. You pick one door (say, Door #1), then the host (Monty Hall), who knows what’s behind all the doors, opens another door (say, Door #3), which has a goat. Monty then gives you a choice: Stick with your original pick (Door #1), or Switch to the remaining unopened door (Door #2).\n",
    "\n",
    "**Question:** Should you switch?\n",
    "\n",
    "**Solution:** Most people think the chances are now 50-50 between the two remaining doors, but this intuition is wrong. When you initially picked a door, your chance of picking the car was 1/3, while the change of picking a goat was 2/3. Since Monty will always open a door with a goat, giving you information, thus if your original pick was wrong (2/3 chance), switching will win you the car, however, if your original pick was right (1/3 chance), switching will lose you the car. Essentially, the probability of winning if you switch is 2/3, whereas sticking keeps you at 1/3. The table below details these possible set of events.\n",
    "\n",
    "| Initial Pick | Car Location | Monty Opens | Switch Wins? |\n",
    "|--------------|--------------|-------------|--------------|\n",
    "| Door 1       | Door 1       | Door 2/3    | ❌            |\n",
    "| Door 1       | Door 2       | Door 3      | ✅            |\n",
    "| Door 1       | Door 3       | Door 2      | ✅            |\n",
    "\n",
    "Out of 3 equally likely configurations, switching wins in 2 of them.\n",
    "\n",
    "---"
   ]
  }
 ],
 "metadata": {
  "language_info": {
   "name": "python"
  }
 },
 "nbformat": 4,
 "nbformat_minor": 5
}
