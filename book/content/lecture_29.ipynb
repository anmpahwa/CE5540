{
 "cells": [
  {
   "cell_type": "markdown",
   "id": "8a7b3d02",
   "metadata": {},
   "source": [
    "# Lecture 29: Surplus Tutoiral"
   ]
  }
 ],
 "metadata": {
  "language_info": {
   "name": "python"
  }
 },
 "nbformat": 4,
 "nbformat_minor": 5
}
