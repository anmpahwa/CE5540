{
 "cells": [
  {
   "cell_type": "markdown",
   "id": "caec04cd",
   "metadata": {},
   "source": [
    "# Lecture 15: Surplus Tutorial"
   ]
  }
 ],
 "metadata": {
  "language_info": {
   "name": "python"
  }
 },
 "nbformat": 4,
 "nbformat_minor": 5
}
