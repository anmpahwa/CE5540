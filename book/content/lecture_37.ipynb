{
 "cells": [
  {
   "cell_type": "markdown",
   "id": "2f2bd268",
   "metadata": {},
   "source": [
    "# Lecture 37: Suplus Lecture"
   ]
  }
 ],
 "metadata": {
  "language_info": {
   "name": "python"
  }
 },
 "nbformat": 4,
 "nbformat_minor": 5
}
