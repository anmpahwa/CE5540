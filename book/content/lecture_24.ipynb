{
 "cells": [
  {
   "cell_type": "markdown",
   "id": "87612de6",
   "metadata": {},
   "source": [
    "# Lecture 24: Logistic Regression in R"
   ]
  },
  {
   "cell_type": "code",
   "execution_count": 3,
   "id": "3a99911e",
   "metadata": {
    "vscode": {
     "languageId": "r"
    }
   },
   "outputs": [],
   "source": [
    "# Load necessary libraries\n",
    "library(tidyr)\n",
    "library(dplyr)\n",
    "library(mlogit)\n",
    "library(ggplot2)\n",
    "options(repr.plot.width = 12, repr.plot.height = 8)"
   ]
  },
  {
   "cell_type": "code",
   "execution_count": 4,
   "id": "2e59a6ab",
   "metadata": {
    "vscode": {
     "languageId": "r"
    }
   },
   "outputs": [
    {
     "name": "stderr",
     "output_type": "stream",
     "text": [
      "Warning message in file(file, \"rt\"):\n",
      "“cannot open URL 'https://raw.githubusercontent.com/anmpahwa/CE5540/refs/heads/main/resources/ITUS_HHD_BD.csv': HTTP status was '404 Not Found'”\n"
     ]
    },
    {
     "ename": "ERROR",
     "evalue": "Error in file(file, \"rt\"): cannot open the connection to 'https://raw.githubusercontent.com/anmpahwa/CE5540/refs/heads/main/resources/ITUS_HHD_BD.csv'\n",
     "output_type": "error",
     "traceback": [
      "Error in file(file, \"rt\"): cannot open the connection to 'https://raw.githubusercontent.com/anmpahwa/CE5540/refs/heads/main/resources/ITUS_HHD_BD.csv'\nTraceback:\n",
      "1. read.table(file = file, header = header, sep = sep, quote = quote, \n .     dec = dec, fill = fill, comment.char = comment.char, ...)",
      "2. file(file, \"rt\")",
      "3. .handleSimpleError(function (cnd) \n . {\n .     watcher$capture_plot_and_output()\n .     cnd <- sanitize_call(cnd)\n .     watcher$push(cnd)\n .     switch(on_error, continue = invokeRestart(\"eval_continue\"), \n .         stop = invokeRestart(\"eval_stop\"), error = NULL)\n . }, \"cannot open the connection to 'https://raw.githubusercontent.com/anmpahwa/CE5540/refs/heads/main/resources/ITUS_HHD_BD.csv'\", \n .     base::quote(file(file, \"rt\")))"
     ]
    }
   ],
   "source": [
    "# 2024 ITUS Individual Data (model)\n",
    "url  <- \"https://raw.githubusercontent.com/anmpahwa/CE5540/refs/heads/main/resources/ITUS_HHD_BD.csv\"\n",
    "data <- read.csv(url) # Loading Data\n",
    "str(data)"
   ]
  },
  {
   "cell_type": "code",
   "execution_count": null,
   "id": "4f9691fe",
   "metadata": {
    "vscode": {
     "languageId": "r"
    }
   },
   "outputs": [],
   "source": [
    "# Counts\n",
    "counts <- data %>%\n",
    "  summarise(\n",
    "    None = sum(none, na.rm = TRUE),\n",
    "    InStore = sum(instore, na.rm = TRUE),\n",
    "    Online = sum(online, na.rm = TRUE),\n",
    "    Both = sum(both, na.rm = TRUE)\n",
    "  ) %>%\n",
    "  pivot_longer(cols = everything(), names_to = \"channel\", values_to = \"count\") %>%\n",
    "  mutate(share = (count / sum(count)))\n",
    "print(counts)"
   ]
  },
  {
   "cell_type": "code",
   "execution_count": null,
   "id": "cc94247f",
   "metadata": {
    "vscode": {
     "languageId": "r"
    }
   },
   "outputs": [],
   "source": [
    "# Temporal: Quarter Counts\n",
    "quarter_counts <- data %>%\n",
    "  summarise(\n",
    "    None_Q1 = sum(none * q1, na.rm = TRUE),\n",
    "    InStore_Q1 = sum(instore * q1, na.rm = TRUE),\n",
    "    Online_Q1 = sum(online * q1, na.rm = TRUE),\n",
    "    Both_Q1 = sum(both * q1, na.rm = TRUE),\n",
    "\n",
    "    None_Q2 = sum(none * q2, na.rm = TRUE),\n",
    "    InStore_Q2 = sum(instore * q2, na.rm = TRUE),\n",
    "    Online_Q2 = sum(online * q2, na.rm = TRUE),\n",
    "    Both_Q2 = sum(both * q2, na.rm = TRUE),\n",
    "\n",
    "    None_Q3 = sum(none * q3, na.rm = TRUE),\n",
    "    InStore_Q3 = sum(instore * q3, na.rm = TRUE),\n",
    "    Online_Q3 = sum(online * q3, na.rm = TRUE),\n",
    "    Both_Q3 = sum(both * q3, na.rm = TRUE),\n",
    "\n",
    "    None_Q4 = sum(none * q4, na.rm = TRUE),\n",
    "    InStore_Q4 = sum(instore * q4, na.rm = TRUE),\n",
    "    Online_Q4 = sum(online * q4, na.rm = TRUE),\n",
    "    Both_Q4 = sum(both * q4, na.rm = TRUE)\n",
    "  ) %>%\n",
    "  pivot_longer(cols = everything(), names_to = \"channel_quarter\", values_to = \"count\") %>%\n",
    "  separate(channel_quarter, into = c(\"channel\", \"quarter\"), sep = \"_\") %>%\n",
    "  group_by(quarter) %>%\n",
    "  mutate(share = (count / sum(count))) %>%\n",
    "  ungroup() %>%\n",
    "  mutate(channel = factor(channel, levels = c(\"None\", \"InStore\", \"Online\", \"Both\")))\n",
    "\n",
    "# Tabulate\n",
    "table <- quarter_counts %>%\n",
    "  ungroup() %>%\n",
    "  select(channel, quarter, share) %>%\n",
    "  pivot_wider(names_from = quarter, values_from = share)\n",
    "print(table)"
   ]
  },
  {
   "cell_type": "code",
   "execution_count": null,
   "id": "4adcab6e",
   "metadata": {
    "vscode": {
     "languageId": "r"
    }
   },
   "outputs": [],
   "source": [
    "# Spatial: Sector Counts\n",
    "sector_counts <- data %>%\n",
    "  summarise(\n",
    "    None_R = sum(none * rural, na.rm = TRUE),\n",
    "    InStore_R = sum(instore * rural, na.rm = TRUE),\n",
    "    Online_R = sum(online * rural, na.rm = TRUE),\n",
    "    Both_R = sum(both * rural, na.rm = TRUE),\n",
    "\n",
    "    None_U = sum(none * urban, na.rm = TRUE),\n",
    "    InStore_U = sum(instore * urban, na.rm = TRUE),\n",
    "    Online_U = sum(online * urban, na.rm = TRUE),\n",
    "    Both_U = sum(both * urban, na.rm = TRUE)\n",
    "  ) %>%\n",
    "  pivot_longer(cols = everything(), names_to = \"channel_sector\", values_to = \"count\") %>%\n",
    "  separate(channel_sector, into = c(\"channel\", \"sector\"), sep = \"_\") %>%\n",
    "  group_by(sector) %>%\n",
    "  mutate(share = (count / sum(count))) %>%\n",
    "  ungroup() %>%\n",
    "  mutate(channel = factor(channel, levels = c(\"None\", \"InStore\", \"Online\", \"Both\")))\n",
    "\n",
    "# Tabulate\n",
    "table <- sector_counts %>%\n",
    "  ungroup() %>%\n",
    "  select(channel, sector, share) %>%\n",
    "  pivot_wider(names_from = sector, values_from = share)\n",
    "print(table)"
   ]
  },
  {
   "cell_type": "code",
   "execution_count": null,
   "id": "969aff5e",
   "metadata": {
    "vscode": {
     "languageId": "r"
    }
   },
   "outputs": [],
   "source": [
    "# Prepare dataset\n",
    "long_data <- data %>%\n",
    "  select(\n",
    "    Unique_ID,\n",
    "    q1, q2, q3, q4,\n",
    "    weekday, weekend,\n",
    "    urban, rural, \n",
    "    north, west, south, east, central, north.east,\n",
    "    tierI, tierII, tierIII,\n",
    "    male, female, transgender,\n",
    "    gen_alpha, gen_z, millenials, gen_x, baby_boomers, silent,\n",
    "    not_married, married,\n",
    "    not_literate, primary, secondary, graduate_._above,\n",
    "    nilf, unemployed, employed,\n",
    "    family_structure, household_size,\n",
    "    disadvantaged, not_disadvantaged,\n",
    "    no_land, land_possessed,\n",
    "    low_income, medium_income, high_income,\n",
    "    no_dwelling, kutcha, pucca,\n",
    "    none, instore, online, both,\n",
    "    weight\n",
    "  ) %>%\n",
    "  pivot_longer(\n",
    "    cols = c(none, instore, online, both),\n",
    "    names_to = \"alt\", values_to = \"bin\"\n",
    "  ) %>%\n",
    "  mutate(bin = bin == 1)\n",
    "\n",
    "model_data <- mlogit.data(\n",
    "  long_data,\n",
    "  choice = \"bin\",\n",
    "  shape = \"long\",\n",
    "  chid.var = \"Unique_ID\",\n",
    "  alt.var = \"alt\"\n",
    ")"
   ]
  },
  {
   "cell_type": "code",
   "execution_count": null,
   "id": "8e95287d",
   "metadata": {
    "vscode": {
     "languageId": "r"
    }
   },
   "outputs": [],
   "source": [
    "# Esitmated Model\n",
    "model <- mlogit(\n",
    "    formula = bin ~ 1 | q1 + q2 + q3 +\n",
    "                        weekend +\n",
    "                        urban +\n",
    "                        north + west + south + east + north.east +\n",
    "                        tierI + tierII +\n",
    "                        female + \n",
    "                        gen_alpha + gen_z + millenials + gen_x + baby_boomers +\n",
    "                        married +\n",
    "                        primary + secondary + graduate_._above +\n",
    "                        unemployed + employed +\n",
    "                        family_structure + household_size +\n",
    "                        disadvantaged +\n",
    "                        medium_income + high_income,\n",
    "    data = model_data,\n",
    "    ref = \"none\",\n",
    "    weights = model_data$weight\n",
    "    )\n",
    "summary(model)"
   ]
  },
  {
   "cell_type": "code",
   "execution_count": null,
   "id": "b3cfbfeb",
   "metadata": {
    "vscode": {
     "languageId": "r"
    }
   },
   "outputs": [],
   "source": [
    "# Model Statistics\n",
    "I      <- nrow(data)\n",
    "J      <- length(unique(data$choice))\n",
    "K      <- length(coef(model))\n",
    "W      <- long_data$weight\n",
    "Y      <- long_data$bin\n",
    "Z      <- data %>%\n",
    "            summarise(\n",
    "              none = sum(none * weight, na.rm = TRUE) / sum(weight) * nrow(data),\n",
    "              instore = sum(instore * weight, na.rm = TRUE) / sum(weight) * nrow(data),\n",
    "              online = sum(online * weight, na.rm = TRUE) / sum(weight) * nrow(data),\n",
    "              both = sum(both * weight, na.rm = TRUE) / sum(weight) * nrow(data)\n",
    "            ) %>%\n",
    "            pivot_longer(cols = everything(), names_to = \"channel\", values_to = \"n\") %>%\n",
    "            mutate(p = (n / sum(n)))\n",
    "P      <- Z$p[model_data$alt] \n",
    "LL_EL  <- sum(Y * log(1/J))\n",
    "LL_MS  <- sum(Y * log(P))\n",
    "LL_MNL <- as.numeric(logLik(model))\n",
    "R2_EL  <- 1 - (LL_MNL / LL_EL)\n",
    "R2_MS  <- 1 - (LL_MNL / LL_MS)\n",
    "AR2_EL <- 1 - ((LL_MNL - K) / LL_EL)\n",
    "AR2_MS <- 1 - ((LL_MNL - K) / LL_MS)\n",
    "\n",
    "# --- Output ---\n",
    "cat(\"\\n--- Log-likelihoods ---\\n\")\n",
    "cat(sprintf(\"EL  : %0.3f\\n\", LL_EL))\n",
    "cat(sprintf(\"MS  : %0.3f\\n\", LL_MS))\n",
    "cat(sprintf(\"MNL : %0.3f\\n\", LL_MNL))\n",
    "cat(\"\\n--- McFadden R^2 ---\\n\")\n",
    "cat(sprintf(\"R2 vs EL : %0.4f\\n\", R2_EL))\n",
    "cat(sprintf(\"R2 vs MS : %0.4f\\n\", R2_MS))\n",
    "cat(\"\\n--- Adjusted McFadden R^2 ---\\n\")\n",
    "cat(sprintf(\"Adj R2 vs EL : %0.4f (K = %d)\\n\", AR2_EL, K))\n",
    "cat(sprintf(\"Adj R2 vs MS : %0.4f (K = %d)\\n\", AR2_MS, K))"
   ]
  }
 ],
 "metadata": {
  "kernelspec": {
   "display_name": "R",
   "language": "R",
   "name": "ir"
  },
  "language_info": {
   "codemirror_mode": "r",
   "file_extension": ".r",
   "mimetype": "text/x-r-source",
   "name": "R",
   "pygments_lexer": "r",
   "version": "4.5.1"
  }
 },
 "nbformat": 4,
 "nbformat_minor": 5
}
