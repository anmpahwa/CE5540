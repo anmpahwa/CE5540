{
 "cells": [
  {
   "cell_type": "markdown",
   "id": "87612de6",
   "metadata": {},
   "source": [
    "# Lecture 24: Logistic Regression in R"
   ]
  },
  {
   "cell_type": "code",
   "execution_count": null,
   "id": "3a99911e",
   "metadata": {
    "vscode": {
     "languageId": "r"
    }
   },
   "outputs": [],
   "source": [
    "# Load necessary libraries\n",
    "library(tidyr)\n",
    "library(dplyr)\n",
    "library(mlogit)\n",
    "library(ggplot2)\n",
    "options(repr.plot.width = 12, repr.plot.height = 8)"
   ]
  },
  {
   "cell_type": "code",
   "execution_count": 2,
   "id": "2e59a6ab",
   "metadata": {
    "vscode": {
     "languageId": "r"
    }
   },
   "outputs": [
    {
     "name": "stdout",
     "output_type": "stream",
     "text": [
      "'data.frame':\t139487 obs. of  45 variables:\n",
      " $ Unique_HH_ID     : chr  \"2024-30010-1-241-17-13-11-2-2420-4-1\" \"2024-30010-1-241-17-13-11-2-2420-4-2\" \"2024-30010-1-241-17-13-11-2-2420-4-3\" \"2024-30010-1-241-17-13-11-2-2420-4-4\" ...\n",
      " $ q1               : int  0 0 0 0 0 0 0 0 0 0 ...\n",
      " $ q2               : int  1 1 1 1 1 1 1 1 1 1 ...\n",
      " $ q3               : int  0 0 0 0 0 0 0 0 0 0 ...\n",
      " $ q4               : int  0 0 0 0 0 0 0 0 0 0 ...\n",
      " $ weekday          : int  1 1 0 0 1 0 1 1 1 1 ...\n",
      " $ weekend          : int  0 0 1 1 0 1 0 0 0 0 ...\n",
      " $ rural            : int  1 1 1 1 1 1 1 1 1 1 ...\n",
      " $ urban            : int  0 0 0 0 0 0 0 0 0 0 ...\n",
      " $ north            : int  0 0 0 0 0 0 0 0 0 0 ...\n",
      " $ west             : int  1 1 1 1 1 1 1 1 1 1 ...\n",
      " $ central          : int  0 0 0 0 0 0 0 0 0 0 ...\n",
      " $ east             : int  0 0 0 0 0 0 0 0 0 0 ...\n",
      " $ north.east       : int  0 0 0 0 0 0 0 0 0 0 ...\n",
      " $ south            : int  0 0 0 0 0 0 0 0 0 0 ...\n",
      " $ tierI            : int  0 0 0 0 0 0 0 0 0 0 ...\n",
      " $ tierII           : int  1 1 1 1 1 1 1 1 1 1 ...\n",
      " $ tierIII          : int  0 0 0 0 0 0 0 0 0 0 ...\n",
      " $ gender_ratio     : num  0 0.5 0.4 0.556 0.5 0.5 0.5 0.429 0.5 0.333 ...\n",
      " $ average_age      : num  45 34.5 29.2 15 21.8 65.5 20.2 26 62.5 19.3 ...\n",
      " $ not_married      : int  1 0 0 0 0 0 0 0 0 0 ...\n",
      " $ married          : int  0 1 1 1 1 1 1 1 1 1 ...\n",
      " $ not_literate     : int  0 0 0 0 0 0 0 0 0 0 ...\n",
      " $ primary          : int  0 0 0 1 1 0 1 0 1 0 ...\n",
      " $ secondary        : int  0 0 1 0 0 0 0 0 0 1 ...\n",
      " $ graduate_._above : int  1 1 0 0 0 1 0 1 0 0 ...\n",
      " $ employment_ratio : num  1 0.25 0.4 0.222 0.333 0 0.333 0.286 0.5 0.333 ...\n",
      " $ family_structure : num  0 0.25 0.4 0.778 0.5 0 0.667 0.286 0 0.333 ...\n",
      " $ household_size   : int  1 4 5 9 6 2 6 7 2 3 ...\n",
      " $ disadvantaged    : int  1 1 1 1 1 1 1 1 1 1 ...\n",
      " $ not_disadvantaged: int  0 0 0 0 0 0 0 0 0 0 ...\n",
      " $ no_land          : int  0 0 0 0 0 0 0 0 0 0 ...\n",
      " $ land_possessed   : int  1 1 1 1 1 1 1 1 1 1 ...\n",
      " $ low_income       : int  1 0 0 0 0 0 0 0 1 1 ...\n",
      " $ medium_income    : int  0 0 1 1 1 0 1 1 0 0 ...\n",
      " $ high_income      : int  0 1 0 0 0 1 0 0 0 0 ...\n",
      " $ no_dwelling      : int  0 0 0 0 0 0 0 0 0 0 ...\n",
      " $ kutcha           : int  0 0 0 0 0 0 0 0 0 0 ...\n",
      " $ pucca            : int  1 1 1 1 1 1 1 1 1 1 ...\n",
      " $ none             : int  1 1 1 1 1 1 1 1 1 1 ...\n",
      " $ instore          : int  0 0 0 0 0 0 0 0 0 0 ...\n",
      " $ online           : int  0 0 0 0 0 0 0 0 0 0 ...\n",
      " $ both             : int  0 0 0 0 0 0 0 0 0 0 ...\n",
      " $ choice           : chr  \"none\" \"none\" \"none\" \"none\" ...\n",
      " $ weight           : int  208857 208857 208857 208857 208857 208857 208857 208857 208857 208857 ...\n"
     ]
    }
   ],
   "source": [
    "# 2024 ITUS Individual Data (model)\n",
    "url  <- \"https://raw.githubusercontent.com/anmpahwa/CE5540/refs/heads/main/resources/ITUS_HHD_BD.csv\"\n",
    "data <- read.csv(url) # Loading Data\n",
    "str(data)"
   ]
  },
  {
   "cell_type": "code",
   "execution_count": 3,
   "id": "4f9691fe",
   "metadata": {
    "vscode": {
     "languageId": "r"
    }
   },
   "outputs": [
    {
     "name": "stdout",
     "output_type": "stream",
     "text": [
      "\u001b[90m# A tibble: 4 × 3\u001b[39m\n",
      "  channel  count   share\n",
      "  \u001b[3m\u001b[90m<chr>\u001b[39m\u001b[23m    \u001b[3m\u001b[90m<int>\u001b[39m\u001b[23m   \u001b[3m\u001b[90m<dbl>\u001b[39m\u001b[23m\n",
      "\u001b[90m1\u001b[39m None    \u001b[4m1\u001b[24m\u001b[4m0\u001b[24m\u001b[4m0\u001b[24m417 0.720  \n",
      "\u001b[90m2\u001b[39m InStore  \u001b[4m3\u001b[24m\u001b[4m4\u001b[24m717 0.249  \n",
      "\u001b[90m3\u001b[39m Online    \u001b[4m3\u001b[24m318 0.023\u001b[4m8\u001b[24m \n",
      "\u001b[90m4\u001b[39m Both      \u001b[4m1\u001b[24m035 0.007\u001b[4m4\u001b[24m\u001b[4m2\u001b[24m\n"
     ]
    }
   ],
   "source": [
    "# Counts\n",
    "counts <- data %>%\n",
    "  summarise(\n",
    "    None = sum(none, na.rm = TRUE),\n",
    "    InStore = sum(instore, na.rm = TRUE),\n",
    "    Online = sum(online, na.rm = TRUE),\n",
    "    Both = sum(both, na.rm = TRUE)\n",
    "  ) %>%\n",
    "  pivot_longer(cols = everything(), names_to = \"channel\", values_to = \"count\") %>%\n",
    "  mutate(share = (count / sum(count)))\n",
    "print(counts)"
   ]
  },
  {
   "cell_type": "code",
   "execution_count": 4,
   "id": "cc94247f",
   "metadata": {
    "vscode": {
     "languageId": "r"
    }
   },
   "outputs": [
    {
     "name": "stdout",
     "output_type": "stream",
     "text": [
      "\u001b[90m# A tibble: 4 × 5\u001b[39m\n",
      "  channel      Q1      Q2      Q3      Q4\n",
      "  \u001b[3m\u001b[90m<fct>\u001b[39m\u001b[23m     \u001b[3m\u001b[90m<dbl>\u001b[39m\u001b[23m   \u001b[3m\u001b[90m<dbl>\u001b[39m\u001b[23m   \u001b[3m\u001b[90m<dbl>\u001b[39m\u001b[23m   \u001b[3m\u001b[90m<dbl>\u001b[39m\u001b[23m\n",
      "\u001b[90m1\u001b[39m None    0.735   0.718   0.711   0.715  \n",
      "\u001b[90m2\u001b[39m InStore 0.221   0.245   0.265   0.265  \n",
      "\u001b[90m3\u001b[39m Online  0.035\u001b[4m2\u001b[24m  0.028\u001b[4m0\u001b[24m  0.017\u001b[4m6\u001b[24m  0.014\u001b[4m4\u001b[24m \n",
      "\u001b[90m4\u001b[39m Both    0.008\u001b[4m7\u001b[24m\u001b[4m0\u001b[24m 0.009\u001b[4m0\u001b[24m\u001b[4m1\u001b[24m 0.006\u001b[4m4\u001b[24m\u001b[4m0\u001b[24m 0.005\u001b[4m5\u001b[24m\u001b[4m8\u001b[24m\n"
     ]
    }
   ],
   "source": [
    "# Temporal: Quarter Counts\n",
    "quarter_counts <- data %>%\n",
    "  summarise(\n",
    "    None_Q1 = sum(none * q1, na.rm = TRUE),\n",
    "    InStore_Q1 = sum(instore * q1, na.rm = TRUE),\n",
    "    Online_Q1 = sum(online * q1, na.rm = TRUE),\n",
    "    Both_Q1 = sum(both * q1, na.rm = TRUE),\n",
    "\n",
    "    None_Q2 = sum(none * q2, na.rm = TRUE),\n",
    "    InStore_Q2 = sum(instore * q2, na.rm = TRUE),\n",
    "    Online_Q2 = sum(online * q2, na.rm = TRUE),\n",
    "    Both_Q2 = sum(both * q2, na.rm = TRUE),\n",
    "\n",
    "    None_Q3 = sum(none * q3, na.rm = TRUE),\n",
    "    InStore_Q3 = sum(instore * q3, na.rm = TRUE),\n",
    "    Online_Q3 = sum(online * q3, na.rm = TRUE),\n",
    "    Both_Q3 = sum(both * q3, na.rm = TRUE),\n",
    "\n",
    "    None_Q4 = sum(none * q4, na.rm = TRUE),\n",
    "    InStore_Q4 = sum(instore * q4, na.rm = TRUE),\n",
    "    Online_Q4 = sum(online * q4, na.rm = TRUE),\n",
    "    Both_Q4 = sum(both * q4, na.rm = TRUE)\n",
    "  ) %>%\n",
    "  pivot_longer(cols = everything(), names_to = \"channel_quarter\", values_to = \"count\") %>%\n",
    "  separate(channel_quarter, into = c(\"channel\", \"quarter\"), sep = \"_\") %>%\n",
    "  group_by(quarter) %>%\n",
    "  mutate(share = (count / sum(count))) %>%\n",
    "  ungroup() %>%\n",
    "  mutate(channel = factor(channel, levels = c(\"None\", \"InStore\", \"Online\", \"Both\")))\n",
    "\n",
    "# Tabulate\n",
    "table <- quarter_counts %>%\n",
    "  ungroup() %>%\n",
    "  select(channel, quarter, share) %>%\n",
    "  pivot_wider(names_from = quarter, values_from = share)\n",
    "print(table)"
   ]
  },
  {
   "cell_type": "code",
   "execution_count": 5,
   "id": "4adcab6e",
   "metadata": {
    "vscode": {
     "languageId": "r"
    }
   },
   "outputs": [
    {
     "name": "stdout",
     "output_type": "stream",
     "text": [
      "\u001b[90m# A tibble: 4 × 3\u001b[39m\n",
      "  channel       R      U\n",
      "  \u001b[3m\u001b[90m<fct>\u001b[39m\u001b[23m     \u001b[3m\u001b[90m<dbl>\u001b[39m\u001b[23m  \u001b[3m\u001b[90m<dbl>\u001b[39m\u001b[23m\n",
      "\u001b[90m1\u001b[39m None    0.742   0.687 \n",
      "\u001b[90m2\u001b[39m InStore 0.233   0.273 \n",
      "\u001b[90m3\u001b[39m Online  0.019\u001b[4m5\u001b[24m  0.030\u001b[4m1\u001b[24m\n",
      "\u001b[90m4\u001b[39m Both    0.005\u001b[4m3\u001b[24m\u001b[4m2\u001b[24m 0.010\u001b[4m5\u001b[24m\n"
     ]
    }
   ],
   "source": [
    "# Spatial: Sector Counts\n",
    "sector_counts <- data %>%\n",
    "  summarise(\n",
    "    None_R = sum(none * rural, na.rm = TRUE),\n",
    "    InStore_R = sum(instore * rural, na.rm = TRUE),\n",
    "    Online_R = sum(online * rural, na.rm = TRUE),\n",
    "    Both_R = sum(both * rural, na.rm = TRUE),\n",
    "\n",
    "    None_U = sum(none * urban, na.rm = TRUE),\n",
    "    InStore_U = sum(instore * urban, na.rm = TRUE),\n",
    "    Online_U = sum(online * urban, na.rm = TRUE),\n",
    "    Both_U = sum(both * urban, na.rm = TRUE)\n",
    "  ) %>%\n",
    "  pivot_longer(cols = everything(), names_to = \"channel_sector\", values_to = \"count\") %>%\n",
    "  separate(channel_sector, into = c(\"channel\", \"sector\"), sep = \"_\") %>%\n",
    "  group_by(sector) %>%\n",
    "  mutate(share = (count / sum(count))) %>%\n",
    "  ungroup() %>%\n",
    "  mutate(channel = factor(channel, levels = c(\"None\", \"InStore\", \"Online\", \"Both\")))\n",
    "\n",
    "# Tabulate\n",
    "table <- sector_counts %>%\n",
    "  ungroup() %>%\n",
    "  select(channel, sector, share) %>%\n",
    "  pivot_wider(names_from = sector, values_from = share)\n",
    "print(table)"
   ]
  },
  {
   "cell_type": "code",
   "execution_count": 6,
   "id": "969aff5e",
   "metadata": {
    "vscode": {
     "languageId": "r"
    }
   },
   "outputs": [],
   "source": [
    "# Prepare dataset\n",
    "long_data <- data %>%\n",
    "  select(\n",
    "    Unique_HH_ID,\n",
    "    q1, q2, q3, q4,\n",
    "    weekday, weekend,\n",
    "    urban, rural, \n",
    "    north, west, south, east, central, north.east,\n",
    "    tierI, tierII, tierIII,\n",
    "    gender_ratio,\n",
    "    average_age,\n",
    "    not_married, married,\n",
    "    not_literate, primary, secondary, graduate_._above,\n",
    "    employment_ratio,\n",
    "    family_structure, \n",
    "    household_size,\n",
    "    disadvantaged, not_disadvantaged,\n",
    "    no_land, land_possessed,\n",
    "    low_income, medium_income, high_income,\n",
    "    no_dwelling, kutcha, pucca,\n",
    "    none, instore, online, both,\n",
    "    weight\n",
    "  ) %>%\n",
    "  pivot_longer(\n",
    "    cols = c(none, instore, online, both),\n",
    "    names_to = \"alt\", values_to = \"bin\"\n",
    "  ) %>%\n",
    "  mutate(bin = bin == 1)\n",
    "\n",
    "model_data <- mlogit.data(\n",
    "  long_data,\n",
    "  choice = \"bin\",\n",
    "  shape = \"long\",\n",
    "  chid.var = \"Unique_HH_ID\",\n",
    "  alt.var = \"alt\"\n",
    ")"
   ]
  },
  {
   "cell_type": "code",
   "execution_count": 7,
   "id": "8e95287d",
   "metadata": {
    "vscode": {
     "languageId": "r"
    }
   },
   "outputs": [
    {
     "data": {
      "text/plain": [
       "\n",
       "Call:\n",
       "mlogit(formula = bin ~ 1 | q1 + q2 + q3 + weekend + urban + north + \n",
       "    west + south + east + north.east + tierI + tierII + gender_ratio + \n",
       "    average_age + married + primary + secondary + graduate_._above + \n",
       "    employment_ratio + family_structure + household_size + disadvantaged + \n",
       "    medium_income + high_income, data = model_data, weights = model_data$weight, \n",
       "    reflevel = \"none\", method = \"nr\")\n",
       "\n",
       "Frequencies of alternatives:choice\n",
       "    none     both  instore   online \n",
       "0.719902 0.007420 0.248891 0.023787 \n",
       "\n",
       "nr method\n",
       "39 iterations, 0h:2m:12s \n",
       "g'(-H)^-1g = 6.71E-07 \n",
       "gradient close to zero \n",
       "\n",
       "Coefficients :\n",
       "                            Estimate  Std. Error  z-value  Pr(>|z|)    \n",
       "(Intercept):both         -7.50010194  0.40566244 -18.4885 < 2.2e-16 ***\n",
       "(Intercept):instore      -2.44871154  0.06557938 -37.3397 < 2.2e-16 ***\n",
       "(Intercept):online       -4.62260233  0.18586035 -24.8714 < 2.2e-16 ***\n",
       "q1:both                   0.27248423  0.09340207   2.9173 0.0035305 ** \n",
       "q1:instore               -0.26262944  0.01824741 -14.3927 < 2.2e-16 ***\n",
       "q1:online                 0.82530056  0.05361621  15.3927 < 2.2e-16 ***\n",
       "q2:both                   0.38607963  0.09233283   4.1814 2.897e-05 ***\n",
       "q2:instore               -0.10903952  0.01785131  -6.1082 1.008e-09 ***\n",
       "q2:online                 0.64192999  0.05537164  11.5931 < 2.2e-16 ***\n",
       "q3:both                   0.08402648  0.09890217   0.8496 0.3955521    \n",
       "q3:instore               -0.00061729  0.01757590  -0.0351 0.9719832    \n",
       "q3:online                 0.13720431  0.06124325   2.2403 0.0250703 *  \n",
       "weekend:both              0.32385880  0.06735832   4.8080 1.524e-06 ***\n",
       "weekend:instore           0.09871909  0.01402290   7.0398 1.924e-12 ***\n",
       "weekend:online            0.11430230  0.03878328   2.9472 0.0032066 ** \n",
       "urban:both                0.61346000  0.07081621   8.6627 < 2.2e-16 ***\n",
       "urban:instore             0.26287820  0.01439634  18.2601 < 2.2e-16 ***\n",
       "urban:online              0.53330188  0.03967068  13.4432 < 2.2e-16 ***\n",
       "north:both                0.37967249  0.12151451   3.1245 0.0017811 ** \n",
       "north:instore             0.13740852  0.02836522   4.8443 1.271e-06 ***\n",
       "north:online             -0.04910374  0.07312652  -0.6715 0.5019083    \n",
       "west:both                -0.46043596  0.11209716  -4.1075 4.000e-05 ***\n",
       "west:instore             -0.28636864  0.02286011 -12.5270 < 2.2e-16 ***\n",
       "west:online              -0.40476136  0.05674728  -7.1327 9.841e-13 ***\n",
       "south:both               -0.08761718  0.10943684  -0.8006 0.4233525    \n",
       "south:instore             0.26198411  0.02167232  12.0884 < 2.2e-16 ***\n",
       "south:online             -0.96127596  0.07048298 -13.6384 < 2.2e-16 ***\n",
       "east:both                 0.54895109  0.10110520   5.4295 5.651e-08 ***\n",
       "east:instore              0.76183793  0.02051790  37.1304 < 2.2e-16 ***\n",
       "east:online               0.48005484  0.05040068   9.5248 < 2.2e-16 ***\n",
       "north.east:both          -0.19979986  0.14519082  -1.3761 0.1687848    \n",
       "north.east:instore        0.58275749  0.02650438  21.9872 < 2.2e-16 ***\n",
       "north.east:online        -0.09881252  0.07850447  -1.2587 0.2081436    \n",
       "tierI:both                0.02482473  0.09190630   0.2701 0.7870763    \n",
       "tierI:instore            -0.11747671  0.01890382  -6.2144 5.151e-10 ***\n",
       "tierI:online             -0.29655713  0.05363646  -5.5290 3.220e-08 ***\n",
       "tierII:both              -0.31198596  0.08331729  -3.7446 0.0001807 ***\n",
       "tierII:instore           -0.18795556  0.01646939 -11.4124 < 2.2e-16 ***\n",
       "tierII:online            -0.25949984  0.04404134  -5.8922 3.811e-09 ***\n",
       "gender_ratio:both         0.17345435  0.17556556   0.9880 0.3231650    \n",
       "gender_ratio:instore     -0.08092477  0.03178969  -2.5456 0.0109081 *  \n",
       "gender_ratio:online      -0.11939769  0.09190333  -1.2992 0.1938869    \n",
       "average_age:both          0.00416919  0.00379901   1.0974 0.2724485    \n",
       "average_age:instore       0.00245859  0.00071798   3.4243 0.0006164 ***\n",
       "average_age:online       -0.00040112  0.00202380  -0.1982 0.8428865    \n",
       "married:both              0.49919548  0.13375063   3.7323 0.0001898 ***\n",
       "married:instore           0.51545379  0.02297252  22.4378 < 2.2e-16 ***\n",
       "married:online            0.46806199  0.06808541   6.8746 6.215e-12 ***\n",
       "primary:both              0.55330411  0.29164178   1.8972 0.0578009 .  \n",
       "primary:instore           0.41688167  0.03753774  11.1057 < 2.2e-16 ***\n",
       "primary:online            0.19092222  0.11192127   1.7059 0.0880338 .  \n",
       "secondary:both            0.95235315  0.28746412   3.3129 0.0009232 ***\n",
       "secondary:instore         0.39958238  0.03771279  10.5954 < 2.2e-16 ***\n",
       "secondary:online          0.31308608  0.11116137   2.8165 0.0048550 ** \n",
       "graduate_._above:both     1.08344586  0.28993670   3.7368 0.0001864 ***\n",
       "graduate_._above:instore  0.44132739  0.03892622  11.3375 < 2.2e-16 ***\n",
       "graduate_._above:online   0.36924450  0.11372743   3.2467 0.0011673 ** \n",
       "employment_ratio:both    -0.35945562  0.15265827  -2.3546 0.0185405 *  \n",
       "employment_ratio:instore -0.20944491  0.02827095  -7.4085 1.277e-13 ***\n",
       "employment_ratio:online  -0.64836950  0.08304906  -7.8071 5.773e-15 ***\n",
       "family_structure:both    -1.57971163  0.24653151  -6.4077 1.477e-10 ***\n",
       "family_structure:instore -0.97345855  0.04749003 -20.4982 < 2.2e-16 ***\n",
       "family_structure:online  -1.12979774  0.13142917  -8.5962 < 2.2e-16 ***\n",
       "household_size:both       0.22466450  0.01773154  12.6703 < 2.2e-16 ***\n",
       "household_size:instore    0.11700111  0.00458290  25.5299 < 2.2e-16 ***\n",
       "household_size:online     0.12111446  0.01148006  10.5500 < 2.2e-16 ***\n",
       "disadvantaged:both        0.03097353  0.07273313   0.4259 0.6702158    \n",
       "disadvantaged:instore     0.05510470  0.01520849   3.6233 0.0002909 ***\n",
       "disadvantaged:online      0.06328005  0.04106580   1.5409 0.1233308    \n",
       "medium_income:both        0.38778625  0.10306170   3.7627 0.0001681 ***\n",
       "medium_income:instore     0.18555088  0.01724786  10.7579 < 2.2e-16 ***\n",
       "medium_income:online      0.21740527  0.04948799   4.3931 1.118e-05 ***\n",
       "high_income:both          0.69838947  0.10638131   6.5650 5.205e-11 ***\n",
       "high_income:instore       0.29568510  0.01940481  15.2377 < 2.2e-16 ***\n",
       "high_income:online        0.35946690  0.05480154   6.5594 5.401e-11 ***\n",
       "---\n",
       "Signif. codes:  0 '***' 0.001 '**' 0.01 '*' 0.05 '.' 0.1 ' ' 1\n",
       "\n",
       "Log-Likelihood: -92780\n",
       "McFadden R^2:  0.060581 \n",
       "Likelihood ratio test : chisq = 11966 (p.value = < 2.22e-16)"
      ]
     },
     "metadata": {},
     "output_type": "display_data"
    }
   ],
   "source": [
    "# Esitmated Model\n",
    "model <- mlogit(\n",
    "    formula = bin ~ 1 | q1 + q2 + q3 +\n",
    "                        weekend +\n",
    "                        urban +\n",
    "                        north + west + south + east + north.east +\n",
    "                        tierI + tierII +\n",
    "                        gender_ratio + \n",
    "                        average_age +\n",
    "                        married +\n",
    "                        primary + secondary + graduate_._above +\n",
    "                        employment_ratio + \n",
    "                        family_structure + household_size +\n",
    "                        disadvantaged +\n",
    "                        medium_income + high_income,\n",
    "    data = model_data,\n",
    "    ref = \"none\",\n",
    "    weights = model_data$weight\n",
    "    )\n",
    "summary(model)"
   ]
  },
  {
   "cell_type": "code",
   "execution_count": null,
   "id": "b3cfbfeb",
   "metadata": {
    "vscode": {
     "languageId": "r"
    }
   },
   "outputs": [
    {
     "name": "stdout",
     "output_type": "stream",
     "text": [
      "\n",
      "--- Log-likelihoods ---\n",
      "EL  : -193370.042\n",
      "MS  : -98773.799\n",
      "MNL : -92780.128\n",
      "\n",
      "--- McFadden R^2 ---\n",
      "R2 vs EL : 0.5202\n",
      "R2 vs MS : 0.0607\n",
      "\n",
      "--- Adjusted McFadden R^2 ---\n",
      "Adj R2 vs EL : 0.5198 (K = 75)\n",
      "Adj R2 vs MS : 0.0599 (K = 75)\n"
     ]
    }
   ],
   "source": [
    "# Model Statistics\n",
    "I      <- nrow(data)\n",
    "J      <- length(unique(data$choice))\n",
    "K      <- length(coef(model))\n",
    "W      <- long_data$weight\n",
    "Y      <- long_data$bin\n",
    "Z      <- data %>%\n",
    "            summarise(\n",
    "              none = sum(none * weight, na.rm = TRUE) / sum(weight) * nrow(data),\n",
    "              instore = sum(instore * weight, na.rm = TRUE) / sum(weight) * nrow(data),\n",
    "              online = sum(online * weight, na.rm = TRUE) / sum(weight) * nrow(data),\n",
    "              both = sum(both * weight, na.rm = TRUE) / sum(weight) * nrow(data)\n",
    "            ) %>%\n",
    "            pivot_longer(cols = everything(), names_to = \"channel\", values_to = \"n\") %>%\n",
    "            mutate(p = (n / sum(n)))\n",
    "P      <- Z$p[model_data$alt] \n",
    "LL_EL  <- sum(Y * log(1/J))\n",
    "LL_MS  <- sum(Y * log(P))\n",
    "LL_MNL <- as.numeric(logLik(model))\n",
    "R2_EL  <- 1 - (LL_MNL / LL_EL)\n",
    "R2_MS  <- 1 - (LL_MNL / LL_MS)\n",
    "AR2_EL <- 1 - ((LL_MNL - K) / LL_EL)\n",
    "AR2_MS <- 1 - ((LL_MNL - K) / LL_MS)\n",
    "\n",
    "cat(\"\\n--- Log-likelihoods ---\\n\")\n",
    "cat(sprintf(\"EL  : %0.3f\\n\", LL_EL))\n",
    "cat(sprintf(\"MS  : %0.3f\\n\", LL_MS))\n",
    "cat(sprintf(\"MNL : %0.3f\\n\", LL_MNL))\n",
    "cat(\"\\n--- McFadden R^2 ---\\n\")\n",
    "cat(sprintf(\"R2 vs EL : %0.4f\\n\", R2_EL))\n",
    "cat(sprintf(\"R2 vs MS : %0.4f\\n\", R2_MS))\n",
    "cat(\"\\n--- Adjusted McFadden R^2 ---\\n\")\n",
    "cat(sprintf(\"Adj R2 vs EL : %0.4f (K = %d)\\n\", AR2_EL, K))\n",
    "cat(sprintf(\"Adj R2 vs MS : %0.4f (K = %d)\\n\", AR2_MS, K))"
   ]
  }
 ],
 "metadata": {
  "kernelspec": {
   "display_name": "R",
   "language": "R",
   "name": "ir"
  },
  "language_info": {
   "codemirror_mode": "r",
   "file_extension": ".r",
   "mimetype": "text/x-r-source",
   "name": "R",
   "pygments_lexer": "r",
   "version": "4.5.0"
  }
 },
 "nbformat": 4,
 "nbformat_minor": 5
}
