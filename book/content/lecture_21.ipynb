{
 "cells": [
  {
   "cell_type": "markdown",
   "id": "8c884bed",
   "metadata": {},
   "source": [
    "# Lecture 21: Linear Regression in R"
   ]
  }
 ],
 "metadata": {
  "language_info": {
   "name": "python"
  }
 },
 "nbformat": 4,
 "nbformat_minor": 5
}
