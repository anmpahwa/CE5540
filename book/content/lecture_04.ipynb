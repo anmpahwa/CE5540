{
 "cells": [
  {
   "cell_type": "markdown",
   "id": "c6ea8351",
   "metadata": {},
   "source": [
    "### Lecture 4: Probability Theory\n",
    "\n",
    "```{note}\n",
    "This lecture introduces foundational concepts in probability theory — both its philosophical basis and formal mathematical axioms.\n",
    "We explore how probability is used to represent uncertainty and build up to the formal rules it must follow.\n",
    "```\n",
    "\n",
    "---\n",
    "\n",
    "## Interpreting Probability\n",
    "\n",
    "There are multiple interpretations of what probability means:\n",
    "\n",
    "- **Classical Interpretation**: Probability is the ratio of favorable outcomes to total possible outcomes, assuming all outcomes are equally likely.\n",
    "- **Frequency Interpretation**: Probability is the long-run relative frequency of an event occurring in repeated trials.\n",
    "- **Subjective Interpretation**: Probability represents personal belief or degree of certainty about an event.\n",
    "- **Propensity Interpretation**: Probability is a measure of the tendency of a given type of physical situation to yield an outcome of a certain kind.\n",
    "\n",
    "All interpretations aim to provide a consistent way of reasoning about uncertainty.\n",
    "\n",
    "```{tip}\n",
    "Before we can dive into the probaility theory, let's cover some basics of set theory,\n",
    "\n",
    "Probability theory is deeply rooted in **set theory**, where outcomes of experiments are represented as sets. Some key set operations include,\n",
    "- **Union ($A \\cup B$)**: All elements in $A$, in $B$, or in both.\n",
    "- **Intersection ($A \\cap B$)**: All elements common to both $A$ and $B$.\n",
    "- **Complement ($A^c$)**: All elements not in $A$.\n",
    "- **Difference ($A - B$)**: Elements in $A$ but not in $B$.\n",
    "- **Subset**: $A \\subseteq B$ means every element in $A$ is also in $B$.\n",
    "- **Disjoint Sets**: $A \\cap B = \\emptyset$\n",
    "```\n",
    "\n",
    "Set operations obey laws like commutativity, associativity, and distributivity\n",
    "\n",
    "## Axioms of Probability\n",
    "\n",
    "Let $S$ be a **sample space** (set of all possible outcomes), and let $P$ be a **probability function** mapping subsets of $S$ to real numbers. Then the axioms are:\n",
    "\n",
    "- Axiom 1 - Non-Negativity: $P(E) \\geq 0$ for any event $E$.\n",
    "- Axiom 2 - Normalization: $\\sum_{E \\in S} P(E) = 1$; the probability of the sample space is 1.\n",
    "- Axiom 3 - Additivity: If $A$ and $B$ are disjoint events (i.e., $A \\cap B = \\emptyset$), then $P(A \\cup B) = P(A) + P(B)$\n",
    "\n",
    "## Consequences of the Axioms\n",
    "\n",
    "- **Complement Rule**: $P(A^c) = 1 - P(A)$\n",
    "- **Monotonicity**: If $A \\subset B$, then $P(A) \\leq P(B)$\n",
    "- **Inclusion-Exclusion**: $P(A \\cup B) = P(A) + P(B) - P(A \\cap B)$\n",
    "- **Union Bound**: $P(A_1 \\cup A_2 \\cup \\dots \\cup A_n) \\leq \\sum_{i=1}^{n} P(A_i)$"
   ]
  }
 ],
 "metadata": {
  "language_info": {
   "name": "python"
  }
 },
 "nbformat": 4,
 "nbformat_minor": 5
}
