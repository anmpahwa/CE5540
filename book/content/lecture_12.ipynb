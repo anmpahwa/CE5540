{
 "cells": [
  {
   "cell_type": "markdown",
   "id": "cbd61d8d",
   "metadata": {},
   "source": [
    "# Lecture 12: Assignment 1 Discussion\n",
    "\n",
    "---\n",
    "\n",
    "1. **Data Classification** *(5)*\n",
    "\n",
    "Consider the following R dataset detailing the attributes for different vehicles including vehicle make, model, year, class, transmission, drive type, number of engine cylinders, total engine displacement, fuel type, and mileage (highway and city). Classify each variable in the dataset as one of the following: Discrete Quantitative, Continuous Quantitative, Qualitative, and Categorical."
   ]
  },
  {
   "cell_type": "code",
   "execution_count": null,
   "id": "5e688103",
   "metadata": {
    "vscode": {
     "languageId": "r"
    }
   },
   "outputs": [],
   "source": [
    "# Loading the packages\n",
    "library(dplyr)\n",
    "library(fueleconomy)"
   ]
  },
  {
   "cell_type": "code",
   "execution_count": 2,
   "id": "af6ef36f",
   "metadata": {
    "vscode": {
     "languageId": "r"
    }
   },
   "outputs": [],
   "source": [
    "# Loading the dataset\n",
    "data <- fueleconomy::vehicles"
   ]
  },
  {
   "cell_type": "code",
   "execution_count": 3,
   "id": "15e0b9f9",
   "metadata": {
    "vscode": {
     "languageId": "r"
    }
   },
   "outputs": [
    {
     "name": "stdout",
     "output_type": "stream",
     "text": [
      "tibble [33,442 × 12] (S3: tbl_df/tbl/data.frame)\n",
      " $ id   : num [1:33442] 13309 13310 13311 14038 14039 ...\n",
      " $ make : chr [1:33442] \"Acura\" \"Acura\" \"Acura\" \"Acura\" ...\n",
      " $ model: chr [1:33442] \"2.2CL/3.0CL\" \"2.2CL/3.0CL\" \"2.2CL/3.0CL\" \"2.3CL/3.0CL\" ...\n",
      " $ year : num [1:33442] 1997 1997 1997 1998 1998 ...\n",
      " $ class: chr [1:33442] \"Subcompact Cars\" \"Subcompact Cars\" \"Subcompact Cars\" \"Subcompact Cars\" ...\n",
      " $ trans: chr [1:33442] \"Automatic 4-spd\" \"Manual 5-spd\" \"Automatic 4-spd\" \"Automatic 4-spd\" ...\n",
      " $ drive: chr [1:33442] \"Front-Wheel Drive\" \"Front-Wheel Drive\" \"Front-Wheel Drive\" \"Front-Wheel Drive\" ...\n",
      " $ cyl  : num [1:33442] 4 4 6 4 4 6 4 4 6 5 ...\n",
      " $ displ: num [1:33442] 2.2 2.2 3 2.3 2.3 3 2.3 2.3 3 2.5 ...\n",
      " $ fuel : chr [1:33442] \"Regular\" \"Regular\" \"Regular\" \"Regular\" ...\n",
      " $ hwy  : num [1:33442] 26 28 26 27 29 26 27 29 26 23 ...\n",
      " $ cty  : num [1:33442] 20 22 18 19 21 17 20 21 17 18 ...\n"
     ]
    }
   ],
   "source": [
    "# Dataset Structure\n",
    "str(data)"
   ]
  },
  {
   "cell_type": "markdown",
   "id": "6f2fd25a",
   "metadata": {},
   "source": [
    "- make: categorical variable\n",
    "\n",
    "- model: categorical variable\n",
    "\n",
    "- year: discrete quantitative variable\n",
    "\n",
    "- class: categorical variable\n",
    "\n",
    "- trans: categorical variable\n",
    "\n",
    "- drive: categorical variable\n",
    "\n",
    "- cyl: discrete quantitative variable\n",
    "\n",
    "- displ: discrete quantitative variable\n",
    "\n",
    "- fuel: categorical variable\n",
    "\n",
    "- hwy: discrete quantitative variable\n",
    "\n",
    "- cty: discrete quantitative variable"
   ]
  },
  {
   "cell_type": "markdown",
   "id": "124612dd",
   "metadata": {},
   "source": [
    "---\n",
    "\n",
    "2. **Data Summary** *(10)*\n",
    "\n",
    "a. Using the vehicles dataset filtered out for Renault vehicles, summarise measure of location (mean, median, mode), dispersion (range, inter-quartile range, standard deviation), and shape (skewness, kurtosis) for highway as well as city miles per galon. *(8)*"
   ]
  },
  {
   "cell_type": "code",
   "execution_count": 4,
   "id": "d4853a95",
   "metadata": {
    "vscode": {
     "languageId": "r"
    }
   },
   "outputs": [
    {
     "data": {
      "text/html": [
       "<table class=\"dataframe\">\n",
       "<caption>A tibble: 33 × 12</caption>\n",
       "<thead>\n",
       "\t<tr><th scope=col>id</th><th scope=col>make</th><th scope=col>model</th><th scope=col>year</th><th scope=col>class</th><th scope=col>trans</th><th scope=col>drive</th><th scope=col>cyl</th><th scope=col>displ</th><th scope=col>fuel</th><th scope=col>hwy</th><th scope=col>cty</th></tr>\n",
       "\t<tr><th scope=col>&lt;dbl&gt;</th><th scope=col>&lt;chr&gt;</th><th scope=col>&lt;chr&gt;</th><th scope=col>&lt;dbl&gt;</th><th scope=col>&lt;chr&gt;</th><th scope=col>&lt;chr&gt;</th><th scope=col>&lt;chr&gt;</th><th scope=col>&lt;dbl&gt;</th><th scope=col>&lt;dbl&gt;</th><th scope=col>&lt;chr&gt;</th><th scope=col>&lt;dbl&gt;</th><th scope=col>&lt;dbl&gt;</th></tr>\n",
       "</thead>\n",
       "<tbody>\n",
       "\t<tr><td> 618</td><td>Renault</td><td>18i 4DR Wagon       </td><td>1985</td><td>Small Station Wagons</td><td>Automatic 3-spd</td><td>Front-Wheel Drive</td><td>4</td><td>2.2</td><td>Regular</td><td>22</td><td>18</td></tr>\n",
       "\t<tr><td> 619</td><td>Renault</td><td>18i 4DR Wagon       </td><td>1985</td><td>Small Station Wagons</td><td>Manual 5-spd   </td><td>Front-Wheel Drive</td><td>4</td><td>2.2</td><td>Regular</td><td>28</td><td>20</td></tr>\n",
       "\t<tr><td>2270</td><td>Renault</td><td>18i Sportwagon      </td><td>1986</td><td>Small Station Wagons</td><td>Automatic 3-spd</td><td>Front-Wheel Drive</td><td>4</td><td>2.2</td><td>Regular</td><td>22</td><td>18</td></tr>\n",
       "\t<tr><td>2271</td><td>Renault</td><td>18i Sportwagon      </td><td>1986</td><td>Small Station Wagons</td><td>Manual 5-spd   </td><td>Front-Wheel Drive</td><td>4</td><td>2.2</td><td>Regular</td><td>28</td><td>20</td></tr>\n",
       "\t<tr><td>3301</td><td>Renault</td><td>Alliance            </td><td>1987</td><td>Compact Cars        </td><td>Automatic 3-spd</td><td>Front-Wheel Drive</td><td>4</td><td>1.4</td><td>Regular</td><td>28</td><td>23</td></tr>\n",
       "\t<tr><td>3302</td><td>Renault</td><td>Alliance            </td><td>1987</td><td>Compact Cars        </td><td>Manual 4-spd   </td><td>Front-Wheel Drive</td><td>4</td><td>1.4</td><td>Regular</td><td>37</td><td>29</td></tr>\n",
       "\t<tr><td>3303</td><td>Renault</td><td>Alliance            </td><td>1987</td><td>Compact Cars        </td><td>Manual 4-spd   </td><td>Front-Wheel Drive</td><td>4</td><td>1.4</td><td>Regular</td><td>34</td><td>28</td></tr>\n",
       "\t<tr><td>3304</td><td>Renault</td><td>Alliance            </td><td>1987</td><td>Compact Cars        </td><td>Manual 5-spd   </td><td>Front-Wheel Drive</td><td>4</td><td>1.4</td><td>Regular</td><td>36</td><td>28</td></tr>\n",
       "\t<tr><td>3305</td><td>Renault</td><td>Alliance            </td><td>1987</td><td>Compact Cars        </td><td>Automatic 3-spd</td><td>Front-Wheel Drive</td><td>4</td><td>1.7</td><td>Regular</td><td>26</td><td>21</td></tr>\n",
       "\t<tr><td>3306</td><td>Renault</td><td>Alliance            </td><td>1987</td><td>Compact Cars        </td><td>Manual 5-spd   </td><td>Front-Wheel Drive</td><td>4</td><td>1.7</td><td>Regular</td><td>34</td><td>25</td></tr>\n",
       "\t<tr><td>1907</td><td>Renault</td><td>Alliance Convertible</td><td>1986</td><td>Subcompact Cars     </td><td>Automatic 3-spd</td><td>Front-Wheel Drive</td><td>4</td><td>1.7</td><td>Regular</td><td>22</td><td>19</td></tr>\n",
       "\t<tr><td>1908</td><td>Renault</td><td>Alliance Convertible</td><td>1986</td><td>Subcompact Cars     </td><td>Manual 5-spd   </td><td>Front-Wheel Drive</td><td>4</td><td>1.7</td><td>Regular</td><td>29</td><td>23</td></tr>\n",
       "\t<tr><td>3107</td><td>Renault</td><td>Alliance Convertible</td><td>1987</td><td>Subcompact Cars     </td><td>Automatic 3-spd</td><td>Front-Wheel Drive</td><td>4</td><td>1.7</td><td>Regular</td><td>26</td><td>21</td></tr>\n",
       "\t<tr><td>3108</td><td>Renault</td><td>Alliance Convertible</td><td>1987</td><td>Subcompact Cars     </td><td>Manual 5-spd   </td><td>Front-Wheel Drive</td><td>4</td><td>1.7</td><td>Regular</td><td>32</td><td>24</td></tr>\n",
       "\t<tr><td> 373</td><td>Renault</td><td>Alliance/Encore     </td><td>1985</td><td>Compact Cars        </td><td>Automatic 3-spd</td><td>Front-Wheel Drive</td><td>4</td><td>1.4</td><td>Regular</td><td>26</td><td>22</td></tr>\n",
       "\t<tr><td> 374</td><td>Renault</td><td>Alliance/Encore     </td><td>1985</td><td>Compact Cars        </td><td>Manual 4-spd   </td><td>Front-Wheel Drive</td><td>4</td><td>1.4</td><td>Regular</td><td>36</td><td>29</td></tr>\n",
       "\t<tr><td> 375</td><td>Renault</td><td>Alliance/Encore     </td><td>1985</td><td>Compact Cars        </td><td>Manual 4-spd   </td><td>Front-Wheel Drive</td><td>4</td><td>1.4</td><td>Regular</td><td>32</td><td>26</td></tr>\n",
       "\t<tr><td> 376</td><td>Renault</td><td>Alliance/Encore     </td><td>1985</td><td>Compact Cars        </td><td>Manual 5-spd   </td><td>Front-Wheel Drive</td><td>4</td><td>1.4</td><td>Regular</td><td>35</td><td>27</td></tr>\n",
       "\t<tr><td> 377</td><td>Renault</td><td>Alliance/Encore     </td><td>1985</td><td>Compact Cars        </td><td>Automatic 3-spd</td><td>Front-Wheel Drive</td><td>4</td><td>1.7</td><td>Regular</td><td>24</td><td>19</td></tr>\n",
       "\t<tr><td> 378</td><td>Renault</td><td>Alliance/Encore     </td><td>1985</td><td>Compact Cars        </td><td>Manual 5-spd   </td><td>Front-Wheel Drive</td><td>4</td><td>1.7</td><td>Regular</td><td>33</td><td>25</td></tr>\n",
       "\t<tr><td>2050</td><td>Renault</td><td>Alliance/Encore     </td><td>1986</td><td>Compact Cars        </td><td>Automatic 3-spd</td><td>Front-Wheel Drive</td><td>4</td><td>1.4</td><td>Regular</td><td>27</td><td>23</td></tr>\n",
       "\t<tr><td>2051</td><td>Renault</td><td>Alliance/Encore     </td><td>1986</td><td>Compact Cars        </td><td>Manual 4-spd   </td><td>Front-Wheel Drive</td><td>4</td><td>1.4</td><td>Regular</td><td>37</td><td>30</td></tr>\n",
       "\t<tr><td>2052</td><td>Renault</td><td>Alliance/Encore     </td><td>1986</td><td>Compact Cars        </td><td>Manual 4-spd   </td><td>Front-Wheel Drive</td><td>4</td><td>1.4</td><td>Regular</td><td>35</td><td>27</td></tr>\n",
       "\t<tr><td>2053</td><td>Renault</td><td>Alliance/Encore     </td><td>1986</td><td>Compact Cars        </td><td>Manual 5-spd   </td><td>Front-Wheel Drive</td><td>4</td><td>1.4</td><td>Regular</td><td>35</td><td>28</td></tr>\n",
       "\t<tr><td>2054</td><td>Renault</td><td>Alliance/Encore     </td><td>1986</td><td>Compact Cars        </td><td>Automatic 3-spd</td><td>Front-Wheel Drive</td><td>4</td><td>1.7</td><td>Regular</td><td>26</td><td>21</td></tr>\n",
       "\t<tr><td>2055</td><td>Renault</td><td>Alliance/Encore     </td><td>1986</td><td>Compact Cars        </td><td>Manual 5-spd   </td><td>Front-Wheel Drive</td><td>4</td><td>1.7</td><td>Regular</td><td>33</td><td>26</td></tr>\n",
       "\t<tr><td> 221</td><td>Renault</td><td>Fuego               </td><td>1985</td><td>Subcompact Cars     </td><td>Manual 5-spd   </td><td>Front-Wheel Drive</td><td>4</td><td>1.6</td><td>Premium</td><td>29</td><td>20</td></tr>\n",
       "\t<tr><td> 222</td><td>Renault</td><td>Fuego               </td><td>1985</td><td>Subcompact Cars     </td><td>Automatic 3-spd</td><td>Front-Wheel Drive</td><td>4</td><td>2.2</td><td>Regular</td><td>22</td><td>18</td></tr>\n",
       "\t<tr><td> 223</td><td>Renault</td><td>Fuego               </td><td>1985</td><td>Subcompact Cars     </td><td>Manual 5-spd   </td><td>Front-Wheel Drive</td><td>4</td><td>2.2</td><td>Regular</td><td>28</td><td>20</td></tr>\n",
       "\t<tr><td>1909</td><td>Renault</td><td>Fuego               </td><td>1986</td><td>Subcompact Cars     </td><td>Automatic 3-spd</td><td>Front-Wheel Drive</td><td>4</td><td>2.2</td><td>Regular</td><td>22</td><td>18</td></tr>\n",
       "\t<tr><td>1910</td><td>Renault</td><td>Fuego               </td><td>1986</td><td>Subcompact Cars     </td><td>Manual 5-spd   </td><td>Front-Wheel Drive</td><td>4</td><td>2.2</td><td>Regular</td><td>28</td><td>20</td></tr>\n",
       "\t<tr><td>3307</td><td>Renault</td><td>GTA                 </td><td>1987</td><td>Compact Cars        </td><td>Manual 5-spd   </td><td>Front-Wheel Drive</td><td>4</td><td>2.0</td><td>Regular</td><td>27</td><td>23</td></tr>\n",
       "\t<tr><td>3109</td><td>Renault</td><td>GTA Convertible     </td><td>1987</td><td>Subcompact Cars     </td><td>Manual 5-spd   </td><td>Front-Wheel Drive</td><td>4</td><td>2.0</td><td>Regular</td><td>26</td><td>21</td></tr>\n",
       "</tbody>\n",
       "</table>\n"
      ],
      "text/latex": [
       "A tibble: 33 × 12\n",
       "\\begin{tabular}{llllllllllll}\n",
       " id & make & model & year & class & trans & drive & cyl & displ & fuel & hwy & cty\\\\\n",
       " <dbl> & <chr> & <chr> & <dbl> & <chr> & <chr> & <chr> & <dbl> & <dbl> & <chr> & <dbl> & <dbl>\\\\\n",
       "\\hline\n",
       "\t  618 & Renault & 18i 4DR Wagon        & 1985 & Small Station Wagons & Automatic 3-spd & Front-Wheel Drive & 4 & 2.2 & Regular & 22 & 18\\\\\n",
       "\t  619 & Renault & 18i 4DR Wagon        & 1985 & Small Station Wagons & Manual 5-spd    & Front-Wheel Drive & 4 & 2.2 & Regular & 28 & 20\\\\\n",
       "\t 2270 & Renault & 18i Sportwagon       & 1986 & Small Station Wagons & Automatic 3-spd & Front-Wheel Drive & 4 & 2.2 & Regular & 22 & 18\\\\\n",
       "\t 2271 & Renault & 18i Sportwagon       & 1986 & Small Station Wagons & Manual 5-spd    & Front-Wheel Drive & 4 & 2.2 & Regular & 28 & 20\\\\\n",
       "\t 3301 & Renault & Alliance             & 1987 & Compact Cars         & Automatic 3-spd & Front-Wheel Drive & 4 & 1.4 & Regular & 28 & 23\\\\\n",
       "\t 3302 & Renault & Alliance             & 1987 & Compact Cars         & Manual 4-spd    & Front-Wheel Drive & 4 & 1.4 & Regular & 37 & 29\\\\\n",
       "\t 3303 & Renault & Alliance             & 1987 & Compact Cars         & Manual 4-spd    & Front-Wheel Drive & 4 & 1.4 & Regular & 34 & 28\\\\\n",
       "\t 3304 & Renault & Alliance             & 1987 & Compact Cars         & Manual 5-spd    & Front-Wheel Drive & 4 & 1.4 & Regular & 36 & 28\\\\\n",
       "\t 3305 & Renault & Alliance             & 1987 & Compact Cars         & Automatic 3-spd & Front-Wheel Drive & 4 & 1.7 & Regular & 26 & 21\\\\\n",
       "\t 3306 & Renault & Alliance             & 1987 & Compact Cars         & Manual 5-spd    & Front-Wheel Drive & 4 & 1.7 & Regular & 34 & 25\\\\\n",
       "\t 1907 & Renault & Alliance Convertible & 1986 & Subcompact Cars      & Automatic 3-spd & Front-Wheel Drive & 4 & 1.7 & Regular & 22 & 19\\\\\n",
       "\t 1908 & Renault & Alliance Convertible & 1986 & Subcompact Cars      & Manual 5-spd    & Front-Wheel Drive & 4 & 1.7 & Regular & 29 & 23\\\\\n",
       "\t 3107 & Renault & Alliance Convertible & 1987 & Subcompact Cars      & Automatic 3-spd & Front-Wheel Drive & 4 & 1.7 & Regular & 26 & 21\\\\\n",
       "\t 3108 & Renault & Alliance Convertible & 1987 & Subcompact Cars      & Manual 5-spd    & Front-Wheel Drive & 4 & 1.7 & Regular & 32 & 24\\\\\n",
       "\t  373 & Renault & Alliance/Encore      & 1985 & Compact Cars         & Automatic 3-spd & Front-Wheel Drive & 4 & 1.4 & Regular & 26 & 22\\\\\n",
       "\t  374 & Renault & Alliance/Encore      & 1985 & Compact Cars         & Manual 4-spd    & Front-Wheel Drive & 4 & 1.4 & Regular & 36 & 29\\\\\n",
       "\t  375 & Renault & Alliance/Encore      & 1985 & Compact Cars         & Manual 4-spd    & Front-Wheel Drive & 4 & 1.4 & Regular & 32 & 26\\\\\n",
       "\t  376 & Renault & Alliance/Encore      & 1985 & Compact Cars         & Manual 5-spd    & Front-Wheel Drive & 4 & 1.4 & Regular & 35 & 27\\\\\n",
       "\t  377 & Renault & Alliance/Encore      & 1985 & Compact Cars         & Automatic 3-spd & Front-Wheel Drive & 4 & 1.7 & Regular & 24 & 19\\\\\n",
       "\t  378 & Renault & Alliance/Encore      & 1985 & Compact Cars         & Manual 5-spd    & Front-Wheel Drive & 4 & 1.7 & Regular & 33 & 25\\\\\n",
       "\t 2050 & Renault & Alliance/Encore      & 1986 & Compact Cars         & Automatic 3-spd & Front-Wheel Drive & 4 & 1.4 & Regular & 27 & 23\\\\\n",
       "\t 2051 & Renault & Alliance/Encore      & 1986 & Compact Cars         & Manual 4-spd    & Front-Wheel Drive & 4 & 1.4 & Regular & 37 & 30\\\\\n",
       "\t 2052 & Renault & Alliance/Encore      & 1986 & Compact Cars         & Manual 4-spd    & Front-Wheel Drive & 4 & 1.4 & Regular & 35 & 27\\\\\n",
       "\t 2053 & Renault & Alliance/Encore      & 1986 & Compact Cars         & Manual 5-spd    & Front-Wheel Drive & 4 & 1.4 & Regular & 35 & 28\\\\\n",
       "\t 2054 & Renault & Alliance/Encore      & 1986 & Compact Cars         & Automatic 3-spd & Front-Wheel Drive & 4 & 1.7 & Regular & 26 & 21\\\\\n",
       "\t 2055 & Renault & Alliance/Encore      & 1986 & Compact Cars         & Manual 5-spd    & Front-Wheel Drive & 4 & 1.7 & Regular & 33 & 26\\\\\n",
       "\t  221 & Renault & Fuego                & 1985 & Subcompact Cars      & Manual 5-spd    & Front-Wheel Drive & 4 & 1.6 & Premium & 29 & 20\\\\\n",
       "\t  222 & Renault & Fuego                & 1985 & Subcompact Cars      & Automatic 3-spd & Front-Wheel Drive & 4 & 2.2 & Regular & 22 & 18\\\\\n",
       "\t  223 & Renault & Fuego                & 1985 & Subcompact Cars      & Manual 5-spd    & Front-Wheel Drive & 4 & 2.2 & Regular & 28 & 20\\\\\n",
       "\t 1909 & Renault & Fuego                & 1986 & Subcompact Cars      & Automatic 3-spd & Front-Wheel Drive & 4 & 2.2 & Regular & 22 & 18\\\\\n",
       "\t 1910 & Renault & Fuego                & 1986 & Subcompact Cars      & Manual 5-spd    & Front-Wheel Drive & 4 & 2.2 & Regular & 28 & 20\\\\\n",
       "\t 3307 & Renault & GTA                  & 1987 & Compact Cars         & Manual 5-spd    & Front-Wheel Drive & 4 & 2.0 & Regular & 27 & 23\\\\\n",
       "\t 3109 & Renault & GTA Convertible      & 1987 & Subcompact Cars      & Manual 5-spd    & Front-Wheel Drive & 4 & 2.0 & Regular & 26 & 21\\\\\n",
       "\\end{tabular}\n"
      ],
      "text/markdown": [
       "\n",
       "A tibble: 33 × 12\n",
       "\n",
       "| id &lt;dbl&gt; | make &lt;chr&gt; | model &lt;chr&gt; | year &lt;dbl&gt; | class &lt;chr&gt; | trans &lt;chr&gt; | drive &lt;chr&gt; | cyl &lt;dbl&gt; | displ &lt;dbl&gt; | fuel &lt;chr&gt; | hwy &lt;dbl&gt; | cty &lt;dbl&gt; |\n",
       "|---|---|---|---|---|---|---|---|---|---|---|---|\n",
       "|  618 | Renault | 18i 4DR Wagon        | 1985 | Small Station Wagons | Automatic 3-spd | Front-Wheel Drive | 4 | 2.2 | Regular | 22 | 18 |\n",
       "|  619 | Renault | 18i 4DR Wagon        | 1985 | Small Station Wagons | Manual 5-spd    | Front-Wheel Drive | 4 | 2.2 | Regular | 28 | 20 |\n",
       "| 2270 | Renault | 18i Sportwagon       | 1986 | Small Station Wagons | Automatic 3-spd | Front-Wheel Drive | 4 | 2.2 | Regular | 22 | 18 |\n",
       "| 2271 | Renault | 18i Sportwagon       | 1986 | Small Station Wagons | Manual 5-spd    | Front-Wheel Drive | 4 | 2.2 | Regular | 28 | 20 |\n",
       "| 3301 | Renault | Alliance             | 1987 | Compact Cars         | Automatic 3-spd | Front-Wheel Drive | 4 | 1.4 | Regular | 28 | 23 |\n",
       "| 3302 | Renault | Alliance             | 1987 | Compact Cars         | Manual 4-spd    | Front-Wheel Drive | 4 | 1.4 | Regular | 37 | 29 |\n",
       "| 3303 | Renault | Alliance             | 1987 | Compact Cars         | Manual 4-spd    | Front-Wheel Drive | 4 | 1.4 | Regular | 34 | 28 |\n",
       "| 3304 | Renault | Alliance             | 1987 | Compact Cars         | Manual 5-spd    | Front-Wheel Drive | 4 | 1.4 | Regular | 36 | 28 |\n",
       "| 3305 | Renault | Alliance             | 1987 | Compact Cars         | Automatic 3-spd | Front-Wheel Drive | 4 | 1.7 | Regular | 26 | 21 |\n",
       "| 3306 | Renault | Alliance             | 1987 | Compact Cars         | Manual 5-spd    | Front-Wheel Drive | 4 | 1.7 | Regular | 34 | 25 |\n",
       "| 1907 | Renault | Alliance Convertible | 1986 | Subcompact Cars      | Automatic 3-spd | Front-Wheel Drive | 4 | 1.7 | Regular | 22 | 19 |\n",
       "| 1908 | Renault | Alliance Convertible | 1986 | Subcompact Cars      | Manual 5-spd    | Front-Wheel Drive | 4 | 1.7 | Regular | 29 | 23 |\n",
       "| 3107 | Renault | Alliance Convertible | 1987 | Subcompact Cars      | Automatic 3-spd | Front-Wheel Drive | 4 | 1.7 | Regular | 26 | 21 |\n",
       "| 3108 | Renault | Alliance Convertible | 1987 | Subcompact Cars      | Manual 5-spd    | Front-Wheel Drive | 4 | 1.7 | Regular | 32 | 24 |\n",
       "|  373 | Renault | Alliance/Encore      | 1985 | Compact Cars         | Automatic 3-spd | Front-Wheel Drive | 4 | 1.4 | Regular | 26 | 22 |\n",
       "|  374 | Renault | Alliance/Encore      | 1985 | Compact Cars         | Manual 4-spd    | Front-Wheel Drive | 4 | 1.4 | Regular | 36 | 29 |\n",
       "|  375 | Renault | Alliance/Encore      | 1985 | Compact Cars         | Manual 4-spd    | Front-Wheel Drive | 4 | 1.4 | Regular | 32 | 26 |\n",
       "|  376 | Renault | Alliance/Encore      | 1985 | Compact Cars         | Manual 5-spd    | Front-Wheel Drive | 4 | 1.4 | Regular | 35 | 27 |\n",
       "|  377 | Renault | Alliance/Encore      | 1985 | Compact Cars         | Automatic 3-spd | Front-Wheel Drive | 4 | 1.7 | Regular | 24 | 19 |\n",
       "|  378 | Renault | Alliance/Encore      | 1985 | Compact Cars         | Manual 5-spd    | Front-Wheel Drive | 4 | 1.7 | Regular | 33 | 25 |\n",
       "| 2050 | Renault | Alliance/Encore      | 1986 | Compact Cars         | Automatic 3-spd | Front-Wheel Drive | 4 | 1.4 | Regular | 27 | 23 |\n",
       "| 2051 | Renault | Alliance/Encore      | 1986 | Compact Cars         | Manual 4-spd    | Front-Wheel Drive | 4 | 1.4 | Regular | 37 | 30 |\n",
       "| 2052 | Renault | Alliance/Encore      | 1986 | Compact Cars         | Manual 4-spd    | Front-Wheel Drive | 4 | 1.4 | Regular | 35 | 27 |\n",
       "| 2053 | Renault | Alliance/Encore      | 1986 | Compact Cars         | Manual 5-spd    | Front-Wheel Drive | 4 | 1.4 | Regular | 35 | 28 |\n",
       "| 2054 | Renault | Alliance/Encore      | 1986 | Compact Cars         | Automatic 3-spd | Front-Wheel Drive | 4 | 1.7 | Regular | 26 | 21 |\n",
       "| 2055 | Renault | Alliance/Encore      | 1986 | Compact Cars         | Manual 5-spd    | Front-Wheel Drive | 4 | 1.7 | Regular | 33 | 26 |\n",
       "|  221 | Renault | Fuego                | 1985 | Subcompact Cars      | Manual 5-spd    | Front-Wheel Drive | 4 | 1.6 | Premium | 29 | 20 |\n",
       "|  222 | Renault | Fuego                | 1985 | Subcompact Cars      | Automatic 3-spd | Front-Wheel Drive | 4 | 2.2 | Regular | 22 | 18 |\n",
       "|  223 | Renault | Fuego                | 1985 | Subcompact Cars      | Manual 5-spd    | Front-Wheel Drive | 4 | 2.2 | Regular | 28 | 20 |\n",
       "| 1909 | Renault | Fuego                | 1986 | Subcompact Cars      | Automatic 3-spd | Front-Wheel Drive | 4 | 2.2 | Regular | 22 | 18 |\n",
       "| 1910 | Renault | Fuego                | 1986 | Subcompact Cars      | Manual 5-spd    | Front-Wheel Drive | 4 | 2.2 | Regular | 28 | 20 |\n",
       "| 3307 | Renault | GTA                  | 1987 | Compact Cars         | Manual 5-spd    | Front-Wheel Drive | 4 | 2.0 | Regular | 27 | 23 |\n",
       "| 3109 | Renault | GTA Convertible      | 1987 | Subcompact Cars      | Manual 5-spd    | Front-Wheel Drive | 4 | 2.0 | Regular | 26 | 21 |\n",
       "\n"
      ],
      "text/plain": [
       "   id   make    model                year class                trans          \n",
       "1   618 Renault 18i 4DR Wagon        1985 Small Station Wagons Automatic 3-spd\n",
       "2   619 Renault 18i 4DR Wagon        1985 Small Station Wagons Manual 5-spd   \n",
       "3  2270 Renault 18i Sportwagon       1986 Small Station Wagons Automatic 3-spd\n",
       "4  2271 Renault 18i Sportwagon       1986 Small Station Wagons Manual 5-spd   \n",
       "5  3301 Renault Alliance             1987 Compact Cars         Automatic 3-spd\n",
       "6  3302 Renault Alliance             1987 Compact Cars         Manual 4-spd   \n",
       "7  3303 Renault Alliance             1987 Compact Cars         Manual 4-spd   \n",
       "8  3304 Renault Alliance             1987 Compact Cars         Manual 5-spd   \n",
       "9  3305 Renault Alliance             1987 Compact Cars         Automatic 3-spd\n",
       "10 3306 Renault Alliance             1987 Compact Cars         Manual 5-spd   \n",
       "11 1907 Renault Alliance Convertible 1986 Subcompact Cars      Automatic 3-spd\n",
       "12 1908 Renault Alliance Convertible 1986 Subcompact Cars      Manual 5-spd   \n",
       "13 3107 Renault Alliance Convertible 1987 Subcompact Cars      Automatic 3-spd\n",
       "14 3108 Renault Alliance Convertible 1987 Subcompact Cars      Manual 5-spd   \n",
       "15  373 Renault Alliance/Encore      1985 Compact Cars         Automatic 3-spd\n",
       "16  374 Renault Alliance/Encore      1985 Compact Cars         Manual 4-spd   \n",
       "17  375 Renault Alliance/Encore      1985 Compact Cars         Manual 4-spd   \n",
       "18  376 Renault Alliance/Encore      1985 Compact Cars         Manual 5-spd   \n",
       "19  377 Renault Alliance/Encore      1985 Compact Cars         Automatic 3-spd\n",
       "20  378 Renault Alliance/Encore      1985 Compact Cars         Manual 5-spd   \n",
       "21 2050 Renault Alliance/Encore      1986 Compact Cars         Automatic 3-spd\n",
       "22 2051 Renault Alliance/Encore      1986 Compact Cars         Manual 4-spd   \n",
       "23 2052 Renault Alliance/Encore      1986 Compact Cars         Manual 4-spd   \n",
       "24 2053 Renault Alliance/Encore      1986 Compact Cars         Manual 5-spd   \n",
       "25 2054 Renault Alliance/Encore      1986 Compact Cars         Automatic 3-spd\n",
       "26 2055 Renault Alliance/Encore      1986 Compact Cars         Manual 5-spd   \n",
       "27  221 Renault Fuego                1985 Subcompact Cars      Manual 5-spd   \n",
       "28  222 Renault Fuego                1985 Subcompact Cars      Automatic 3-spd\n",
       "29  223 Renault Fuego                1985 Subcompact Cars      Manual 5-spd   \n",
       "30 1909 Renault Fuego                1986 Subcompact Cars      Automatic 3-spd\n",
       "31 1910 Renault Fuego                1986 Subcompact Cars      Manual 5-spd   \n",
       "32 3307 Renault GTA                  1987 Compact Cars         Manual 5-spd   \n",
       "33 3109 Renault GTA Convertible      1987 Subcompact Cars      Manual 5-spd   \n",
       "   drive             cyl displ fuel    hwy cty\n",
       "1  Front-Wheel Drive 4   2.2   Regular 22  18 \n",
       "2  Front-Wheel Drive 4   2.2   Regular 28  20 \n",
       "3  Front-Wheel Drive 4   2.2   Regular 22  18 \n",
       "4  Front-Wheel Drive 4   2.2   Regular 28  20 \n",
       "5  Front-Wheel Drive 4   1.4   Regular 28  23 \n",
       "6  Front-Wheel Drive 4   1.4   Regular 37  29 \n",
       "7  Front-Wheel Drive 4   1.4   Regular 34  28 \n",
       "8  Front-Wheel Drive 4   1.4   Regular 36  28 \n",
       "9  Front-Wheel Drive 4   1.7   Regular 26  21 \n",
       "10 Front-Wheel Drive 4   1.7   Regular 34  25 \n",
       "11 Front-Wheel Drive 4   1.7   Regular 22  19 \n",
       "12 Front-Wheel Drive 4   1.7   Regular 29  23 \n",
       "13 Front-Wheel Drive 4   1.7   Regular 26  21 \n",
       "14 Front-Wheel Drive 4   1.7   Regular 32  24 \n",
       "15 Front-Wheel Drive 4   1.4   Regular 26  22 \n",
       "16 Front-Wheel Drive 4   1.4   Regular 36  29 \n",
       "17 Front-Wheel Drive 4   1.4   Regular 32  26 \n",
       "18 Front-Wheel Drive 4   1.4   Regular 35  27 \n",
       "19 Front-Wheel Drive 4   1.7   Regular 24  19 \n",
       "20 Front-Wheel Drive 4   1.7   Regular 33  25 \n",
       "21 Front-Wheel Drive 4   1.4   Regular 27  23 \n",
       "22 Front-Wheel Drive 4   1.4   Regular 37  30 \n",
       "23 Front-Wheel Drive 4   1.4   Regular 35  27 \n",
       "24 Front-Wheel Drive 4   1.4   Regular 35  28 \n",
       "25 Front-Wheel Drive 4   1.7   Regular 26  21 \n",
       "26 Front-Wheel Drive 4   1.7   Regular 33  26 \n",
       "27 Front-Wheel Drive 4   1.6   Premium 29  20 \n",
       "28 Front-Wheel Drive 4   2.2   Regular 22  18 \n",
       "29 Front-Wheel Drive 4   2.2   Regular 28  20 \n",
       "30 Front-Wheel Drive 4   2.2   Regular 22  18 \n",
       "31 Front-Wheel Drive 4   2.2   Regular 28  20 \n",
       "32 Front-Wheel Drive 4   2.0   Regular 27  23 \n",
       "33 Front-Wheel Drive 4   2.0   Regular 26  21 "
      ]
     },
     "metadata": {},
     "output_type": "display_data"
    }
   ],
   "source": [
    "# Renault data\n",
    "data <- fueleconomy::vehicles %>% filter(make==\"Renault\")\n",
    "data"
   ]
  },
  {
   "cell_type": "code",
   "execution_count": 5,
   "id": "09a1d8c9",
   "metadata": {
    "vscode": {
     "languageId": "r"
    }
   },
   "outputs": [],
   "source": [
    "# Highway MpG\n",
    "## creating a probability mass table\n",
    "v <- sort(unique(data$hwy))\n",
    "f <- numeric(length(v))\n",
    "for (r in 1:nrow(data)) {\n",
    "  z <- data$hwy[r]\n",
    "  i <- which(v == z)\n",
    "  f[i] <- f[i] + 1\n",
    "}\n",
    "df_hwy <- data.frame(x=v, f=f/sum(f))\n",
    "\n",
    "# City MpG\n",
    "## creating a probability mass values\n",
    "v <- sort(unique(data$cty))\n",
    "f <- numeric(length(v))\n",
    "for (r in 1:nrow(data)) {\n",
    "  z <- data$cty[r]\n",
    "  i <- which(v == z)\n",
    "  f[i] <- f[i] + 1\n",
    "}\n",
    "df_cty <- data.frame(x=v, f=f/sum(f))"
   ]
  },
  {
   "cell_type": "markdown",
   "id": "42301306",
   "metadata": {},
   "source": [
    "- Mean"
   ]
  },
  {
   "cell_type": "code",
   "execution_count": 6,
   "id": "f07ad955",
   "metadata": {
    "vscode": {
     "languageId": "r"
    }
   },
   "outputs": [
    {
     "name": "stderr",
     "output_type": "stream",
     "text": [
      "Mean Highway MpG: 29.242\n",
      "\n",
      "Mean City MpG: 23.03\n",
      "\n"
     ]
    }
   ],
   "source": [
    "# Highway MpG\n",
    "df <- df_hwy\n",
    "z  <- sum(df$f * df$x)\n",
    "message(\"Mean Highway MpG: \", round(z, digits=3))\n",
    "\n",
    "# City MpG\n",
    "df <- df_cty\n",
    "z  <- sum(df$f * df$x)\n",
    "message(\"Mean City MpG: \", round(z, digits=3))"
   ]
  },
  {
   "cell_type": "markdown",
   "id": "721f7b8c",
   "metadata": {},
   "source": [
    "- Median"
   ]
  },
  {
   "cell_type": "code",
   "execution_count": 7,
   "id": "5a57f87a",
   "metadata": {
    "vscode": {
     "languageId": "r"
    }
   },
   "outputs": [
    {
     "name": "stderr",
     "output_type": "stream",
     "text": [
      "Median Highway MpG: 28\n",
      "\n",
      "Median City MpG: 23\n",
      "\n"
     ]
    }
   ],
   "source": [
    "# Highway MpG\n",
    "df <- df_hwy\n",
    "z  <- NA\n",
    "F  <- cumsum(df$f) \n",
    "for (i in 2:nrow(df)) {\n",
    "    if (F[i-1] < 0.5 & F[i] > 0.5) {\n",
    "        z <- df$x[i]\n",
    "        break\n",
    "    } else if (F[i] == 0.5) {\n",
    "        z <- (df$x[i] + df$x[i+1]) / 2\n",
    "        break\n",
    "    }\n",
    "}\n",
    "message(\"Median Highway MpG: \", round(z, digits=3))\n",
    "\n",
    "# City MpG\n",
    "df <- df_cty\n",
    "z  <- NA\n",
    "F  <- cumsum(df$f) \n",
    "for (i in 2:nrow(df)) {\n",
    "    if (F[i-1] < 0.5 & F[i] > 0.5) {\n",
    "        z <- df$x[i]\n",
    "        break\n",
    "    } else if (F[i] == 0.5) {\n",
    "        z <- (df$x[i] + df$x[i+1]) / 2\n",
    "        break\n",
    "    }\n",
    "}\n",
    "message(\"Median City MpG: \", round(z, digits=3))\n"
   ]
  },
  {
   "cell_type": "markdown",
   "id": "44ddaec3",
   "metadata": {},
   "source": [
    "- Mode"
   ]
  },
  {
   "cell_type": "code",
   "execution_count": 8,
   "id": "fdcc3d84",
   "metadata": {
    "vscode": {
     "languageId": "r"
    }
   },
   "outputs": [
    {
     "name": "stderr",
     "output_type": "stream",
     "text": [
      "Mode Highway MpG: 22\n",
      "\n",
      "Mode City MpG: 20\n",
      "\n"
     ]
    }
   ],
   "source": [
    "# Highway MpG\n",
    "df <- df_hwy\n",
    "z  <- df$x[which(df$f == max(df$f))]\n",
    "message(\"Mode Highway MpG: \", z[1])\n",
    "\n",
    "# City MpG\n",
    "df <- df_cty\n",
    "z  <- df$x[which(df$f == max(df$f))]\n",
    "message(\"Mode City MpG: \", z[1])"
   ]
  },
  {
   "cell_type": "markdown",
   "id": "6cf7b5c2",
   "metadata": {},
   "source": [
    "- Range"
   ]
  },
  {
   "cell_type": "code",
   "execution_count": 9,
   "id": "9d0156e5",
   "metadata": {
    "vscode": {
     "languageId": "r"
    }
   },
   "outputs": [
    {
     "name": "stderr",
     "output_type": "stream",
     "text": [
      "Range Highway MpG: 15\n",
      "\n",
      "Range City MpG: 12\n",
      "\n"
     ]
    }
   ],
   "source": [
    "# Highway MpG\n",
    "z = max(data$hwy) - min(data$hwy)\n",
    "message(\"Range Highway MpG: \", z)\n",
    "\n",
    "# City MpG\n",
    "z = max(data$cty) - min(data$cty)\n",
    "message(\"Range City MpG: \", z)"
   ]
  },
  {
   "cell_type": "markdown",
   "id": "0b5ef5c8",
   "metadata": {},
   "source": [
    "- Inter-Quartile Range"
   ]
  },
  {
   "cell_type": "code",
   "execution_count": 10,
   "id": "e1151efe",
   "metadata": {
    "vscode": {
     "languageId": "r"
    }
   },
   "outputs": [
    {
     "name": "stderr",
     "output_type": "stream",
     "text": [
      "IQR Highway MpG: 8\n",
      "\n",
      "IQR City MpG: 6\n",
      "\n"
     ]
    }
   ],
   "source": [
    "# Highway MpG\n",
    "df <- df_hwy\n",
    "F  <- cumsum(df$f) \n",
    "## First Quartile\n",
    "q1 <- NA\n",
    "for (i in 2:nrow(df)) {\n",
    "    if (F[i-1] < 0.25 & F[i] > 0.25) {\n",
    "        q1 <- df$x[i]\n",
    "        break\n",
    "    } else if (F[i] == 0.25) {\n",
    "        q1 <- (df$x[i] + df$x[i+1]) / 2\n",
    "        break\n",
    "    }\n",
    "}\n",
    "## Third Quartile\n",
    "q3 <- NA\n",
    "for (i in 2:nrow(df)) {\n",
    "    if (F[i-1] < 0.75 & F[i] > 0.75) {\n",
    "        q3 <- df$x[i]\n",
    "        break\n",
    "    } else if (F[i] == 0.75) {\n",
    "        q3 <- (df$x[i] + df$x[i+1]) / 2\n",
    "        break\n",
    "    }\n",
    "}\n",
    "z = q3 - q1\n",
    "message(\"IQR Highway MpG: \", z)\n",
    "\n",
    "# City MpG\n",
    "df <- df_cty\n",
    "F  <- cumsum(df$f)\n",
    "## First Quartile\n",
    "q1 <- NA\n",
    "for (i in 2:nrow(df)) {\n",
    "    if (F[i-1] < 0.25 & F[i] > 0.25) {\n",
    "        q1 <- df$x[i]\n",
    "        break\n",
    "    } else if (F[i] == 0.25) {\n",
    "        q1 <- (df$x[i] + df$x[i+1]) / 2\n",
    "        break\n",
    "    }\n",
    "}\n",
    "## Third Quartile\n",
    "q3 <- NA\n",
    "for (i in 2:nrow(df)) {\n",
    "    if (F[i-1] < 0.75 & F[i] > 0.75) {\n",
    "        q3 <- df$x[i]\n",
    "        break\n",
    "    } else if (F[i] == 0.75) {\n",
    "        q3 <- (df$x[i] + df$x[i+1]) / 2\n",
    "        break\n",
    "    }\n",
    "}\n",
    "z = q3 - q1\n",
    "message(\"IQR City MpG: \", z)\n"
   ]
  },
  {
   "cell_type": "markdown",
   "id": "3593d3a7",
   "metadata": {},
   "source": [
    "- Standard Deviation"
   ]
  },
  {
   "cell_type": "code",
   "execution_count": 11,
   "id": "3c36350c",
   "metadata": {
    "vscode": {
     "languageId": "r"
    }
   },
   "outputs": [
    {
     "name": "stderr",
     "output_type": "stream",
     "text": [
      "Standard Deviation Highway MpG: 4.799\n",
      "\n",
      "Standard Deviation City MpG: 3.689\n",
      "\n"
     ]
    }
   ],
   "source": [
    "# Highway MpG\n",
    "df <- df_hwy\n",
    "z  <- sqrt(sum(df$f * ((df$x - sum(df$f * df$x))^2)))\n",
    "message(\"Standard Deviation Highway MpG: \", round(z, digits=3))\n",
    "# City MpG\n",
    "df <- df_cty\n",
    "z  <- sqrt(sum(df$f * ((df$x - sum(df$f * df$x))^2)))\n",
    "message(\"Standard Deviation City MpG: \", round(z, digits=3))"
   ]
  },
  {
   "cell_type": "markdown",
   "id": "2ca6922b",
   "metadata": {},
   "source": [
    "- Skewness"
   ]
  },
  {
   "cell_type": "code",
   "execution_count": 12,
   "id": "3a4efdb6",
   "metadata": {
    "vscode": {
     "languageId": "r"
    }
   },
   "outputs": [
    {
     "name": "stderr",
     "output_type": "stream",
     "text": [
      "Skewness Highway MpG: 0.066\n",
      "\n",
      "Skewness City MpG: 0.309\n",
      "\n"
     ]
    }
   ],
   "source": [
    "# Highway MpG\n",
    "df <- df_hwy\n",
    "z  <- sum(df$f * ((df$x - sum(df$f * df$x))^3)) / (sqrt(sum(df$f * ((df$x - sum(df$f * df$x))^2))))^3\n",
    "message(\"Skewness Highway MpG: \", round(z, digits=3))\n",
    "# City MpG\n",
    "df <- df_cty\n",
    "z  <- sum(df$f * ((df$x - sum(df$f * df$x))^3)) / (sqrt(sum(df$f * ((df$x - sum(df$f * df$x))^2))))^3\n",
    "message(\"Skewness City MpG: \", round(z, digits=3))"
   ]
  },
  {
   "cell_type": "markdown",
   "id": "50a5bff9",
   "metadata": {},
   "source": [
    "- Kurtosis"
   ]
  },
  {
   "cell_type": "code",
   "execution_count": 13,
   "id": "1fba40a6",
   "metadata": {
    "vscode": {
     "languageId": "r"
    }
   },
   "outputs": [
    {
     "name": "stderr",
     "output_type": "stream",
     "text": [
      "Kurtosis Highway MpG: 1.792\n",
      "\n",
      "Kurtosis City MpG: 1.8\n",
      "\n"
     ]
    }
   ],
   "source": [
    "# Highway MpG\n",
    "df <- df_hwy\n",
    "z  <- sum(df$f * ((df$x - sum(df$f * df$x))^4)) / (sqrt(sum(df$f * ((df$x - sum(df$f * df$x))^2))))^4\n",
    "message(\"Kurtosis Highway MpG: \", round(z, digits=3))\n",
    "# City MpG\n",
    "df <- df_cty\n",
    "z  <- sum(df$f * ((df$x - sum(df$f * df$x))^4)) / (sqrt(sum(df$f * ((df$x - sum(df$f * df$x))^2))))^4\n",
    "message(\"Kurtosis City MpG: \", round(z, digits=3))"
   ]
  },
  {
   "cell_type": "markdown",
   "id": "e0ed2de7",
   "metadata": {},
   "source": [
    "b. Based on these statistics, draw inferences for highway and city mileage *(2)*\n",
    "\n",
    "- **City mileage is generally lower than highway mileage**, as indicated by the measures of location (mean, median, mode).\n",
    "- **Highway mileage shows greater variability** compared to city mileage, based on the measures of dispersion (range, IQR, standard deviation).\n",
    "- **City mileage distribution is more asymmetrically clustered around the mean** (higher skewness and kurtosis) than highway mileage, as seen in the measures of shape.\n",
    "\n",
    "---"
   ]
  },
  {
   "cell_type": "markdown",
   "id": "6ce8353f",
   "metadata": {},
   "source": [
    "3. **Probability Analysis** *(5)*\n",
    "\n",
    "a. Using the vehicles dataset filtered out for Honda vehicles, verify the axioms of probability for vehicle classes and engine cylinders. *(1)*"
   ]
  },
  {
   "cell_type": "code",
   "execution_count": 14,
   "id": "613f5183",
   "metadata": {
    "vscode": {
     "languageId": "r"
    }
   },
   "outputs": [],
   "source": [
    "# Honda data\n",
    "data <- fueleconomy::vehicles %>% filter(make==\"Honda\")"
   ]
  },
  {
   "cell_type": "code",
   "execution_count": 15,
   "id": "f2b7f42d",
   "metadata": {
    "vscode": {
     "languageId": "r"
    }
   },
   "outputs": [
    {
     "data": {
      "text/html": [
       "<table class=\"dataframe\">\n",
       "<caption>A data.frame: 18 × 3</caption>\n",
       "<thead>\n",
       "\t<tr><th scope=col>class</th><th scope=col>freq</th><th scope=col>prob</th></tr>\n",
       "\t<tr><th scope=col>&lt;chr&gt;</th><th scope=col>&lt;dbl&gt;</th><th scope=col>&lt;dbl&gt;</th></tr>\n",
       "</thead>\n",
       "<tbody>\n",
       "\t<tr><td>Compact Cars                      </td><td>142</td><td>0.180203046</td></tr>\n",
       "\t<tr><td>Large Cars                        </td><td> 15</td><td>0.019035533</td></tr>\n",
       "\t<tr><td>Midsize-Large Station Wagons      </td><td>  3</td><td>0.003807107</td></tr>\n",
       "\t<tr><td>Midsize Cars                      </td><td> 62</td><td>0.078680203</td></tr>\n",
       "\t<tr><td>Midsize Station Wagons            </td><td>  1</td><td>0.001269036</td></tr>\n",
       "\t<tr><td>Minivan - 2WD                     </td><td> 25</td><td>0.031725888</td></tr>\n",
       "\t<tr><td>Small Sport Utility Vehicle 2WD   </td><td>  8</td><td>0.010152284</td></tr>\n",
       "\t<tr><td>Small Sport Utility Vehicle 4WD   </td><td>  5</td><td>0.006345178</td></tr>\n",
       "\t<tr><td>Small Station Wagons              </td><td> 73</td><td>0.092639594</td></tr>\n",
       "\t<tr><td>Special Purpose Vehicle 2WD       </td><td>  3</td><td>0.003807107</td></tr>\n",
       "\t<tr><td>Special Purpose Vehicle 4WD       </td><td>  7</td><td>0.008883249</td></tr>\n",
       "\t<tr><td>Special Purpose Vehicles          </td><td> 18</td><td>0.022842640</td></tr>\n",
       "\t<tr><td>Sport Utility Vehicle - 2WD       </td><td> 51</td><td>0.064720812</td></tr>\n",
       "\t<tr><td>Sport Utility Vehicle - 4WD       </td><td> 63</td><td>0.079949239</td></tr>\n",
       "\t<tr><td>Standard Pickup Trucks 4WD        </td><td>  9</td><td>0.011421320</td></tr>\n",
       "\t<tr><td>Standard Sport Utility Vehicle 4WD</td><td>  1</td><td>0.001269036</td></tr>\n",
       "\t<tr><td>Subcompact Cars                   </td><td>209</td><td>0.265228426</td></tr>\n",
       "\t<tr><td>Two Seaters                       </td><td> 93</td><td>0.118020305</td></tr>\n",
       "</tbody>\n",
       "</table>\n"
      ],
      "text/latex": [
       "A data.frame: 18 × 3\n",
       "\\begin{tabular}{lll}\n",
       " class & freq & prob\\\\\n",
       " <chr> & <dbl> & <dbl>\\\\\n",
       "\\hline\n",
       "\t Compact Cars                       & 142 & 0.180203046\\\\\n",
       "\t Large Cars                         &  15 & 0.019035533\\\\\n",
       "\t Midsize-Large Station Wagons       &   3 & 0.003807107\\\\\n",
       "\t Midsize Cars                       &  62 & 0.078680203\\\\\n",
       "\t Midsize Station Wagons             &   1 & 0.001269036\\\\\n",
       "\t Minivan - 2WD                      &  25 & 0.031725888\\\\\n",
       "\t Small Sport Utility Vehicle 2WD    &   8 & 0.010152284\\\\\n",
       "\t Small Sport Utility Vehicle 4WD    &   5 & 0.006345178\\\\\n",
       "\t Small Station Wagons               &  73 & 0.092639594\\\\\n",
       "\t Special Purpose Vehicle 2WD        &   3 & 0.003807107\\\\\n",
       "\t Special Purpose Vehicle 4WD        &   7 & 0.008883249\\\\\n",
       "\t Special Purpose Vehicles           &  18 & 0.022842640\\\\\n",
       "\t Sport Utility Vehicle - 2WD        &  51 & 0.064720812\\\\\n",
       "\t Sport Utility Vehicle - 4WD        &  63 & 0.079949239\\\\\n",
       "\t Standard Pickup Trucks 4WD         &   9 & 0.011421320\\\\\n",
       "\t Standard Sport Utility Vehicle 4WD &   1 & 0.001269036\\\\\n",
       "\t Subcompact Cars                    & 209 & 0.265228426\\\\\n",
       "\t Two Seaters                        &  93 & 0.118020305\\\\\n",
       "\\end{tabular}\n"
      ],
      "text/markdown": [
       "\n",
       "A data.frame: 18 × 3\n",
       "\n",
       "| class &lt;chr&gt; | freq &lt;dbl&gt; | prob &lt;dbl&gt; |\n",
       "|---|---|---|\n",
       "| Compact Cars                       | 142 | 0.180203046 |\n",
       "| Large Cars                         |  15 | 0.019035533 |\n",
       "| Midsize-Large Station Wagons       |   3 | 0.003807107 |\n",
       "| Midsize Cars                       |  62 | 0.078680203 |\n",
       "| Midsize Station Wagons             |   1 | 0.001269036 |\n",
       "| Minivan - 2WD                      |  25 | 0.031725888 |\n",
       "| Small Sport Utility Vehicle 2WD    |   8 | 0.010152284 |\n",
       "| Small Sport Utility Vehicle 4WD    |   5 | 0.006345178 |\n",
       "| Small Station Wagons               |  73 | 0.092639594 |\n",
       "| Special Purpose Vehicle 2WD        |   3 | 0.003807107 |\n",
       "| Special Purpose Vehicle 4WD        |   7 | 0.008883249 |\n",
       "| Special Purpose Vehicles           |  18 | 0.022842640 |\n",
       "| Sport Utility Vehicle - 2WD        |  51 | 0.064720812 |\n",
       "| Sport Utility Vehicle - 4WD        |  63 | 0.079949239 |\n",
       "| Standard Pickup Trucks 4WD         |   9 | 0.011421320 |\n",
       "| Standard Sport Utility Vehicle 4WD |   1 | 0.001269036 |\n",
       "| Subcompact Cars                    | 209 | 0.265228426 |\n",
       "| Two Seaters                        |  93 | 0.118020305 |\n",
       "\n"
      ],
      "text/plain": [
       "   class                              freq prob       \n",
       "1  Compact Cars                       142  0.180203046\n",
       "2  Large Cars                          15  0.019035533\n",
       "3  Midsize-Large Station Wagons         3  0.003807107\n",
       "4  Midsize Cars                        62  0.078680203\n",
       "5  Midsize Station Wagons               1  0.001269036\n",
       "6  Minivan - 2WD                       25  0.031725888\n",
       "7  Small Sport Utility Vehicle 2WD      8  0.010152284\n",
       "8  Small Sport Utility Vehicle 4WD      5  0.006345178\n",
       "9  Small Station Wagons                73  0.092639594\n",
       "10 Special Purpose Vehicle 2WD          3  0.003807107\n",
       "11 Special Purpose Vehicle 4WD          7  0.008883249\n",
       "12 Special Purpose Vehicles            18  0.022842640\n",
       "13 Sport Utility Vehicle - 2WD         51  0.064720812\n",
       "14 Sport Utility Vehicle - 4WD         63  0.079949239\n",
       "15 Standard Pickup Trucks 4WD           9  0.011421320\n",
       "16 Standard Sport Utility Vehicle 4WD   1  0.001269036\n",
       "17 Subcompact Cars                    209  0.265228426\n",
       "18 Two Seaters                         93  0.118020305"
      ]
     },
     "metadata": {},
     "output_type": "display_data"
    },
    {
     "name": "stderr",
     "output_type": "stream",
     "text": [
      "Axiom #1: TRUE\n",
      "\n",
      "Axiom #2: TRUE\n",
      "\n",
      "Axiom #3: TRUE\n",
      "\n"
     ]
    }
   ],
   "source": [
    "# Honda vehicle classes\n",
    "df_class <- data.frame(class=names(table(data$class)), freq=as.numeric(table(data$class)), prob=as.numeric(prop.table(table(data$class))))\n",
    "df       <- df_class\n",
    "df\n",
    "message(\"Axiom #1: \", all(df$prob >= 0))\n",
    "message(\"Axiom #2: \", sum(df$prob) == 1)\n",
    "message(\"Axiom #3: \", round((df$freq[1] + df$freq[2]) / sum(df$freq), digits=3) == round(df$prob[1] + df$prob[2], digits=3))"
   ]
  },
  {
   "cell_type": "code",
   "execution_count": 16,
   "id": "5be16b0f",
   "metadata": {
    "vscode": {
     "languageId": "r"
    }
   },
   "outputs": [
    {
     "data": {
      "text/html": [
       "<table class=\"dataframe\">\n",
       "<caption>A data.frame: 3 × 3</caption>\n",
       "<thead>\n",
       "\t<tr><th scope=col>cyl</th><th scope=col>freq</th><th scope=col>prob</th></tr>\n",
       "\t<tr><th scope=col>&lt;chr&gt;</th><th scope=col>&lt;dbl&gt;</th><th scope=col>&lt;dbl&gt;</th></tr>\n",
       "</thead>\n",
       "<tbody>\n",
       "\t<tr><td>3</td><td> 14</td><td>0.0178117</td></tr>\n",
       "\t<tr><td>4</td><td>629</td><td>0.8002545</td></tr>\n",
       "\t<tr><td>6</td><td>143</td><td>0.1819338</td></tr>\n",
       "</tbody>\n",
       "</table>\n"
      ],
      "text/latex": [
       "A data.frame: 3 × 3\n",
       "\\begin{tabular}{lll}\n",
       " cyl & freq & prob\\\\\n",
       " <chr> & <dbl> & <dbl>\\\\\n",
       "\\hline\n",
       "\t 3 &  14 & 0.0178117\\\\\n",
       "\t 4 & 629 & 0.8002545\\\\\n",
       "\t 6 & 143 & 0.1819338\\\\\n",
       "\\end{tabular}\n"
      ],
      "text/markdown": [
       "\n",
       "A data.frame: 3 × 3\n",
       "\n",
       "| cyl &lt;chr&gt; | freq &lt;dbl&gt; | prob &lt;dbl&gt; |\n",
       "|---|---|---|\n",
       "| 3 |  14 | 0.0178117 |\n",
       "| 4 | 629 | 0.8002545 |\n",
       "| 6 | 143 | 0.1819338 |\n",
       "\n"
      ],
      "text/plain": [
       "  cyl freq prob     \n",
       "1 3    14  0.0178117\n",
       "2 4   629  0.8002545\n",
       "3 6   143  0.1819338"
      ]
     },
     "metadata": {},
     "output_type": "display_data"
    },
    {
     "name": "stderr",
     "output_type": "stream",
     "text": [
      "Axiom #1: TRUE\n",
      "\n",
      "Axiom #2: TRUE\n",
      "\n",
      "Axiom #3: TRUE\n",
      "\n"
     ]
    }
   ],
   "source": [
    "# Honda engine cylinders\n",
    "df_cyl   <- data.frame(cyl=names(table(data$cyl)), freq=as.numeric(table(data$cyl)), prob=as.numeric(prop.table(table(data$cyl))))\n",
    "df       <- df_cyl\n",
    "df\n",
    "message(\"Axiom #1: \", all(df$prob >= 0))\n",
    "message(\"Axiom #2: \", sum(df$prob) == 1)\n",
    "message(\"Axiom #3: \", round((df$freq[1] + df$freq[2]) / sum(df$freq), digits=3) == round(df$prob[1] + df$prob[2], digits=3))"
   ]
  },
  {
   "cell_type": "markdown",
   "id": "038fb567",
   "metadata": {},
   "source": [
    "b. Using the vehicles dataset filtered out for Honda vehicles, employ conditional probability formula to evaluate the probability of a compact car having a 4-cylinder engine and consequently, employ the Bayes' rule to evaluate the probability a 4-cylinder engine vehicle being a compact car. *(4)*"
   ]
  },
  {
   "cell_type": "code",
   "execution_count": 17,
   "id": "2e2b5542",
   "metadata": {
    "vscode": {
     "languageId": "r"
    }
   },
   "outputs": [
    {
     "data": {
      "text/html": [
       "<table class=\"dataframe\">\n",
       "<caption>A data.frame: 54 × 4</caption>\n",
       "<thead>\n",
       "\t<tr><th scope=col>class</th><th scope=col>cyl</th><th scope=col>freq</th><th scope=col>prob</th></tr>\n",
       "\t<tr><th scope=col>&lt;fct&gt;</th><th scope=col>&lt;fct&gt;</th><th scope=col>&lt;int&gt;</th><th scope=col>&lt;dbl&gt;</th></tr>\n",
       "</thead>\n",
       "<tbody>\n",
       "\t<tr><td>Compact Cars                      </td><td>3</td><td>  0</td><td>0.000000000</td></tr>\n",
       "\t<tr><td>Large Cars                        </td><td>3</td><td>  0</td><td>0.000000000</td></tr>\n",
       "\t<tr><td>Midsize-Large Station Wagons      </td><td>3</td><td>  0</td><td>0.000000000</td></tr>\n",
       "\t<tr><td>Midsize Cars                      </td><td>3</td><td>  0</td><td>0.000000000</td></tr>\n",
       "\t<tr><td>Midsize Station Wagons            </td><td>3</td><td>  0</td><td>0.000000000</td></tr>\n",
       "\t<tr><td>Minivan - 2WD                     </td><td>3</td><td>  0</td><td>0.000000000</td></tr>\n",
       "\t<tr><td>Small Sport Utility Vehicle 2WD   </td><td>3</td><td>  0</td><td>0.000000000</td></tr>\n",
       "\t<tr><td>Small Sport Utility Vehicle 4WD   </td><td>3</td><td>  0</td><td>0.000000000</td></tr>\n",
       "\t<tr><td>Small Station Wagons              </td><td>3</td><td>  0</td><td>0.000000000</td></tr>\n",
       "\t<tr><td>Special Purpose Vehicle 2WD       </td><td>3</td><td>  0</td><td>0.000000000</td></tr>\n",
       "\t<tr><td>Special Purpose Vehicle 4WD       </td><td>3</td><td>  0</td><td>0.000000000</td></tr>\n",
       "\t<tr><td>Special Purpose Vehicles          </td><td>3</td><td>  0</td><td>0.000000000</td></tr>\n",
       "\t<tr><td>Sport Utility Vehicle - 2WD       </td><td>3</td><td>  0</td><td>0.000000000</td></tr>\n",
       "\t<tr><td>Sport Utility Vehicle - 4WD       </td><td>3</td><td>  0</td><td>0.000000000</td></tr>\n",
       "\t<tr><td>Standard Pickup Trucks 4WD        </td><td>3</td><td>  0</td><td>0.000000000</td></tr>\n",
       "\t<tr><td>Standard Sport Utility Vehicle 4WD</td><td>3</td><td>  0</td><td>0.000000000</td></tr>\n",
       "\t<tr><td>Subcompact Cars                   </td><td>3</td><td>  0</td><td>0.000000000</td></tr>\n",
       "\t<tr><td>Two Seaters                       </td><td>3</td><td> 14</td><td>0.017811705</td></tr>\n",
       "\t<tr><td>Compact Cars                      </td><td>4</td><td>129</td><td>0.164122137</td></tr>\n",
       "\t<tr><td>Large Cars                        </td><td>4</td><td> 10</td><td>0.012722646</td></tr>\n",
       "\t<tr><td>Midsize-Large Station Wagons      </td><td>4</td><td>  3</td><td>0.003816794</td></tr>\n",
       "\t<tr><td>Midsize Cars                      </td><td>4</td><td> 38</td><td>0.048346056</td></tr>\n",
       "\t<tr><td>Midsize Station Wagons            </td><td>4</td><td>  1</td><td>0.001272265</td></tr>\n",
       "\t<tr><td>Minivan - 2WD                     </td><td>4</td><td>  0</td><td>0.000000000</td></tr>\n",
       "\t<tr><td>Small Sport Utility Vehicle 2WD   </td><td>4</td><td>  4</td><td>0.005089059</td></tr>\n",
       "\t<tr><td>Small Sport Utility Vehicle 4WD   </td><td>4</td><td>  2</td><td>0.002544529</td></tr>\n",
       "\t<tr><td>Small Station Wagons              </td><td>4</td><td> 71</td><td>0.090330789</td></tr>\n",
       "\t<tr><td>Special Purpose Vehicle 2WD       </td><td>4</td><td>  1</td><td>0.001272265</td></tr>\n",
       "\t<tr><td>Special Purpose Vehicle 4WD       </td><td>4</td><td>  3</td><td>0.003816794</td></tr>\n",
       "\t<tr><td>Special Purpose Vehicles          </td><td>4</td><td>  4</td><td>0.005089059</td></tr>\n",
       "\t<tr><td>Sport Utility Vehicle - 2WD       </td><td>4</td><td> 33</td><td>0.041984733</td></tr>\n",
       "\t<tr><td>Sport Utility Vehicle - 4WD       </td><td>4</td><td> 42</td><td>0.053435115</td></tr>\n",
       "\t<tr><td>Standard Pickup Trucks 4WD        </td><td>4</td><td>  0</td><td>0.000000000</td></tr>\n",
       "\t<tr><td>Standard Sport Utility Vehicle 4WD</td><td>4</td><td>  0</td><td>0.000000000</td></tr>\n",
       "\t<tr><td>Subcompact Cars                   </td><td>4</td><td>209</td><td>0.265903308</td></tr>\n",
       "\t<tr><td>Two Seaters                       </td><td>4</td><td> 79</td><td>0.100508906</td></tr>\n",
       "\t<tr><td>Compact Cars                      </td><td>6</td><td> 13</td><td>0.016539440</td></tr>\n",
       "\t<tr><td>Large Cars                        </td><td>6</td><td>  5</td><td>0.006361323</td></tr>\n",
       "\t<tr><td>Midsize-Large Station Wagons      </td><td>6</td><td>  0</td><td>0.000000000</td></tr>\n",
       "\t<tr><td>Midsize Cars                      </td><td>6</td><td> 24</td><td>0.030534351</td></tr>\n",
       "\t<tr><td>Midsize Station Wagons            </td><td>6</td><td>  0</td><td>0.000000000</td></tr>\n",
       "\t<tr><td>Minivan - 2WD                     </td><td>6</td><td> 25</td><td>0.031806616</td></tr>\n",
       "\t<tr><td>Small Sport Utility Vehicle 2WD   </td><td>6</td><td>  4</td><td>0.005089059</td></tr>\n",
       "\t<tr><td>Small Sport Utility Vehicle 4WD   </td><td>6</td><td>  3</td><td>0.003816794</td></tr>\n",
       "\t<tr><td>Small Station Wagons              </td><td>6</td><td>  0</td><td>0.000000000</td></tr>\n",
       "\t<tr><td>Special Purpose Vehicle 2WD       </td><td>6</td><td>  2</td><td>0.002544529</td></tr>\n",
       "\t<tr><td>Special Purpose Vehicle 4WD       </td><td>6</td><td>  4</td><td>0.005089059</td></tr>\n",
       "\t<tr><td>Special Purpose Vehicles          </td><td>6</td><td> 14</td><td>0.017811705</td></tr>\n",
       "\t<tr><td>Sport Utility Vehicle - 2WD       </td><td>6</td><td> 18</td><td>0.022900763</td></tr>\n",
       "\t<tr><td>Sport Utility Vehicle - 4WD       </td><td>6</td><td> 21</td><td>0.026717557</td></tr>\n",
       "\t<tr><td>Standard Pickup Trucks 4WD        </td><td>6</td><td>  9</td><td>0.011450382</td></tr>\n",
       "\t<tr><td>Standard Sport Utility Vehicle 4WD</td><td>6</td><td>  1</td><td>0.001272265</td></tr>\n",
       "\t<tr><td>Subcompact Cars                   </td><td>6</td><td>  0</td><td>0.000000000</td></tr>\n",
       "\t<tr><td>Two Seaters                       </td><td>6</td><td>  0</td><td>0.000000000</td></tr>\n",
       "</tbody>\n",
       "</table>\n"
      ],
      "text/latex": [
       "A data.frame: 54 × 4\n",
       "\\begin{tabular}{llll}\n",
       " class & cyl & freq & prob\\\\\n",
       " <fct> & <fct> & <int> & <dbl>\\\\\n",
       "\\hline\n",
       "\t Compact Cars                       & 3 &   0 & 0.000000000\\\\\n",
       "\t Large Cars                         & 3 &   0 & 0.000000000\\\\\n",
       "\t Midsize-Large Station Wagons       & 3 &   0 & 0.000000000\\\\\n",
       "\t Midsize Cars                       & 3 &   0 & 0.000000000\\\\\n",
       "\t Midsize Station Wagons             & 3 &   0 & 0.000000000\\\\\n",
       "\t Minivan - 2WD                      & 3 &   0 & 0.000000000\\\\\n",
       "\t Small Sport Utility Vehicle 2WD    & 3 &   0 & 0.000000000\\\\\n",
       "\t Small Sport Utility Vehicle 4WD    & 3 &   0 & 0.000000000\\\\\n",
       "\t Small Station Wagons               & 3 &   0 & 0.000000000\\\\\n",
       "\t Special Purpose Vehicle 2WD        & 3 &   0 & 0.000000000\\\\\n",
       "\t Special Purpose Vehicle 4WD        & 3 &   0 & 0.000000000\\\\\n",
       "\t Special Purpose Vehicles           & 3 &   0 & 0.000000000\\\\\n",
       "\t Sport Utility Vehicle - 2WD        & 3 &   0 & 0.000000000\\\\\n",
       "\t Sport Utility Vehicle - 4WD        & 3 &   0 & 0.000000000\\\\\n",
       "\t Standard Pickup Trucks 4WD         & 3 &   0 & 0.000000000\\\\\n",
       "\t Standard Sport Utility Vehicle 4WD & 3 &   0 & 0.000000000\\\\\n",
       "\t Subcompact Cars                    & 3 &   0 & 0.000000000\\\\\n",
       "\t Two Seaters                        & 3 &  14 & 0.017811705\\\\\n",
       "\t Compact Cars                       & 4 & 129 & 0.164122137\\\\\n",
       "\t Large Cars                         & 4 &  10 & 0.012722646\\\\\n",
       "\t Midsize-Large Station Wagons       & 4 &   3 & 0.003816794\\\\\n",
       "\t Midsize Cars                       & 4 &  38 & 0.048346056\\\\\n",
       "\t Midsize Station Wagons             & 4 &   1 & 0.001272265\\\\\n",
       "\t Minivan - 2WD                      & 4 &   0 & 0.000000000\\\\\n",
       "\t Small Sport Utility Vehicle 2WD    & 4 &   4 & 0.005089059\\\\\n",
       "\t Small Sport Utility Vehicle 4WD    & 4 &   2 & 0.002544529\\\\\n",
       "\t Small Station Wagons               & 4 &  71 & 0.090330789\\\\\n",
       "\t Special Purpose Vehicle 2WD        & 4 &   1 & 0.001272265\\\\\n",
       "\t Special Purpose Vehicle 4WD        & 4 &   3 & 0.003816794\\\\\n",
       "\t Special Purpose Vehicles           & 4 &   4 & 0.005089059\\\\\n",
       "\t Sport Utility Vehicle - 2WD        & 4 &  33 & 0.041984733\\\\\n",
       "\t Sport Utility Vehicle - 4WD        & 4 &  42 & 0.053435115\\\\\n",
       "\t Standard Pickup Trucks 4WD         & 4 &   0 & 0.000000000\\\\\n",
       "\t Standard Sport Utility Vehicle 4WD & 4 &   0 & 0.000000000\\\\\n",
       "\t Subcompact Cars                    & 4 & 209 & 0.265903308\\\\\n",
       "\t Two Seaters                        & 4 &  79 & 0.100508906\\\\\n",
       "\t Compact Cars                       & 6 &  13 & 0.016539440\\\\\n",
       "\t Large Cars                         & 6 &   5 & 0.006361323\\\\\n",
       "\t Midsize-Large Station Wagons       & 6 &   0 & 0.000000000\\\\\n",
       "\t Midsize Cars                       & 6 &  24 & 0.030534351\\\\\n",
       "\t Midsize Station Wagons             & 6 &   0 & 0.000000000\\\\\n",
       "\t Minivan - 2WD                      & 6 &  25 & 0.031806616\\\\\n",
       "\t Small Sport Utility Vehicle 2WD    & 6 &   4 & 0.005089059\\\\\n",
       "\t Small Sport Utility Vehicle 4WD    & 6 &   3 & 0.003816794\\\\\n",
       "\t Small Station Wagons               & 6 &   0 & 0.000000000\\\\\n",
       "\t Special Purpose Vehicle 2WD        & 6 &   2 & 0.002544529\\\\\n",
       "\t Special Purpose Vehicle 4WD        & 6 &   4 & 0.005089059\\\\\n",
       "\t Special Purpose Vehicles           & 6 &  14 & 0.017811705\\\\\n",
       "\t Sport Utility Vehicle - 2WD        & 6 &  18 & 0.022900763\\\\\n",
       "\t Sport Utility Vehicle - 4WD        & 6 &  21 & 0.026717557\\\\\n",
       "\t Standard Pickup Trucks 4WD         & 6 &   9 & 0.011450382\\\\\n",
       "\t Standard Sport Utility Vehicle 4WD & 6 &   1 & 0.001272265\\\\\n",
       "\t Subcompact Cars                    & 6 &   0 & 0.000000000\\\\\n",
       "\t Two Seaters                        & 6 &   0 & 0.000000000\\\\\n",
       "\\end{tabular}\n"
      ],
      "text/markdown": [
       "\n",
       "A data.frame: 54 × 4\n",
       "\n",
       "| class &lt;fct&gt; | cyl &lt;fct&gt; | freq &lt;int&gt; | prob &lt;dbl&gt; |\n",
       "|---|---|---|---|\n",
       "| Compact Cars                       | 3 |   0 | 0.000000000 |\n",
       "| Large Cars                         | 3 |   0 | 0.000000000 |\n",
       "| Midsize-Large Station Wagons       | 3 |   0 | 0.000000000 |\n",
       "| Midsize Cars                       | 3 |   0 | 0.000000000 |\n",
       "| Midsize Station Wagons             | 3 |   0 | 0.000000000 |\n",
       "| Minivan - 2WD                      | 3 |   0 | 0.000000000 |\n",
       "| Small Sport Utility Vehicle 2WD    | 3 |   0 | 0.000000000 |\n",
       "| Small Sport Utility Vehicle 4WD    | 3 |   0 | 0.000000000 |\n",
       "| Small Station Wagons               | 3 |   0 | 0.000000000 |\n",
       "| Special Purpose Vehicle 2WD        | 3 |   0 | 0.000000000 |\n",
       "| Special Purpose Vehicle 4WD        | 3 |   0 | 0.000000000 |\n",
       "| Special Purpose Vehicles           | 3 |   0 | 0.000000000 |\n",
       "| Sport Utility Vehicle - 2WD        | 3 |   0 | 0.000000000 |\n",
       "| Sport Utility Vehicle - 4WD        | 3 |   0 | 0.000000000 |\n",
       "| Standard Pickup Trucks 4WD         | 3 |   0 | 0.000000000 |\n",
       "| Standard Sport Utility Vehicle 4WD | 3 |   0 | 0.000000000 |\n",
       "| Subcompact Cars                    | 3 |   0 | 0.000000000 |\n",
       "| Two Seaters                        | 3 |  14 | 0.017811705 |\n",
       "| Compact Cars                       | 4 | 129 | 0.164122137 |\n",
       "| Large Cars                         | 4 |  10 | 0.012722646 |\n",
       "| Midsize-Large Station Wagons       | 4 |   3 | 0.003816794 |\n",
       "| Midsize Cars                       | 4 |  38 | 0.048346056 |\n",
       "| Midsize Station Wagons             | 4 |   1 | 0.001272265 |\n",
       "| Minivan - 2WD                      | 4 |   0 | 0.000000000 |\n",
       "| Small Sport Utility Vehicle 2WD    | 4 |   4 | 0.005089059 |\n",
       "| Small Sport Utility Vehicle 4WD    | 4 |   2 | 0.002544529 |\n",
       "| Small Station Wagons               | 4 |  71 | 0.090330789 |\n",
       "| Special Purpose Vehicle 2WD        | 4 |   1 | 0.001272265 |\n",
       "| Special Purpose Vehicle 4WD        | 4 |   3 | 0.003816794 |\n",
       "| Special Purpose Vehicles           | 4 |   4 | 0.005089059 |\n",
       "| Sport Utility Vehicle - 2WD        | 4 |  33 | 0.041984733 |\n",
       "| Sport Utility Vehicle - 4WD        | 4 |  42 | 0.053435115 |\n",
       "| Standard Pickup Trucks 4WD         | 4 |   0 | 0.000000000 |\n",
       "| Standard Sport Utility Vehicle 4WD | 4 |   0 | 0.000000000 |\n",
       "| Subcompact Cars                    | 4 | 209 | 0.265903308 |\n",
       "| Two Seaters                        | 4 |  79 | 0.100508906 |\n",
       "| Compact Cars                       | 6 |  13 | 0.016539440 |\n",
       "| Large Cars                         | 6 |   5 | 0.006361323 |\n",
       "| Midsize-Large Station Wagons       | 6 |   0 | 0.000000000 |\n",
       "| Midsize Cars                       | 6 |  24 | 0.030534351 |\n",
       "| Midsize Station Wagons             | 6 |   0 | 0.000000000 |\n",
       "| Minivan - 2WD                      | 6 |  25 | 0.031806616 |\n",
       "| Small Sport Utility Vehicle 2WD    | 6 |   4 | 0.005089059 |\n",
       "| Small Sport Utility Vehicle 4WD    | 6 |   3 | 0.003816794 |\n",
       "| Small Station Wagons               | 6 |   0 | 0.000000000 |\n",
       "| Special Purpose Vehicle 2WD        | 6 |   2 | 0.002544529 |\n",
       "| Special Purpose Vehicle 4WD        | 6 |   4 | 0.005089059 |\n",
       "| Special Purpose Vehicles           | 6 |  14 | 0.017811705 |\n",
       "| Sport Utility Vehicle - 2WD        | 6 |  18 | 0.022900763 |\n",
       "| Sport Utility Vehicle - 4WD        | 6 |  21 | 0.026717557 |\n",
       "| Standard Pickup Trucks 4WD         | 6 |   9 | 0.011450382 |\n",
       "| Standard Sport Utility Vehicle 4WD | 6 |   1 | 0.001272265 |\n",
       "| Subcompact Cars                    | 6 |   0 | 0.000000000 |\n",
       "| Two Seaters                        | 6 |   0 | 0.000000000 |\n",
       "\n"
      ],
      "text/plain": [
       "   class                              cyl freq prob       \n",
       "1  Compact Cars                       3     0  0.000000000\n",
       "2  Large Cars                         3     0  0.000000000\n",
       "3  Midsize-Large Station Wagons       3     0  0.000000000\n",
       "4  Midsize Cars                       3     0  0.000000000\n",
       "5  Midsize Station Wagons             3     0  0.000000000\n",
       "6  Minivan - 2WD                      3     0  0.000000000\n",
       "7  Small Sport Utility Vehicle 2WD    3     0  0.000000000\n",
       "8  Small Sport Utility Vehicle 4WD    3     0  0.000000000\n",
       "9  Small Station Wagons               3     0  0.000000000\n",
       "10 Special Purpose Vehicle 2WD        3     0  0.000000000\n",
       "11 Special Purpose Vehicle 4WD        3     0  0.000000000\n",
       "12 Special Purpose Vehicles           3     0  0.000000000\n",
       "13 Sport Utility Vehicle - 2WD        3     0  0.000000000\n",
       "14 Sport Utility Vehicle - 4WD        3     0  0.000000000\n",
       "15 Standard Pickup Trucks 4WD         3     0  0.000000000\n",
       "16 Standard Sport Utility Vehicle 4WD 3     0  0.000000000\n",
       "17 Subcompact Cars                    3     0  0.000000000\n",
       "18 Two Seaters                        3    14  0.017811705\n",
       "19 Compact Cars                       4   129  0.164122137\n",
       "20 Large Cars                         4    10  0.012722646\n",
       "21 Midsize-Large Station Wagons       4     3  0.003816794\n",
       "22 Midsize Cars                       4    38  0.048346056\n",
       "23 Midsize Station Wagons             4     1  0.001272265\n",
       "24 Minivan - 2WD                      4     0  0.000000000\n",
       "25 Small Sport Utility Vehicle 2WD    4     4  0.005089059\n",
       "26 Small Sport Utility Vehicle 4WD    4     2  0.002544529\n",
       "27 Small Station Wagons               4    71  0.090330789\n",
       "28 Special Purpose Vehicle 2WD        4     1  0.001272265\n",
       "29 Special Purpose Vehicle 4WD        4     3  0.003816794\n",
       "30 Special Purpose Vehicles           4     4  0.005089059\n",
       "31 Sport Utility Vehicle - 2WD        4    33  0.041984733\n",
       "32 Sport Utility Vehicle - 4WD        4    42  0.053435115\n",
       "33 Standard Pickup Trucks 4WD         4     0  0.000000000\n",
       "34 Standard Sport Utility Vehicle 4WD 4     0  0.000000000\n",
       "35 Subcompact Cars                    4   209  0.265903308\n",
       "36 Two Seaters                        4    79  0.100508906\n",
       "37 Compact Cars                       6    13  0.016539440\n",
       "38 Large Cars                         6     5  0.006361323\n",
       "39 Midsize-Large Station Wagons       6     0  0.000000000\n",
       "40 Midsize Cars                       6    24  0.030534351\n",
       "41 Midsize Station Wagons             6     0  0.000000000\n",
       "42 Minivan - 2WD                      6    25  0.031806616\n",
       "43 Small Sport Utility Vehicle 2WD    6     4  0.005089059\n",
       "44 Small Sport Utility Vehicle 4WD    6     3  0.003816794\n",
       "45 Small Station Wagons               6     0  0.000000000\n",
       "46 Special Purpose Vehicle 2WD        6     2  0.002544529\n",
       "47 Special Purpose Vehicle 4WD        6     4  0.005089059\n",
       "48 Special Purpose Vehicles           6    14  0.017811705\n",
       "49 Sport Utility Vehicle - 2WD        6    18  0.022900763\n",
       "50 Sport Utility Vehicle - 4WD        6    21  0.026717557\n",
       "51 Standard Pickup Trucks 4WD         6     9  0.011450382\n",
       "52 Standard Sport Utility Vehicle 4WD 6     1  0.001272265\n",
       "53 Subcompact Cars                    6     0  0.000000000\n",
       "54 Two Seaters                        6     0  0.000000000"
      ]
     },
     "metadata": {},
     "output_type": "display_data"
    }
   ],
   "source": [
    "# Honda vehicle classes and engine cylinders\n",
    "df <- as.data.frame(table(data$class, data$cyl))\n",
    "names(df) <- c(\"class\", \"cyl\", \"freq\")\n",
    "df$prob <- prop.table(df$freq)\n",
    "df"
   ]
  },
  {
   "cell_type": "code",
   "execution_count": 18,
   "id": "826326d2",
   "metadata": {
    "vscode": {
     "languageId": "r"
    }
   },
   "outputs": [
    {
     "name": "stderr",
     "output_type": "stream",
     "text": [
      "Conditional Probability of a compact car having a 4-cylinder engine: 0.911\n",
      "\n",
      "Conditional Probability that a 4-cylinder engine vehicle is in a compact car (using Conditional Probability): 0.205\n",
      "\n",
      "Conditional Probability that a 4-cylinder engine vehicle is in a compact car (using Bayes' Theorem): 0.205\n",
      "\n"
     ]
    }
   ],
   "source": [
    "## Probabilities\n",
    "P_A   = df_cyl$prob[which(df_cyl$cyl==4)]\n",
    "P_B   = df_class$prob[which(df_class$class==\"Compact Cars\")]\n",
    "P_AXB = df$prob[which(df$cyl==4 & df$class==\"Compact Cars\")]\n",
    "P_AB  = P_AXB / P_B\n",
    "P_BA  = P_AXB / P_A\n",
    "P_BA  = P_AB * (P_B / P_A)\n",
    "\n",
    "## conditional probability of a compact car having a 4-cylinder engine\n",
    "message(\"Conditional Probability of a compact car having a 4-cylinder engine: \", round(P_AB, digits=3))\n",
    "\n",
    "## conditional probability that a 4-cylinder engine vehicle is a compact car\n",
    "message(\"Conditional Probability that a 4-cylinder engine vehicle is in a compact car (using Conditional Probability): \", round(P_BA, digits=3))\n",
    "message(\"Conditional Probability that a 4-cylinder engine vehicle is in a compact car (using Bayes' Theorem): \", round(P_BA, digits=3))"
   ]
  },
  {
   "cell_type": "markdown",
   "id": "017f16fa",
   "metadata": {},
   "source": [
    "---\n",
    "\n",
    "4. **Data Sampling** *(8)*\n",
    "\n",
    "a. For the following randomly sampled data from the vehicles dataset, compute bias and standard error for the estimator on highway mileage. *(5)*"
   ]
  },
  {
   "cell_type": "code",
   "execution_count": 19,
   "id": "20f38248",
   "metadata": {
    "vscode": {
     "languageId": "r"
    }
   },
   "outputs": [
    {
     "data": {
      "text/html": [
       "<table class=\"dataframe\">\n",
       "<caption>A data.frame: 50 × 3</caption>\n",
       "<thead>\n",
       "\t<tr><th scope=col>parameter</th><th scope=col>estimator</th><th scope=col>error</th></tr>\n",
       "\t<tr><th scope=col>&lt;dbl&gt;</th><th scope=col>&lt;dbl&gt;</th><th scope=col>&lt;dbl&gt;</th></tr>\n",
       "</thead>\n",
       "<tbody>\n",
       "\t<tr><td>23.55128</td><td>23.501</td><td>-0.050282818</td></tr>\n",
       "\t<tr><td>23.55128</td><td>23.922</td><td> 0.370717182</td></tr>\n",
       "\t<tr><td>23.55128</td><td>23.499</td><td>-0.052282818</td></tr>\n",
       "\t<tr><td>23.55128</td><td>23.135</td><td>-0.416282818</td></tr>\n",
       "\t<tr><td>23.55128</td><td>23.788</td><td> 0.236717182</td></tr>\n",
       "\t<tr><td>23.55128</td><td>23.710</td><td> 0.158717182</td></tr>\n",
       "\t<tr><td>23.55128</td><td>23.433</td><td>-0.118282818</td></tr>\n",
       "\t<tr><td>23.55128</td><td>23.595</td><td> 0.043717182</td></tr>\n",
       "\t<tr><td>23.55128</td><td>23.543</td><td>-0.008282818</td></tr>\n",
       "\t<tr><td>23.55128</td><td>23.405</td><td>-0.146282818</td></tr>\n",
       "\t<tr><td>23.55128</td><td>23.866</td><td> 0.314717182</td></tr>\n",
       "\t<tr><td>23.55128</td><td>23.286</td><td>-0.265282818</td></tr>\n",
       "\t<tr><td>23.55128</td><td>23.692</td><td> 0.140717182</td></tr>\n",
       "\t<tr><td>23.55128</td><td>23.350</td><td>-0.201282818</td></tr>\n",
       "\t<tr><td>23.55128</td><td>23.468</td><td>-0.083282818</td></tr>\n",
       "\t<tr><td>23.55128</td><td>23.330</td><td>-0.221282818</td></tr>\n",
       "\t<tr><td>23.55128</td><td>23.934</td><td> 0.382717182</td></tr>\n",
       "\t<tr><td>23.55128</td><td>23.328</td><td>-0.223282818</td></tr>\n",
       "\t<tr><td>23.55128</td><td>23.700</td><td> 0.148717182</td></tr>\n",
       "\t<tr><td>23.55128</td><td>23.803</td><td> 0.251717182</td></tr>\n",
       "\t<tr><td>23.55128</td><td>23.893</td><td> 0.341717182</td></tr>\n",
       "\t<tr><td>23.55128</td><td>23.938</td><td> 0.386717182</td></tr>\n",
       "\t<tr><td>23.55128</td><td>23.386</td><td>-0.165282818</td></tr>\n",
       "\t<tr><td>23.55128</td><td>23.554</td><td> 0.002717182</td></tr>\n",
       "\t<tr><td>23.55128</td><td>23.427</td><td>-0.124282818</td></tr>\n",
       "\t<tr><td>23.55128</td><td>23.471</td><td>-0.080282818</td></tr>\n",
       "\t<tr><td>23.55128</td><td>23.583</td><td> 0.031717182</td></tr>\n",
       "\t<tr><td>23.55128</td><td>23.383</td><td>-0.168282818</td></tr>\n",
       "\t<tr><td>23.55128</td><td>23.624</td><td> 0.072717182</td></tr>\n",
       "\t<tr><td>23.55128</td><td>23.684</td><td> 0.132717182</td></tr>\n",
       "\t<tr><td>23.55128</td><td>23.689</td><td> 0.137717182</td></tr>\n",
       "\t<tr><td>23.55128</td><td>23.922</td><td> 0.370717182</td></tr>\n",
       "\t<tr><td>23.55128</td><td>23.663</td><td> 0.111717182</td></tr>\n",
       "\t<tr><td>23.55128</td><td>23.661</td><td> 0.109717182</td></tr>\n",
       "\t<tr><td>23.55128</td><td>23.342</td><td>-0.209282818</td></tr>\n",
       "\t<tr><td>23.55128</td><td>23.665</td><td> 0.113717182</td></tr>\n",
       "\t<tr><td>23.55128</td><td>23.503</td><td>-0.048282818</td></tr>\n",
       "\t<tr><td>23.55128</td><td>23.453</td><td>-0.098282818</td></tr>\n",
       "\t<tr><td>23.55128</td><td>23.446</td><td>-0.105282818</td></tr>\n",
       "\t<tr><td>23.55128</td><td>23.460</td><td>-0.091282818</td></tr>\n",
       "\t<tr><td>23.55128</td><td>24.029</td><td> 0.477717182</td></tr>\n",
       "\t<tr><td>23.55128</td><td>23.485</td><td>-0.066282818</td></tr>\n",
       "\t<tr><td>23.55128</td><td>23.470</td><td>-0.081282818</td></tr>\n",
       "\t<tr><td>23.55128</td><td>23.505</td><td>-0.046282818</td></tr>\n",
       "\t<tr><td>23.55128</td><td>23.351</td><td>-0.200282818</td></tr>\n",
       "\t<tr><td>23.55128</td><td>23.483</td><td>-0.068282818</td></tr>\n",
       "\t<tr><td>23.55128</td><td>23.233</td><td>-0.318282818</td></tr>\n",
       "\t<tr><td>23.55128</td><td>23.553</td><td> 0.001717182</td></tr>\n",
       "\t<tr><td>23.55128</td><td>23.642</td><td> 0.090717182</td></tr>\n",
       "\t<tr><td>23.55128</td><td>23.206</td><td>-0.345282818</td></tr>\n",
       "</tbody>\n",
       "</table>\n"
      ],
      "text/latex": [
       "A data.frame: 50 × 3\n",
       "\\begin{tabular}{lll}\n",
       " parameter & estimator & error\\\\\n",
       " <dbl> & <dbl> & <dbl>\\\\\n",
       "\\hline\n",
       "\t 23.55128 & 23.501 & -0.050282818\\\\\n",
       "\t 23.55128 & 23.922 &  0.370717182\\\\\n",
       "\t 23.55128 & 23.499 & -0.052282818\\\\\n",
       "\t 23.55128 & 23.135 & -0.416282818\\\\\n",
       "\t 23.55128 & 23.788 &  0.236717182\\\\\n",
       "\t 23.55128 & 23.710 &  0.158717182\\\\\n",
       "\t 23.55128 & 23.433 & -0.118282818\\\\\n",
       "\t 23.55128 & 23.595 &  0.043717182\\\\\n",
       "\t 23.55128 & 23.543 & -0.008282818\\\\\n",
       "\t 23.55128 & 23.405 & -0.146282818\\\\\n",
       "\t 23.55128 & 23.866 &  0.314717182\\\\\n",
       "\t 23.55128 & 23.286 & -0.265282818\\\\\n",
       "\t 23.55128 & 23.692 &  0.140717182\\\\\n",
       "\t 23.55128 & 23.350 & -0.201282818\\\\\n",
       "\t 23.55128 & 23.468 & -0.083282818\\\\\n",
       "\t 23.55128 & 23.330 & -0.221282818\\\\\n",
       "\t 23.55128 & 23.934 &  0.382717182\\\\\n",
       "\t 23.55128 & 23.328 & -0.223282818\\\\\n",
       "\t 23.55128 & 23.700 &  0.148717182\\\\\n",
       "\t 23.55128 & 23.803 &  0.251717182\\\\\n",
       "\t 23.55128 & 23.893 &  0.341717182\\\\\n",
       "\t 23.55128 & 23.938 &  0.386717182\\\\\n",
       "\t 23.55128 & 23.386 & -0.165282818\\\\\n",
       "\t 23.55128 & 23.554 &  0.002717182\\\\\n",
       "\t 23.55128 & 23.427 & -0.124282818\\\\\n",
       "\t 23.55128 & 23.471 & -0.080282818\\\\\n",
       "\t 23.55128 & 23.583 &  0.031717182\\\\\n",
       "\t 23.55128 & 23.383 & -0.168282818\\\\\n",
       "\t 23.55128 & 23.624 &  0.072717182\\\\\n",
       "\t 23.55128 & 23.684 &  0.132717182\\\\\n",
       "\t 23.55128 & 23.689 &  0.137717182\\\\\n",
       "\t 23.55128 & 23.922 &  0.370717182\\\\\n",
       "\t 23.55128 & 23.663 &  0.111717182\\\\\n",
       "\t 23.55128 & 23.661 &  0.109717182\\\\\n",
       "\t 23.55128 & 23.342 & -0.209282818\\\\\n",
       "\t 23.55128 & 23.665 &  0.113717182\\\\\n",
       "\t 23.55128 & 23.503 & -0.048282818\\\\\n",
       "\t 23.55128 & 23.453 & -0.098282818\\\\\n",
       "\t 23.55128 & 23.446 & -0.105282818\\\\\n",
       "\t 23.55128 & 23.460 & -0.091282818\\\\\n",
       "\t 23.55128 & 24.029 &  0.477717182\\\\\n",
       "\t 23.55128 & 23.485 & -0.066282818\\\\\n",
       "\t 23.55128 & 23.470 & -0.081282818\\\\\n",
       "\t 23.55128 & 23.505 & -0.046282818\\\\\n",
       "\t 23.55128 & 23.351 & -0.200282818\\\\\n",
       "\t 23.55128 & 23.483 & -0.068282818\\\\\n",
       "\t 23.55128 & 23.233 & -0.318282818\\\\\n",
       "\t 23.55128 & 23.553 &  0.001717182\\\\\n",
       "\t 23.55128 & 23.642 &  0.090717182\\\\\n",
       "\t 23.55128 & 23.206 & -0.345282818\\\\\n",
       "\\end{tabular}\n"
      ],
      "text/markdown": [
       "\n",
       "A data.frame: 50 × 3\n",
       "\n",
       "| parameter &lt;dbl&gt; | estimator &lt;dbl&gt; | error &lt;dbl&gt; |\n",
       "|---|---|---|\n",
       "| 23.55128 | 23.501 | -0.050282818 |\n",
       "| 23.55128 | 23.922 |  0.370717182 |\n",
       "| 23.55128 | 23.499 | -0.052282818 |\n",
       "| 23.55128 | 23.135 | -0.416282818 |\n",
       "| 23.55128 | 23.788 |  0.236717182 |\n",
       "| 23.55128 | 23.710 |  0.158717182 |\n",
       "| 23.55128 | 23.433 | -0.118282818 |\n",
       "| 23.55128 | 23.595 |  0.043717182 |\n",
       "| 23.55128 | 23.543 | -0.008282818 |\n",
       "| 23.55128 | 23.405 | -0.146282818 |\n",
       "| 23.55128 | 23.866 |  0.314717182 |\n",
       "| 23.55128 | 23.286 | -0.265282818 |\n",
       "| 23.55128 | 23.692 |  0.140717182 |\n",
       "| 23.55128 | 23.350 | -0.201282818 |\n",
       "| 23.55128 | 23.468 | -0.083282818 |\n",
       "| 23.55128 | 23.330 | -0.221282818 |\n",
       "| 23.55128 | 23.934 |  0.382717182 |\n",
       "| 23.55128 | 23.328 | -0.223282818 |\n",
       "| 23.55128 | 23.700 |  0.148717182 |\n",
       "| 23.55128 | 23.803 |  0.251717182 |\n",
       "| 23.55128 | 23.893 |  0.341717182 |\n",
       "| 23.55128 | 23.938 |  0.386717182 |\n",
       "| 23.55128 | 23.386 | -0.165282818 |\n",
       "| 23.55128 | 23.554 |  0.002717182 |\n",
       "| 23.55128 | 23.427 | -0.124282818 |\n",
       "| 23.55128 | 23.471 | -0.080282818 |\n",
       "| 23.55128 | 23.583 |  0.031717182 |\n",
       "| 23.55128 | 23.383 | -0.168282818 |\n",
       "| 23.55128 | 23.624 |  0.072717182 |\n",
       "| 23.55128 | 23.684 |  0.132717182 |\n",
       "| 23.55128 | 23.689 |  0.137717182 |\n",
       "| 23.55128 | 23.922 |  0.370717182 |\n",
       "| 23.55128 | 23.663 |  0.111717182 |\n",
       "| 23.55128 | 23.661 |  0.109717182 |\n",
       "| 23.55128 | 23.342 | -0.209282818 |\n",
       "| 23.55128 | 23.665 |  0.113717182 |\n",
       "| 23.55128 | 23.503 | -0.048282818 |\n",
       "| 23.55128 | 23.453 | -0.098282818 |\n",
       "| 23.55128 | 23.446 | -0.105282818 |\n",
       "| 23.55128 | 23.460 | -0.091282818 |\n",
       "| 23.55128 | 24.029 |  0.477717182 |\n",
       "| 23.55128 | 23.485 | -0.066282818 |\n",
       "| 23.55128 | 23.470 | -0.081282818 |\n",
       "| 23.55128 | 23.505 | -0.046282818 |\n",
       "| 23.55128 | 23.351 | -0.200282818 |\n",
       "| 23.55128 | 23.483 | -0.068282818 |\n",
       "| 23.55128 | 23.233 | -0.318282818 |\n",
       "| 23.55128 | 23.553 |  0.001717182 |\n",
       "| 23.55128 | 23.642 |  0.090717182 |\n",
       "| 23.55128 | 23.206 | -0.345282818 |\n",
       "\n"
      ],
      "text/plain": [
       "   parameter estimator error       \n",
       "1  23.55128  23.501    -0.050282818\n",
       "2  23.55128  23.922     0.370717182\n",
       "3  23.55128  23.499    -0.052282818\n",
       "4  23.55128  23.135    -0.416282818\n",
       "5  23.55128  23.788     0.236717182\n",
       "6  23.55128  23.710     0.158717182\n",
       "7  23.55128  23.433    -0.118282818\n",
       "8  23.55128  23.595     0.043717182\n",
       "9  23.55128  23.543    -0.008282818\n",
       "10 23.55128  23.405    -0.146282818\n",
       "11 23.55128  23.866     0.314717182\n",
       "12 23.55128  23.286    -0.265282818\n",
       "13 23.55128  23.692     0.140717182\n",
       "14 23.55128  23.350    -0.201282818\n",
       "15 23.55128  23.468    -0.083282818\n",
       "16 23.55128  23.330    -0.221282818\n",
       "17 23.55128  23.934     0.382717182\n",
       "18 23.55128  23.328    -0.223282818\n",
       "19 23.55128  23.700     0.148717182\n",
       "20 23.55128  23.803     0.251717182\n",
       "21 23.55128  23.893     0.341717182\n",
       "22 23.55128  23.938     0.386717182\n",
       "23 23.55128  23.386    -0.165282818\n",
       "24 23.55128  23.554     0.002717182\n",
       "25 23.55128  23.427    -0.124282818\n",
       "26 23.55128  23.471    -0.080282818\n",
       "27 23.55128  23.583     0.031717182\n",
       "28 23.55128  23.383    -0.168282818\n",
       "29 23.55128  23.624     0.072717182\n",
       "30 23.55128  23.684     0.132717182\n",
       "31 23.55128  23.689     0.137717182\n",
       "32 23.55128  23.922     0.370717182\n",
       "33 23.55128  23.663     0.111717182\n",
       "34 23.55128  23.661     0.109717182\n",
       "35 23.55128  23.342    -0.209282818\n",
       "36 23.55128  23.665     0.113717182\n",
       "37 23.55128  23.503    -0.048282818\n",
       "38 23.55128  23.453    -0.098282818\n",
       "39 23.55128  23.446    -0.105282818\n",
       "40 23.55128  23.460    -0.091282818\n",
       "41 23.55128  24.029     0.477717182\n",
       "42 23.55128  23.485    -0.066282818\n",
       "43 23.55128  23.470    -0.081282818\n",
       "44 23.55128  23.505    -0.046282818\n",
       "45 23.55128  23.351    -0.200282818\n",
       "46 23.55128  23.483    -0.068282818\n",
       "47 23.55128  23.233    -0.318282818\n",
       "48 23.55128  23.553     0.001717182\n",
       "49 23.55128  23.642     0.090717182\n",
       "50 23.55128  23.206    -0.345282818"
      ]
     },
     "metadata": {},
     "output_type": "display_data"
    },
    {
     "name": "stderr",
     "output_type": "stream",
     "text": [
      "Bias: 0.009\n",
      "\n",
      "Standard Error: 0.209\n",
      "\n"
     ]
    }
   ],
   "source": [
    "library(ggplot2)\n",
    "\n",
    "P <- fueleconomy::vehicles$hwy\n",
    "m <- 50\n",
    "n <- 1000\n",
    "\n",
    "# population parameter  \n",
    "z <- mean(P, na.rm=TRUE)\n",
    "  \n",
    "Z <- vector(\"numeric\", m)\n",
    "for (i in 1:m) {\n",
    "  set.seed(i)\n",
    "  I <- order(runif(length(P)))[1:n]\n",
    "  S <- P[I]\n",
    "  # sample parameter\n",
    "  Z[i] <- mean(S, na.rm=TRUE)\n",
    "}\n",
    "\n",
    "data.frame(parameter=z, estimator=Z, error=Z - z)\n",
    "message(\"Bias: \", round(mean(Z - z), digits=3))\n",
    "message(\"Standard Error: \", round(sd(Z), digits=3))"
   ]
  },
  {
   "cell_type": "markdown",
   "id": "abbeef0c",
   "metadata": {},
   "source": [
    "b. Using the Archery analogy discussed in the class, draw a representative target board to comment upon the accuracy and precision of the estimator. *(3)*\n",
    "\n",
    "The target board should represent high accuracy but low precision\n",
    "\n",
    "---"
   ]
  },
  {
   "cell_type": "markdown",
   "id": "701f62d1",
   "metadata": {},
   "source": [
    "5. **Hypothesis Testing** *(12)*\n",
    "\n",
    "Test the following claims for Renault Vehicles \n",
    "\n",
    "a. city mileage is greater than 23 mpl\n",
    "\n",
    "b. highway mileage is greater than 29 mpl\n",
    "\n",
    "c. highway mileage is not the same as the city mileage\n",
    "\n",
    "Note, make appropriate assumptions, develop the null and alternate hypotheses, evaluate the test statistic, present the threshold value and consequently, make appropriate inferences."
   ]
  },
  {
   "cell_type": "code",
   "execution_count": 20,
   "id": "54a1bbb9",
   "metadata": {
    "vscode": {
     "languageId": "r"
    }
   },
   "outputs": [],
   "source": [
    "# Load the dataset\n",
    "data <- fueleconomy::vehicles %>% filter(make==\"Renault\")"
   ]
  },
  {
   "cell_type": "code",
   "execution_count": 21,
   "id": "caa03393",
   "metadata": {
    "vscode": {
     "languageId": "r"
    }
   },
   "outputs": [
    {
     "name": "stderr",
     "output_type": "stream",
     "text": [
      "Null Hypothesis: City mileage is less than or equal to 23 mpl\n",
      "\n",
      "Alternative Hypothesis: City mileage is greater than 23 mpl\n",
      "\n",
      "t-statistic: 0.046\n",
      "\n",
      "Critical value: 1.694\n",
      "\n",
      "Decision: Do not reject Null Hypothesis\n",
      "\n"
     ]
    }
   ],
   "source": [
    "# Test for city mileage being greater than 23 mpl (One Sample t-test)\n",
    "message(\"Null Hypothesis: City mileage is less than or equal to 23 mpl\")\n",
    "message(\"Alternative Hypothesis: City mileage is greater than 23 mpl\")\n",
    "t = round((mean(data$cty) - 23) / (sd(data$cty) / sqrt(nrow(data))), digits=3)\n",
    "v = qt(0.95, df=nrow(data)-1)\n",
    "message(\"t-statistic: \", round(t, digits=3))\n",
    "message(\"Critical value: \", round(v, digits=3))\n",
    "message(\"Decision: \", ifelse(t > v, \"Reject Null Hypothesis\", \"Do not reject Null Hypothesis\"))\n"
   ]
  },
  {
   "cell_type": "code",
   "execution_count": 22,
   "id": "9a761da5",
   "metadata": {
    "vscode": {
     "languageId": "r"
    }
   },
   "outputs": [
    {
     "name": "stderr",
     "output_type": "stream",
     "text": [
      "Null Hypothesis: Highway mileage is less than or equal to 29 mpl\n",
      "\n",
      "Alternative Hypothesis: Highway mileage is greater than 29 mpl\n",
      "\n",
      "t-statistic: 0.286\n",
      "\n",
      "Critical value: 1.694\n",
      "\n",
      "Decision: Do not reject Null Hypothesis\n",
      "\n"
     ]
    }
   ],
   "source": [
    "# Test for highway mileage being greater than 29 mpl (One Sample t-test)\n",
    "message(\"Null Hypothesis: Highway mileage is less than or equal to 29 mpl\")\n",
    "message(\"Alternative Hypothesis: Highway mileage is greater than 29 mpl\")\n",
    "t = round((mean(data$hwy) - 29) / (sd(data$hwy) / sqrt(nrow(data))), digits=3)\n",
    "v = qt(0.95, df=nrow(data)-1)\n",
    "message(\"t-statistic: \", round(t, digits=3))\n",
    "message(\"Critical value: \", round(v, digits=3))\n",
    "message(\"Decision: \", ifelse(t > v, \"Reject Null Hypothesis\", \"Do not reject Null Hypothesis\"))"
   ]
  },
  {
   "cell_type": "code",
   "execution_count": 23,
   "id": "bbfb4c66",
   "metadata": {
    "vscode": {
     "languageId": "r"
    }
   },
   "outputs": [
    {
     "name": "stderr",
     "output_type": "stream",
     "text": [
      "Null Hypothesis: Highway mileage is equal to city mileage\n",
      "\n",
      "Alternative Hypothesis: Highway mileage is not equal to city mileage\n",
      "\n",
      "t-statistic: 19.841\n",
      "\n",
      "Critical value: 2.037\n",
      "\n",
      "Decision: Reject Null Hypothesis\n",
      "\n"
     ]
    }
   ],
   "source": [
    "# Test for highway mileage not being same as the city mileage (Paired t-test)\n",
    "message(\"Null Hypothesis: Highway mileage is equal to city mileage\")\n",
    "message(\"Alternative Hypothesis: Highway mileage is not equal to city mileage\")\n",
    "t = round((mean(data$hwy) - mean(data$cty)) / (sd(data$hwy - data$cty) / sqrt(nrow(data))), digits=3)\n",
    "v = qt(0.975, df=nrow(data)-1)\n",
    "message(\"t-statistic: \", round(t, digits=3))\n",
    "message(\"Critical value: \", round(v, digits=3))\n",
    "message(\"Decision: \", ifelse(abs(t) > v, \"Reject Null Hypothesis\", \"Do not reject Null Hypothesis\"))"
   ]
  }
 ],
 "metadata": {
  "kernelspec": {
   "display_name": "R",
   "language": "R",
   "name": "ir"
  },
  "language_info": {
   "codemirror_mode": "r",
   "file_extension": ".r",
   "mimetype": "text/x-r-source",
   "name": "R",
   "pygments_lexer": "r",
   "version": "4.5.0"
  }
 },
 "nbformat": 4,
 "nbformat_minor": 5
}
