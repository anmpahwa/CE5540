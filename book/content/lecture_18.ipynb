{
 "cells": [
  {
   "cell_type": "markdown",
   "id": "1dc8b0d4",
   "metadata": {},
   "source": [
    "# Lecture 18: Mutlivariate Data Analysis in R"
   ]
  }
 ],
 "metadata": {
  "language_info": {
   "name": "python"
  }
 },
 "nbformat": 4,
 "nbformat_minor": 5
}
