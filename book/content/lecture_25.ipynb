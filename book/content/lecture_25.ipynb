{
 "cells": [
  {
   "cell_type": "markdown",
   "id": "786dd23b",
   "metadata": {},
   "source": [
    "# Lecture 25: Symbolic Regression\n",
    "\n",
    "```\n",
    "So far, we have explored linear regression, logistic regression, and their applications in modeling relationships between variables. However, these methods assume predefined model forms—linear or logistic in nature. Symbolic Regression offers a data-driven discovery of both the structure and parameters of the relationship between variables, without imposing a fixed functional form.\n",
    "```\n"
   ]
  },
  {
   "cell_type": "markdown",
   "id": "af41c800",
   "metadata": {},
   "source": [
    "\n",
    "---\n",
    "\n",
    "## What is Symbolic Regression?\n",
    "\n",
    "Symbolic regression is a form of regression analysis that searches the space of mathematical expressions to find the model that best fits a given dataset. Unlike linear or logistic regression, symbolic regression does not start with a predetermined equation structure. Instead, it uses evolutionary algorithms to evolve candidate equations that can model the data.\n",
    "\n",
    "It combines principles from:\n",
    "- **Machine Learning**: For automated model discovery.\n",
    "- **Genetic Programming**: To evolve symbolic representations.\n",
    "- **Classical Regression**: To fit parameters within the discovered structure.\n",
    "\n",
    "Symbolic regression is particularly useful when:\n",
    "- The underlying relationship between variables is unknown.\n",
    "- We suspect the relationship is non-linear or involves interactions not easily captured by standard models.\n",
    "- Interpretability of the resulting model is important.\n"
   ]
  },
  {
   "cell_type": "markdown",
   "id": "a98f966b",
   "metadata": {},
   "source": [
    "\n",
    "## Endogenous and Exogenous Variables\n",
    "\n",
    "Symbolic regression operates similarly to other regression methods with:\n",
    "- **Endogenous Variable**: The response or dependent variable we aim to predict or explain.\n",
    "- **Exogenous Variables**: The independent variables used to explain or predict the endogenous variable.\n",
    "\n",
    "However, the functional form relating these variables is not predefined but discovered.\n"
   ]
  },
  {
   "cell_type": "markdown",
   "id": "1b8eaf45",
   "metadata": {},
   "source": [
    "\n",
    "## Example Use Cases\n",
    "\n",
    "- **Physical Sciences**: Discovering governing equations from experimental data.\n",
    "- **Economics**: Uncovering non-linear dependencies in economic indicators.\n",
    "- **Transportation**: Modeling complex interactions between traffic flow, speed, and emissions.\n"
   ]
  },
  {
   "cell_type": "markdown",
   "id": "f08d76c9",
   "metadata": {},
   "source": [
    "\n",
    "## Mathematical Formulation\n",
    "\n",
    "Instead of assuming a model like:\n",
    "$$\n",
    "Y = \\beta_0 + \\beta_1 X_1 + \\beta_2 X_2 + \\epsilon\n",
    "$$\n",
    "symbolic regression searches for:\n",
    "$$\n",
    "Y = f(X_1, X_2, ..., X_n) + \\epsilon\n",
    "$$\n",
    "where \\(f\\) is an expression composed of:\n",
    "- Arithmetic operators (+, -, *, /)\n",
    "- Analytical functions (sin, cos, log, exp, etc.)\n",
    "- Constants and parameters to be optimized\n"
   ]
  },
  {
   "cell_type": "markdown",
   "id": "c680e989",
   "metadata": {},
   "source": [
    "\n",
    "## PySR: Symbolic Regression in Python\n",
    "\n",
    "[PySR](https://github.com/MilesCranmer/PySR) is a high-performance symbolic regression library that combines evolutionary search with a focus on simplicity and interpretability of the discovered models.\n"
   ]
  },
  {
   "cell_type": "markdown",
   "id": "71e4b6bb",
   "metadata": {},
   "source": [
    "\n",
    "### Installation\n",
    "\n",
    "```bash\n",
    "pip install pysr\n",
    "```\n"
   ]
  },
  {
   "cell_type": "markdown",
   "id": "f710a096",
   "metadata": {},
   "source": [
    "\n",
    "### Basic Example\n",
    "\n",
    "Let us explore symbolic regression using PySR.\n"
   ]
  },
  {
   "cell_type": "code",
   "execution_count": null,
   "id": "47c28e3b",
   "metadata": {},
   "outputs": [
    {
     "name": "stdout",
     "output_type": "stream",
     "text": [
      "[juliapkg] Found dependencies: c:\\users\\anmpa\\appdata\\local\\programs\\python\\python313\\lib\\site-packages\\juliapkg\\juliapkg.json\n",
      "[juliapkg] Found dependencies: c:\\users\\anmpa\\appdata\\local\\programs\\python\\python313\\lib\\site-packages\\pysr\\juliapkg.json\n",
      "[juliapkg] Found dependencies: c:\\users\\anmpa\\appdata\\local\\programs\\python\\python313\\lib\\site-packages\\juliacall\\juliapkg.json\n",
      "[juliapkg] Locating Julia =1.10.0, ^1.10.3\n",
      "[juliapkg] WARNING: You have Julia 1.9.4 installed but =1.10.0, ^1.10.3 is required.\n",
      "[juliapkg]   It is recommended that you upgrade Julia or install JuliaUp.\n",
      "[juliapkg] Querying Julia versions from https://julialang-s3.julialang.org/bin/versions.json\n",
      "[juliapkg] WARNING: About to install Julia 1.11.6 to C:\\Users\\anmpa\\.julia\\environments\\pyjuliapkg\\pyjuliapkg\\install.\n",
      "[juliapkg]   If you use juliapkg in more than one environment, you are likely to\n",
      "[juliapkg]   have Julia installed in multiple locations. It is recommended to\n",
      "[juliapkg]   install JuliaUp (https://github.com/JuliaLang/juliaup) or Julia\n",
      "[juliapkg]   (https://julialang.org/downloads) yourself.\n",
      "[juliapkg] Downloading Julia from https://julialang-s3.julialang.org/bin/winnt/x64/1.11/julia-1.11.6-win64.zip\n",
      "             downloaded 5.0 MB of 261.8 MB\n",
      "             downloaded 12.2 MB of 261.8 MB\n",
      "             downloaded 19.0 MB of 261.8 MB\n",
      "             downloaded 26.9 MB of 261.8 MB\n",
      "             downloaded 35.4 MB of 261.8 MB\n",
      "             downloaded 45.2 MB of 261.8 MB\n",
      "             downloaded 54.0 MB of 261.8 MB\n",
      "             downloaded 62.8 MB of 261.8 MB\n",
      "             downloaded 73.4 MB of 261.8 MB\n",
      "             downloaded 83.4 MB of 261.8 MB\n",
      "             downloaded 91.7 MB of 261.8 MB\n"
     ]
    }
   ],
   "source": [
    "# Step 1: Import Libraries\n",
    "import numpy as np\n",
    "from pysr import PySRRegressor"
   ]
  },
  {
   "cell_type": "code",
   "execution_count": null,
   "id": "41695817",
   "metadata": {},
   "outputs": [],
   "source": [
    "# Step 2: Generate Synthetic Data\n",
    "np.random.seed(0)\n",
    "X = np.random.randn(1000, 2)\n",
    "y = X[:, 0] ** 2 + np.sin(X[:, 1]) + 0.1 * np.random.randn(1000)"
   ]
  },
  {
   "cell_type": "code",
   "execution_count": null,
   "id": "c6a9887e",
   "metadata": {},
   "outputs": [],
   "source": [
    "# Step 3: Model Fitting with PySR\n",
    "model = PySRRegressor(\n",
    "    niterations=40,\n",
    "    binary_operators=[\"+\", \"-\", \"*\", \"/\"],\n",
    "    unary_operators=[\"sin\", \"cos\", \"exp\", \"log\", \"abs\"],\n",
    "    populations=5,\n",
    "    progress=True\n",
    ")\n",
    "\n",
    "model.fit(X, y)"
   ]
  },
  {
   "cell_type": "code",
   "execution_count": null,
   "id": "0fea7380",
   "metadata": {},
   "outputs": [],
   "source": [
    "# Step 4: Viewing Discovered Equations\n",
    "print(model)"
   ]
  },
  {
   "cell_type": "code",
   "execution_count": null,
   "id": "2aed8a1e",
   "metadata": {},
   "outputs": [],
   "source": [
    "# Step 5: Making Predictions\n",
    "y_pred = model.predict(X)"
   ]
  },
  {
   "cell_type": "markdown",
   "id": "fba6fa37",
   "metadata": {},
   "source": [
    "\n",
    "## Strengths of Symbolic Regression\n",
    "\n",
    "- **Interpretability**: Yields human-readable equations.\n",
    "- **Flexibility**: Does not assume any functional form.\n",
    "- **Exploration of Complex Relationships**: Captures non-linearities, interactions, and transformations.\n"
   ]
  },
  {
   "cell_type": "markdown",
   "id": "865a6e96",
   "metadata": {},
   "source": [
    "\n",
    "## Limitations\n",
    "\n",
    "- **Computational Intensity**: The evolutionary search is computationally demanding.\n",
    "- **Overfitting Risk**: Especially with noisy data or excessive search depth.\n",
    "- **Parameter Sensitivity**: The choice of operators and evolutionary settings can influence results.\n"
   ]
  },
  {
   "cell_type": "markdown",
   "id": "7318acad",
   "metadata": {},
   "source": [
    "\n",
    "## Applications in Transportation and Logistics\n",
    "\n",
    "Symbolic regression can help:\n",
    "- Model fuel consumption as a function of speed, load, and terrain.\n",
    "- Discover non-linear dependencies in traffic flow models.\n",
    "- Derive empirical formulas from simulation or sensor data in smart logistics.\n"
   ]
  },
  {
   "cell_type": "markdown",
   "id": "00eace62",
   "metadata": {},
   "source": [
    "\n",
    "## Summary\n",
    "\n",
    "Symbolic Regression bridges the gap between black-box machine learning models and interpretable regression by automatically discovering mathematical models from data. With tools like PySR, researchers can not only model complex phenomena but also understand them through concise, symbolic expressions.\n"
   ]
  },
  {
   "cell_type": "markdown",
   "id": "1db4a727",
   "metadata": {},
   "source": [
    "\n",
    "---\n",
    "In the next lecture, we will explore **Generalized Linear Models (GLM)**, which extend linear models to accommodate different types of response variables and link functions.\n"
   ]
  }
 ],
 "metadata": {
  "kernelspec": {
   "display_name": "Python 3",
   "language": "python",
   "name": "python3"
  },
  "language_info": {
   "codemirror_mode": {
    "name": "ipython",
    "version": 3
   },
   "file_extension": ".py",
   "mimetype": "text/x-python",
   "name": "python",
   "nbconvert_exporter": "python",
   "pygments_lexer": "ipython3",
   "version": "3.13.0"
  }
 },
 "nbformat": 4,
 "nbformat_minor": 5
}
