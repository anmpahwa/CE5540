{
 "cells": [
  {
   "cell_type": "markdown",
   "id": "e11a8242",
   "metadata": {},
   "source": [
    "# Lecture 1:"
   ]
  }
 ],
 "metadata": {
  "language_info": {
   "name": "python"
  }
 },
 "nbformat": 4,
 "nbformat_minor": 5
}
