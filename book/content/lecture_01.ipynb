{
 "cells": [
  {
   "cell_type": "markdown",
   "id": "e11a8242",
   "metadata": {},
   "source": [
    "# Lecture 1: Introduction\n",
    "\n",
    "```{note}\n",
    "This course introduces you to the science of drawing conclusions from data. To this end, this introduction lecture introduces a taxonomy of data along with tools for summarizing and visualizing data.\n",
    "```\n",
    "\n",
    "---\n",
    "\n",
    "## Taxonomy of Data\n",
    "\n",
    "Data is a collection of observations of some quantity, quality, or category of some entity. For instance,\n",
    "\n",
    "| Entity             | Quantitative     | Qualitative         | Categorical                         |\n",
    "|--------------------|------------------|---------------------|-------------------------------------|\n",
    "| Temperature        | celsius          | pleasant/unpleasant | hot/cold                            |\n",
    "| Population Density | persons/sq.km.   | low/high            | rural/urban                         |\n",
    "| Age                | years            | young/old           | gen-z/millenial/gen-x/boomer/silent |\n",
    "| Weight             | kg               | under-/over-weight  | -                                   |\n",
    "| Height             | cm               | short/tall          | -                                   |\n",
    "| Family Size        | number of people | small/large         | -                                   |\n",
    "| Biological Sex     | -                | -                   | male/female                         |\n",
    "| Place of Birth     | -                | -                   | TN/RJ/WB/DL/...                     |\n",
    "| Religion           | -                | -                   | hinduism/islam/christianity/...     |\n",
    "\n",
    "```{tip}\n",
    "The distinction between qualitative and categorical can sometimes be blurry. Generally, if there is an implicit ordering of the values the variable can take here is a tendency to call a variable qualitative rather than categorical. \n",
    "```\n",
    "\n",
    "```{warning}\n",
    "During data collection or eventually at data analysis stage, one may code certain qualitiative/categorical variables as numerical values. For instance, height can be coded as short - 0 and tall - 1; or age group can be represented as gen-z - 0, millenial - 1, gen-x - 2, boomer - 3, and silent - 4. Despite this recoding, the inherent nature of the entity remains the same.\n",
    "```\n",
    "\n",
    "The quantitative entities can be further categorised as discrete and continuous. Specifically, the discrete quantitiative entities are countables on-hand, while continuous quantitiative entities cannot be hand-counted. For instance, age in years is a discrete quantitiative entity, while height in precise cms is a continuous quantitiative entity.\n",
    "\n",
    "---\n",
    "\n",
    "### Test Yourself\n",
    "\n",
    "1. How would you classify data collected on eye-colour of new-born babies at a hospital?\n",
    "\n",
    "<form id=\"Q1\">\n",
    "  <label><input type=\"radio\" name=\"q1\" value=\"a\" onchange=\"checkRadioQ1()\"> Discrete Quantitative</label><br>\n",
    "  <label><input type=\"radio\" name=\"q1\" value=\"b\" onchange=\"checkRadioQ1()\"> Continuous Quantitative</label><br>\n",
    "  <label><input type=\"radio\" name=\"q1\" value=\"c\" onchange=\"checkRadioQ1()\"> Qualitative</label><br>\n",
    "  <label><input type=\"radio\" name=\"q1\" value=\"d\" onchange=\"checkRadioQ1()\"> Categorical</label><br><br>\n",
    "</form>\n",
    "\n",
    "<p id=\"feedbackQ1\"></p>\n",
    "\n",
    "<script>\n",
    "function checkRadioQ1() {\n",
    "  const options = document.getElementsByName(\"q1\");\n",
    "  let selectedValue = \"\";\n",
    "  for (const option of options) {\n",
    "    if (option.checked) {\n",
    "      selectedValue = option.value;\n",
    "      break;\n",
    "    }\n",
    "  }\n",
    "\n",
    "  const feedback = document.getElementById(\"feedbackQ1\");\n",
    "  if (!selectedValue) {\n",
    "    feedback.innerHTML = \"\";\n",
    "  } else if (selectedValue === \"d\") {\n",
    "    feedback.innerHTML = \"✅ Correct! Eye colour data is a categorical entity.\";\n",
    "  } else {\n",
    "    feedback.innerHTML = \"❌ Incorrect. Try reviewing the data classifications again.\";\n",
    "  }\n",
    "}\n",
    "</script>\n",
    "\n",
    "2. How would you classify data collected on annual rainfall in inches?\n",
    "\n",
    "<form id=\"Q2\">\n",
    "  <label><input type=\"radio\" name=\"q2\" value=\"a\" onchange=\"checkRadioQ2()\"> Discrete Quantitative</label><br>\n",
    "  <label><input type=\"radio\" name=\"q2\" value=\"b\" onchange=\"checkRadioQ2()\"> Continuous Quantitative</label><br>\n",
    "  <label><input type=\"radio\" name=\"q2\" value=\"c\" onchange=\"checkRadioQ2()\"> Qualitative</label><br>\n",
    "  <label><input type=\"radio\" name=\"q2\" value=\"d\" onchange=\"checkRadioQ2()\"> Categorical</label><br><br>\n",
    "</form>\n",
    "\n",
    "<p id=\"feedbackQ2\"></p>\n",
    "\n",
    "<script>\n",
    "function checkRadioQ2() {\n",
    "  const options = document.getElementsByName(\"q2\");\n",
    "  let selectedValue = \"\";\n",
    "  for (const option of options) {\n",
    "    if (option.checked) {\n",
    "      selectedValue = option.value;\n",
    "      break;\n",
    "    }\n",
    "  }\n",
    "\n",
    "  const feedback = document.getElementById(\"feedbackQ2\");\n",
    "  if (!selectedValue) {\n",
    "    feedback.innerHTML = \"\";\n",
    "  } else if (selectedValue === \"b\") {\n",
    "    feedback.innerHTML = \"✅ Correct! Annural rainfall data is a continuous quantitative entity.\";\n",
    "  } else {\n",
    "    feedback.innerHTML = \"❌ Incorrect. Try reviewing the data classifications again.\";\n",
    "  }\n",
    "}\n",
    "</script>\n",
    "\n",
    "3. How would you classify data collected on GDP per capita rounded of to the nearest $ value?\n",
    "\n",
    "<form id=\"Q3\">\n",
    "  <label><input type=\"radio\" name=\"q3\" value=\"a\" onchange=\"checkRadioQ3()\"> Discrete Quantitative</label><br>\n",
    "  <label><input type=\"radio\" name=\"q3\" value=\"b\" onchange=\"checkRadioQ3()\"> Continuous Quantitative</label><br>\n",
    "  <label><input type=\"radio\" name=\"q3\" value=\"c\" onchange=\"checkRadioQ3()\"> Qualitative</label><br>\n",
    "  <label><input type=\"radio\" name=\"q3\" value=\"d\" onchange=\"checkRadioQ3()\"> Categorical</label><br><br>\n",
    "</form>\n",
    "\n",
    "<p id=\"feedbackQ3\"></p>\n",
    "\n",
    "<script>\n",
    "function checkRadioQ3() {\n",
    "  const options = document.getElementsByName(\"q3\");\n",
    "  let selectedValue = \"\";\n",
    "  for (const option of options) {\n",
    "    if (option.checked) {\n",
    "      selectedValue = option.value;\n",
    "      break;\n",
    "    }\n",
    "  }\n",
    "\n",
    "  const feedback = document.getElementById(\"feedbackQ3\");\n",
    "  if (!selectedValue) {\n",
    "    feedback.innerHTML = \"\";\n",
    "  } else if (selectedValue === \"a\") {\n",
    "    feedback.innerHTML = \"✅ Correct! GDP per capita data rounded of to the nearest $ value is a discrete quantitative entity.\";\n",
    "  } else {\n",
    "    feedback.innerHTML = \"❌ Incorrect. Try reviewing the data classifications again.\";\n",
    "  }\n",
    "}\n",
    "</script>\n",
    "\n",
    "---\n",
    "\n",
    "To showcase the process of summarizing and visualizing data, we shall use the 2024 Indian Time Use Survey (ITUS). \n",
    "\n",
    "```{note}\n",
    "A Time Use Survey, as the name suggests, is a systematic record of how individuals allocate their time across various activities over the course of a day. It captures detailed information on the duration, type, and context of each activity—such as working, commuting, household chores, leisure, caregiving, and personal care—typically over a 24-hour period. By documenting these daily routines, time use surveys provide valuable insights into patterns of labor participation (both paid and unpaid), gender roles, economic productivity, social engagement, and lifestyle behaviors within a population.\n",
    "```\n",
    "\n",
    "## Summarizing Data"
   ]
  },
  {
   "cell_type": "code",
   "execution_count": 50,
   "id": "debc49b8",
   "metadata": {
    "vscode": {
     "languageId": "r"
    }
   },
   "outputs": [
    {
     "name": "stdout",
     "output_type": "stream",
     "text": [
      "'data.frame':\t100 obs. of  23 variables:\n",
      " $ survey_year      : int  2024 2024 2024 2024 2024 2024 2024 2024 2024 2024 ...\n",
      " $ fsu_serial_no    : int  30010 30010 30010 30010 30010 30010 30010 30010 30010 30010 ...\n",
      " $ sector           : int  1 1 1 1 1 1 1 1 1 1 ...\n",
      " $ nss_region       : int  241 241 241 241 241 241 241 241 241 241 ...\n",
      " $ district         : int  17 17 17 17 17 17 17 17 17 17 ...\n",
      " $ stratum          : int  13 13 13 13 13 13 13 13 13 13 ...\n",
      " $ sub_stratum      : int  11 11 11 11 11 11 11 11 11 11 ...\n",
      " $ sub_round        : int  2 2 2 2 2 2 2 2 2 2 ...\n",
      " $ fod_sub_region   : int  2420 2420 2420 2420 2420 2420 2420 2420 2420 2420 ...\n",
      " $ nsc              : int  4 4 4 4 4 4 4 4 4 4 ...\n",
      " $ household_id     : int  1 2 2 2 2 3 3 3 3 3 ...\n",
      " $ individual_id    : int  1 1 2 3 4 1 2 3 4 5 ...\n",
      " $ response_code    : int  1 1 1 1 99999 1 1 1 1 1 ...\n",
      " $ day_of_week      : int  2 3 3 3 99999 7 7 7 7 7 ...\n",
      " $ type_of_day      : int  1 1 1 1 99999 1 1 1 1 1 ...\n",
      " $ relation_to_head : int  1 1 2 4 6 1 2 5 5 5 ...\n",
      " $ gender           : int  1 1 2 2 1 1 2 1 1 2 ...\n",
      " $ age              : int  45 54 52 29 3 48 44 23 13 18 ...\n",
      " $ marital_status   : int  1 2 2 2 1 2 2 1 1 1 ...\n",
      " $ education_level  : int  11 6 4 11 1 5 2 5 4 4 ...\n",
      " $ employment_status: int  31 94 92 31 99999 51 92 11 91 92 ...\n",
      " $ industry         : int  85 99999 99999 86 99999 1 99999 1 99999 99999 ...\n",
      " $ weight           : int  208857 208857 208857 208857 208857 208857 208857 208857 208857 208857 ...\n"
     ]
    }
   ],
   "source": [
    "# 2024 ITUS sample individual data\n",
    "url  <- \"https://raw.githubusercontent.com/anmpahwa/CE5540/refs/heads/main/resources/2024ITUS_IndividualData_Sample.csv\"\n",
    "data <- read.csv(url) # Loading Data\n",
    "str(data)             # Data Structure"
   ]
  },
  {
   "cell_type": "code",
   "execution_count": 51,
   "id": "fc370fd4",
   "metadata": {
    "vscode": {
     "languageId": "r"
    }
   },
   "outputs": [
    {
     "name": "stderr",
     "output_type": "stream",
     "text": [
      "Summary of Age\n",
      "\n",
      "     Min         : 1\n",
      "\n",
      "     1st Quartile: 11\n",
      "\n",
      "     Median      : 24.5\n",
      "\n",
      "     Mean        : 27.55\n",
      "\n",
      "     3rd Quartile: 42\n",
      "\n",
      "     Max         : 89\n",
      "\n"
     ]
    }
   ],
   "source": [
    "# Summarizing Age\n",
    "message(\"Summary of Age\")\n",
    "message(\"     Min         : \", min(data$age))\n",
    "message(\"     1st Quartile: \", quantile(data$age, 0.25))\n",
    "message(\"     Median      : \", median(data$age))\n",
    "message(\"     Mean        : \", mean(data$age))\n",
    "message(\"     3rd Quartile: \", quantile(data$age, 0.75))\n",
    "message(\"     Max         : \", max(data$age))\n"
   ]
  },
  {
   "cell_type": "code",
   "execution_count": 52,
   "id": "0c6713c8",
   "metadata": {
    "vscode": {
     "languageId": "r"
    }
   },
   "outputs": [
    {
     "name": "stderr",
     "output_type": "stream",
     "text": [
      "Summary of Marital Status\n",
      "\n",
      "     Single  : 47\n",
      "\n",
      "     Married : 49\n",
      "\n",
      "     Divorced: 4\n",
      "\n",
      "     Widowed : 0\n",
      "\n"
     ]
    }
   ],
   "source": [
    "# Summarizing Marital Status\n",
    "message(\"Summary of Marital Status\")\n",
    "message(\"     Single  : \", sum(data$marital_status == 1))\n",
    "message(\"     Married : \", sum(data$marital_status == 2))\n",
    "message(\"     Divorced: \", sum(data$marital_status == 3))\n",
    "message(\"     Widowed : \", sum(data$marital_status == 4))"
   ]
  },
  {
   "cell_type": "markdown",
   "id": "1ce56ba4",
   "metadata": {},
   "source": [
    "# Visualizing Data"
   ]
  },
  {
   "cell_type": "code",
   "execution_count": 53,
   "id": "abbe7406",
   "metadata": {
    "vscode": {
     "languageId": "r"
    }
   },
   "outputs": [
    {
     "data": {
      "image/png": "[encoded data removed]",
      "text/plain": [
       "Plot with title \"Age Distribution\""
      ]
     },
     "metadata": {
      "image/png": {
       "height": 420,
       "width": 420
      }
     },
     "output_type": "display_data"
    }
   ],
   "source": [
    "hist(data$age,\n",
    "     main = \"Age Distribution\",\n",
    "     xlab = \"Age\",\n",
    "     ylab = \"Frequency\",\n",
    "     breaks = 5)"
   ]
  },
  {
   "cell_type": "code",
   "execution_count": 54,
   "id": "8624f330",
   "metadata": {
    "vscode": {
     "languageId": "r"
    }
   },
   "outputs": [
    {
     "data": {
      "image/png": "[encoded data removed]",
      "text/plain": [
       "Plot with title \"Marital Status\""
      ]
     },
     "metadata": {
      "image/png": {
       "height": 420,
       "width": 420
      }
     },
     "output_type": "display_data"
    }
   ],
   "source": [
    "barplot(table(factor(data$marital_status, levels = 1:4, labels = c(\"Single\", \"Married\", \"Divorced\", \"Widowed\"))),\n",
    "        main = \"Marital Status\",\n",
    "        ylab = \"Frequency\")"
   ]
  }
 ],
 "metadata": {
  "kernelspec": {
   "display_name": "R",
   "language": "R",
   "name": "ir"
  },
  "language_info": {
   "codemirror_mode": "r",
   "file_extension": ".r",
   "mimetype": "text/x-r-source",
   "name": "R",
   "pygments_lexer": "r",
   "version": "4.5.0"
  }
 },
 "nbformat": 4,
 "nbformat_minor": 5
}
