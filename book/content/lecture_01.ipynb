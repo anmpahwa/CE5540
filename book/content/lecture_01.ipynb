{
 "cells": [
  {
   "cell_type": "markdown",
   "id": "e11a8242",
   "metadata": {},
   "source": [
    "# Lecture 1: Introduction\n",
    "\n",
    "```{note}\n",
    "This course introduces you to the science of drawing conclusions from data. To this end, this introduction lecture introduces a taxonomy of data along with tools for presenting, summarizing, and displaying data.\n",
    "```\n",
    "\n",
    "---\n",
    "\n",
    "Data is a collection of observations of some quantity, quality, or category of some entity. For instance,\n",
    "\n",
    "| Entity             | Quantitative     | Qualitative         | Categorical                         |\n",
    "|--------------------|------------------|---------------------|-------------------------------------|\n",
    "| Temperature        | celsius          | pleasant/unpleasant | hot/cold                            |\n",
    "| Population Density | persons/sq.km.   | low/high            | rural/urban                         |\n",
    "| Age                | years            | young/old           | gen-z/millenial/gen-x/boomer/silent |\n",
    "| Weight             | kg               | under-/over-weight  | -                                   |\n",
    "| Height             | cm               | short/tall          | -                                   |\n",
    "| Family Size        | number of people | small/large         | -                                   |\n",
    "| Biological Sex     | -                | -                   | male/female                         |\n",
    "| Place of Birth     | -                | -                   | TN/RJ/WB/DL/...                     |\n",
    "| Religion           | -                | -                   | hinduism/islam/christianity/...     |\n",
    "\n",
    "```{tip}\n",
    "The distinction between qualitative and categorical can sometimes be blurry. Generally, if there is an implicit ordering of the values the variable can take here is a tendency to call a variable qualitative rather than categorical. \n",
    "```\n",
    "\n",
    "```{warning}\n",
    "During data collection or eventually at data analysis stage, one may code certain qualitiative/categorical variables as numerical values. For instance, height can be coded as short - 0 and tall - 1; or age group can be represented as gen-z - 0, millenial - 1, gen-x - 2, boomer - 3, and silent - 4. Despite this recoding, the inherent nature of the entity remains the same.\n",
    "```\n",
    "\n",
    "The quantitative entities can be further categorised as discrete and continuous. Specifically, the discrete quantitiative entities are countables on-hand, while continuous quantitiative entities cannot be hand-counted. For instance, age in years is a discrete quantitiative entity, while height in precise cms is a continuous quantitiative entity.\n"
   ]
  },
  {
   "cell_type": "markdown",
   "id": "2770477c",
   "metadata": {},
   "source": [
    "## In-Class Quiz\n",
    "\n",
    "1. How would you classify data collected on eye-colour of new-born babies at a hospital?\n",
    "\n",
    "<form id=\"quiz\">\n",
    "  <label><input type=\"radio\" name=\"q1\" value=\"a\"> Discrete Quantitative </label><br>\n",
    "  <label><input type=\"radio\" name=\"q1\" value=\"b\"> Continuous Quantitative </label><br>\n",
    "  <label><input type=\"radio\" name=\"q1\" value=\"c\"> Qualitative </label><br>\n",
    "  <label><input type=\"radio\" name=\"q1\" value=\"d\"> Categorical </label><br><br>\n",
    "</form>\n",
    "\n",
    "<p id=\"feedback\"></p>\n",
    "\n",
    "<script>\n",
    "function checkDropdown() {\n",
    "  const answer = document.getElementById(\"q1\").value;\n",
    "  const feedback = document.getElementById(\"feedback\");\n",
    "\n",
    "  if (!answer) {\n",
    "    feedback.innerHTML = \"\";\n",
    "  } else if (answer === \"c\") {\n",
    "    feedback.innerHTML = \"✅ Correct! eye-colour of new-born babies is a categorical entity.\";\n",
    "  } else {\n",
    "    feedback.innerHTML = \"❌ Incorrect. Try reviewing the full data classifications again.\";\n",
    "  }\n",
    "}\n",
    "</script>"
   ]
  }
 ],
 "metadata": {
  "language_info": {
   "name": "python"
  }
 },
 "nbformat": 4,
 "nbformat_minor": 5
}
