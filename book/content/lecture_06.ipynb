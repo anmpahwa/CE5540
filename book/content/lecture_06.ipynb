{
 "cells": [
  {
   "cell_type": "markdown",
   "id": "2486d81a",
   "metadata": {},
   "source": [
    "# Lecture 6: Probability Analysis in R\n",
    "\n",
    "```{note}\n",
    "In this lecture, we will review Axioms, Conditional Probability, and Bayes’ Rule in R using Indian Time Use Data.\n",
    "```"
   ]
  },
  {
   "cell_type": "code",
   "execution_count": 179,
   "id": "62418bb6",
   "metadata": {
    "vscode": {
     "languageId": "r"
    }
   },
   "outputs": [],
   "source": [
    "# 2024 ITUS Individual Data\n",
    "url  <- \"https://raw.githubusercontent.com/anmpahwa/CE5540/refs/heads/main/resources/2024-ITUS%20IndividualData.csv\"\n",
    "data <- read.csv(url)"
   ]
  },
  {
   "cell_type": "markdown",
   "id": "1208663c",
   "metadata": {},
   "source": [
    "In the 2024 Indian Time Use Survey dataset, variables such as `education_level` and `employment_status` are coded numerically. The following mappings define the categorical meaning of each code. These will be used throughout the lecture to define events and compute empirical probabilities.\n",
    "\n",
    "**Education Level:**\n",
    "  - 1: not literate\n",
    "  - 2: literate: below primary\n",
    "  - 3: primary\n",
    "  - 4: upper primary/middle\n",
    "  - 5: secondary\n",
    "  - 6: higher secondary\n",
    "  - 7: diploma /certificate course (up to secondary)\n",
    "  - 8: diploma/certificate course (higher secondary)\n",
    "  - 9: diploma/certificate course(graduation & above)\n",
    "  - 10: graduate\n",
    "  - 11: post graduate and above\n",
    "\n",
    "**Employment Status:**\n",
    "  - 11: working as own account worker in household enterprise\n",
    "  - 12: working as employer in household enterprise\n",
    "  - 21: working as helper in household enterprise (unpaid family worker)\n",
    "  - 31: working as regular salaried/wage employee\n",
    "  - 41: working as casual wage labour in public works\n",
    "  - 51: working as casual wage labour in other types of work\n",
    "  - 81: did not work but was seeking and/or available for work\n",
    "  - 91: attending educational institution\n",
    "  - 92: attending domestic duties only\n",
    "  - 93: attending domestic duties and is also engaged in unpaid household enterprise for household use\n",
    "  - 94: rentiers, pensioners, remittance recipients, etc.\n",
    "  - 95: not able to work due to disability\n",
    "  - 97: others"
   ]
  },
  {
   "cell_type": "code",
   "execution_count": null,
   "id": "d536074c",
   "metadata": {
    "vscode": {
     "languageId": "r"
    }
   },
   "outputs": [
    {
     "name": "stdout",
     "output_type": "stream",
     "text": [
      "   edu      f           p\n",
      "1    1 135438 0.253762748\n",
      "2    2  71011 0.133049414\n",
      "3    3  69215 0.129684347\n",
      "4    4  73360 0.137450606\n",
      "5    5  64045 0.119997602\n",
      "6    6  56295 0.105476852\n",
      "7    7   1755 0.003288247\n",
      "8    8   3132 0.005868257\n",
      "9    9   1847 0.003460623\n",
      "10  10  46394 0.086925892\n",
      "11  11  11227 0.021035414\n",
      "\n",
      "     emp      f            p\n",
      "1     10      1 1.873645e-06\n",
      "2     11  77216 1.446754e-01\n",
      "3     12   4716 8.836110e-03\n",
      "4     21  17119 3.207493e-02\n",
      "5     31  51547 9.658079e-02\n",
      "6     41   4756 8.911056e-03\n",
      "7     51  45210 8.470750e-02\n",
      "8     81   7724 1.447203e-02\n",
      "9     91 101349 1.898921e-01\n",
      "10    92  90968 1.704417e-01\n",
      "11    93  27100 5.077578e-02\n",
      "12    94  20272 3.798253e-02\n",
      "13    95   4602 8.622515e-03\n",
      "14    97   1612 3.020316e-03\n",
      "15 99999  79527 1.490054e-01\n"
     ]
    }
   ],
   "source": [
    "## Education Level\n",
    "v  <- sort(unique(data$education_level))\n",
    "f  <- numeric(length(v))\n",
    "for (r in 1:nrow(data)) {\n",
    "  z <- data$education_level[r]\n",
    "  i <- which(v == z)\n",
    "  f[i] <- f[i] + 1\n",
    "}\n",
    "df_edu <- data.frame(edu=v, f=f, p=round(f/sum(f), 5))\n",
    "\n",
    "## Employment Level\n",
    "v  <- sort(unique(data$employment_status))\n",
    "f  <- numeric(length(v))\n",
    "for (r in 1:nrow(data)) {\n",
    "  z <- data$employment_status[r]\n",
    "  i <- which(v == z)\n",
    "  f[i] <- f[i] + 1\n",
    "}\n",
    "df_emp <- data.frame(emp=v, f=f, p=round(f/sum(f), 3))\n",
    "\n",
    "print(df_edu)\n",
    "cat(\"\\n\")\n",
    "print(df_emp)"
   ]
  },
  {
   "cell_type": "markdown",
   "id": "c4369357",
   "metadata": {},
   "source": [
    "#### Axioms of Probability\n",
    "\n",
    "Let $S$ be a sample space (set of all possible outcomes), and let $P$ be a probability function mapping subsets of $S$ to real numbers, then the axioms are:"
   ]
  },
  {
   "cell_type": "markdown",
   "id": "baaa0d93",
   "metadata": {},
   "source": [
    "- **Axiom #1** - Non-Negativity: $P(E) \\geq 0$ for any event $E$."
   ]
  },
  {
   "cell_type": "code",
   "execution_count": 229,
   "id": "5f8fc528",
   "metadata": {
    "vscode": {
     "languageId": "r"
    }
   },
   "outputs": [
    {
     "data": {
      "text/html": [
       "TRUE"
      ],
      "text/latex": [
       "TRUE"
      ],
      "text/markdown": [
       "TRUE"
      ],
      "text/plain": [
       "[1] TRUE"
      ]
     },
     "metadata": {},
     "output_type": "display_data"
    }
   ],
   "source": [
    "all(df_edu$p >= 0)"
   ]
  },
  {
   "cell_type": "markdown",
   "id": "8f4ec950",
   "metadata": {},
   "source": [
    "- **Axiom #2** - Normalization: $\\sum_{E \\in S} P(E) = 1$; the probability of the sample space is 1."
   ]
  },
  {
   "cell_type": "code",
   "execution_count": 228,
   "id": "3259d96b",
   "metadata": {
    "vscode": {
     "languageId": "r"
    }
   },
   "outputs": [
    {
     "data": {
      "text/html": [
       "TRUE"
      ],
      "text/latex": [
       "TRUE"
      ],
      "text/markdown": [
       "TRUE"
      ],
      "text/plain": [
       "[1] TRUE"
      ]
     },
     "metadata": {},
     "output_type": "display_data"
    }
   ],
   "source": [
    "sum(df_edu$p) == 1"
   ]
  },
  {
   "cell_type": "markdown",
   "id": "0b4314c4",
   "metadata": {},
   "source": [
    "- **Axiom #3** - Additivity: If $A$ and $B$ are disjoint events (i.e., $A \\cap B = \\emptyset$), then $P(A \\cup B) = P(A) + P(B)$\n",
    "\n",
    "Let $A$ refer to individuals with primary education level $(\\text{edu} = 3)$, and $B$ refer to individuals with secondary eduction level $(\\text{edu} = 5)$, then $A \\cup B$ refer to individuals with primary or secondary education level. Since, $A$ and $B$ are disjoint events (i.e., $A \\cap B = \\emptyset$), then,"
   ]
  },
  {
   "cell_type": "code",
   "execution_count": 232,
   "id": "6d636e5f",
   "metadata": {
    "vscode": {
     "languageId": "r"
    }
   },
   "outputs": [
    {
     "name": "stderr",
     "output_type": "stream",
     "text": [
      "Probability that an individual has a primary education level (A): 0.13\n",
      "\n",
      "Probability that an individual has a secondary education level (B): 0.12\n",
      "\n",
      "Probability that an individual has a primary or secondary eduction level (A U B): 0.25\n",
      "\n",
      "Since A and B are disjoint events, P(A U B) = P(A) + P(B) holds TRUE\n",
      "\n"
     ]
    }
   ],
   "source": [
    "p_A   = df_edu$p[3] \n",
    "p_B   = df_edu$p[5]\n",
    "p_AUB = (df_edu$f[3] + df_edu$f[5]) / sum(df_edu$f)\n",
    "\n",
    "message(\"Probability that an individual has a primary education level (A): \", round(p_A, 3))\n",
    "message(\"Probability that an individual has a secondary education level (B): \", round(p_B, 3))\n",
    "message(\"Probability that an individual has a primary or secondary eduction level (A U B): \", round(p_AUB, 3))\n",
    "message(\"Since A and B are disjoint events, P(A U B) = P(A) + P(B) holds \", p_AUB == p_A + p_B)"
   ]
  },
  {
   "cell_type": "markdown",
   "id": "6a0363df",
   "metadata": {},
   "source": [
    "#### Laws of Probability\n",
    "\n",
    "These axioms render the following laws of probability,"
   ]
  },
  {
   "cell_type": "markdown",
   "id": "17b12679",
   "metadata": {},
   "source": [
    "- **Complement Rule**: $P(A^c) = 1 - P(A)$ follows from Axiom #2 and Axiom #3\n",
    "\n",
    "Let $A$ refer to individuals that are not literate $(\\text{edu} = 1)$, then $B = A^c$ refers to individuals that have some level of literacy $(\\text{edu} \\in [2,11])$, then,"
   ]
  },
  {
   "cell_type": "code",
   "execution_count": 233,
   "id": "1ea80cb6",
   "metadata": {
    "vscode": {
     "languageId": "r"
    }
   },
   "outputs": [
    {
     "name": "stderr",
     "output_type": "stream",
     "text": [
      "Probability that an individual is not literate (A): 0.254\n",
      "\n",
      "Probability that an individual has some level of literacy (B): 0.746\n",
      "\n",
      "Since B is complement of A, P(B) = 1 - P(A) holds TRUE\n",
      "\n"
     ]
    }
   ],
   "source": [
    "p_A  = round(df_edu$p[1], 3)\n",
    "p_B = round(sum(df_edu$f[2:11]) / sum(df_edu$f), 3)\n",
    "\n",
    "message(\"Probability that an individual is not literate (A): \", round(p_A, 3))\n",
    "message(\"Probability that an individual has some level of literacy (B): \", round(p_B, 3))\n",
    "message(\"Since B is complement of A, P(B) = 1 - P(A) holds \", p_B == 1- p_A)"
   ]
  },
  {
   "cell_type": "markdown",
   "id": "c51b11ef",
   "metadata": {},
   "source": [
    "- **Monotonicity**: If $A \\subset B$, then $P(A) \\leq P(B)$ follows from Axiom #3\n",
    "\n",
    "Let $B$ refer to individuals that have some level of literacy $(\\text{edu} \\in [2,11])$, and $A$ refer to individuals with graduate level of education or above $(\\text{edu} \\in [10,11])$, then,"
   ]
  },
  {
   "cell_type": "code",
   "execution_count": 234,
   "id": "653ba519",
   "metadata": {
    "vscode": {
     "languageId": "r"
    }
   },
   "outputs": [
    {
     "name": "stderr",
     "output_type": "stream",
     "text": [
      "Probability that an individual has some level of literacy (A): 0.108\n",
      "\n",
      "Probability that an individual has graduate level of education or above (B): 0.746\n",
      "\n",
      "Since A is a subset of B, P(A) <= P(B) holds TRUE\n",
      "\n"
     ]
    }
   ],
   "source": [
    "p_B = sum(df_edu$p[2:11])\n",
    "p_A = sum(df_edu$p[10:11]) \n",
    "\n",
    "message(\"Probability that an individual has some level of literacy (A): \", round(p_A, 3))\n",
    "message(\"Probability that an individual has graduate level of education or above (B): \", round(p_B, 3))\n",
    "message(\"Since A is a subset of B, P(A) <= P(B) holds \", p_A <= p_B )"
   ]
  },
  {
   "cell_type": "markdown",
   "id": "6528b9d0",
   "metadata": {},
   "source": [
    "- **Inclusion-Exclusion**: $P(A \\cup B) = P(A) + P(B) - P(A \\cap B)$ follows from Axiom #3\n",
    "\n",
    "Let $A$ refer to individuals working as regular salaried/wage employee $(\\text{emp} = 31)$, and $B$ refer to individuals with graduate level of education $(\\text{edu} = 10)$, then,"
   ]
  },
  {
   "cell_type": "code",
   "execution_count": 239,
   "id": "04285c1b",
   "metadata": {
    "vscode": {
     "languageId": "r"
    }
   },
   "outputs": [
    {
     "name": "stderr",
     "output_type": "stream",
     "text": [
      "Probability that an individual is working as regular salaried/wage employee (A): 0.097\n",
      "\n",
      "Probability that an individual has graduate level of education (B): 0.087\n",
      "\n",
      "Probability that an individual is working as regular salaried/wage employee and has graduate level of education (A X B): 0.029\n",
      "\n",
      "Probability that an individual is working as regular salaried/wage employee or has graduate level of education (A U B): 0.155\n",
      "\n",
      "P(A U B) = P(A) + P(B) - P(A X B) holds TRUE\n",
      "\n"
     ]
    }
   ],
   "source": [
    "p_A = df_emp$p[which(df_emp$emp == 31)]\n",
    "p_B = df_edu$p[which(df_edu$edu == 10)]\n",
    "\n",
    "f <- 0\n",
    "for (r in 1:nrow(data)) {\n",
    "  emp <- data$employment_status[r]\n",
    "  edu <- data$education_level[r]\n",
    "  if (emp == 31 & edu == 10){\n",
    "    f <- f + 1\n",
    "  }\n",
    "}\n",
    "p_AXB <- f / nrow(data)\n",
    "\n",
    "f <- 0\n",
    "for (r in 1:nrow(data)) {\n",
    "  emp <- data$employment_status[r]\n",
    "  edu <- data$education_level[r]\n",
    "  if (emp == 31 || edu == 10){\n",
    "    f <- f + 1\n",
    "  }\n",
    "}\n",
    "p_AUB <- f / nrow(data)\n",
    "\n",
    "message(\"Probability that an individual is working as regular salaried/wage employee (A): \", round(p_A, 3))\n",
    "message(\"Probability that an individual has graduate level of education (B): \", round(p_B, 3))\n",
    "message(\"Probability that an individual is working as regular salaried/wage employee and has graduate level of education (A X B): \", round(p_AXB, 3))\n",
    "message(\"Probability that an individual is working as regular salaried/wage employee or has graduate level of education (A U B): \", round(p_AUB, 3))\n",
    "message(\"P(A U B) = P(A) + P(B) - P(A X B) holds \", round(p_AUB, 3) == round(p_A + p_B - p_AXB, 3))"
   ]
  },
  {
   "cell_type": "markdown",
   "id": "dcb32166",
   "metadata": {},
   "source": [
    "## Conditional Probability\n",
    "\n",
    "Conditional probability quantifies the likelihood of an event occurring given that another event has already occurred. The conditional probability of event A given event B is defined as:\n",
    "\n",
    "$$\n",
    "P(A \\mid B) = \\frac{P(A \\cap B)}{P(B)} \\quad \\text{provided} \\ \\ P(B) > 0\n",
    "$$\n",
    "\n",
    "Let $A$ refer to individuals working as regular salaried/wage employee $(\\text{emp} = 31)$, and $B$ refer to individuals with graduate level of education $(\\text{edu} = 10)$, then,"
   ]
  },
  {
   "cell_type": "code",
   "execution_count": 248,
   "id": "c483d002",
   "metadata": {
    "vscode": {
     "languageId": "r"
    }
   },
   "outputs": [
    {
     "name": "stderr",
     "output_type": "stream",
     "text": [
      "Probability that an individual is working as regular salaried/wage employee (A): 0.097\n",
      "\n",
      "Probability that an individual has graduate level of education (B): 0.087\n",
      "\n",
      "Probability that an individual is working as regular salaried/wage employee and has graduate level of education (A X B): 0.029\n",
      "\n",
      "Probability that an individual is working as regular salaried/wage employee given the individual has graduate level of education (AB): 0.333\n",
      "\n",
      "P(AB) = P(A X B) / P(B) holds TRUE\n",
      "\n"
     ]
    }
   ],
   "source": [
    "p_A = df_emp$p[which(df_emp$emp == 31)]\n",
    "p_B = df_edu$p[which(df_edu$edu == 10)]\n",
    "\n",
    "f <- 0\n",
    "for (r in 1:nrow(data)) {\n",
    "  edu <- data$education_level[r]\n",
    "  emp <- data$employment_status[r]\n",
    "  if (edu == 10 & emp == 31){\n",
    "    f <- f + 1\n",
    "  }\n",
    "}\n",
    "p_AXB <- f / nrow(data)\n",
    "p_AB  <- f / df_edu$f[which(df_edu$edu == 10)]\n",
    "\n",
    "message(\"Probability that an individual is working as regular salaried/wage employee (A): \", round(p_A, 3))\n",
    "message(\"Probability that an individual has graduate level of education (B): \", round(p_B, 3))\n",
    "message(\"Probability that an individual is working as regular salaried/wage employee and has graduate level of education (A X B): \", round(p_AXB, 3))\n",
    "message(\"Probability that an individual is working as regular salaried/wage employee given the individual has graduate level of education (AB): \", round(p_AB, 3))\n",
    "message(\"P(AB) = P(A X B) / P(B) holds \", p_AB == p_AXB / p_B)"
   ]
  },
  {
   "cell_type": "markdown",
   "id": "d95b9341",
   "metadata": {},
   "source": [
    "## Bayes' Rule\n",
    "\n",
    "Expanding over condtional probability, Bayes' rule renders\n",
    "\n",
    "$$\n",
    "P(A \\mid B) = \\frac{P(B \\mid A) \\cdot P(A)}{P(B)} \\quad \\text{provided } P(B) > 0\n",
    "$$\n",
    "\n",
    "Let $A$ refer to individuals working as regular salaried/wage employee $(\\text{emp} = 31)$, and $B$ refer to individuals with graduate level of education $(\\text{edu} = 10)$, then,"
   ]
  },
  {
   "cell_type": "code",
   "execution_count": 250,
   "id": "9d0d0f0e",
   "metadata": {
    "vscode": {
     "languageId": "r"
    }
   },
   "outputs": [
    {
     "name": "stderr",
     "output_type": "stream",
     "text": [
      "Probability that an individual is working as regular salaried/wage employee (A): 0.097\n",
      "\n",
      "Probability that an individual has graduate level of education (B): 0.087\n",
      "\n",
      "Probability that an individual is working as regular salaried/wage employee given the individual has graduate level of education (AB): 0.333\n",
      "\n",
      "Probability that an individual has graduate level of education given the individual is working as regular salaried/wage employee (BA): 0.3\n",
      "\n",
      "P(AB) = P(BA) x P(A) / P(B) holds TRUE\n",
      "\n"
     ]
    }
   ],
   "source": [
    "p_A = df_emp$p[which(df_emp$emp == 31)]\n",
    "p_B = df_edu$p[which(df_edu$edu == 10)]\n",
    "\n",
    "f <- 0\n",
    "for (r in 1:nrow(data)) {\n",
    "  edu <- data$education_level[r]\n",
    "  emp <- data$employment_status[r]\n",
    "  if (edu == 10 & emp == 31){\n",
    "    f <- f + 1\n",
    "  }\n",
    "}\n",
    "p_AB  <- f / df_edu$f[which(df_edu$edu == 10)]\n",
    "p_BA  <- f / df_emp$f[which(df_emp$emp == 31)]\n",
    "\n",
    "message(\"Probability that an individual is working as regular salaried/wage employee (A): \", round(p_A, 3))\n",
    "message(\"Probability that an individual has graduate level of education (B): \", round(p_B, 3))\n",
    "message(\"Probability that an individual is working as regular salaried/wage employee given the individual has graduate level of education (AB): \", round(p_AB, 3))\n",
    "message(\"Probability that an individual has graduate level of education given the individual is working as regular salaried/wage employee (BA): \", round(p_BA, 3))\n",
    "message(\"P(AB) = P(BA) x P(A) / P(B) holds \", p_AB == p_BA * p_A / p_B)"
   ]
  },
  {
   "cell_type": "markdown",
   "id": "d5c64acd",
   "metadata": {},
   "source": [
    "```{tip}\n",
    "Beyond `education_level` and `employment_status`, test the axioms, Axioms, Conditional Probability, and Bayes’ Rule for categorical variables such as `gender` and `marital_status`\n",
    "gender:\n",
    "  - 1: male\n",
    "  - 2: female\n",
    "  - 3: transgender\n",
    "marital_status:\n",
    "  - 1: never married\n",
    "  - 2: currently married\n",
    "  - 3: widowed\n",
    "  - 4: divorced/separated\n",
    "```"
   ]
  }
 ],
 "metadata": {
  "kernelspec": {
   "display_name": "R",
   "language": "R",
   "name": "ir"
  },
  "language_info": {
   "codemirror_mode": "r",
   "file_extension": ".r",
   "mimetype": "text/x-r-source",
   "name": "R",
   "pygments_lexer": "r",
   "version": "4.5.0"
  }
 },
 "nbformat": 4,
 "nbformat_minor": 5
}
