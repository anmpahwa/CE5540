{
 "cells": [
  {
   "cell_type": "markdown",
   "id": "f2f58b5f",
   "metadata": {},
   "source": [
    "# Lecture 8: Estimation\n",
    "\n",
    "```{note}\n",
    "Having sampled the population, in this lecture we will estimate the numerical properties of the population through the sample statistics.\n",
    "```\n",
    "\n",
    "---\n",
    "\n",
    "Recall that a population is a collection of units, and we are often interested in understanding its numerical properties, known as parameters — such as measures of location, dispersion, and shape. Since we rarely observe the entire population, we rely on samples to estimate these parameters. A statistic is any quantity computed from a sample, and it serves as the basis for making inferences about the population. An estimator is a rule or formula that assigns a numerical value—called an estimate—to each possible random sample of size $n$. For example, the sample mean is a statistic that serves as an estimator of the population mean, computed by taking the average of the values in a specific sample. The result is the estimate produced by this estimator, unqiue for each sample.\n",
    "\n",
    "Because the estimates depend on the particular sample drawn, it is itself a random variable. As such, the estimate will typically differ from the true population parameter. To understand how close an estimator is likely to be to the parameter, we must study how the estimator varies across different samples.This leads us to analyze the behavior of estimators using tools from probability, particularly their expected value (to assess bias) and variability (to quantify sampling error). These characteristics help us evaluate the reliability of our estimates.\n",
    "\n",
    "# Bias\n",
    "\n",
    "For a given sample, an estimator — $\\hat{\\theta}$, may differ from the true parameter — $\\theta$, due to two main factors: systematic bias — $\\text{B}[\\hat{\\theta}]$, arising from aspects such as model assumptions, measurement errors, or sampling design; and chance variability —  $\\epsilon$, which reflects the randomness inherent in which sample happens to be drawn (luck of the draw). Hence,\n",
    "\n",
    "$$\\hat{\\theta} = \\theta + \\text{B}[\\hat{\\theta}] + \\epsilon$$\n",
    "\n",
    "The average value of chance variability in repeated sampling will tend to zero $(\\text{E}[\\epsilon] = 0)$, rendering, \n",
    "\n",
    "$$\\text{E}[\\hat{\\theta}] = \\theta + \\text{B}[\\hat{\\theta}]$$\n",
    "\n",
    "Consequently, the bias can be estimated as,\n",
    "\n",
    "$$\\text{B}[\\hat{\\theta}] = \\text{E}[\\hat{\\theta}] - \\theta$$\n",
    "\n",
    "# Standard Error\n",
    "\n",
    "The standard error of the estimator can be estimated as, $\\text{SE}[\\hat{\\theta}] = \\text{E}[(\\hat{\\theta} - E[\\hat{\\theta}])^2]^{\\frac{1}{2}}$, rendering,\n",
    "\n",
    "$$\n",
    "\\begin{aligned}\n",
    "\\text{SE}[\\hat{\\theta}] & = \\text{E}[(\\hat{\\theta} - E[\\hat{\\theta}])^2]^{\\frac{1}{2}} \\\\\n",
    "\\text{SE}[\\hat{\\theta}] & = \\text{E}[(\\theta + \\text{B}[\\hat{\\theta}] + \\epsilon - (\\theta + \\text{B}[\\hat{\\theta}]))^2]^{\\frac{1}{2}} \\\\\n",
    "\\text{SE}[\\hat{\\theta}] & = \\text{E}[\\epsilon^2]^{\\frac{1}{2}}\n",
    "\\end{aligned}\n",
    "$$\n",
    "\n",
    "Consequently, the variance of the estimator is, $\\text{Var}[\\hat{\\theta}] = \\text{E}[\\epsilon^2]$.\n",
    "\n",
    "# Mean Squared Error\n",
    "\n",
    "Both bias and standard error contribute to the size of the error of an estimator. If the bias is large, on average, the estimator will overshoot/undershoot the true value of the parameter by a substantial amount. On the other hand, if the standard error is large, the estimator typically is far from the true value, even if its average is close to the parameter true value. Thus, a common measure of the overall error of an estimator is its mean squared error (MSE), estimated as, $\\text{MSE}[\\hat{\\theta}] = \\text{E}[(\\hat{\\theta} - \\theta)^2]$, rendering,\n",
    "\n",
    "$$\n",
    "\\begin{aligned}\n",
    "\\text{MSE}[\\hat{\\theta}] & = \\text{E}[(\\text{B}[\\hat{\\theta}] + \\epsilon)^2] \\\\\n",
    "\\text{MSE}[\\hat{\\theta}] & = \\text{E}[\\text{B}[\\hat{\\theta}]^2] + 2\\text{E}[\\text{B}[\\hat{\\theta}]]\\text{E}[\\epsilon] + \\text{E}[\\epsilon^2] \\\\\n",
    "\\text{MSE}[\\hat{\\theta}] & = \\text{B}[\\hat{\\theta}]^2 + \\text{SE}[\\hat{\\theta}]^2\n",
    "\\end{aligned}\n",
    "$$\n",
    "\n",
    "Consequently, the root mean squared error (RMSE) is, $\\text{MSE}[\\hat{\\theta}] = (\\text{B}[\\hat{\\theta}]^2 + \\text{SE}[\\hat{\\theta}]^2)^\\frac{1}{2}$\n",
    "\n",
    "The Mean Squared Error (MSE) and Root Mean Squared Error (RMSE) quantify the average error of an estimator. In general, we expect the estimator to differ from the true parameter value by approximately the value of the RMSE. However, for any specific sample, the estimate may differ from the parameter by more or less than the RMSE. In practice, we usually cannot determine the exact difference, because we observe only the estimate, and are unaware of the true value of the parameter.\n",
    "\n",
    "```{tip}\n",
    "To better understand the concept of estimating population characteristics through sampling, consider the analogy from archery/shooting.\n",
    "\n",
    "Imagine an archery target, where the bullseye represents the true value of a parameter, and each shot represents an estimate from a single random sample. If the shots consistently miss the bullseye in the same direction, the estimator is said to be biased. Bias refers to the difference between the average location of the shots and the actual bullseye. The spread or scatter of the shots around their average position reflects the standard error—it measures how much the estimator varies from sample to sample. The mean squared error (MSE) captures both these sources of error: it is the average of the squared distances between where the shots land and the bullseye. For the MSE to be small, both the bias and the standard error must be small. If the standard error is zero but the bias is not, the estimator behaves like a highly accurate rifle with its sights misaligned: all the shots hit the same spot, but that spot is not the bullseye. Conversely, if the bias is zero but the standard error is large, the rifle is correctly sighted but imprecise—the shots are scattered around the bullseye but typically miss it. Only when both the bias and the standard error are zero does the estimator act like a perfectly calibrated, highly accurate rifle: all the shots hit the bullseye, and the mean squared error is zero.\n",
    "\n",
    "<p align=\"center\">\n",
    "  <img src=\"https://raw.githubusercontent.com/anmpahwa/CE5540/refs/heads/main/resources/Lecture%2008%20-%20I1.jpg\" alt=\"Bias vs Variance Illustration\" width=\"400\"/>\n",
    "</p>\n",
    "\n",
    "<p align=\"center\">An illustration of bias and variance using the archery analogy</p>\n",
    "```"
   ]
  },
  {
   "cell_type": "code",
   "execution_count": 3,
   "id": "18fd58e3",
   "metadata": {
    "vscode": {
     "languageId": "r"
    }
   },
   "outputs": [
    {
     "name": "stdout",
     "output_type": "stream",
     "text": [
      "Population Mean: 30.42 \n",
      "Mean of Sample Means: 30.54 \n",
      "Bias: 0.1222 \n",
      "Standard Error (SE): 0.6202 \n",
      "Root Mean Squared Error (RMSE): 0.6321 \n"
     ]
    },
    {
     "data": {
      "image/png": "[encoded data removed]",
      "text/plain": [
       "plot without title"
      ]
     },
     "metadata": {
      "image/png": {
       "height": 480,
       "width": 720
      }
     },
     "output_type": "display_data"
    }
   ],
   "source": [
    "# 2024 ITUS Individual Data (original)\n",
    "url <- \"https://raw.githubusercontent.com/anmpahwa/CE5540/refs/heads/main/resources/ITUS-IND-OD.csv\"\n",
    "pop <- read.csv(url)\n",
    "\n",
    "# Sampling - 30 random samples of size 1000 each\n",
    "sml <- vector(\"list\", 30)\n",
    "for (i in 1:30) {\n",
    "  sml[[i]] <- sample(pop$age, size = 1000, replace = FALSE)\n",
    "}\n",
    "\n",
    "# Compute population mean\n",
    "pop_mean <- mean(pop$age, na.rm = TRUE)\n",
    "\n",
    "# Compute sample means\n",
    "sml_mean <- sapply(sml, function(x) mean(x, na.rm = TRUE))\n",
    "\n",
    "# Plotting\n",
    "library(ggplot2)\n",
    "df <- data.frame(Sample = 1:30, SampleMean = sml_mean)\n",
    "options(repr.plot.width = 12, repr.plot.height = 8)\n",
    "ggplot(df, aes(x = Sample, y = SampleMean)) +\n",
    "  geom_point(color = \"steelblue\", size = 3) +\n",
    "  geom_hline(yintercept = pop_mean, color = \"red\", linetype = \"dashed\", linewidth = 1.2) +\n",
    "  labs(title = \"Sample Means vs Population Mean\",\n",
    "       subtitle = \"Each point is the mean age from a sample of size 1000\",\n",
    "       y = \"Sample Mean\",\n",
    "       x = \"Sample Number\") +\n",
    "  theme(\n",
    "    plot.title = element_text(size = 18, face = \"bold\"),\n",
    "    plot.subtitle = element_text(size = 14),\n",
    "    axis.title = element_text(size = 14),\n",
    "    axis.text = element_text(size = 12)\n",
    "  )\n",
    "\n",
    "# Compute Bias, Standard Error, and Root Mean Squared Error\n",
    "B <- mean(sml_mean) - pop_mean\n",
    "SE <- sd(sml_mean)\n",
    "RMSE <- sqrt(B^2 + SE^2)\n",
    "\n",
    "# Print results\n",
    "cat(\"Population Mean:\", round(pop_mean, 2), \"\\n\")\n",
    "cat(\"Mean of Sample Means:\", round(mean(sml_mean), 2), \"\\n\")\n",
    "cat(\"Bias:\", round(B, 4), \"\\n\")\n",
    "cat(\"Standard Error (SE):\", round(SE, 4), \"\\n\")\n",
    "cat(\"Root Mean Squared Error (RMSE):\", round(RMSE, 4), \"\\n\")"
   ]
  }
 ],
 "metadata": {
  "kernelspec": {
   "display_name": "R",
   "language": "R",
   "name": "ir"
  },
  "language_info": {
   "codemirror_mode": "r",
   "file_extension": ".r",
   "mimetype": "text/x-r-source",
   "name": "R",
   "pygments_lexer": "r",
   "version": "4.5.1"
  }
 },
 "nbformat": 4,
 "nbformat_minor": 5
}
