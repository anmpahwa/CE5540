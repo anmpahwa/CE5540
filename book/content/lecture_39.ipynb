{
 "cells": [
  {
   "cell_type": "markdown",
   "id": "57f52f47",
   "metadata": {},
   "source": [
    "# Lecture 39: Assignment 3 Discussion"
   ]
  }
 ],
 "metadata": {
  "language_info": {
   "name": "python"
  }
 },
 "nbformat": 4,
 "nbformat_minor": 5
}
